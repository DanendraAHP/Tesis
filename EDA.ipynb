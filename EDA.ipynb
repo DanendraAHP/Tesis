{
 "cells": [
  {
   "cell_type": "code",
   "execution_count": 1,
   "metadata": {},
   "outputs": [],
   "source": [
    "import pandas as pd\n",
    "import numpy as np\n",
    "\n",
    "pd.set_option('display.max_colwidth', 200)"
   ]
  },
  {
   "cell_type": "code",
   "execution_count": 2,
   "metadata": {},
   "outputs": [
    {
     "name": "stderr",
     "output_type": "stream",
     "text": [
      "c:\\Users\\danendra\\anaconda3\\lib\\site-packages\\IPython\\core\\interactiveshell.py:3444: DtypeWarning: Columns (18,19,31,45,51,52,53,54,58,62,65,67,68,69,70,71,72,73,74,75,76,77,78,79,80,81,82,83,84,85,87,88,89,90,91,92,93,94,96,97,98,99,100,101,102,103,104,105,106,107,108,109,110,111,112,113,114,115,117,118,119,120,121,123,124,125,127,128,130,131,132,133,134,135,136,137,138,139,140,142,143,145,146,147,148,149,150,151,152,153,154,155,158,159,160,161,163,164,165,167,168,169,170,172,173,174,175,177,178,179,180,182,183,184,185,186,187,188,191,192,194,195,196,197,198,200,202,203,204,205,206,207,208,209,210,212,213,214,217,218,219,223,224,225,228,229,232,234,237,238,243,244,245,248,251,254,257,261,262,263,264,266,267,270,274,275,277,278,279,280,282,286,288,289,291,292,293,295,296,298,299,300,301,302,303,304,305,306,307,309,310,311,312,313,322,326,328,329,330,333,334,335,337,342,345,347,350,351,353,358,359,366,368,372,373,377,383,384,385,387,389,390,392,393,396,397,398,400,401,404,405,406,407,408,409,410,411,413,414,415,417,419,420,421,422,423,424,426,427,428,429,430,432,433,434,436,437,438,440,442,443,444,445,447,448,449,451,452,453,455,456,457,458,459,460,461,463,465,466,467,470,471,472,473,474,475,476,477,478,479,480,481,482,486,487,488,489,492,496,498,499,500,501,502,503,504,506,508,509,510,512,513,516,519,520,521,522,525,526,527,529,530,532,534,536,538,542,543,549,550,556,560,561,567,568,569,570,571,572,573,574,575,576,577,578,580,581,585,592,593,594,596,597,599,606,607,608,621,626,627,628,629,630,631,632,634,635,638,639,640,641,642,643,644,645,706,712) have mixed types.Specify dtype option on import or set low_memory=False.\n",
      "  exec(code_obj, self.user_global_ns, self.user_ns)\n"
     ]
    }
   ],
   "source": [
    "df = pd.read_csv('Ecommerce_Indonesia_21-Mar-2023_28-Mar-2023_Z3s0ZfZ2T4\\Ecommerce_Indonesia_21-Mar-2023_28-Mar-2023_Z3s0ZfZ2T4_0.csv', on_bad_lines='skip', sep=';')"
   ]
  },
  {
   "cell_type": "code",
   "execution_count": 3,
   "metadata": {},
   "outputs": [
    {
     "data": {
      "text/plain": [
       "(33638, 715)"
      ]
     },
     "execution_count": 3,
     "metadata": {},
     "output_type": "execute_result"
    }
   ],
   "source": [
    "df.shape"
   ]
  },
  {
   "cell_type": "code",
   "execution_count": 6,
   "metadata": {},
   "outputs": [
    {
     "name": "stdout",
     "output_type": "stream",
     "text": [
      "provinsi\n",
      "project_id\n",
      "product\n",
      "produkdigital\n",
      "produkall\n",
      "propolis\n",
      "proyektor\n",
      "presto\n",
      "promospesial\n",
      "promo\n",
      "produk\n",
      "price\n"
     ]
    }
   ],
   "source": [
    "for col in df.columns:\n",
    "    if col.lower().startswith('pr'):\n",
    "        print(col)"
   ]
  },
  {
   "cell_type": "code",
   "execution_count": 7,
   "metadata": {},
   "outputs": [
    {
     "data": {
      "text/plain": [
       "0        'Produk\n",
       "1        'Produk\n",
       "2        'Produk\n",
       "3        'Produk\n",
       "4        'Produk\n",
       "          ...   \n",
       "33633    'Produk\n",
       "33634    'Produk\n",
       "33635    'Produk\n",
       "33636    'Produk\n",
       "33637    'Produk\n",
       "Name: produk, Length: 33638, dtype: object"
      ]
     },
     "execution_count": 7,
     "metadata": {},
     "output_type": "execute_result"
    }
   ],
   "source": [
    "df['produk']"
   ]
  },
  {
   "cell_type": "code",
   "execution_count": 8,
   "metadata": {},
   "outputs": [],
   "source": [
    "post_detail = [\n",
    "    'original_id',\n",
    "    'date_created',\n",
    "    'specific_type',\n",
    "    'post_type',\n",
    "    'object_name',\n",
    "    'content',\n",
    "    'final_sentiment',\n",
    "    'lang',\n",
    "    'content_type'\n",
    "] \n",
    "post_stats = [\n",
    "    'followers',\n",
    "    'share',\n",
    "    'like',\n",
    "    'comment',\n",
    "    'engagement',\n",
    "    'reach',\n",
    "    'impression',\n",
    "    'engagement_rate'\n",
    "]\n",
    "labels = [\n",
    "    'delivery',\n",
    "    'customerservice',\n",
    "    'website&apps',\n",
    "    'payment',\n",
    "    'price',\n",
    "    'produk'\n",
    "]\n",
    "used_col = post_detail+post_stats+labels"
   ]
  },
  {
   "cell_type": "code",
   "execution_count": 9,
   "metadata": {},
   "outputs": [],
   "source": [
    "df = df[used_col]"
   ]
  },
  {
   "attachments": {},
   "cell_type": "markdown",
   "metadata": {},
   "source": [
    "# Post Detail"
   ]
  },
  {
   "cell_type": "code",
   "execution_count": 10,
   "metadata": {},
   "outputs": [
    {
     "data": {
      "text/plain": [
       "'status     33145\n",
       "'comment      211\n",
       "'media        141\n",
       "'video         88\n",
       "'post          53\n",
       "Name: specific_type, dtype: int64"
      ]
     },
     "execution_count": 10,
     "metadata": {},
     "output_type": "execute_result"
    }
   ],
   "source": [
    "df['specific_type'].value_counts()"
   ]
  },
  {
   "cell_type": "code",
   "execution_count": 11,
   "metadata": {},
   "outputs": [
    {
     "data": {
      "text/plain": [
       "'talk         32809\n",
       "'post_made      829\n",
       "Name: post_type, dtype: int64"
      ]
     },
     "execution_count": 11,
     "metadata": {},
     "output_type": "execute_result"
    }
   ],
   "source": [
    "df['post_type'].value_counts()"
   ]
  },
  {
   "attachments": {},
   "cell_type": "markdown",
   "metadata": {},
   "source": [
    "only use talk post_type karena yang post_made hanya balasan dari admin sehingga kemungkinan besar tidak mengandung sentimen"
   ]
  },
  {
   "cell_type": "code",
   "execution_count": 12,
   "metadata": {},
   "outputs": [
    {
     "data": {
      "text/plain": [
       "8436     '@WerbenSteven @suiswap_app @tokopedia @mindblownnft Live Chat siap bantu keluhan transaksi kamu: Buka app DANA, pilih History/Riwayat,  pilih transaksi yg mau dilaporin dan pilih CHAT.\n",
       "18129                                                'f Tisbury, in Martha’s Vineyard. A sho _USE_OUNASS_CODE_NAMSHI_COUPON_NOON_DISCOUNT_SIVVI_PROMO fortune upon the tur https://t.co/21DHGyVOYa\n",
       "30102                                                'into the vidnet and O'Connor's set, wi _USE_OUNASS_CODE_NAMSHI_COUPON_NOON_DISCOUNT_SIVVI_PROMO rrative of those sin https://t.co/HYseaCFDae\n",
       "31179                                                         'FUT Birthday promo on FIFA 23 is right around the corner. Could we see a FUT Birthday Icon Zinedine Zidane? https://t.co/IdxAfcpMAb\n",
       "5004                                                                                                                             'Penarikan saldo dana di @tokopedia lama bangetttt, ga gercep -_-\n",
       "Name: content, dtype: object"
      ]
     },
     "execution_count": 12,
     "metadata": {},
     "output_type": "execute_result"
    }
   ],
   "source": [
    "df[df['post_type']==\"'talk\"]['content'].sample(5)"
   ]
  },
  {
   "cell_type": "code",
   "execution_count": 13,
   "metadata": {},
   "outputs": [
    {
     "data": {
      "text/plain": [
       "12612                                                                                 '@bababloui Terkait kendalanya yuk Info nomor pesanan kamu melalui DM Twitter @ShopeeID untuk dibantu cek, stay safe 🙏 ^YP\n",
       "4020     '@_babybrightvc Hai Lazadian, untuk gratis ongkir bisa didapatkan dengan mengumpulkan vouchernya di \"Lucky Egg\" ya. Kakak bisa cek ongkos kirim pesanan di bagian halaman produk yang mau dipesan. I...\n",
       "9045     'Gak cuma baju baru, KENDARAAN BARU buat Lebaran nanti juga harus disiapin guys 😎😎   Mulai dari motor listrik sampai mobil, di #TokopediaGarage lagi pada diskon sampai 90% lhooo💸  Gasss, di sini 👇...\n",
       "12996    '@Zayy_Zayy5119 Baik kak, mohon maaf ya buat kendalanya. Mimin infoin lg, tim Shopee yg menghubungi kakak dipastikan menggunakan no. tlp Indonesia dgn no. tlp +628 1500 702 / 1500 702. Boleh bantu...\n",
       "3                                                                                                              'Halo ka yusuf.adrian21 . Baik, tunggu mimin meluncur cek dan balas DM kamu ya. Sehat selalu 🙏^VP\n",
       "Name: content, dtype: object"
      ]
     },
     "execution_count": 13,
     "metadata": {},
     "output_type": "execute_result"
    }
   ],
   "source": [
    "df[df['post_type']==\"'post_made\"]['content'].sample(5)"
   ]
  },
  {
   "cell_type": "code",
   "execution_count": 14,
   "metadata": {},
   "outputs": [
    {
     "data": {
      "text/plain": [
       "'en     22419\n",
       "'in     10054\n",
       "'es       131\n",
       "'und      105\n",
       "'tl        83\n",
       "'pt        43\n",
       "'fr        27\n",
       "'qam       24\n",
       "'th        21\n",
       "'et        21\n",
       "'qme       19\n",
       "'ur        18\n",
       "'ko        18\n",
       "'tr        18\n",
       "'de        16\n",
       "'ht        14\n",
       "'ro        12\n",
       "'nl        10\n",
       "'it        10\n",
       "'pl        10\n",
       "'ca         8\n",
       "'fi         8\n",
       "'da         8\n",
       "'ja         8\n",
       "'lt         6\n",
       "'no         5\n",
       "'cs         5\n",
       "'hu         4\n",
       "'hi         4\n",
       "'ru         3\n",
       "'eu         3\n",
       "'cy         3\n",
       "'qht        3\n",
       "'ar         1\n",
       "'is         1\n",
       "'lv         1\n",
       "'ta         1\n",
       "Name: lang, dtype: int64"
      ]
     },
     "execution_count": 14,
     "metadata": {},
     "output_type": "execute_result"
    }
   ],
   "source": [
    "df['lang'].value_counts()"
   ]
  },
  {
   "cell_type": "code",
   "execution_count": 15,
   "metadata": {},
   "outputs": [
    {
     "data": {
      "text/plain": [
       "11726    'Ngabuburit berhadiah yuk guys! ada voucher belanja Rp5 JUTA untuk 10 orang pemenang nih🥳  Langsung cek aja caranya di sini ya guys 👇  Semoga beruntung yah😉  #Bukalapak #DigodaPromoBukalapak #Buka...\n",
       "4362     'Beli buku gak pake antri?! Kok bisa😱  Di #bigbadwolf kalian bisa tinggal pilih dan beli buku impor favorit kalian📚 Apalagi harganya mulai dari 10rb😝  Checkout sekarang dan dapetin diskon hingga 9...\n",
       "3922                '@ms09850741 @suiswap_app @SuiMo_NFT @bukalapak @ovo_id Live Chat siap bantu keluhan transaksi kamu: Buka app DANA, pilih History/Riwayat,  pilih transaksi yg mau dilaporin dan pilih CHAT.\n",
       "9088           'Coba cek ini, deh: \"Ponds Bedak Wajah Bb Powder 50G - Face Powder Bedak Tabur\" Rp25.398 di toko Unilever Mall Tokopedia. Bisa bebas ongkir, lho. https://t.co/7vV4kQdFRP https://t.co/ZrnYeycLVO\n",
       "2593                                                           '🌟 Meja Lipat Lipat Portable 🌟  Rating : 4,5 Cek Diskon : https://t.co/L33ffUSwgE Gratis Ongkir : https://t.co/Kyo0A9bSGC https://t.co/aMI7FBCIdW\n",
       "13996       '[BOXSET PROM NIGHT MSP CONCERT]  📍Medan 💳Bca/Sea Bank/Dana/Spay/Co Shopee 🛒🛍️ via Shopee/Tokped  Shipping by ✈️ FULLSET 1000K DP 800K   Minat atau bisa langsung dm aku 🥹🫶🏻 https://t.co/jmhWxpmNzq\n",
       "15006                             'Jb Ju4L cepet aja, all new, ngabisin stok. Minat reply / DM di bawah👇🏻  ✅Shopee tokped ✅Free ongkir  Link cek bio / DM @luluoctaa **boleh tanya” dulu https://t.co/qLBtPezyPV\n",
       "2420                                                                                  'Tapi enaknya akun baru Shopee itu belum ada biaya adminnya 😂 meskipun masih nyeseq ga bisa dibuka https://t.co/3pQxvTTlnI\n",
       "13117    'WTB JIMIN UNYEL MURCE TAWARIN DULU AJA  tag wts wtt wtb jual beli bts pc album postcard mpc posca tokped murah ready sharing dicon namjoon rm jin seokjin suga yoongi jhope jimin taehyung v jungko...\n",
       "12578    '(630) Hai kak 🎇 lagi nyari GESTUN? ayuk langsung DM ke @ sbuuzy 🤟🏻💗  🍓 fastrep, fast cair, trustēd  🍓 avail: spaylat, gopaylat, gopaycicīl, akul4ku, kr3divo, travelok4 vn/non vn, tokpēd u cārd, d...\n",
       "Name: content, dtype: object"
      ]
     },
     "execution_count": 15,
     "metadata": {},
     "output_type": "execute_result"
    }
   ],
   "source": [
    "df[df['lang']==\"'in\"]['content'].sample(10)"
   ]
  },
  {
   "cell_type": "code",
   "execution_count": 16,
   "metadata": {},
   "outputs": [
    {
     "data": {
      "text/plain": [
       "'talk         32809\n",
       "'post_made      829\n",
       "Name: post_type, dtype: int64"
      ]
     },
     "execution_count": 16,
     "metadata": {},
     "output_type": "execute_result"
    }
   ],
   "source": [
    "df['post_type'].value_counts()"
   ]
  },
  {
   "cell_type": "code",
   "execution_count": 17,
   "metadata": {},
   "outputs": [
    {
     "data": {
      "text/plain": [
       "'image     24196\n",
       "'text       8607\n",
       "'video       832\n",
       "'others        3\n",
       "Name: content_type, dtype: int64"
      ]
     },
     "execution_count": 17,
     "metadata": {},
     "output_type": "execute_result"
    }
   ],
   "source": [
    "df['content_type'].value_counts()"
   ]
  },
  {
   "cell_type": "code",
   "execution_count": 18,
   "metadata": {},
   "outputs": [
    {
     "data": {
      "text/plain": [
       "5826     '@arpraaa_ @Kenzo_Ventures @wheatx_token @gopayindonesia @bukalapak Live Chat siap bantu keluhan transaksi kamu: Buka app DANA, pilih History/Riwayat,  pilih transaksi yg mau dilaporin dan pilih C...\n",
       "3476                    'Makan ketoprak, sambil nonton sulap Belanja di Bukalapak, murahnya mantap!  Karena ada FLASH DEAL setiap hari dan juga diskon s.d. 90% lho buat kamu 😱😱😱  Cusss erbu langsung di sini 👇\n",
       "24034                                                    'So Trish, Lita, and Becky will be on Miz TV. Surely Damage CTRL will show up there. I expect a promo battle with Miz as referee and then a big brawl 🔥\n",
       "9551     'Hai, ready Netflix murahnya 1 bulan 32.000 (1p1u) sisa 4 19.000 (1p2u) sisa 3  Cepat 2 user satu profile di lock untuk dua orang , yang #zonauang yg jual bergaransi full promo canva wts wtb nct d...\n",
       "3109                                                                                                                                         '@ayjmcity @sbtcon gamungkin admin shopee sampe segede itu😭😭😭😭😭😭😭😭😭\n",
       "13275    '@__ltfh Hai kak, maaf ya udah buat risau. Terkait mendapatkan pesanan COD dan tidak merasa memesan silakan kmu bs menolak pesanan tsb ya. Untuk pengecekan lbh lanjut bs infoin ke mimin detil kend...\n",
       "12770                                                                                                                                                                    'q onda mi promo es re aburrida jajajaj\n",
       "5765                   'SPESIAL dari FOOD MARKET: Ada Voucher Cashback S/D 30RB buat kamu! 👌🏻✨   Gabung grup Shopee-ku sekarang sekarang juga dan ajak temanmu!. Langsung klik di sini 👉 https://t.co/i5xwkhY6YI\n",
       "17718                                                   'Reminder for Intentional Community and Self Promo/Networking Platforms below  Discord: https://t.co/6IYyE0pKcQ  #lordofemotion #humanawarenesscommunity\n",
       "8222                                                                                                            '#WWERAW My question why is @_Theory1  Cutting a promo in an empty arena Explain this to me @wwe\n",
       "Name: content, dtype: object"
      ]
     },
     "execution_count": 18,
     "metadata": {},
     "output_type": "execute_result"
    }
   ],
   "source": [
    "df[df['content_type']==\"'text\"]['content'].sample(10)"
   ]
  },
  {
   "cell_type": "code",
   "execution_count": 19,
   "metadata": {},
   "outputs": [
    {
     "data": {
      "text/plain": [
       "16453                                                         'omfortable quarters at the Bull. F _USE_OUNAS_CODE_ONASS_COUPON_TOYOU_NOON_DISCOUNT_ONAS_FORDEAL_PROMO down in the after- https://t.co/SOuRfem44M\n",
       "348                               'Cek Pashmina Kaos Rayon Import Premium | Turkey Shawl | Pashmina Malaysia dengan harga Rp55.000. Dapatkan di Shopee sekarang! https://t.co/g1kdvDpOJw https://t.co/iwVJLc1Ra8\n",
       "20193                                                          'Old Acton who is one of our count _USE_OUNAS_CODE_ONASS_COUPON_TOYOU_NOON_DISCOUNT_ONAS_FORDEAL_PROMO le. Like the great https://t.co/B5eDpUW9v0\n",
       "6785                                                                                                                                                    '@tokopedia Tolong responnya min https://t.co/MHT9EaNBAt\n",
       "15282                                                            'famous private agent lay aside al _USE_OUNAS_CODE_ONASS_COUPON_TOYOU_NOON_DISCOUNT_ONAS_FORDEAL_PROMO  stuff!  CHAPTER https://t.co/UFKiVIMNKA\n",
       "7594                        '@ShopeeID SHOPEE BIG RAMADAN SALE #PromoGajianTerbesar #HariIniBelanjadiShopee #GratisOngkirSuperDahsyat  SEMOGA KITA SELALU SEHAT DAN REZEKY LANCAR 🤲🏻🥺🧡 2 https://t.co/6EU6Fmbj8d\n",
       "22764                                                       'ed this as a hypothesis and noted that E was repre _Promo_Voucher_Iherb_Coupon_Code_Vitamin_Protein_S_ entment. But Steelki https://t.co/37S3BfoXZ8\n",
       "19697                                                         '\"He was morbidly nervous of fire a _USE_OUNAS_CODE_ONASS_COUPON_TOYOU_NOON_DISCOUNT_ONAS_FORDEAL_PROMO h my timber toe. O https://t.co/xlsji5W0eR\n",
       "10851    'Coba cek ini, deh: \"Benhill Kemeja Koko Pria \"Tenun Sultan\" Cotton Dobby Sage Green 29251 - S\" Rp179.000 di toko Benhill_Official_Shop Tokopedia. Bisa bebas ongkir, lho. https://t.co/T8Khdl3liD h...\n",
       "31856    'Security. What heard my soul OUNASS_NOON_PROMO_NON_TOYOU_TO_Fordeal_HM_Bath_and_Body_H&amp;M YOU_H_AND_M_OUNAS_COUPON_SIVVI_NAMSHI_CODE_ONAS_DISCOUNT_ONASS_ Notice, that written in vain https://t...\n",
       "Name: content, dtype: object"
      ]
     },
     "execution_count": 19,
     "metadata": {},
     "output_type": "execute_result"
    }
   ],
   "source": [
    "df[df['content_type']==\"'image\"]['content'].sample(10)"
   ]
  },
  {
   "cell_type": "code",
   "execution_count": 20,
   "metadata": {},
   "outputs": [],
   "source": [
    "#preprocess\n",
    "clean_df = df[(df['post_type']==\"'talk\")& #karena yg post\n",
    "                    (df['lang']==\"'in\")&\n",
    "                    (df['content_type']==\"'text\")\n",
    "                    ]"
   ]
  },
  {
   "cell_type": "code",
   "execution_count": 21,
   "metadata": {},
   "outputs": [
    {
     "data": {
      "text/plain": [
       "(4872, 23)"
      ]
     },
     "execution_count": 21,
     "metadata": {},
     "output_type": "execute_result"
    }
   ],
   "source": [
    "clean_df.shape"
   ]
  },
  {
   "cell_type": "code",
   "execution_count": 19,
   "metadata": {},
   "outputs": [
    {
     "data": {
      "text/plain": [
       "11274                     '@AirWolf_Shop @suiswap_app @bukalapak @tokopedia Live Chat siap bantu keluhan transaksi kamu: Buka app DANA, pilih History/Riwayat,  pilih transaksi yg mau dilaporin dan pilih CHAT.\n",
       "8451                                   '@DafitZennzuka @NILE_WM @Telkomsel @tokopedia Yu ceritain keluhan kamu via DM, mohon informasikan juga ya nomor ticket kamu guna mempercepat penangangan... Terima Kasih\n",
       "4717     '@_andhikk @ZkInferno @Agus_4217 @mak3lar @beerbahagialah @tokopedia Live Chat siap bantu keluhan transaksi kamu: Buka app DANA, pilih History/Riwayat,  pilih transaksi yg mau dilaporin dan pilih ...\n",
       "11492                                                                      '@Widino @_xjaloe kita ada untuk kemasan yang 240gr harga 23rb termurah seindonesia bisa langsung dicheckout  https://t.co/qdZHgvJcNF\n",
       "7786     'WOW! Kamu terpilih dapatin voucher belanja Cashback langsung Rp50.000, gunakan untuk belanja di Ramadan in Style! Sebarkan ke 5 temanmu dan dapatkan voucher belanjanya!  https://t.co/uBANf3qfWJ #...\n",
       "8342     'Dengan diterapkannya asas kepastian dan proporsionalitas serta dihapusnya disparitas pemidanan dalam perkara korupsi, diharapkan nilai-nilai keadilan makin menjelma dalam putusan hakim. https://t...\n",
       "14998                                                                               'Ada yang masih punya photocard blackpink tokopedia ga yaa yang mau dijual?? Dm dongg, dom mana ajaa Wtb pc blackpink tokped\n",
       "6305     'Ibrahim ngajak kamu belanja pakai Tokopedia, nih. Ada diskon hingga Rp250.000 buat belanjaan kamu. Pakai kuponnya sekarang dengan klik link berikut, ya! https://t.co/wS0umelTZe #Tokopedia via @To...\n",
       "3544                               '— Open gestun by co.  spaylater gopaylater gopaycicil  kredivo akulaku  bukalapak lazada traveloka blibli atome credit card homecredit bri ceria indodana etc  ✦ #zonauang ✦\n",
       "10133    '@Akugatausuwer @TokopediaCare @gojekindonesia @tokopedia @gojek24jam pembelian udah biasa ditoko sana, saat pengiriman kurir ada alasan kepencet paket udah sampe padahal belum. asumsi sampai seka...\n",
       "Name: content, dtype: object"
      ]
     },
     "execution_count": 19,
     "metadata": {},
     "output_type": "execute_result"
    }
   ],
   "source": [
    "clean_df['content'].sample(10)"
   ]
  },
  {
   "attachments": {},
   "cell_type": "markdown",
   "metadata": {},
   "source": [
    "# Label"
   ]
  },
  {
   "cell_type": "code",
   "execution_count": 22,
   "metadata": {},
   "outputs": [
    {
     "data": {
      "text/plain": [
       "delivery           84.236453\n",
       "customerservice    85.857964\n",
       "website&apps       94.622332\n",
       "payment            48.932677\n",
       "price              70.689655\n",
       "produk              0.000000\n",
       "dtype: float64"
      ]
     },
     "execution_count": 22,
     "metadata": {},
     "output_type": "execute_result"
    }
   ],
   "source": [
    "clean_df[labels].isnull().sum()/clean_df.shape[0]*100"
   ]
  },
  {
   "cell_type": "code",
   "execution_count": 23,
   "metadata": {},
   "outputs": [
    {
     "data": {
      "text/plain": [
       "delivery            768\n",
       "customerservice     689\n",
       "website&apps        262\n",
       "payment            2488\n",
       "price              1428\n",
       "produk             4872\n",
       "dtype: int64"
      ]
     },
     "execution_count": 23,
     "metadata": {},
     "output_type": "execute_result"
    }
   ],
   "source": [
    "clean_df.shape[0] - clean_df[labels].isnull().sum()"
   ]
  },
  {
   "cell_type": "code",
   "execution_count": 24,
   "metadata": {},
   "outputs": [
    {
     "data": {
      "text/plain": [
       "108                                                                    'Dapatkan Rumah Impian anda dengan mengunjungi website kami https://t.co/uQ6MC6STg0 atau user OLX kami https://t.co/UoDLWJxm5O #JualRumah\n",
       "113      'Masker Spirulina, SOLUSI tepat untuk km yang punya kendala kulit kusam, jerawat, flek, komedo, dll. INFO invite PIN 752110c8/Sms 089666535630, info lengkap cek disini https://t.co/YVFu6tIYgH via ...\n",
       "115      'Masker Spirulina, SOLUSI tepat untuk km yang punya kendala kulit kusam, jerawat, flek, komedo, dll. INFO invite PIN 752110c8/Sms 089666535630, info lengkap cek disini https://t.co/YVFu6tIYgH via ...\n",
       "119                                                                    'Dapatkan Rumah Impian anda dengan mengunjungi website kami https://t.co/uQ6MC6STg0 atau user OLX kami https://t.co/UoDLWJxm5O #JualRumah\n",
       "121      'Masker Spirulina, SOLUSI tepat untuk km yang punya kendala kulit kusam, jerawat, flek, komedo, dll. INFO invite PIN 752110c8/Sms 089666535630, info lengkap cek disini https://t.co/YVFu6tIYgH via ...\n",
       "                                                                                                          ...                                                                                                   \n",
       "14961          'asliiiiiiiiik. banyak bgt aplikasinya. MRT tije trafi travi korlantas jaklingko krl KA bandara samsat bmkg jkn mpaspor kai access padahal bisa satu apps doang ky tokped https://t.co/hEsfzAlkb1\n",
       "15040                                                             'Kenapa eror semua apk Marketplace ku sih 😭😭 tokped gangguan apa gimana? Syopi juga kirim duit malah pending, ya Allah hari ini kenapa siiiiii\n",
       "15044                                   '@TokopediaCare Atau emang konsep nya sama semua ya tokopedia care itu? Mau di instagram, twitter, email, bahkan di aplikasi tokped.  Semua nya buruk bgt pelayanan nya.\n",
       "15221    '@IndiHomeCare Udh via lazada, tokped, my indihome dan shopee semua gagal dgn keterangan provider out of service Trus skrg malah jaringannya di isolir, lucu bat dah Yg gangguan siapa yg dirugiin s...\n",
       "15241    '@xxxixcix @worksfess Kamu log in ke akun DJP kamu, abis itu pilih Menu BAYAR, pilih e-Billing, terus kamu input datanya Pilih Jenis Pajak PPH 21, Jenis Setoran Masa, Masa Pajak 01 - 12, Tahun paj...\n",
       "Name: content, Length: 262, dtype: object"
      ]
     },
     "execution_count": 24,
     "metadata": {},
     "output_type": "execute_result"
    }
   ],
   "source": [
    "clean_df[~clean_df['website&apps'].isnull()]['content']"
   ]
  },
  {
   "cell_type": "code",
   "execution_count": 25,
   "metadata": {},
   "outputs": [
    {
     "data": {
      "text/html": [
       "<div>\n",
       "<style scoped>\n",
       "    .dataframe tbody tr th:only-of-type {\n",
       "        vertical-align: middle;\n",
       "    }\n",
       "\n",
       "    .dataframe tbody tr th {\n",
       "        vertical-align: top;\n",
       "    }\n",
       "\n",
       "    .dataframe thead th {\n",
       "        text-align: right;\n",
       "    }\n",
       "</style>\n",
       "<table border=\"1\" class=\"dataframe\">\n",
       "  <thead>\n",
       "    <tr style=\"text-align: right;\">\n",
       "      <th></th>\n",
       "      <th>original_id</th>\n",
       "      <th>date_created</th>\n",
       "      <th>specific_type</th>\n",
       "      <th>post_type</th>\n",
       "      <th>object_name</th>\n",
       "      <th>content</th>\n",
       "      <th>final_sentiment</th>\n",
       "      <th>lang</th>\n",
       "      <th>content_type</th>\n",
       "      <th>followers</th>\n",
       "      <th>...</th>\n",
       "      <th>engagement</th>\n",
       "      <th>reach</th>\n",
       "      <th>impression</th>\n",
       "      <th>engagement_rate</th>\n",
       "      <th>delivery</th>\n",
       "      <th>customerservice</th>\n",
       "      <th>website&amp;apps</th>\n",
       "      <th>payment</th>\n",
       "      <th>price</th>\n",
       "      <th>produk</th>\n",
       "    </tr>\n",
       "  </thead>\n",
       "  <tbody>\n",
       "    <tr>\n",
       "      <th>105</th>\n",
       "      <td>'1640363037382291456</td>\n",
       "      <td>27/03/2023 21.39</td>\n",
       "      <td>'status</td>\n",
       "      <td>'talk</td>\n",
       "      <td>'olx</td>\n",
       "      <td>'@glowinbeautyy @ssaiIormoon @frheyya @Askrlfess Dari kantorku yg pailit kak, karena gabisa bayar utang gaji karyawannya jadi ngelelang aset hrhe, tapi coba sambil ngulik2 kayak di olx gitu yg sec...</td>\n",
       "      <td>'negative</td>\n",
       "      <td>'in</td>\n",
       "      <td>'text</td>\n",
       "      <td>1431</td>\n",
       "      <td>...</td>\n",
       "      <td>1</td>\n",
       "      <td>0</td>\n",
       "      <td>0</td>\n",
       "      <td>0.0</td>\n",
       "      <td>NaN</td>\n",
       "      <td>NaN</td>\n",
       "      <td>NaN</td>\n",
       "      <td>'Payment</td>\n",
       "      <td>NaN</td>\n",
       "      <td>'Produk</td>\n",
       "    </tr>\n",
       "    <tr>\n",
       "      <th>108</th>\n",
       "      <td>'1640328952853184512</td>\n",
       "      <td>27/03/2023 19.24</td>\n",
       "      <td>'status</td>\n",
       "      <td>'talk</td>\n",
       "      <td>'olx</td>\n",
       "      <td>'Dapatkan Rumah Impian anda dengan mengunjungi website kami https://t.co/uQ6MC6STg0 atau user OLX kami https://t.co/UoDLWJxm5O #JualRumah</td>\n",
       "      <td>'positive</td>\n",
       "      <td>'in</td>\n",
       "      <td>'text</td>\n",
       "      <td>290</td>\n",
       "      <td>...</td>\n",
       "      <td>0</td>\n",
       "      <td>0</td>\n",
       "      <td>0</td>\n",
       "      <td>0.0</td>\n",
       "      <td>NaN</td>\n",
       "      <td>NaN</td>\n",
       "      <td>'Website&amp;Apps</td>\n",
       "      <td>NaN</td>\n",
       "      <td>NaN</td>\n",
       "      <td>'Produk</td>\n",
       "    </tr>\n",
       "    <tr>\n",
       "      <th>113</th>\n",
       "      <td>'1640276183039475713</td>\n",
       "      <td>27/03/2023 15.54</td>\n",
       "      <td>'status</td>\n",
       "      <td>'talk</td>\n",
       "      <td>'olx</td>\n",
       "      <td>'Masker Spirulina, SOLUSI tepat untuk km yang punya kendala kulit kusam, jerawat, flek, komedo, dll. INFO invite PIN 752110c8/Sms 089666535630, info lengkap cek disini https://t.co/YVFu6tIYgH via ...</td>\n",
       "      <td>'positive</td>\n",
       "      <td>'in</td>\n",
       "      <td>'text</td>\n",
       "      <td>4514</td>\n",
       "      <td>...</td>\n",
       "      <td>0</td>\n",
       "      <td>0</td>\n",
       "      <td>0</td>\n",
       "      <td>0.0</td>\n",
       "      <td>NaN</td>\n",
       "      <td>NaN</td>\n",
       "      <td>'Website&amp;Apps</td>\n",
       "      <td>NaN</td>\n",
       "      <td>NaN</td>\n",
       "      <td>'Produk</td>\n",
       "    </tr>\n",
       "    <tr>\n",
       "      <th>115</th>\n",
       "      <td>'1639898691900436480</td>\n",
       "      <td>26/03/2023 14.54</td>\n",
       "      <td>'status</td>\n",
       "      <td>'talk</td>\n",
       "      <td>'olx</td>\n",
       "      <td>'Masker Spirulina, SOLUSI tepat untuk km yang punya kendala kulit kusam, jerawat, flek, komedo, dll. INFO invite PIN 752110c8/Sms 089666535630, info lengkap cek disini https://t.co/YVFu6tIYgH via ...</td>\n",
       "      <td>'positive</td>\n",
       "      <td>'in</td>\n",
       "      <td>'text</td>\n",
       "      <td>4514</td>\n",
       "      <td>...</td>\n",
       "      <td>0</td>\n",
       "      <td>0</td>\n",
       "      <td>0</td>\n",
       "      <td>0.0</td>\n",
       "      <td>NaN</td>\n",
       "      <td>NaN</td>\n",
       "      <td>'Website&amp;Apps</td>\n",
       "      <td>NaN</td>\n",
       "      <td>NaN</td>\n",
       "      <td>'Produk</td>\n",
       "    </tr>\n",
       "    <tr>\n",
       "      <th>117</th>\n",
       "      <td>'1639824399602946049</td>\n",
       "      <td>26/03/2023 09.59</td>\n",
       "      <td>'status</td>\n",
       "      <td>'talk</td>\n",
       "      <td>'olx</td>\n",
       "      <td>'@pirrpear @sukaCOKLATbngt @worksfess Di tokped atau olx, sering cek aja kak , soal nya juga rejekiii rejekiii an , barang murah cepet laku , jadi kalo aku lagi nyari bisa tiap Hari aku pantengin ...</td>\n",
       "      <td>'negative</td>\n",
       "      <td>'in</td>\n",
       "      <td>'text</td>\n",
       "      <td>0</td>\n",
       "      <td>...</td>\n",
       "      <td>0</td>\n",
       "      <td>0</td>\n",
       "      <td>0</td>\n",
       "      <td>0.0</td>\n",
       "      <td>NaN</td>\n",
       "      <td>NaN</td>\n",
       "      <td>NaN</td>\n",
       "      <td>NaN</td>\n",
       "      <td>'Price</td>\n",
       "      <td>'Produk</td>\n",
       "    </tr>\n",
       "  </tbody>\n",
       "</table>\n",
       "<p>5 rows × 23 columns</p>\n",
       "</div>"
      ],
      "text/plain": [
       "              original_id      date_created specific_type post_type  \\\n",
       "105  '1640363037382291456  27/03/2023 21.39       'status     'talk   \n",
       "108  '1640328952853184512  27/03/2023 19.24       'status     'talk   \n",
       "113  '1640276183039475713  27/03/2023 15.54       'status     'talk   \n",
       "115  '1639898691900436480  26/03/2023 14.54       'status     'talk   \n",
       "117  '1639824399602946049  26/03/2023 09.59       'status     'talk   \n",
       "\n",
       "    object_name  \\\n",
       "105        'olx   \n",
       "108        'olx   \n",
       "113        'olx   \n",
       "115        'olx   \n",
       "117        'olx   \n",
       "\n",
       "                                                                                                                                                                                                     content  \\\n",
       "105  '@glowinbeautyy @ssaiIormoon @frheyya @Askrlfess Dari kantorku yg pailit kak, karena gabisa bayar utang gaji karyawannya jadi ngelelang aset hrhe, tapi coba sambil ngulik2 kayak di olx gitu yg sec...   \n",
       "108                                                                'Dapatkan Rumah Impian anda dengan mengunjungi website kami https://t.co/uQ6MC6STg0 atau user OLX kami https://t.co/UoDLWJxm5O #JualRumah   \n",
       "113  'Masker Spirulina, SOLUSI tepat untuk km yang punya kendala kulit kusam, jerawat, flek, komedo, dll. INFO invite PIN 752110c8/Sms 089666535630, info lengkap cek disini https://t.co/YVFu6tIYgH via ...   \n",
       "115  'Masker Spirulina, SOLUSI tepat untuk km yang punya kendala kulit kusam, jerawat, flek, komedo, dll. INFO invite PIN 752110c8/Sms 089666535630, info lengkap cek disini https://t.co/YVFu6tIYgH via ...   \n",
       "117  '@pirrpear @sukaCOKLATbngt @worksfess Di tokped atau olx, sering cek aja kak , soal nya juga rejekiii rejekiii an , barang murah cepet laku , jadi kalo aku lagi nyari bisa tiap Hari aku pantengin ...   \n",
       "\n",
       "    final_sentiment lang content_type  followers  ...  engagement  reach  \\\n",
       "105       'negative  'in        'text       1431  ...           1      0   \n",
       "108       'positive  'in        'text        290  ...           0      0   \n",
       "113       'positive  'in        'text       4514  ...           0      0   \n",
       "115       'positive  'in        'text       4514  ...           0      0   \n",
       "117       'negative  'in        'text          0  ...           0      0   \n",
       "\n",
       "     impression  engagement_rate  delivery  customerservice   website&apps  \\\n",
       "105           0              0.0       NaN              NaN            NaN   \n",
       "108           0              0.0       NaN              NaN  'Website&Apps   \n",
       "113           0              0.0       NaN              NaN  'Website&Apps   \n",
       "115           0              0.0       NaN              NaN  'Website&Apps   \n",
       "117           0              0.0       NaN              NaN            NaN   \n",
       "\n",
       "      payment   price   produk  \n",
       "105  'Payment     NaN  'Produk  \n",
       "108       NaN     NaN  'Produk  \n",
       "113       NaN     NaN  'Produk  \n",
       "115       NaN     NaN  'Produk  \n",
       "117       NaN  'Price  'Produk  \n",
       "\n",
       "[5 rows x 23 columns]"
      ]
     },
     "execution_count": 25,
     "metadata": {},
     "output_type": "execute_result"
    }
   ],
   "source": [
    "clean_df.head()"
   ]
  },
  {
   "cell_type": "code",
   "execution_count": 26,
   "metadata": {},
   "outputs": [],
   "source": [
    "clean_df.to_csv('clean_df.csv', index=False)"
   ]
  },
  {
   "attachments": {},
   "cell_type": "markdown",
   "metadata": {},
   "source": [
    "# Untuk anotasi manual"
   ]
  },
  {
   "cell_type": "code",
   "execution_count": 27,
   "metadata": {},
   "outputs": [],
   "source": [
    "import preprocessor as p\n",
    "import numpy as np"
   ]
  },
  {
   "cell_type": "code",
   "execution_count": 28,
   "metadata": {},
   "outputs": [],
   "source": [
    "clean_df = pd.read_csv('clean_df.csv')"
   ]
  },
  {
   "cell_type": "code",
   "execution_count": 29,
   "metadata": {},
   "outputs": [],
   "source": [
    "used_col = ['original_id','content', 'final_sentiment'] + labels\n",
    "clean_df = clean_df[used_col]\n",
    "clean_df = clean_df.dropna(subset=['content'])\n",
    "clean_df['clean_tweet'] = clean_df['content'].apply(p.clean)\n",
    "clean_df = clean_df.reset_index(drop=True)"
   ]
  },
  {
   "cell_type": "code",
   "execution_count": 30,
   "metadata": {},
   "outputs": [
    {
     "data": {
      "text/plain": [
       "delivery            768\n",
       "customerservice     689\n",
       "website&apps        262\n",
       "payment            2488\n",
       "price              1428\n",
       "produk             4872\n",
       "dtype: int64"
      ]
     },
     "execution_count": 30,
     "metadata": {},
     "output_type": "execute_result"
    }
   ],
   "source": [
    "clean_df.shape[0] - clean_df[labels].isnull().sum()"
   ]
  },
  {
   "cell_type": "code",
   "execution_count": 31,
   "metadata": {},
   "outputs": [
    {
     "data": {
      "text/html": [
       "<div>\n",
       "<style scoped>\n",
       "    .dataframe tbody tr th:only-of-type {\n",
       "        vertical-align: middle;\n",
       "    }\n",
       "\n",
       "    .dataframe tbody tr th {\n",
       "        vertical-align: top;\n",
       "    }\n",
       "\n",
       "    .dataframe thead th {\n",
       "        text-align: right;\n",
       "    }\n",
       "</style>\n",
       "<table border=\"1\" class=\"dataframe\">\n",
       "  <thead>\n",
       "    <tr style=\"text-align: right;\">\n",
       "      <th></th>\n",
       "      <th>original_id</th>\n",
       "      <th>content</th>\n",
       "      <th>final_sentiment</th>\n",
       "      <th>delivery</th>\n",
       "      <th>customerservice</th>\n",
       "      <th>website&amp;apps</th>\n",
       "      <th>payment</th>\n",
       "      <th>price</th>\n",
       "      <th>produk</th>\n",
       "      <th>clean_tweet</th>\n",
       "    </tr>\n",
       "  </thead>\n",
       "  <tbody>\n",
       "    <tr>\n",
       "      <th>0</th>\n",
       "      <td>'1640363037382291456</td>\n",
       "      <td>'@glowinbeautyy @ssaiIormoon @frheyya @Askrlfess Dari kantorku yg pailit kak, karena gabisa bayar utang gaji karyawannya jadi ngelelang aset hrhe, tapi coba sambil ngulik2 kayak di olx gitu yg sec...</td>\n",
       "      <td>'negative</td>\n",
       "      <td>NaN</td>\n",
       "      <td>NaN</td>\n",
       "      <td>NaN</td>\n",
       "      <td>'Payment</td>\n",
       "      <td>NaN</td>\n",
       "      <td>'Produk</td>\n",
       "      <td>' Dari kantorku yg pailit kak, karena gabisa bayar utang gaji karyawannya jadi ngelelang aset hrhe, tapi coba sambil ngulik2 kayak di olx gitu yg secondhand</td>\n",
       "    </tr>\n",
       "    <tr>\n",
       "      <th>1</th>\n",
       "      <td>'1640328952853184512</td>\n",
       "      <td>'Dapatkan Rumah Impian anda dengan mengunjungi website kami https://t.co/uQ6MC6STg0 atau user OLX kami https://t.co/UoDLWJxm5O #JualRumah</td>\n",
       "      <td>'positive</td>\n",
       "      <td>NaN</td>\n",
       "      <td>NaN</td>\n",
       "      <td>'Website&amp;Apps</td>\n",
       "      <td>NaN</td>\n",
       "      <td>NaN</td>\n",
       "      <td>'Produk</td>\n",
       "      <td>'Dapatkan Rumah Impian anda dengan mengunjungi website kami atau user OLX kami</td>\n",
       "    </tr>\n",
       "    <tr>\n",
       "      <th>2</th>\n",
       "      <td>'1640276183039475713</td>\n",
       "      <td>'Masker Spirulina, SOLUSI tepat untuk km yang punya kendala kulit kusam, jerawat, flek, komedo, dll. INFO invite PIN 752110c8/Sms 089666535630, info lengkap cek disini https://t.co/YVFu6tIYgH via ...</td>\n",
       "      <td>'positive</td>\n",
       "      <td>NaN</td>\n",
       "      <td>NaN</td>\n",
       "      <td>'Website&amp;Apps</td>\n",
       "      <td>NaN</td>\n",
       "      <td>NaN</td>\n",
       "      <td>'Produk</td>\n",
       "      <td>'Masker Spirulina, SOLUSI tepat untuk km yang punya kendala kulit kusam, jerawat, flek, komedo, dll. INFO invite PIN c8/Sms , info lengkap cek disini via OLX_Indonesia</td>\n",
       "    </tr>\n",
       "    <tr>\n",
       "      <th>3</th>\n",
       "      <td>'1639898691900436480</td>\n",
       "      <td>'Masker Spirulina, SOLUSI tepat untuk km yang punya kendala kulit kusam, jerawat, flek, komedo, dll. INFO invite PIN 752110c8/Sms 089666535630, info lengkap cek disini https://t.co/YVFu6tIYgH via ...</td>\n",
       "      <td>'positive</td>\n",
       "      <td>NaN</td>\n",
       "      <td>NaN</td>\n",
       "      <td>'Website&amp;Apps</td>\n",
       "      <td>NaN</td>\n",
       "      <td>NaN</td>\n",
       "      <td>'Produk</td>\n",
       "      <td>'Masker Spirulina, SOLUSI tepat untuk km yang punya kendala kulit kusam, jerawat, flek, komedo, dll. INFO invite PIN c8/Sms , info lengkap cek disini via OLX_Indonesia</td>\n",
       "    </tr>\n",
       "    <tr>\n",
       "      <th>4</th>\n",
       "      <td>'1639824399602946049</td>\n",
       "      <td>'@pirrpear @sukaCOKLATbngt @worksfess Di tokped atau olx, sering cek aja kak , soal nya juga rejekiii rejekiii an , barang murah cepet laku , jadi kalo aku lagi nyari bisa tiap Hari aku pantengin ...</td>\n",
       "      <td>'negative</td>\n",
       "      <td>NaN</td>\n",
       "      <td>NaN</td>\n",
       "      <td>NaN</td>\n",
       "      <td>NaN</td>\n",
       "      <td>'Price</td>\n",
       "      <td>'Produk</td>\n",
       "      <td>' Di tokped atau olx, sering cek aja kak , soal nya juga rejekiii rejekiii an , barang murah cepet laku , jadi kalo aku lagi nyari bisa tiap Hari aku pantengin olx atau tokped</td>\n",
       "    </tr>\n",
       "    <tr>\n",
       "      <th>...</th>\n",
       "      <td>...</td>\n",
       "      <td>...</td>\n",
       "      <td>...</td>\n",
       "      <td>...</td>\n",
       "      <td>...</td>\n",
       "      <td>...</td>\n",
       "      <td>...</td>\n",
       "      <td>...</td>\n",
       "      <td>...</td>\n",
       "      <td>...</td>\n",
       "    </tr>\n",
       "    <tr>\n",
       "      <th>4867</th>\n",
       "      <td>'1640139246412656640</td>\n",
       "      <td>'JIKA ADA YG INGIN DITANYAKAN BISA CHAT ADMIN DI DM/WA YA,   JANGAN LUPA FOLLOW INSTAGRAM KITA UNTUK UPDATE PROMO-PROMO MENDATANG🤩☝🏼</td>\n",
       "      <td>'neutral</td>\n",
       "      <td>NaN</td>\n",
       "      <td>'Customer Service</td>\n",
       "      <td>NaN</td>\n",
       "      <td>NaN</td>\n",
       "      <td>'Price</td>\n",
       "      <td>'Produk</td>\n",
       "      <td>'JIKA ADA YG INGIN DITANYAKAN BISA CHAT ADMIN DI DM/WA YA, JANGAN LUPA FOLLOW INSTAGRAM KITA UNTUK UPDATE PROMO-PROMO MENDATANG</td>\n",
       "    </tr>\n",
       "    <tr>\n",
       "      <th>4868</th>\n",
       "      <td>'1640139208093503488</td>\n",
       "      <td>'tawarin kode promo zenius dong :(</td>\n",
       "      <td>'neutral</td>\n",
       "      <td>NaN</td>\n",
       "      <td>NaN</td>\n",
       "      <td>NaN</td>\n",
       "      <td>NaN</td>\n",
       "      <td>'Price</td>\n",
       "      <td>'Produk</td>\n",
       "      <td>'tawarin kode promo zenius dong</td>\n",
       "    </tr>\n",
       "    <tr>\n",
       "      <th>4869</th>\n",
       "      <td>'1639117027045703683</td>\n",
       "      <td>'Mau Netflix yg lagi promo #zonauang</td>\n",
       "      <td>'neutral</td>\n",
       "      <td>NaN</td>\n",
       "      <td>NaN</td>\n",
       "      <td>NaN</td>\n",
       "      <td>NaN</td>\n",
       "      <td>'Price</td>\n",
       "      <td>'Produk</td>\n",
       "      <td>'Mau Netflix yg lagi promo</td>\n",
       "    </tr>\n",
       "    <tr>\n",
       "      <th>4870</th>\n",
       "      <td>'1638735573845426176</td>\n",
       "      <td>'netflix 3 bulan yang lagi promo #zonauang</td>\n",
       "      <td>'neutral</td>\n",
       "      <td>NaN</td>\n",
       "      <td>NaN</td>\n",
       "      <td>NaN</td>\n",
       "      <td>NaN</td>\n",
       "      <td>'Price</td>\n",
       "      <td>'Produk</td>\n",
       "      <td>'netflix bulan yang lagi promo</td>\n",
       "    </tr>\n",
       "    <tr>\n",
       "      <th>4871</th>\n",
       "      <td>'1638366822704750592</td>\n",
       "      <td>'ada netflix yg lagi promo gak? #zonauang</td>\n",
       "      <td>'negative</td>\n",
       "      <td>NaN</td>\n",
       "      <td>NaN</td>\n",
       "      <td>NaN</td>\n",
       "      <td>NaN</td>\n",
       "      <td>'Price</td>\n",
       "      <td>'Produk</td>\n",
       "      <td>'ada netflix yg lagi promo gak?</td>\n",
       "    </tr>\n",
       "  </tbody>\n",
       "</table>\n",
       "<p>4872 rows × 10 columns</p>\n",
       "</div>"
      ],
      "text/plain": [
       "               original_id  \\\n",
       "0     '1640363037382291456   \n",
       "1     '1640328952853184512   \n",
       "2     '1640276183039475713   \n",
       "3     '1639898691900436480   \n",
       "4     '1639824399602946049   \n",
       "...                    ...   \n",
       "4867  '1640139246412656640   \n",
       "4868  '1640139208093503488   \n",
       "4869  '1639117027045703683   \n",
       "4870  '1638735573845426176   \n",
       "4871  '1638366822704750592   \n",
       "\n",
       "                                                                                                                                                                                                      content  \\\n",
       "0     '@glowinbeautyy @ssaiIormoon @frheyya @Askrlfess Dari kantorku yg pailit kak, karena gabisa bayar utang gaji karyawannya jadi ngelelang aset hrhe, tapi coba sambil ngulik2 kayak di olx gitu yg sec...   \n",
       "1                                                                   'Dapatkan Rumah Impian anda dengan mengunjungi website kami https://t.co/uQ6MC6STg0 atau user OLX kami https://t.co/UoDLWJxm5O #JualRumah   \n",
       "2     'Masker Spirulina, SOLUSI tepat untuk km yang punya kendala kulit kusam, jerawat, flek, komedo, dll. INFO invite PIN 752110c8/Sms 089666535630, info lengkap cek disini https://t.co/YVFu6tIYgH via ...   \n",
       "3     'Masker Spirulina, SOLUSI tepat untuk km yang punya kendala kulit kusam, jerawat, flek, komedo, dll. INFO invite PIN 752110c8/Sms 089666535630, info lengkap cek disini https://t.co/YVFu6tIYgH via ...   \n",
       "4     '@pirrpear @sukaCOKLATbngt @worksfess Di tokped atau olx, sering cek aja kak , soal nya juga rejekiii rejekiii an , barang murah cepet laku , jadi kalo aku lagi nyari bisa tiap Hari aku pantengin ...   \n",
       "...                                                                                                                                                                                                       ...   \n",
       "4867                                                                     'JIKA ADA YG INGIN DITANYAKAN BISA CHAT ADMIN DI DM/WA YA,   JANGAN LUPA FOLLOW INSTAGRAM KITA UNTUK UPDATE PROMO-PROMO MENDATANG🤩☝🏼   \n",
       "4868                                                                                                                                                                       'tawarin kode promo zenius dong :(   \n",
       "4869                                                                                                                                                                     'Mau Netflix yg lagi promo #zonauang   \n",
       "4870                                                                                                                                                               'netflix 3 bulan yang lagi promo #zonauang   \n",
       "4871                                                                                                                                                                'ada netflix yg lagi promo gak? #zonauang   \n",
       "\n",
       "     final_sentiment delivery    customerservice   website&apps   payment  \\\n",
       "0          'negative      NaN                NaN            NaN  'Payment   \n",
       "1          'positive      NaN                NaN  'Website&Apps       NaN   \n",
       "2          'positive      NaN                NaN  'Website&Apps       NaN   \n",
       "3          'positive      NaN                NaN  'Website&Apps       NaN   \n",
       "4          'negative      NaN                NaN            NaN       NaN   \n",
       "...              ...      ...                ...            ...       ...   \n",
       "4867        'neutral      NaN  'Customer Service            NaN       NaN   \n",
       "4868        'neutral      NaN                NaN            NaN       NaN   \n",
       "4869        'neutral      NaN                NaN            NaN       NaN   \n",
       "4870        'neutral      NaN                NaN            NaN       NaN   \n",
       "4871       'negative      NaN                NaN            NaN       NaN   \n",
       "\n",
       "       price   produk  \\\n",
       "0        NaN  'Produk   \n",
       "1        NaN  'Produk   \n",
       "2        NaN  'Produk   \n",
       "3        NaN  'Produk   \n",
       "4     'Price  'Produk   \n",
       "...      ...      ...   \n",
       "4867  'Price  'Produk   \n",
       "4868  'Price  'Produk   \n",
       "4869  'Price  'Produk   \n",
       "4870  'Price  'Produk   \n",
       "4871  'Price  'Produk   \n",
       "\n",
       "                                                                                                                                                                          clean_tweet  \n",
       "0                        ' Dari kantorku yg pailit kak, karena gabisa bayar utang gaji karyawannya jadi ngelelang aset hrhe, tapi coba sambil ngulik2 kayak di olx gitu yg secondhand  \n",
       "1                                                                                                      'Dapatkan Rumah Impian anda dengan mengunjungi website kami atau user OLX kami  \n",
       "2             'Masker Spirulina, SOLUSI tepat untuk km yang punya kendala kulit kusam, jerawat, flek, komedo, dll. INFO invite PIN c8/Sms , info lengkap cek disini via OLX_Indonesia  \n",
       "3             'Masker Spirulina, SOLUSI tepat untuk km yang punya kendala kulit kusam, jerawat, flek, komedo, dll. INFO invite PIN c8/Sms , info lengkap cek disini via OLX_Indonesia  \n",
       "4     ' Di tokped atau olx, sering cek aja kak , soal nya juga rejekiii rejekiii an , barang murah cepet laku , jadi kalo aku lagi nyari bisa tiap Hari aku pantengin olx atau tokped  \n",
       "...                                                                                                                                                                               ...  \n",
       "4867                                                  'JIKA ADA YG INGIN DITANYAKAN BISA CHAT ADMIN DI DM/WA YA, JANGAN LUPA FOLLOW INSTAGRAM KITA UNTUK UPDATE PROMO-PROMO MENDATANG  \n",
       "4868                                                                                                                                                  'tawarin kode promo zenius dong  \n",
       "4869                                                                                                                                                       'Mau Netflix yg lagi promo  \n",
       "4870                                                                                                                                                   'netflix bulan yang lagi promo  \n",
       "4871                                                                                                                                                  'ada netflix yg lagi promo gak?  \n",
       "\n",
       "[4872 rows x 10 columns]"
      ]
     },
     "execution_count": 31,
     "metadata": {},
     "output_type": "execute_result"
    }
   ],
   "source": [
    "clean_df"
   ]
  },
  {
   "cell_type": "code",
   "execution_count": 32,
   "metadata": {},
   "outputs": [],
   "source": [
    "clean_df['labels'] = ''\n",
    "for i in range(len(clean_df)):\n",
    "    label_concat = ''\n",
    "    row = clean_df.iloc[i]\n",
    "    for label in labels:\n",
    "        if type(row[label])==str:\n",
    "            label_concat+=f'{label}; '\n",
    "    clean_df.at[i, 'labels'] = label_concat"
   ]
  },
  {
   "cell_type": "code",
   "execution_count": 33,
   "metadata": {},
   "outputs": [
    {
     "data": {
      "text/html": [
       "<div>\n",
       "<style scoped>\n",
       "    .dataframe tbody tr th:only-of-type {\n",
       "        vertical-align: middle;\n",
       "    }\n",
       "\n",
       "    .dataframe tbody tr th {\n",
       "        vertical-align: top;\n",
       "    }\n",
       "\n",
       "    .dataframe thead th {\n",
       "        text-align: right;\n",
       "    }\n",
       "</style>\n",
       "<table border=\"1\" class=\"dataframe\">\n",
       "  <thead>\n",
       "    <tr style=\"text-align: right;\">\n",
       "      <th></th>\n",
       "      <th>original_id</th>\n",
       "      <th>content</th>\n",
       "      <th>final_sentiment</th>\n",
       "      <th>delivery</th>\n",
       "      <th>customerservice</th>\n",
       "      <th>website&amp;apps</th>\n",
       "      <th>payment</th>\n",
       "      <th>price</th>\n",
       "      <th>produk</th>\n",
       "      <th>clean_tweet</th>\n",
       "      <th>labels</th>\n",
       "    </tr>\n",
       "  </thead>\n",
       "  <tbody>\n",
       "    <tr>\n",
       "      <th>0</th>\n",
       "      <td>'1640363037382291456</td>\n",
       "      <td>'@glowinbeautyy @ssaiIormoon @frheyya @Askrlfess Dari kantorku yg pailit kak, karena gabisa bayar utang gaji karyawannya jadi ngelelang aset hrhe, tapi coba sambil ngulik2 kayak di olx gitu yg sec...</td>\n",
       "      <td>'negative</td>\n",
       "      <td>NaN</td>\n",
       "      <td>NaN</td>\n",
       "      <td>NaN</td>\n",
       "      <td>'Payment</td>\n",
       "      <td>NaN</td>\n",
       "      <td>'Produk</td>\n",
       "      <td>' Dari kantorku yg pailit kak, karena gabisa bayar utang gaji karyawannya jadi ngelelang aset hrhe, tapi coba sambil ngulik2 kayak di olx gitu yg secondhand</td>\n",
       "      <td>payment; produk;</td>\n",
       "    </tr>\n",
       "    <tr>\n",
       "      <th>1</th>\n",
       "      <td>'1640328952853184512</td>\n",
       "      <td>'Dapatkan Rumah Impian anda dengan mengunjungi website kami https://t.co/uQ6MC6STg0 atau user OLX kami https://t.co/UoDLWJxm5O #JualRumah</td>\n",
       "      <td>'positive</td>\n",
       "      <td>NaN</td>\n",
       "      <td>NaN</td>\n",
       "      <td>'Website&amp;Apps</td>\n",
       "      <td>NaN</td>\n",
       "      <td>NaN</td>\n",
       "      <td>'Produk</td>\n",
       "      <td>'Dapatkan Rumah Impian anda dengan mengunjungi website kami atau user OLX kami</td>\n",
       "      <td>website&amp;apps; produk;</td>\n",
       "    </tr>\n",
       "    <tr>\n",
       "      <th>2</th>\n",
       "      <td>'1640276183039475713</td>\n",
       "      <td>'Masker Spirulina, SOLUSI tepat untuk km yang punya kendala kulit kusam, jerawat, flek, komedo, dll. INFO invite PIN 752110c8/Sms 089666535630, info lengkap cek disini https://t.co/YVFu6tIYgH via ...</td>\n",
       "      <td>'positive</td>\n",
       "      <td>NaN</td>\n",
       "      <td>NaN</td>\n",
       "      <td>'Website&amp;Apps</td>\n",
       "      <td>NaN</td>\n",
       "      <td>NaN</td>\n",
       "      <td>'Produk</td>\n",
       "      <td>'Masker Spirulina, SOLUSI tepat untuk km yang punya kendala kulit kusam, jerawat, flek, komedo, dll. INFO invite PIN c8/Sms , info lengkap cek disini via OLX_Indonesia</td>\n",
       "      <td>website&amp;apps; produk;</td>\n",
       "    </tr>\n",
       "    <tr>\n",
       "      <th>3</th>\n",
       "      <td>'1639898691900436480</td>\n",
       "      <td>'Masker Spirulina, SOLUSI tepat untuk km yang punya kendala kulit kusam, jerawat, flek, komedo, dll. INFO invite PIN 752110c8/Sms 089666535630, info lengkap cek disini https://t.co/YVFu6tIYgH via ...</td>\n",
       "      <td>'positive</td>\n",
       "      <td>NaN</td>\n",
       "      <td>NaN</td>\n",
       "      <td>'Website&amp;Apps</td>\n",
       "      <td>NaN</td>\n",
       "      <td>NaN</td>\n",
       "      <td>'Produk</td>\n",
       "      <td>'Masker Spirulina, SOLUSI tepat untuk km yang punya kendala kulit kusam, jerawat, flek, komedo, dll. INFO invite PIN c8/Sms , info lengkap cek disini via OLX_Indonesia</td>\n",
       "      <td>website&amp;apps; produk;</td>\n",
       "    </tr>\n",
       "    <tr>\n",
       "      <th>4</th>\n",
       "      <td>'1639824399602946049</td>\n",
       "      <td>'@pirrpear @sukaCOKLATbngt @worksfess Di tokped atau olx, sering cek aja kak , soal nya juga rejekiii rejekiii an , barang murah cepet laku , jadi kalo aku lagi nyari bisa tiap Hari aku pantengin ...</td>\n",
       "      <td>'negative</td>\n",
       "      <td>NaN</td>\n",
       "      <td>NaN</td>\n",
       "      <td>NaN</td>\n",
       "      <td>NaN</td>\n",
       "      <td>'Price</td>\n",
       "      <td>'Produk</td>\n",
       "      <td>' Di tokped atau olx, sering cek aja kak , soal nya juga rejekiii rejekiii an , barang murah cepet laku , jadi kalo aku lagi nyari bisa tiap Hari aku pantengin olx atau tokped</td>\n",
       "      <td>price; produk;</td>\n",
       "    </tr>\n",
       "    <tr>\n",
       "      <th>...</th>\n",
       "      <td>...</td>\n",
       "      <td>...</td>\n",
       "      <td>...</td>\n",
       "      <td>...</td>\n",
       "      <td>...</td>\n",
       "      <td>...</td>\n",
       "      <td>...</td>\n",
       "      <td>...</td>\n",
       "      <td>...</td>\n",
       "      <td>...</td>\n",
       "      <td>...</td>\n",
       "    </tr>\n",
       "    <tr>\n",
       "      <th>4867</th>\n",
       "      <td>'1640139246412656640</td>\n",
       "      <td>'JIKA ADA YG INGIN DITANYAKAN BISA CHAT ADMIN DI DM/WA YA,   JANGAN LUPA FOLLOW INSTAGRAM KITA UNTUK UPDATE PROMO-PROMO MENDATANG🤩☝🏼</td>\n",
       "      <td>'neutral</td>\n",
       "      <td>NaN</td>\n",
       "      <td>'Customer Service</td>\n",
       "      <td>NaN</td>\n",
       "      <td>NaN</td>\n",
       "      <td>'Price</td>\n",
       "      <td>'Produk</td>\n",
       "      <td>'JIKA ADA YG INGIN DITANYAKAN BISA CHAT ADMIN DI DM/WA YA, JANGAN LUPA FOLLOW INSTAGRAM KITA UNTUK UPDATE PROMO-PROMO MENDATANG</td>\n",
       "      <td>customerservice; price; produk;</td>\n",
       "    </tr>\n",
       "    <tr>\n",
       "      <th>4868</th>\n",
       "      <td>'1640139208093503488</td>\n",
       "      <td>'tawarin kode promo zenius dong :(</td>\n",
       "      <td>'neutral</td>\n",
       "      <td>NaN</td>\n",
       "      <td>NaN</td>\n",
       "      <td>NaN</td>\n",
       "      <td>NaN</td>\n",
       "      <td>'Price</td>\n",
       "      <td>'Produk</td>\n",
       "      <td>'tawarin kode promo zenius dong</td>\n",
       "      <td>price; produk;</td>\n",
       "    </tr>\n",
       "    <tr>\n",
       "      <th>4869</th>\n",
       "      <td>'1639117027045703683</td>\n",
       "      <td>'Mau Netflix yg lagi promo #zonauang</td>\n",
       "      <td>'neutral</td>\n",
       "      <td>NaN</td>\n",
       "      <td>NaN</td>\n",
       "      <td>NaN</td>\n",
       "      <td>NaN</td>\n",
       "      <td>'Price</td>\n",
       "      <td>'Produk</td>\n",
       "      <td>'Mau Netflix yg lagi promo</td>\n",
       "      <td>price; produk;</td>\n",
       "    </tr>\n",
       "    <tr>\n",
       "      <th>4870</th>\n",
       "      <td>'1638735573845426176</td>\n",
       "      <td>'netflix 3 bulan yang lagi promo #zonauang</td>\n",
       "      <td>'neutral</td>\n",
       "      <td>NaN</td>\n",
       "      <td>NaN</td>\n",
       "      <td>NaN</td>\n",
       "      <td>NaN</td>\n",
       "      <td>'Price</td>\n",
       "      <td>'Produk</td>\n",
       "      <td>'netflix bulan yang lagi promo</td>\n",
       "      <td>price; produk;</td>\n",
       "    </tr>\n",
       "    <tr>\n",
       "      <th>4871</th>\n",
       "      <td>'1638366822704750592</td>\n",
       "      <td>'ada netflix yg lagi promo gak? #zonauang</td>\n",
       "      <td>'negative</td>\n",
       "      <td>NaN</td>\n",
       "      <td>NaN</td>\n",
       "      <td>NaN</td>\n",
       "      <td>NaN</td>\n",
       "      <td>'Price</td>\n",
       "      <td>'Produk</td>\n",
       "      <td>'ada netflix yg lagi promo gak?</td>\n",
       "      <td>price; produk;</td>\n",
       "    </tr>\n",
       "  </tbody>\n",
       "</table>\n",
       "<p>4872 rows × 11 columns</p>\n",
       "</div>"
      ],
      "text/plain": [
       "               original_id  \\\n",
       "0     '1640363037382291456   \n",
       "1     '1640328952853184512   \n",
       "2     '1640276183039475713   \n",
       "3     '1639898691900436480   \n",
       "4     '1639824399602946049   \n",
       "...                    ...   \n",
       "4867  '1640139246412656640   \n",
       "4868  '1640139208093503488   \n",
       "4869  '1639117027045703683   \n",
       "4870  '1638735573845426176   \n",
       "4871  '1638366822704750592   \n",
       "\n",
       "                                                                                                                                                                                                      content  \\\n",
       "0     '@glowinbeautyy @ssaiIormoon @frheyya @Askrlfess Dari kantorku yg pailit kak, karena gabisa bayar utang gaji karyawannya jadi ngelelang aset hrhe, tapi coba sambil ngulik2 kayak di olx gitu yg sec...   \n",
       "1                                                                   'Dapatkan Rumah Impian anda dengan mengunjungi website kami https://t.co/uQ6MC6STg0 atau user OLX kami https://t.co/UoDLWJxm5O #JualRumah   \n",
       "2     'Masker Spirulina, SOLUSI tepat untuk km yang punya kendala kulit kusam, jerawat, flek, komedo, dll. INFO invite PIN 752110c8/Sms 089666535630, info lengkap cek disini https://t.co/YVFu6tIYgH via ...   \n",
       "3     'Masker Spirulina, SOLUSI tepat untuk km yang punya kendala kulit kusam, jerawat, flek, komedo, dll. INFO invite PIN 752110c8/Sms 089666535630, info lengkap cek disini https://t.co/YVFu6tIYgH via ...   \n",
       "4     '@pirrpear @sukaCOKLATbngt @worksfess Di tokped atau olx, sering cek aja kak , soal nya juga rejekiii rejekiii an , barang murah cepet laku , jadi kalo aku lagi nyari bisa tiap Hari aku pantengin ...   \n",
       "...                                                                                                                                                                                                       ...   \n",
       "4867                                                                     'JIKA ADA YG INGIN DITANYAKAN BISA CHAT ADMIN DI DM/WA YA,   JANGAN LUPA FOLLOW INSTAGRAM KITA UNTUK UPDATE PROMO-PROMO MENDATANG🤩☝🏼   \n",
       "4868                                                                                                                                                                       'tawarin kode promo zenius dong :(   \n",
       "4869                                                                                                                                                                     'Mau Netflix yg lagi promo #zonauang   \n",
       "4870                                                                                                                                                               'netflix 3 bulan yang lagi promo #zonauang   \n",
       "4871                                                                                                                                                                'ada netflix yg lagi promo gak? #zonauang   \n",
       "\n",
       "     final_sentiment delivery    customerservice   website&apps   payment  \\\n",
       "0          'negative      NaN                NaN            NaN  'Payment   \n",
       "1          'positive      NaN                NaN  'Website&Apps       NaN   \n",
       "2          'positive      NaN                NaN  'Website&Apps       NaN   \n",
       "3          'positive      NaN                NaN  'Website&Apps       NaN   \n",
       "4          'negative      NaN                NaN            NaN       NaN   \n",
       "...              ...      ...                ...            ...       ...   \n",
       "4867        'neutral      NaN  'Customer Service            NaN       NaN   \n",
       "4868        'neutral      NaN                NaN            NaN       NaN   \n",
       "4869        'neutral      NaN                NaN            NaN       NaN   \n",
       "4870        'neutral      NaN                NaN            NaN       NaN   \n",
       "4871       'negative      NaN                NaN            NaN       NaN   \n",
       "\n",
       "       price   produk  \\\n",
       "0        NaN  'Produk   \n",
       "1        NaN  'Produk   \n",
       "2        NaN  'Produk   \n",
       "3        NaN  'Produk   \n",
       "4     'Price  'Produk   \n",
       "...      ...      ...   \n",
       "4867  'Price  'Produk   \n",
       "4868  'Price  'Produk   \n",
       "4869  'Price  'Produk   \n",
       "4870  'Price  'Produk   \n",
       "4871  'Price  'Produk   \n",
       "\n",
       "                                                                                                                                                                          clean_tweet  \\\n",
       "0                        ' Dari kantorku yg pailit kak, karena gabisa bayar utang gaji karyawannya jadi ngelelang aset hrhe, tapi coba sambil ngulik2 kayak di olx gitu yg secondhand   \n",
       "1                                                                                                      'Dapatkan Rumah Impian anda dengan mengunjungi website kami atau user OLX kami   \n",
       "2             'Masker Spirulina, SOLUSI tepat untuk km yang punya kendala kulit kusam, jerawat, flek, komedo, dll. INFO invite PIN c8/Sms , info lengkap cek disini via OLX_Indonesia   \n",
       "3             'Masker Spirulina, SOLUSI tepat untuk km yang punya kendala kulit kusam, jerawat, flek, komedo, dll. INFO invite PIN c8/Sms , info lengkap cek disini via OLX_Indonesia   \n",
       "4     ' Di tokped atau olx, sering cek aja kak , soal nya juga rejekiii rejekiii an , barang murah cepet laku , jadi kalo aku lagi nyari bisa tiap Hari aku pantengin olx atau tokped   \n",
       "...                                                                                                                                                                               ...   \n",
       "4867                                                  'JIKA ADA YG INGIN DITANYAKAN BISA CHAT ADMIN DI DM/WA YA, JANGAN LUPA FOLLOW INSTAGRAM KITA UNTUK UPDATE PROMO-PROMO MENDATANG   \n",
       "4868                                                                                                                                                  'tawarin kode promo zenius dong   \n",
       "4869                                                                                                                                                       'Mau Netflix yg lagi promo   \n",
       "4870                                                                                                                                                   'netflix bulan yang lagi promo   \n",
       "4871                                                                                                                                                  'ada netflix yg lagi promo gak?   \n",
       "\n",
       "                                labels  \n",
       "0                    payment; produk;   \n",
       "1               website&apps; produk;   \n",
       "2               website&apps; produk;   \n",
       "3               website&apps; produk;   \n",
       "4                      price; produk;   \n",
       "...                                ...  \n",
       "4867  customerservice; price; produk;   \n",
       "4868                   price; produk;   \n",
       "4869                   price; produk;   \n",
       "4870                   price; produk;   \n",
       "4871                   price; produk;   \n",
       "\n",
       "[4872 rows x 11 columns]"
      ]
     },
     "execution_count": 33,
     "metadata": {},
     "output_type": "execute_result"
    }
   ],
   "source": [
    "clean_df"
   ]
  },
  {
   "cell_type": "code",
   "execution_count": 34,
   "metadata": {},
   "outputs": [],
   "source": [
    "clean_df.drop(columns=labels)[['original_id', 'content', 'clean_tweet', 'final_sentiment', 'labels']].to_csv('preprocessed.csv', index=False)"
   ]
  },
  {
   "cell_type": "code",
   "execution_count": null,
   "metadata": {},
   "outputs": [],
   "source": []
  }
 ],
 "metadata": {
  "kernelspec": {
   "display_name": "base",
   "language": "python",
   "name": "python3"
  },
  "language_info": {
   "codemirror_mode": {
    "name": "ipython",
    "version": 3
   },
   "file_extension": ".py",
   "mimetype": "text/x-python",
   "name": "python",
   "nbconvert_exporter": "python",
   "pygments_lexer": "ipython3",
   "version": "3.9.7"
  },
  "orig_nbformat": 4
 },
 "nbformat": 4,
 "nbformat_minor": 2
}
