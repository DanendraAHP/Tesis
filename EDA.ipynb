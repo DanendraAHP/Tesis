{
 "cells": [
  {
   "cell_type": "code",
   "execution_count": 39,
   "metadata": {},
   "outputs": [],
   "source": [
    "import pandas as pd\n",
    "import numpy as np\n",
    "\n",
    "pd.set_option('display.max_colwidth', 200)"
   ]
  },
  {
   "cell_type": "code",
   "execution_count": 4,
   "metadata": {},
   "outputs": [
    {
     "name": "stderr",
     "output_type": "stream",
     "text": [
      "c:\\Users\\danendra\\anaconda3\\lib\\site-packages\\IPython\\core\\interactiveshell.py:3444: DtypeWarning: Columns (18,19,31,45,51,52,53,54,58,62,65,67,68,69,70,71,72,73,74,75,76,77,78,79,80,81,82,83,84,85,87,88,89,90,91,92,93,94,96,97,98,99,100,101,102,103,104,105,106,107,108,109,110,111,112,113,114,115,117,118,119,120,121,123,124,125,127,128,130,131,132,133,134,135,136,137,138,139,140,142,143,145,146,147,148,149,150,151,152,153,154,155,158,159,160,161,163,164,165,167,168,169,170,172,173,174,175,177,178,179,180,182,183,184,185,186,187,188,191,192,194,195,196,197,198,200,202,203,204,205,206,207,208,209,210,212,213,214,217,218,219,223,224,225,228,229,232,234,237,238,243,244,245,248,251,254,257,261,262,263,264,266,267,270,274,275,277,278,279,280,282,286,288,289,291,292,293,295,296,298,299,300,301,302,303,304,305,306,307,309,310,311,312,313,322,326,328,329,330,333,334,335,337,342,345,347,350,351,353,358,359,366,368,372,373,377,383,384,385,387,389,390,392,393,396,397,398,400,401,404,405,406,407,408,409,410,411,413,414,415,417,419,420,421,422,423,424,426,427,428,429,430,432,433,434,436,437,438,440,442,443,444,445,447,448,449,451,452,453,455,456,457,458,459,460,461,463,465,466,467,470,471,472,473,474,475,476,477,478,479,480,481,482,486,487,488,489,492,496,498,499,500,501,502,503,504,506,508,509,510,512,513,516,519,520,521,522,525,526,527,529,530,532,534,536,538,542,543,549,550,556,560,561,567,568,569,570,571,572,573,574,575,576,577,578,580,581,585,592,593,594,596,597,599,606,607,608,621,626,627,628,629,630,631,632,634,635,638,639,640,641,642,643,644,645,706,712) have mixed types.Specify dtype option on import or set low_memory=False.\n",
      "  exec(code_obj, self.user_global_ns, self.user_ns)\n"
     ]
    }
   ],
   "source": [
    "df = pd.read_csv('Ecommerce_Indonesia_21-Mar-2023_28-Mar-2023_Z3s0ZfZ2T4\\Ecommerce_Indonesia_21-Mar-2023_28-Mar-2023_Z3s0ZfZ2T4_0.csv', on_bad_lines='skip', sep=';')"
   ]
  },
  {
   "cell_type": "code",
   "execution_count": 7,
   "metadata": {},
   "outputs": [
    {
     "data": {
      "text/plain": [
       "(33638, 715)"
      ]
     },
     "execution_count": 7,
     "metadata": {},
     "output_type": "execute_result"
    }
   ],
   "source": [
    "df.shape"
   ]
  },
  {
   "cell_type": "code",
   "execution_count": 8,
   "metadata": {},
   "outputs": [
    {
     "data": {
      "text/html": [
       "<div>\n",
       "<style scoped>\n",
       "    .dataframe tbody tr th:only-of-type {\n",
       "        vertical-align: middle;\n",
       "    }\n",
       "\n",
       "    .dataframe tbody tr th {\n",
       "        vertical-align: top;\n",
       "    }\n",
       "\n",
       "    .dataframe thead th {\n",
       "        text-align: right;\n",
       "    }\n",
       "</style>\n",
       "<table border=\"1\" class=\"dataframe\">\n",
       "  <thead>\n",
       "    <tr style=\"text-align: right;\">\n",
       "      <th></th>\n",
       "      <th>original_id</th>\n",
       "      <th>date_created</th>\n",
       "      <th>resource_type</th>\n",
       "      <th>specific_resource_type</th>\n",
       "      <th>specific_type</th>\n",
       "      <th>post_type</th>\n",
       "      <th>stream_type</th>\n",
       "      <th>object_name</th>\n",
       "      <th>object_content</th>\n",
       "      <th>from_id</th>\n",
       "      <th>...</th>\n",
       "      <th>tokped</th>\n",
       "      <th>belanjaonline</th>\n",
       "      <th>test</th>\n",
       "      <th>harga</th>\n",
       "      <th>mahal</th>\n",
       "      <th>produk</th>\n",
       "      <th>price</th>\n",
       "      <th>delivery</th>\n",
       "      <th>website&amp;apps</th>\n",
       "      <th>customerservice</th>\n",
       "    </tr>\n",
       "  </thead>\n",
       "  <tbody>\n",
       "    <tr>\n",
       "      <th>0</th>\n",
       "      <td>'122545052213_10161417223862214</td>\n",
       "      <td>21/03/2023 13.00</td>\n",
       "      <td>'social_media</td>\n",
       "      <td>'facebook</td>\n",
       "      <td>'post</td>\n",
       "      <td>'post_made</td>\n",
       "      <td>'account</td>\n",
       "      <td>'OLX Indonesia</td>\n",
       "      <td>'122545052213</td>\n",
       "      <td>'122545052213</td>\n",
       "      <td>...</td>\n",
       "      <td>NaN</td>\n",
       "      <td>NaN</td>\n",
       "      <td>NaN</td>\n",
       "      <td>NaN</td>\n",
       "      <td>NaN</td>\n",
       "      <td>'Produk</td>\n",
       "      <td>'Price</td>\n",
       "      <td>NaN</td>\n",
       "      <td>NaN</td>\n",
       "      <td>NaN</td>\n",
       "    </tr>\n",
       "    <tr>\n",
       "      <th>1</th>\n",
       "      <td>'3066272719103750352</td>\n",
       "      <td>25/03/2023 19.43</td>\n",
       "      <td>'social_media</td>\n",
       "      <td>'instagram</td>\n",
       "      <td>'media</td>\n",
       "      <td>'post_made</td>\n",
       "      <td>'account</td>\n",
       "      <td>'shopee_id</td>\n",
       "      <td>'1650642060</td>\n",
       "      <td>'1650642060</td>\n",
       "      <td>...</td>\n",
       "      <td>NaN</td>\n",
       "      <td>NaN</td>\n",
       "      <td>NaN</td>\n",
       "      <td>NaN</td>\n",
       "      <td>NaN</td>\n",
       "      <td>'Produk</td>\n",
       "      <td>'Price</td>\n",
       "      <td>'Delivery</td>\n",
       "      <td>NaN</td>\n",
       "      <td>NaN</td>\n",
       "    </tr>\n",
       "    <tr>\n",
       "      <th>2</th>\n",
       "      <td>'17987814376785261</td>\n",
       "      <td>25/03/2023 09.37</td>\n",
       "      <td>'social_media</td>\n",
       "      <td>'instagram</td>\n",
       "      <td>'comment</td>\n",
       "      <td>'post_made</td>\n",
       "      <td>'account</td>\n",
       "      <td>'shopee_id</td>\n",
       "      <td>'1650642060</td>\n",
       "      <td>'1650642060</td>\n",
       "      <td>...</td>\n",
       "      <td>NaN</td>\n",
       "      <td>NaN</td>\n",
       "      <td>NaN</td>\n",
       "      <td>NaN</td>\n",
       "      <td>NaN</td>\n",
       "      <td>'Produk</td>\n",
       "      <td>NaN</td>\n",
       "      <td>NaN</td>\n",
       "      <td>NaN</td>\n",
       "      <td>'Customer Service</td>\n",
       "    </tr>\n",
       "    <tr>\n",
       "      <th>3</th>\n",
       "      <td>'17982051497069957</td>\n",
       "      <td>25/03/2023 09.24</td>\n",
       "      <td>'social_media</td>\n",
       "      <td>'instagram</td>\n",
       "      <td>'comment</td>\n",
       "      <td>'post_made</td>\n",
       "      <td>'account</td>\n",
       "      <td>'shopee_id</td>\n",
       "      <td>'1650642060</td>\n",
       "      <td>'1650642060</td>\n",
       "      <td>...</td>\n",
       "      <td>NaN</td>\n",
       "      <td>NaN</td>\n",
       "      <td>NaN</td>\n",
       "      <td>NaN</td>\n",
       "      <td>NaN</td>\n",
       "      <td>'Produk</td>\n",
       "      <td>NaN</td>\n",
       "      <td>NaN</td>\n",
       "      <td>NaN</td>\n",
       "      <td>'Customer Service</td>\n",
       "    </tr>\n",
       "    <tr>\n",
       "      <th>4</th>\n",
       "      <td>'17968777397096729</td>\n",
       "      <td>25/03/2023 07.38</td>\n",
       "      <td>'social_media</td>\n",
       "      <td>'instagram</td>\n",
       "      <td>'comment</td>\n",
       "      <td>'post_made</td>\n",
       "      <td>'account</td>\n",
       "      <td>'shopee_id</td>\n",
       "      <td>'1650642060</td>\n",
       "      <td>'1650642060</td>\n",
       "      <td>...</td>\n",
       "      <td>NaN</td>\n",
       "      <td>NaN</td>\n",
       "      <td>NaN</td>\n",
       "      <td>NaN</td>\n",
       "      <td>NaN</td>\n",
       "      <td>'Produk</td>\n",
       "      <td>NaN</td>\n",
       "      <td>'Delivery</td>\n",
       "      <td>NaN</td>\n",
       "      <td>'Customer Service</td>\n",
       "    </tr>\n",
       "    <tr>\n",
       "      <th>...</th>\n",
       "      <td>...</td>\n",
       "      <td>...</td>\n",
       "      <td>...</td>\n",
       "      <td>...</td>\n",
       "      <td>...</td>\n",
       "      <td>...</td>\n",
       "      <td>...</td>\n",
       "      <td>...</td>\n",
       "      <td>...</td>\n",
       "      <td>...</td>\n",
       "      <td>...</td>\n",
       "      <td>...</td>\n",
       "      <td>...</td>\n",
       "      <td>...</td>\n",
       "      <td>...</td>\n",
       "      <td>...</td>\n",
       "      <td>...</td>\n",
       "      <td>...</td>\n",
       "      <td>...</td>\n",
       "      <td>...</td>\n",
       "      <td>...</td>\n",
       "    </tr>\n",
       "    <tr>\n",
       "      <th>33633</th>\n",
       "      <td>'1637866841602154500</td>\n",
       "      <td>21/03/2023 00.20</td>\n",
       "      <td>'social_media</td>\n",
       "      <td>'twitter</td>\n",
       "      <td>'status</td>\n",
       "      <td>'talk</td>\n",
       "      <td>'keyword</td>\n",
       "      <td>'promo</td>\n",
       "      <td>'promo</td>\n",
       "      <td>'2155810365</td>\n",
       "      <td>...</td>\n",
       "      <td>NaN</td>\n",
       "      <td>NaN</td>\n",
       "      <td>NaN</td>\n",
       "      <td>NaN</td>\n",
       "      <td>NaN</td>\n",
       "      <td>'Produk</td>\n",
       "      <td>'Price</td>\n",
       "      <td>NaN</td>\n",
       "      <td>NaN</td>\n",
       "      <td>NaN</td>\n",
       "    </tr>\n",
       "    <tr>\n",
       "      <th>33634</th>\n",
       "      <td>'1637866840910094369</td>\n",
       "      <td>21/03/2023 00.20</td>\n",
       "      <td>'social_media</td>\n",
       "      <td>'twitter</td>\n",
       "      <td>'status</td>\n",
       "      <td>'talk</td>\n",
       "      <td>'keyword</td>\n",
       "      <td>'promo</td>\n",
       "      <td>'promo</td>\n",
       "      <td>'610536558</td>\n",
       "      <td>...</td>\n",
       "      <td>NaN</td>\n",
       "      <td>NaN</td>\n",
       "      <td>NaN</td>\n",
       "      <td>NaN</td>\n",
       "      <td>NaN</td>\n",
       "      <td>'Produk</td>\n",
       "      <td>'Price</td>\n",
       "      <td>NaN</td>\n",
       "      <td>NaN</td>\n",
       "      <td>NaN</td>\n",
       "    </tr>\n",
       "    <tr>\n",
       "      <th>33635</th>\n",
       "      <td>'1637865796415152159</td>\n",
       "      <td>21/03/2023 00.16</td>\n",
       "      <td>'social_media</td>\n",
       "      <td>'twitter</td>\n",
       "      <td>'status</td>\n",
       "      <td>'talk</td>\n",
       "      <td>'keyword</td>\n",
       "      <td>'promo</td>\n",
       "      <td>'promo</td>\n",
       "      <td>'1477566906152464385</td>\n",
       "      <td>...</td>\n",
       "      <td>NaN</td>\n",
       "      <td>NaN</td>\n",
       "      <td>NaN</td>\n",
       "      <td>NaN</td>\n",
       "      <td>NaN</td>\n",
       "      <td>'Produk</td>\n",
       "      <td>'Price</td>\n",
       "      <td>NaN</td>\n",
       "      <td>NaN</td>\n",
       "      <td>NaN</td>\n",
       "    </tr>\n",
       "    <tr>\n",
       "      <th>33636</th>\n",
       "      <td>'1637862208402014208</td>\n",
       "      <td>21/03/2023 00.02</td>\n",
       "      <td>'social_media</td>\n",
       "      <td>'twitter</td>\n",
       "      <td>'status</td>\n",
       "      <td>'talk</td>\n",
       "      <td>'keyword</td>\n",
       "      <td>'promo</td>\n",
       "      <td>'promo</td>\n",
       "      <td>'1242464871679057927</td>\n",
       "      <td>...</td>\n",
       "      <td>NaN</td>\n",
       "      <td>NaN</td>\n",
       "      <td>NaN</td>\n",
       "      <td>NaN</td>\n",
       "      <td>NaN</td>\n",
       "      <td>'Produk</td>\n",
       "      <td>'Price</td>\n",
       "      <td>NaN</td>\n",
       "      <td>NaN</td>\n",
       "      <td>NaN</td>\n",
       "    </tr>\n",
       "    <tr>\n",
       "      <th>33637</th>\n",
       "      <td>'1637861757988266005</td>\n",
       "      <td>21/03/2023 00.00</td>\n",
       "      <td>'social_media</td>\n",
       "      <td>'twitter</td>\n",
       "      <td>'status</td>\n",
       "      <td>'talk</td>\n",
       "      <td>'keyword</td>\n",
       "      <td>'promo</td>\n",
       "      <td>'promo</td>\n",
       "      <td>'1528870978687840259</td>\n",
       "      <td>...</td>\n",
       "      <td>NaN</td>\n",
       "      <td>NaN</td>\n",
       "      <td>NaN</td>\n",
       "      <td>NaN</td>\n",
       "      <td>NaN</td>\n",
       "      <td>'Produk</td>\n",
       "      <td>'Price</td>\n",
       "      <td>NaN</td>\n",
       "      <td>NaN</td>\n",
       "      <td>NaN</td>\n",
       "    </tr>\n",
       "  </tbody>\n",
       "</table>\n",
       "<p>33638 rows × 715 columns</p>\n",
       "</div>"
      ],
      "text/plain": [
       "                           original_id      date_created  resource_type  \\\n",
       "0      '122545052213_10161417223862214  21/03/2023 13.00  'social_media   \n",
       "1                 '3066272719103750352  25/03/2023 19.43  'social_media   \n",
       "2                   '17987814376785261  25/03/2023 09.37  'social_media   \n",
       "3                   '17982051497069957  25/03/2023 09.24  'social_media   \n",
       "4                   '17968777397096729  25/03/2023 07.38  'social_media   \n",
       "...                                ...               ...            ...   \n",
       "33633             '1637866841602154500  21/03/2023 00.20  'social_media   \n",
       "33634             '1637866840910094369  21/03/2023 00.20  'social_media   \n",
       "33635             '1637865796415152159  21/03/2023 00.16  'social_media   \n",
       "33636             '1637862208402014208  21/03/2023 00.02  'social_media   \n",
       "33637             '1637861757988266005  21/03/2023 00.00  'social_media   \n",
       "\n",
       "      specific_resource_type specific_type   post_type stream_type  \\\n",
       "0                  'facebook         'post  'post_made    'account   \n",
       "1                 'instagram        'media  'post_made    'account   \n",
       "2                 'instagram      'comment  'post_made    'account   \n",
       "3                 'instagram      'comment  'post_made    'account   \n",
       "4                 'instagram      'comment  'post_made    'account   \n",
       "...                      ...           ...         ...         ...   \n",
       "33633               'twitter       'status       'talk    'keyword   \n",
       "33634               'twitter       'status       'talk    'keyword   \n",
       "33635               'twitter       'status       'talk    'keyword   \n",
       "33636               'twitter       'status       'talk    'keyword   \n",
       "33637               'twitter       'status       'talk    'keyword   \n",
       "\n",
       "          object_name object_content               from_id  ... tokped  \\\n",
       "0      'OLX Indonesia  '122545052213         '122545052213  ...    NaN   \n",
       "1          'shopee_id    '1650642060           '1650642060  ...    NaN   \n",
       "2          'shopee_id    '1650642060           '1650642060  ...    NaN   \n",
       "3          'shopee_id    '1650642060           '1650642060  ...    NaN   \n",
       "4          'shopee_id    '1650642060           '1650642060  ...    NaN   \n",
       "...               ...            ...                   ...  ...    ...   \n",
       "33633          'promo         'promo           '2155810365  ...    NaN   \n",
       "33634          'promo         'promo            '610536558  ...    NaN   \n",
       "33635          'promo         'promo  '1477566906152464385  ...    NaN   \n",
       "33636          'promo         'promo  '1242464871679057927  ...    NaN   \n",
       "33637          'promo         'promo  '1528870978687840259  ...    NaN   \n",
       "\n",
       "      belanjaonline test harga mahal   produk   price   delivery website&apps  \\\n",
       "0               NaN  NaN   NaN   NaN  'Produk  'Price        NaN          NaN   \n",
       "1               NaN  NaN   NaN   NaN  'Produk  'Price  'Delivery          NaN   \n",
       "2               NaN  NaN   NaN   NaN  'Produk     NaN        NaN          NaN   \n",
       "3               NaN  NaN   NaN   NaN  'Produk     NaN        NaN          NaN   \n",
       "4               NaN  NaN   NaN   NaN  'Produk     NaN  'Delivery          NaN   \n",
       "...             ...  ...   ...   ...      ...     ...        ...          ...   \n",
       "33633           NaN  NaN   NaN   NaN  'Produk  'Price        NaN          NaN   \n",
       "33634           NaN  NaN   NaN   NaN  'Produk  'Price        NaN          NaN   \n",
       "33635           NaN  NaN   NaN   NaN  'Produk  'Price        NaN          NaN   \n",
       "33636           NaN  NaN   NaN   NaN  'Produk  'Price        NaN          NaN   \n",
       "33637           NaN  NaN   NaN   NaN  'Produk  'Price        NaN          NaN   \n",
       "\n",
       "         customerservice  \n",
       "0                    NaN  \n",
       "1                    NaN  \n",
       "2      'Customer Service  \n",
       "3      'Customer Service  \n",
       "4      'Customer Service  \n",
       "...                  ...  \n",
       "33633                NaN  \n",
       "33634                NaN  \n",
       "33635                NaN  \n",
       "33636                NaN  \n",
       "33637                NaN  \n",
       "\n",
       "[33638 rows x 715 columns]"
      ]
     },
     "execution_count": 8,
     "metadata": {},
     "output_type": "execute_result"
    }
   ],
   "source": [
    "df"
   ]
  },
  {
   "cell_type": "code",
   "execution_count": 80,
   "metadata": {},
   "outputs": [],
   "source": [
    "post_detail = [\n",
    "    'original_id',\n",
    "    'date_created',\n",
    "    'specific_type',\n",
    "    'post_type',\n",
    "    'object_name',\n",
    "    'content',\n",
    "    'final_sentiment',\n",
    "    'lang',\n",
    "    'content_type'\n",
    "] \n",
    "post_stats = [\n",
    "    'followers',\n",
    "    'share',\n",
    "    'like',\n",
    "    'comment',\n",
    "    'engagement',\n",
    "    'reach',\n",
    "    'impression',\n",
    "    'engagement_rate'\n",
    "]\n",
    "labels = [\n",
    "    'delivery',\n",
    "    'customerservice',\n",
    "    'website&apps',\n",
    "    'payment',\n",
    "    'price'\n",
    "]\n",
    "used_col = post_detail+post_stats+labels"
   ]
  },
  {
   "cell_type": "code",
   "execution_count": 109,
   "metadata": {},
   "outputs": [],
   "source": [
    "df = df[used_col]"
   ]
  },
  {
   "attachments": {},
   "cell_type": "markdown",
   "metadata": {},
   "source": [
    "# Post Detail"
   ]
  },
  {
   "cell_type": "code",
   "execution_count": 110,
   "metadata": {},
   "outputs": [
    {
     "data": {
      "text/plain": [
       "'status     33145\n",
       "'comment      211\n",
       "'media        141\n",
       "'video         88\n",
       "'post          53\n",
       "Name: specific_type, dtype: int64"
      ]
     },
     "execution_count": 110,
     "metadata": {},
     "output_type": "execute_result"
    }
   ],
   "source": [
    "df['specific_type'].value_counts()"
   ]
  },
  {
   "cell_type": "code",
   "execution_count": 111,
   "metadata": {},
   "outputs": [
    {
     "data": {
      "text/plain": [
       "'talk         32809\n",
       "'post_made      829\n",
       "Name: post_type, dtype: int64"
      ]
     },
     "execution_count": 111,
     "metadata": {},
     "output_type": "execute_result"
    }
   ],
   "source": [
    "df['post_type'].value_counts()"
   ]
  },
  {
   "attachments": {},
   "cell_type": "markdown",
   "metadata": {},
   "source": [
    "only use talk post_type karena yang post_made hanya balasan dari admin sehingga kemungkinan besar tidak mengandung sentimen"
   ]
  },
  {
   "cell_type": "code",
   "execution_count": 112,
   "metadata": {},
   "outputs": [
    {
     "data": {
      "text/plain": [
       "12274    'https://t.co/4dZ26Dfuzb  IPHONE 11 PRO MAX 💞🕊🚦 256 GB SECOND FULLSET READY STOCK Bro Sist🔥👌 via tokped bro sist.. yuk cek link toko 🛒https://t.co/4dZ26Dfuzb  Ijin post min.. thanks admin #WTS 🥰 #...\n",
       "3188     '✨ Kecil Sepatu Kulit Wanita Tebal Bawah Tinggi Retro Bahasa Perancis Mary Jane Sepatu High Heels Jepan ✨  ⭐ : 4,0 Cek Promo : https://t.co/AzF4BPUeuh Gratis Ongkir : https://t.co/9OZUl4kGlH https...\n",
       "4911          '@suiswap_app Quite brilliant &amp; interesting project🔥 I really excited for this community is fast growing.  This has definitely huge potential as well🚀🚀 #Sui  @danawallet  @bukalapak  @ovo_id\n",
       "21658                                                               'We will provide an impartial judge. J _USE_OUNASS_CODE_NAMSHI_COUPON_NOON_DISCOUNT_SIVVI_PROMO own swirl still drif https://t.co/kxHSXjFrvS\n",
       "9676     'Coba cek ini, deh: \"Kurma Sukari 1 Kg Premium Timur Tengah Sukkari Original High Quality\" Rp78.500 di toko Timur Tengah Indonesia Tokopedia. Bisa bebas ongkir, lho. https://t.co/vf4SWNBqnZ https:...\n",
       "Name: content, dtype: object"
      ]
     },
     "execution_count": 112,
     "metadata": {},
     "output_type": "execute_result"
    }
   ],
   "source": [
    "df[df['post_type']==\"'talk\"]['content'].sample(5)"
   ]
  },
  {
   "cell_type": "code",
   "execution_count": 113,
   "metadata": {},
   "outputs": [
    {
     "data": {
      "text/plain": [
       "12947                                                                                                        '@applejunpie Baik kak, mohon kesediaanya menunggu balasan DM dari mimin ya kak. Terima kasih 🙏 ^XA\n",
       "4041     'Capek keluar rumah pas puasa mending belanja kebutuhan harian &amp; anak di LazMall Daily aja 🥰 Ada Gratis Ongkir s.d. 40 Ribu &amp; sat set 1 Hari Sampai dirumah, loh~ Yuk, belanja: https://t.co...\n",
       "12623    '@sefenism Hai kak, maaf ya buat bingung. Mengenai biaya pengiriman &amp; penggunaan voucher gratis ongkir. Aku infokan bahwa biaya ongkir di lht dari berat produk yg di beli ya Kak, dan pastikan ...\n",
       "13246    '@cottoncndyyyyyy Hi Kak, maaf ya buat kendala paket yang lama sampainya. Mimin infoin terkait pengiriman ditentukan oleh jarak penjual dan pembeli, serta layanan jasa kirim yang kamu pilih. Kakak...\n",
       "6136     'Gak takut kalo hari ini gloomy dan berawan 🥺 Ada senyum CSR yang kaya vitamin C, segar manis dan bikin semangat ☀️😎  #첫사랑 #CSR #MAEUM #마음 #girlgroup #mantulkorea #kpop #tbt #kpopindo #roiderois #...\n",
       "Name: content, dtype: object"
      ]
     },
     "execution_count": 113,
     "metadata": {},
     "output_type": "execute_result"
    }
   ],
   "source": [
    "df[df['post_type']==\"'post_made\"]['content'].sample(5)"
   ]
  },
  {
   "cell_type": "code",
   "execution_count": 114,
   "metadata": {},
   "outputs": [
    {
     "data": {
      "text/plain": [
       "'en     22419\n",
       "'in     10054\n",
       "'es       131\n",
       "'und      105\n",
       "'tl        83\n",
       "'pt        43\n",
       "'fr        27\n",
       "'qam       24\n",
       "'th        21\n",
       "'et        21\n",
       "'qme       19\n",
       "'ur        18\n",
       "'ko        18\n",
       "'tr        18\n",
       "'de        16\n",
       "'ht        14\n",
       "'ro        12\n",
       "'nl        10\n",
       "'it        10\n",
       "'pl        10\n",
       "'ca         8\n",
       "'fi         8\n",
       "'da         8\n",
       "'ja         8\n",
       "'lt         6\n",
       "'no         5\n",
       "'cs         5\n",
       "'hu         4\n",
       "'hi         4\n",
       "'ru         3\n",
       "'eu         3\n",
       "'cy         3\n",
       "'qht        3\n",
       "'ar         1\n",
       "'is         1\n",
       "'lv         1\n",
       "'ta         1\n",
       "Name: lang, dtype: int64"
      ]
     },
     "execution_count": 114,
     "metadata": {},
     "output_type": "execute_result"
    }
   ],
   "source": [
    "df['lang'].value_counts()"
   ]
  },
  {
   "cell_type": "code",
   "execution_count": 115,
   "metadata": {},
   "outputs": [
    {
     "data": {
      "text/plain": [
       "5868                   '@ijinsu82269151 @suiswap_app @bukalapak @tokopedia Live Chat siap bantu keluhan transaksi kamu: Buka app DANA, pilih History/Riwayat,  pilih transaksi yg mau dilaporin dan pilih CHAT.\n",
       "5844                          '@gaforse @suiswap_app @bukalapak @tokopedia Live Chat siap bantu keluhan transaksi kamu: Buka app DANA, pilih History/Riwayat,  pilih transaksi yg mau dilaporin dan pilih CHAT.\n",
       "1899                                                                                                                           '@kittenandmehere pake shopee/tokped belum bisa kak admnya gede kalo tf/cod bisa\n",
       "3382                                                            'Saya menjual flower wrist/corsage ... seharga Rp20.000. Dapatkan di Shopee sekarang! https://t.co/XHYPXjtJ7C #ShopeeID https://t.co/HhluWcXQFk\n",
       "5014                 '@saltJoJo1011 @datamallcoin @tokopedia @PowerHasheur Live Chat siap bantu keluhan transaksi kamu: Buka app DANA, pilih History/Riwayat,  pilih transaksi yg mau dilaporin dan pilih CHAT.\n",
       "5923    'WOW! Kamu terpilih dapatin voucher belanja Cashback langsung Rp50.000, gunakan untuk belanja di Ramadan in Style! Sebarkan ke 5 temanmu dan dapatkan voucher belanjanya!  https://t.co/WSuVwODLJk #...\n",
       "3861                   '@gnwooo @suiswap_app @SuiMo_NFT @bukalapak @ovo_id Live Chat siap bantu keluhan transaksi kamu: Buka app DANA, pilih History/Riwayat,  pilih transaksi yg mau dilaporin dan pilih CHAT.\n",
       "5387               '@pietatuffahaty3 @suiswap_app @tokopedia @mindblownnft Live Chat siap bantu keluhan transaksi kamu: Buka app DANA, pilih History/Riwayat,  pilih transaksi yg mau dilaporin dan pilih CHAT.\n",
       "9703                                                                               'Sennheiser CX Plus dianggap TWS berkemampuan melebihi harganya.  https://t.co/yNyLGDQ68l Baterai tahan 24 jam True response\n",
       "9058                                                                      'ini lucu banget hampers lebaran, kue mini dapet 11 biji, murah lagi, lumayan krna g ribet jga bawanya xoxoxo https://t.co/xYWWzt6ZAw\n",
       "Name: content, dtype: object"
      ]
     },
     "execution_count": 115,
     "metadata": {},
     "output_type": "execute_result"
    }
   ],
   "source": [
    "df[df['lang']==\"'in\"]['content'].sample(10)"
   ]
  },
  {
   "cell_type": "code",
   "execution_count": 116,
   "metadata": {},
   "outputs": [
    {
     "data": {
      "text/plain": [
       "'talk         32809\n",
       "'post_made      829\n",
       "Name: post_type, dtype: int64"
      ]
     },
     "execution_count": 116,
     "metadata": {},
     "output_type": "execute_result"
    }
   ],
   "source": [
    "df['post_type'].value_counts()"
   ]
  },
  {
   "cell_type": "code",
   "execution_count": 117,
   "metadata": {},
   "outputs": [
    {
     "data": {
      "text/plain": [
       "'image     24196\n",
       "'text       8607\n",
       "'video       832\n",
       "'others        3\n",
       "Name: content_type, dtype: int64"
      ]
     },
     "execution_count": 117,
     "metadata": {},
     "output_type": "execute_result"
    }
   ],
   "source": [
    "df['content_type'].value_counts()"
   ]
  },
  {
   "cell_type": "code",
   "execution_count": 118,
   "metadata": {},
   "outputs": [
    {
     "data": {
      "text/plain": [
       "6531                    '@ijinsu82269151 @suiswap_app @bukalapak @tokopedia Live Chat siap bantu keluhan transaksi kamu: Buka app DANA, pilih History/Riwayat,  pilih transaksi yg mau dilaporin dan pilih CHAT.\n",
       "13619                                                                                'Bu qadın hardadı? albomu ortaya atıb toz oldu də ciddən, komandası da keçən ildən qalma promo videoların paylaşırlar ancaq\n",
       "6068                                                                                'Random photocard ofc .. Yg mau bisa langsung Co gais👇👇👍👍 Aku jual murah aja buat abisin pc\" aku 🙏🙏  https://t.co/t2VOEyaJi4\n",
       "6181                                                                                                  '@Metavers_space_ @DataBlazeGame @Agus_4217 @beerbahagialah @mak3lar @danawallet @tokopedia  Good projects\n",
       "1164                       '@asadujamn12 @suiswap_app @bukalapak @tokopedia Live Chat siap bantu keluhan transaksi kamu: Buka app DANA, pilih History/Riwayat,  pilih transaksi yg mau dilaporin dan pilih CHAT.\n",
       "12696    '@hiyothisismee utk itu mohon menunggu selama 1-2 hari kerja hingga status pengiriman pesanan kamu diperbarui oleh pihak jasa kirim. lengkapnya cek dilink https://t.co/9q5zFbUQAT ya. utk pengeceka...\n",
       "5884     '@bukalapak Hallo min saya, melakukan pembelian listrik melalui bukalapak, transfer sudah berhasil tapi pembelian masih dengan status menunggu pembayaran, pembayaran sudah dilakukan sejak pukul 08...\n",
       "638      '@Web3_Protocol @PETAinft Very brilliant &amp; interesting project. I really excited for this  airdrop Its community is fast growing. This has definitely huge potential as well. And i hope this pr...\n",
       "6283     'Min @tokopedia @TokopediaCare kapan sistem \"2 kurir dalam 1 kiriman\" di hapus? (Contohnya yang pickup sicepat, jne meneruskan), lamaaaa min, padahal mening kaya dulu anteraja/sicepat aja/jne aja ...\n",
       "14386                                                                                                                                   '@UNYmfs tokped uda ga nyediain fitur itu. kl mau bayar lgsg ke rektorat\n",
       "Name: content, dtype: object"
      ]
     },
     "execution_count": 118,
     "metadata": {},
     "output_type": "execute_result"
    }
   ],
   "source": [
    "df[df['content_type']==\"'text\"]['content'].sample(10)"
   ]
  },
  {
   "cell_type": "code",
   "execution_count": 126,
   "metadata": {},
   "outputs": [
    {
     "data": {
      "text/plain": [
       "30164    'Be. Focus field, but exalts those with wealth, power. use this _bath_and_body_onass_NOON_promo_NON_TOYOU_To_you_COUPON_SIVVI_NAMSHI_CODE_OUNAS_discount_OUNASS Clearly and sceptic. I am and what t...\n",
       "18452    'This world, am master of use this _bath_and_body_onass_NOON_promo_NON_TOYOU_To_you_COUPON_SIVVI_NAMSHI_CODE_OUNAS_discount_OUNASS Make predictions coordinate; truth lives in the present as merely...\n",
       "21472                                                         'd his head and writhed his face in _USE_OUNAS_CODE_ONASS_COUPON_TOYOU_NOON_DISCOUNT_ONAS_FORDEAL_PROMO ctor's arrival, wa https://t.co/drji1F1wCm\n",
       "32399                                                                                                    '//wad promo  THEYRE CRYING NOOO PLEASE PLEASE RAINE ITS OKAY BABE ILL SAVE YOU https://t.co/u49w2DqfXL\n",
       "24325                                                       'ith sticking-plaster and that one large pad of it  _Promo_Voucher_Iherb_Coupon_Code_Vitamin_Protein_S_ hyself after the wha https://t.co/aPlm6Iuz5D\n",
       "25527                                                               'passion; nevertheless it may have bee _USE_OUNASS_CODE_NAMSHI_COUPON_NOON_DISCOUNT_SIVVI_PROMO shed partly as a sit https://t.co/V6cYurRCXy\n",
       "22305                                                        'Mr. Holmes. No doubt you are right. But surely no _Promo_Voucher_Iherb_Coupon_Code_Vitamin_Protein_S_  published in Wappin https://t.co/BRpnUbEcwI\n",
       "32070                                                       'llecting pillows from his bed and cushions from th _Promo_Voucher_Iherb_Coupon_Code_Vitamin_Protein_S_  number. As the boys https://t.co/Gdv9jcdOhm\n",
       "13311    'The Brand New OLD SCHOOL CRUISE 2.0 is ON SALE NOW! Setting sail May 3-6th 2024 with a MASSIVE lineup! Reserve your cabin NOW for only $50 down. Go to https://t.co/2Ztblf58IU or call 888-639-8880...\n",
       "32033                                                       'Sherlock Holmes\" said my companion. \"Possibly it i _Promo_Voucher_Iherb_Coupon_Code_Vitamin_Protein_S_ easonable surmise, w https://t.co/xmzB8gGzXC\n",
       "Name: content, dtype: object"
      ]
     },
     "execution_count": 126,
     "metadata": {},
     "output_type": "execute_result"
    }
   ],
   "source": [
    "df[df['content_type']==\"'image\"]['content'].sample(10)"
   ]
  },
  {
   "cell_type": "code",
   "execution_count": 127,
   "metadata": {},
   "outputs": [],
   "source": [
    "#preprocess\n",
    "clean_df = df[(df['post_type']==\"'talk\")& #karena yg post\n",
    "                    (df['lang']==\"'in\")&\n",
    "                    (df['content_type']==\"'text\")\n",
    "                    ]"
   ]
  },
  {
   "cell_type": "code",
   "execution_count": 128,
   "metadata": {},
   "outputs": [
    {
     "data": {
      "text/plain": [
       "(4872, 22)"
      ]
     },
     "execution_count": 128,
     "metadata": {},
     "output_type": "execute_result"
    }
   ],
   "source": [
    "clean_df.shape"
   ]
  },
  {
   "cell_type": "code",
   "execution_count": 129,
   "metadata": {},
   "outputs": [
    {
     "data": {
      "text/plain": [
       "7344                                                            'Saya telah mengirimkan #ShopeePayTHR 🧧. Ayo, ambil di sini sebelum habis 👉👉 https://t.co/vaeCD3F5yp #TransferPakaiShopeePay #GratisTanpaBatas p\n",
       "10670    'WOW! Kamu terpilih dapatin voucher belanja Cashback langsung Rp50.000, gunakan untuk belanja di Ramadan in Style! Sebarkan ke 5 temanmu dan dapatkan voucher belanjanya!  https://t.co/suQy0xPpKM #...\n",
       "8478                  '@MohdRashid302 @GloryFinanceio @bukalapak @tokopedia Live Chat siap bantu keluhan transaksi kamu: Buka app DANA, pilih History/Riwayat,  pilih transaksi yg mau dilaporin dan pilih CHAT.\n",
       "13118                                                            'Ade ipar ngajarin kalo belanja di tiktok shop harganya lebih murah dari di shopee atau tokped. Hmm apakah udh saatnya ku punya akun tiktok?? 🤔\n",
       "7606                   'SPESIAL dari FOOD MARKET: Ada Voucher Cashback S/D 30RB buat kamu! 👌🏻✨   Gabung grup Shopee-ku sekarang sekarang juga dan ajak temanmu!. Langsung klik di sini 👉 https://t.co/r4Ir1AINGb\n",
       "4204                     '@armankhanff2005 @beampadco @bukalapak @tokopedia Live Chat siap bantu keluhan transaksi kamu: Buka app DANA, pilih History/Riwayat,  pilih transaksi yg mau dilaporin dan pilih CHAT.\n",
       "569                  '@UdemeA611 @suiswap_app @SuiMo_NFT @bukalapak @ovo_id Live Chat siap bantu keluhan transaksi kamu: Buka app DANA, pilih History/Riwayat,  pilih transaksi yg mau dilaporin dan pilih CHAT.\n",
       "11884                      'open juga gestun  🦕 spaylater  🦕 kredivo  🦕 creditcard  🦕 traveloka vn 🦕 BRI ceria 🦕 indodana dll   via tokped atau token pln 🐝✨  https://t.co/DiVkQVr2Ew  #zonauang #zonaba #zonabu\n",
       "6519             '@MohdRashid302 @Kwan_DAO0 @HorseaFi @bukalapak @tokopedia Live Chat siap bantu keluhan transaksi kamu: Buka app DANA, pilih History/Riwayat,  pilih transaksi yg mau dilaporin dan pilih CHAT.\n",
       "5588                      '@LucienLeThug @suiswap_app @bukalapak @tokopedia Live Chat siap bantu keluhan transaksi kamu: Buka app DANA, pilih History/Riwayat,  pilih transaksi yg mau dilaporin dan pilih CHAT.\n",
       "Name: content, dtype: object"
      ]
     },
     "execution_count": 129,
     "metadata": {},
     "output_type": "execute_result"
    }
   ],
   "source": [
    "clean_df['content'].sample(10)"
   ]
  },
  {
   "attachments": {},
   "cell_type": "markdown",
   "metadata": {},
   "source": [
    "# Label"
   ]
  },
  {
   "cell_type": "code",
   "execution_count": 130,
   "metadata": {},
   "outputs": [
    {
     "data": {
      "text/plain": [
       "delivery           84.236453\n",
       "customerservice    85.857964\n",
       "website&apps       94.622332\n",
       "payment            48.932677\n",
       "price              70.689655\n",
       "dtype: float64"
      ]
     },
     "execution_count": 130,
     "metadata": {},
     "output_type": "execute_result"
    }
   ],
   "source": [
    "clean_df[labels].isnull().sum()/clean_df.shape[0]*100"
   ]
  },
  {
   "cell_type": "code",
   "execution_count": 131,
   "metadata": {},
   "outputs": [
    {
     "data": {
      "text/plain": [
       "delivery            768\n",
       "customerservice     689\n",
       "website&apps        262\n",
       "payment            2488\n",
       "price              1428\n",
       "dtype: int64"
      ]
     },
     "execution_count": 131,
     "metadata": {},
     "output_type": "execute_result"
    }
   ],
   "source": [
    "clean_df.shape[0] - clean_df[labels].isnull().sum()"
   ]
  },
  {
   "cell_type": "code",
   "execution_count": 133,
   "metadata": {},
   "outputs": [
    {
     "data": {
      "text/plain": [
       "108                                                                    'Dapatkan Rumah Impian anda dengan mengunjungi website kami https://t.co/uQ6MC6STg0 atau user OLX kami https://t.co/UoDLWJxm5O #JualRumah\n",
       "113      'Masker Spirulina, SOLUSI tepat untuk km yang punya kendala kulit kusam, jerawat, flek, komedo, dll. INFO invite PIN 752110c8/Sms 089666535630, info lengkap cek disini https://t.co/YVFu6tIYgH via ...\n",
       "115      'Masker Spirulina, SOLUSI tepat untuk km yang punya kendala kulit kusam, jerawat, flek, komedo, dll. INFO invite PIN 752110c8/Sms 089666535630, info lengkap cek disini https://t.co/YVFu6tIYgH via ...\n",
       "119                                                                    'Dapatkan Rumah Impian anda dengan mengunjungi website kami https://t.co/uQ6MC6STg0 atau user OLX kami https://t.co/UoDLWJxm5O #JualRumah\n",
       "121      'Masker Spirulina, SOLUSI tepat untuk km yang punya kendala kulit kusam, jerawat, flek, komedo, dll. INFO invite PIN 752110c8/Sms 089666535630, info lengkap cek disini https://t.co/YVFu6tIYgH via ...\n",
       "                                                                                                          ...                                                                                                   \n",
       "14961          'asliiiiiiiiik. banyak bgt aplikasinya. MRT tije trafi travi korlantas jaklingko krl KA bandara samsat bmkg jkn mpaspor kai access padahal bisa satu apps doang ky tokped https://t.co/hEsfzAlkb1\n",
       "15040                                                             'Kenapa eror semua apk Marketplace ku sih 😭😭 tokped gangguan apa gimana? Syopi juga kirim duit malah pending, ya Allah hari ini kenapa siiiiii\n",
       "15044                                   '@TokopediaCare Atau emang konsep nya sama semua ya tokopedia care itu? Mau di instagram, twitter, email, bahkan di aplikasi tokped.  Semua nya buruk bgt pelayanan nya.\n",
       "15221    '@IndiHomeCare Udh via lazada, tokped, my indihome dan shopee semua gagal dgn keterangan provider out of service Trus skrg malah jaringannya di isolir, lucu bat dah Yg gangguan siapa yg dirugiin s...\n",
       "15241    '@xxxixcix @worksfess Kamu log in ke akun DJP kamu, abis itu pilih Menu BAYAR, pilih e-Billing, terus kamu input datanya Pilih Jenis Pajak PPH 21, Jenis Setoran Masa, Masa Pajak 01 - 12, Tahun paj...\n",
       "Name: content, Length: 262, dtype: object"
      ]
     },
     "execution_count": 133,
     "metadata": {},
     "output_type": "execute_result"
    }
   ],
   "source": [
    "clean_df[~clean_df['website&apps'].isnull()]['content']"
   ]
  },
  {
   "cell_type": "code",
   "execution_count": 134,
   "metadata": {},
   "outputs": [],
   "source": [
    "clean_df.to_csv('clean_df.csv', index=False)"
   ]
  },
  {
   "cell_type": "code",
   "execution_count": null,
   "metadata": {},
   "outputs": [],
   "source": []
  }
 ],
 "metadata": {
  "kernelspec": {
   "display_name": "base",
   "language": "python",
   "name": "python3"
  },
  "language_info": {
   "codemirror_mode": {
    "name": "ipython",
    "version": 3
   },
   "file_extension": ".py",
   "mimetype": "text/x-python",
   "name": "python",
   "nbconvert_exporter": "python",
   "pygments_lexer": "ipython3",
   "version": "3.9.7"
  },
  "orig_nbformat": 4
 },
 "nbformat": 4,
 "nbformat_minor": 2
}
