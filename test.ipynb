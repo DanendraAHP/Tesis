{
 "cells": [
  {
   "cell_type": "code",
   "execution_count": 51,
   "metadata": {},
   "outputs": [],
   "source": [
    "def tebakCangkir(N, T, P, posisi):\n",
    "    arr_posisi = [0 for i in range(N)]\n",
    "    arr_posisi[P] = 1\n",
    "    for i in range(T):\n",
    "        pos_awal = posisi[i][0]\n",
    "        pos_akhir = posisi[i][1]\n",
    "        #mundur\n",
    "        new_posisi = arr_posisi[:pos_awal]+[arr_posisi[pos_awal]]+arr_posisi[pos_akhir:]\n",
    "        arr_posisi = new_posisi\n",
    "        print(arr_posisi)"
   ]
  },
  {
   "cell_type": "code",
   "execution_count": 70,
   "metadata": {},
   "outputs": [
    {
     "name": "stdout",
     "output_type": "stream",
     "text": [
      "[0, 0, 1, 0, 0]\n",
      "[0, 0]\n"
     ]
    }
   ],
   "source": [
    "#mundur\n",
    "N = 5\n",
    "T = 6\n",
    "P = 3\n",
    "pos_awal = 4-1\n",
    "pos_akhir = 1-1\n",
    "arr_posisi = [0 for i in range(N)]\n",
    "arr_posisi[P-1] = 1\n",
    "print(arr_posisi)\n",
    "#ambil awal\n",
    "awal_pos = arr_posisi[:pos_akhir+1]\n",
    "#ambil akhir\n",
    "akhir_pos = arr_posisi[pos_awal:]\n",
    "arr_posisi = awal_pos + [arr_posisi[pos_awal]] + akhir_pos\n",
    "print(akhir_pos)"
   ]
  },
  {
   "cell_type": "code",
   "execution_count": 52,
   "metadata": {},
   "outputs": [
    {
     "name": "stdout",
     "output_type": "stream",
     "text": [
      "[0, 0, 0, 1, 0, 0, 0, 1, 0]\n",
      "[0, 0, 0, 1, 0, 0, 1, 0]\n",
      "[0, 0, 0, 0, 0, 1, 0, 0, 1, 0]\n",
      "[0, 0, 0, 0, 0, 0, 0, 0, 0, 1, 0, 0, 1, 0]\n",
      "[0, 0, 0, 0, 0, 0, 0, 0, 0, 1, 0, 0, 1, 0]\n",
      "[0, 0, 0, 0, 0, 0, 0, 0, 1, 0, 0, 1, 0]\n"
     ]
    }
   ],
   "source": [
    "N = 5\n",
    "T = 6\n",
    "P = 3\n",
    "posisi = [[4,1], [3,5], [2,1], [4,1], [2,3], [1,3]]\n",
    "tebakCangkir(N, T, P, posisi)"
   ]
  },
  {
   "cell_type": "code",
   "execution_count": 3,
   "metadata": {},
   "outputs": [],
   "source": [
    "def isPalindrome(kata):\n",
    "    # Run loop from 0 to len/2\n",
    "    for i in range(0, int(len(kata)/2)):\n",
    "        if kata[i] != kata[len(kata)-i-1]:\n",
    "            return False\n",
    "    return True\n",
    "def allPalindrom(kalimat):\n",
    "    longestPalindromes = \"\"\n",
    "    lenLongestPalindrome = 0\n",
    "    for i in range(len(kalimat)):\n",
    "        for j in range(i+1, len(kalimat)+1):\n",
    "            #print(kalimat[i:j])\n",
    "            if isPalindrome(kalimat[i:j]):\n",
    "                if lenLongestPalindrome<len(kalimat[i:j]):\n",
    "                    longestPalindromes = kalimat[i:j]\n",
    "                    lenLongestPalindrome=len(kalimat[i:j])\n",
    "                elif lenLongestPalindrome==len(kalimat[i:j]):\n",
    "                    longestPalindromes += f\" {kalimat[i:j]}\"\n",
    "                    lenLongestPalindrome = len(kalimat[i:j])\n",
    "    print(longestPalindromes)"
   ]
  },
  {
   "cell_type": "code",
   "execution_count": 40,
   "metadata": {},
   "outputs": [],
   "source": [
    "def allPalindrom(kalimat):\n",
    "    longestPalindromes = \"\"\n",
    "    lenLongestPalindrome = 0\n",
    "    for i in range(len(kalimat)):\n",
    "        for j in range(i+1, len(kalimat)+1):\n",
    "            #print(kalimat[i:j])\n",
    "            if isPalindrome(kalimat[i:j]):\n",
    "                if lenLongestPalindrome<len(kalimat[i:j]):\n",
    "                    longestPalindromes = kalimat[i:j]\n",
    "                    lenLongestPalindrome=len(kalimat[i:j])\n",
    "                elif lenLongestPalindrome==len(kalimat[i:j]):\n",
    "                    longestPalindromes += f\" {kalimat[i:j]}\"\n",
    "                    lenLongestPalindrome = len(kalimat[i:j])\n",
    "    print(longestPalindromes)\n",
    "    #print(\" \".join(longestPalindromes))"
   ]
  },
  {
   "cell_type": "code",
   "execution_count": 46,
   "metadata": {},
   "outputs": [
    {
     "name": "stdout",
     "output_type": "stream",
     "text": [
      "ada apa\n"
     ]
    }
   ],
   "source": [
    "allPalindrom('adaapadengancinta')"
   ]
  },
  {
   "cell_type": "code",
   "execution_count": 47,
   "metadata": {},
   "outputs": [],
   "source": [
    "import collections\n",
    "def longestPalindrome(s):\n",
    "    ans = 0\n",
    "    for v in collections.Counter(s).itervalues():\n",
    "        ans += v / 2 * 2\n",
    "        if ans % 2 == 0 and v % 2 == 1:\n",
    "            ans += 1\n",
    "    return ans"
   ]
  },
  {
   "cell_type": "code",
   "execution_count": 48,
   "metadata": {},
   "outputs": [
    {
     "ename": "AttributeError",
     "evalue": "'Counter' object has no attribute 'itervalues'",
     "output_type": "error",
     "traceback": [
      "\u001b[1;31m---------------------------------------------------------------------------\u001b[0m",
      "\u001b[1;31mAttributeError\u001b[0m                            Traceback (most recent call last)",
      "\u001b[1;32m~\\AppData\\Local\\Temp/ipykernel_20924/2011430700.py\u001b[0m in \u001b[0;36m<module>\u001b[1;34m\u001b[0m\n\u001b[1;32m----> 1\u001b[1;33m \u001b[0mlongestPalindrome\u001b[0m\u001b[1;33m(\u001b[0m\u001b[1;34m'adaapadengancinta'\u001b[0m\u001b[1;33m)\u001b[0m\u001b[1;33m\u001b[0m\u001b[1;33m\u001b[0m\u001b[0m\n\u001b[0m",
      "\u001b[1;32m~\\AppData\\Local\\Temp/ipykernel_20924/1472966847.py\u001b[0m in \u001b[0;36mlongestPalindrome\u001b[1;34m(s)\u001b[0m\n\u001b[0;32m      2\u001b[0m \u001b[1;32mdef\u001b[0m \u001b[0mlongestPalindrome\u001b[0m\u001b[1;33m(\u001b[0m\u001b[0ms\u001b[0m\u001b[1;33m)\u001b[0m\u001b[1;33m:\u001b[0m\u001b[1;33m\u001b[0m\u001b[1;33m\u001b[0m\u001b[0m\n\u001b[0;32m      3\u001b[0m     \u001b[0mans\u001b[0m \u001b[1;33m=\u001b[0m \u001b[1;36m0\u001b[0m\u001b[1;33m\u001b[0m\u001b[1;33m\u001b[0m\u001b[0m\n\u001b[1;32m----> 4\u001b[1;33m     \u001b[1;32mfor\u001b[0m \u001b[0mv\u001b[0m \u001b[1;32min\u001b[0m \u001b[0mcollections\u001b[0m\u001b[1;33m.\u001b[0m\u001b[0mCounter\u001b[0m\u001b[1;33m(\u001b[0m\u001b[0ms\u001b[0m\u001b[1;33m)\u001b[0m\u001b[1;33m.\u001b[0m\u001b[0mitervalues\u001b[0m\u001b[1;33m(\u001b[0m\u001b[1;33m)\u001b[0m\u001b[1;33m:\u001b[0m\u001b[1;33m\u001b[0m\u001b[1;33m\u001b[0m\u001b[0m\n\u001b[0m\u001b[0;32m      5\u001b[0m         \u001b[0mans\u001b[0m \u001b[1;33m+=\u001b[0m \u001b[0mv\u001b[0m \u001b[1;33m/\u001b[0m \u001b[1;36m2\u001b[0m \u001b[1;33m*\u001b[0m \u001b[1;36m2\u001b[0m\u001b[1;33m\u001b[0m\u001b[1;33m\u001b[0m\u001b[0m\n\u001b[0;32m      6\u001b[0m         \u001b[1;32mif\u001b[0m \u001b[0mans\u001b[0m \u001b[1;33m%\u001b[0m \u001b[1;36m2\u001b[0m \u001b[1;33m==\u001b[0m \u001b[1;36m0\u001b[0m \u001b[1;32mand\u001b[0m \u001b[0mv\u001b[0m \u001b[1;33m%\u001b[0m \u001b[1;36m2\u001b[0m \u001b[1;33m==\u001b[0m \u001b[1;36m1\u001b[0m\u001b[1;33m:\u001b[0m\u001b[1;33m\u001b[0m\u001b[1;33m\u001b[0m\u001b[0m\n",
      "\u001b[1;31mAttributeError\u001b[0m: 'Counter' object has no attribute 'itervalues'"
     ]
    }
   ],
   "source": [
    "longestPalindrome('adaapadengancinta')"
   ]
  },
  {
   "cell_type": "code",
   "execution_count": null,
   "metadata": {},
   "outputs": [],
   "source": []
  }
 ],
 "metadata": {
  "kernelspec": {
   "display_name": "base",
   "language": "python",
   "name": "python3"
  },
  "language_info": {
   "codemirror_mode": {
    "name": "ipython",
    "version": 3
   },
   "file_extension": ".py",
   "mimetype": "text/x-python",
   "name": "python",
   "nbconvert_exporter": "python",
   "pygments_lexer": "ipython3",
   "version": "3.9.7"
  },
  "orig_nbformat": 4,
  "vscode": {
   "interpreter": {
    "hash": "4179a95aa5b49abc81a1f9774c9389b2d4eba524b70fc2f22d886502bea2eb9d"
   }
  }
 },
 "nbformat": 4,
 "nbformat_minor": 2
}
