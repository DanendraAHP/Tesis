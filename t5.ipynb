{
 "cells": [
  {
   "cell_type": "code",
   "execution_count": 1,
   "metadata": {},
   "outputs": [
    {
     "name": "stderr",
     "output_type": "stream",
     "text": [
      "c:\\Users\\danendra\\anaconda3\\envs\\tesis\\lib\\site-packages\\tqdm\\auto.py:21: TqdmWarning: IProgress not found. Please update jupyter and ipywidgets. See https://ipywidgets.readthedocs.io/en/stable/user_install.html\n",
      "  from .autonotebook import tqdm as notebook_tqdm\n"
     ]
    }
   ],
   "source": [
    "import tensorflow as tf\n",
    "from transformers import AutoTokenizer\n",
    "import pandas as pd\n",
    "import re\n",
    "import evaluate\n",
    "from sklearn.model_selection import train_test_split\n",
    "from transformers import T5ForConditionalGeneration\n",
    "from tqdm import tqdm\n",
    "from datasets import load_dataset\n",
    "from transformers import TrainingArguments\n",
    "from transformers import Trainer\n",
    "from transformers import DataCollatorForSeq2Seq\n",
    "import numpy as np\n",
    "from transformers import TFT5ForConditionalGeneration"
   ]
  },
  {
   "attachments": {},
   "cell_type": "markdown",
   "metadata": {},
   "source": [
    "# Load Model and Tokenizer"
   ]
  },
  {
   "cell_type": "code",
   "execution_count": 8,
   "metadata": {},
   "outputs": [],
   "source": [
    "# Set up the T5 tokenizer\n",
    "tokenizer = AutoTokenizer.from_pretrained(\"Wikidepia/IndoT5-base\")\n",
    "\n",
    "# Load the pre-trained T5 model yang sudah di fine tune sebelumnya\n",
    "#jadi lanjutin training ini ceritanya\n",
    "save_path = 'test-trainer'\n",
    "model = T5ForConditionalGeneration.from_pretrained(save_path)\n",
    "\n",
    "#ini kalau mau train dari pre-trained awal\n",
    "#model = T5ForConditionalGeneration.from_pretrained(\"Wikidepia/IndoT5-base\")"
   ]
  },
  {
   "attachments": {},
   "cell_type": "markdown",
   "metadata": {},
   "source": [
    "# Data"
   ]
  },
  {
   "cell_type": "code",
   "execution_count": 27,
   "metadata": {},
   "outputs": [],
   "source": [
    "max_length = 128\n",
    "\n",
    "def preprocess_function(examples):\n",
    "    inputs = examples['clean_tweet']\n",
    "    targets =examples[\"quadruplet\"] \n",
    "    model_inputs = tokenizer(\n",
    "        inputs, text_target=targets, max_length=max_length, truncation=True\n",
    "    )\n",
    "    return model_inputs"
   ]
  },
  {
   "cell_type": "code",
   "execution_count": 28,
   "metadata": {},
   "outputs": [
    {
     "name": "stdout",
     "output_type": "stream",
     "text": [
      "Downloading and preparing dataset csv/default to C:/Users/danendra/.cache/huggingface/datasets/csv/default-15ee197e989a3da1/0.0.0/6954658bab30a358235fa864b05cf819af0e179325c740e4bc853bcc7ec513e1...\n"
     ]
    },
    {
     "name": "stderr",
     "output_type": "stream",
     "text": [
      "Downloading data files: 100%|██████████| 1/1 [00:00<?, ?it/s]\n",
      "Extracting data files: 100%|██████████| 1/1 [00:00<00:00, 133.23it/s]\n",
      "                                                        \r"
     ]
    },
    {
     "name": "stdout",
     "output_type": "stream",
     "text": [
      "Dataset csv downloaded and prepared to C:/Users/danendra/.cache/huggingface/datasets/csv/default-15ee197e989a3da1/0.0.0/6954658bab30a358235fa864b05cf819af0e179325c740e4bc853bcc7ec513e1. Subsequent calls will reuse this data.\n"
     ]
    },
    {
     "name": "stderr",
     "output_type": "stream",
     "text": [
      "                                                  \r"
     ]
    }
   ],
   "source": [
    "raw_dataset = load_dataset('csv', data_files='data/quadruplet_only.csv', split='train')\n",
    "splitted_dataset = raw_dataset.train_test_split(test_size=0.1, seed=42)\n",
    "preprocessed_dataset = splitted_dataset.map(\n",
    "    preprocess_function,\n",
    "    batched=True,\n",
    "    remove_columns=raw_dataset.column_names,\n",
    "    load_from_cache_file=False\n",
    ")"
   ]
  },
  {
   "cell_type": "code",
   "execution_count": 41,
   "metadata": {},
   "outputs": [
    {
     "data": {
      "text/plain": [
       "Dataset({\n",
       "    features: ['original_id', 'original_tweet', 'clean_tweet', 'nolimit_sentiment', 'nolimit_aspect_categories', 'quadruplet', 'annotated_spam', 'model_spam'],\n",
       "    num_rows: 39\n",
       "})"
      ]
     },
     "execution_count": 41,
     "metadata": {},
     "output_type": "execute_result"
    }
   ],
   "source": [
    "raw_dataset"
   ]
  },
  {
   "cell_type": "code",
   "execution_count": 9,
   "metadata": {},
   "outputs": [],
   "source": [
    "data_collator = DataCollatorForSeq2Seq(tokenizer, model=model)"
   ]
  },
  {
   "attachments": {},
   "cell_type": "markdown",
   "metadata": {},
   "source": [
    "# Train Model"
   ]
  },
  {
   "cell_type": "code",
   "execution_count": 10,
   "metadata": {},
   "outputs": [],
   "source": [
    "training_args = TrainingArguments(\n",
    "    save_path,\n",
    "    evaluation_strategy=\"epoch\",\n",
    "    save_strategy=\"epoch\",\n",
    "    learning_rate=2e-5,\n",
    "    weight_decay=0.01,\n",
    "    resume_from_checkpoint=True,\n",
    "    num_train_epochs=100,\n",
    "    save_total_limit=2,\n",
    ")"
   ]
  },
  {
   "cell_type": "code",
   "execution_count": 11,
   "metadata": {},
   "outputs": [],
   "source": [
    "trainer = Trainer(\n",
    "    model,\n",
    "    training_args,\n",
    "    train_dataset=preprocessed_dataset[\"train\"],\n",
    "    eval_dataset=preprocessed_dataset[\"test\"],\n",
    "    data_collator=data_collator,\n",
    "    tokenizer=tokenizer,\n",
    ")"
   ]
  },
  {
   "cell_type": "code",
   "execution_count": 12,
   "metadata": {},
   "outputs": [
    {
     "name": "stderr",
     "output_type": "stream",
     "text": [
      "c:\\Users\\danendra\\anaconda3\\envs\\tesis\\lib\\site-packages\\transformers\\optimization.py:391: FutureWarning: This implementation of AdamW is deprecated and will be removed in a future version. Use the PyTorch implementation torch.optim.AdamW instead, or set `no_deprecation_warning=True` to disable this warning\n",
      "  warnings.warn(\n",
      "  0%|          | 0/4400 [00:00<?, ?it/s]You're using a T5TokenizerFast tokenizer. Please note that with a fast tokenizer, using the `__call__` method is faster than using a method to encode the text followed by a call to the `pad` method to get a padded encoding.\n",
      "                                                  \n",
      "  1%|          | 44/4400 [00:10<12:36,  5.76it/s]"
     ]
    },
    {
     "name": "stdout",
     "output_type": "stream",
     "text": [
      "{'eval_loss': 0.7464883923530579, 'eval_runtime': 0.2058, 'eval_samples_per_second': 189.459, 'eval_steps_per_second': 24.29, 'epoch': 1.0}\n"
     ]
    },
    {
     "name": "stderr",
     "output_type": "stream",
     "text": [
      "                                                   \n",
      "  2%|▏         | 88/4400 [00:42<14:29,  4.96it/s]"
     ]
    },
    {
     "name": "stdout",
     "output_type": "stream",
     "text": [
      "{'eval_loss': 0.7376183867454529, 'eval_runtime': 0.2084, 'eval_samples_per_second': 187.178, 'eval_steps_per_second': 23.997, 'epoch': 2.0}\n"
     ]
    },
    {
     "name": "stderr",
     "output_type": "stream",
     "text": [
      "                                                   \n",
      "  3%|▎         | 132/4400 [01:15<12:33,  5.67it/s]"
     ]
    },
    {
     "name": "stdout",
     "output_type": "stream",
     "text": [
      "{'eval_loss': 0.7670615911483765, 'eval_runtime': 0.2084, 'eval_samples_per_second': 187.175, 'eval_steps_per_second': 23.997, 'epoch': 3.0}\n"
     ]
    },
    {
     "name": "stderr",
     "output_type": "stream",
     "text": [
      "                                                    \n",
      "  4%|▍         | 176/4400 [01:51<13:08,  5.36it/s]"
     ]
    },
    {
     "name": "stdout",
     "output_type": "stream",
     "text": [
      "{'eval_loss': 0.769111692905426, 'eval_runtime': 0.2199, 'eval_samples_per_second': 177.327, 'eval_steps_per_second': 22.734, 'epoch': 4.0}\n"
     ]
    },
    {
     "name": "stderr",
     "output_type": "stream",
     "text": [
      "                                                    \n",
      "  5%|▌         | 220/4400 [02:25<12:26,  5.60it/s]"
     ]
    },
    {
     "name": "stdout",
     "output_type": "stream",
     "text": [
      "{'eval_loss': 0.7938768267631531, 'eval_runtime': 0.2035, 'eval_samples_per_second': 191.647, 'eval_steps_per_second': 24.57, 'epoch': 5.0}\n"
     ]
    },
    {
     "name": "stderr",
     "output_type": "stream",
     "text": [
      "                                                    \n",
      "  6%|▌         | 264/4400 [02:58<12:19,  5.60it/s]"
     ]
    },
    {
     "name": "stdout",
     "output_type": "stream",
     "text": [
      "{'eval_loss': 0.7979304194450378, 'eval_runtime': 0.203, 'eval_samples_per_second': 192.097, 'eval_steps_per_second': 24.628, 'epoch': 6.0}\n"
     ]
    },
    {
     "name": "stderr",
     "output_type": "stream",
     "text": [
      "                                                    \n",
      "  7%|▋         | 308/4400 [03:33<12:00,  5.68it/s]"
     ]
    },
    {
     "name": "stdout",
     "output_type": "stream",
     "text": [
      "{'eval_loss': 0.7917856574058533, 'eval_runtime': 0.2105, 'eval_samples_per_second': 185.238, 'eval_steps_per_second': 23.748, 'epoch': 7.0}\n"
     ]
    },
    {
     "name": "stderr",
     "output_type": "stream",
     "text": [
      "                                                    \n",
      "  8%|▊         | 352/4400 [04:09<11:45,  5.74it/s]"
     ]
    },
    {
     "name": "stdout",
     "output_type": "stream",
     "text": [
      "{'eval_loss': 0.8132491707801819, 'eval_runtime': 0.208, 'eval_samples_per_second': 187.47, 'eval_steps_per_second': 24.035, 'epoch': 8.0}\n"
     ]
    },
    {
     "name": "stderr",
     "output_type": "stream",
     "text": [
      "                                                    \n",
      "  9%|▉         | 396/4400 [04:40<11:31,  5.79it/s]"
     ]
    },
    {
     "name": "stdout",
     "output_type": "stream",
     "text": [
      "{'eval_loss': 0.8153638243675232, 'eval_runtime': 0.2073, 'eval_samples_per_second': 188.126, 'eval_steps_per_second': 24.119, 'epoch': 9.0}\n"
     ]
    },
    {
     "name": "stderr",
     "output_type": "stream",
     "text": [
      "                                                    \n",
      " 10%|█         | 440/4400 [05:14<11:33,  5.71it/s]"
     ]
    },
    {
     "name": "stdout",
     "output_type": "stream",
     "text": [
      "{'eval_loss': 0.8392131328582764, 'eval_runtime': 0.2095, 'eval_samples_per_second': 186.135, 'eval_steps_per_second': 23.863, 'epoch': 10.0}\n"
     ]
    },
    {
     "name": "stderr",
     "output_type": "stream",
     "text": [
      "                                                    \n",
      " 11%|█         | 484/4400 [05:49<11:56,  5.46it/s]"
     ]
    },
    {
     "name": "stdout",
     "output_type": "stream",
     "text": [
      "{'eval_loss': 0.847118079662323, 'eval_runtime': 0.2065, 'eval_samples_per_second': 188.848, 'eval_steps_per_second': 24.211, 'epoch': 11.0}\n"
     ]
    },
    {
     "name": "stderr",
     "output_type": "stream",
     "text": [
      " 11%|█▏        | 501/4400 [06:14<14:09,  4.59it/s]  "
     ]
    },
    {
     "name": "stdout",
     "output_type": "stream",
     "text": [
      "{'loss': 0.1745, 'learning_rate': 1.772727272727273e-05, 'epoch': 11.36}\n"
     ]
    },
    {
     "name": "stderr",
     "output_type": "stream",
     "text": [
      "                                                  \n",
      " 12%|█▏        | 528/4400 [06:19<10:50,  5.96it/s]"
     ]
    },
    {
     "name": "stdout",
     "output_type": "stream",
     "text": [
      "{'eval_loss': 0.8681208491325378, 'eval_runtime': 0.2057, 'eval_samples_per_second': 189.566, 'eval_steps_per_second': 24.303, 'epoch': 12.0}\n"
     ]
    },
    {
     "name": "stderr",
     "output_type": "stream",
     "text": [
      "                                                    \n",
      " 13%|█▎        | 572/4400 [06:57<11:06,  5.74it/s]"
     ]
    },
    {
     "name": "stdout",
     "output_type": "stream",
     "text": [
      "{'eval_loss': 0.8813048005104065, 'eval_runtime': 0.2084, 'eval_samples_per_second': 187.137, 'eval_steps_per_second': 23.992, 'epoch': 13.0}\n"
     ]
    },
    {
     "name": "stderr",
     "output_type": "stream",
     "text": [
      "                                                    \n",
      " 14%|█▍        | 616/4400 [07:32<10:46,  5.86it/s]"
     ]
    },
    {
     "name": "stdout",
     "output_type": "stream",
     "text": [
      "{'eval_loss': 0.8698602318763733, 'eval_runtime': 0.2075, 'eval_samples_per_second': 187.955, 'eval_steps_per_second': 24.097, 'epoch': 14.0}\n"
     ]
    },
    {
     "name": "stderr",
     "output_type": "stream",
     "text": [
      "                                                    \n",
      " 15%|█▌        | 660/4400 [08:04<10:50,  5.75it/s]"
     ]
    },
    {
     "name": "stdout",
     "output_type": "stream",
     "text": [
      "{'eval_loss': 0.8980477452278137, 'eval_runtime': 0.2073, 'eval_samples_per_second': 188.097, 'eval_steps_per_second': 24.115, 'epoch': 15.0}\n"
     ]
    },
    {
     "name": "stderr",
     "output_type": "stream",
     "text": [
      "                                                    \n",
      " 16%|█▌        | 704/4400 [08:40<10:20,  5.96it/s]"
     ]
    },
    {
     "name": "stdout",
     "output_type": "stream",
     "text": [
      "{'eval_loss': 0.9206016659736633, 'eval_runtime': 0.2081, 'eval_samples_per_second': 187.453, 'eval_steps_per_second': 24.032, 'epoch': 16.0}\n"
     ]
    },
    {
     "name": "stderr",
     "output_type": "stream",
     "text": [
      "                                                    \n",
      " 17%|█▋        | 748/4400 [09:13<10:13,  5.95it/s]"
     ]
    },
    {
     "name": "stdout",
     "output_type": "stream",
     "text": [
      "{'eval_loss': 0.9394873380661011, 'eval_runtime': 0.206, 'eval_samples_per_second': 189.275, 'eval_steps_per_second': 24.266, 'epoch': 17.0}\n"
     ]
    },
    {
     "name": "stderr",
     "output_type": "stream",
     "text": [
      "                                                    \n",
      " 18%|█▊        | 792/4400 [09:47<10:11,  5.90it/s]"
     ]
    },
    {
     "name": "stdout",
     "output_type": "stream",
     "text": [
      "{'eval_loss': 0.9227080941200256, 'eval_runtime': 0.209, 'eval_samples_per_second': 186.639, 'eval_steps_per_second': 23.928, 'epoch': 18.0}\n"
     ]
    },
    {
     "name": "stderr",
     "output_type": "stream",
     "text": [
      "                                                    \n",
      " 19%|█▉        | 836/4400 [10:22<10:18,  5.76it/s]"
     ]
    },
    {
     "name": "stdout",
     "output_type": "stream",
     "text": [
      "{'eval_loss': 0.939409613609314, 'eval_runtime': 0.2088, 'eval_samples_per_second': 186.793, 'eval_steps_per_second': 23.948, 'epoch': 19.0}\n"
     ]
    },
    {
     "name": "stderr",
     "output_type": "stream",
     "text": [
      "                                                    \n",
      " 20%|██        | 880/4400 [10:56<09:59,  5.87it/s]"
     ]
    },
    {
     "name": "stdout",
     "output_type": "stream",
     "text": [
      "{'eval_loss': 0.9518431425094604, 'eval_runtime': 0.2046, 'eval_samples_per_second': 190.645, 'eval_steps_per_second': 24.442, 'epoch': 20.0}\n"
     ]
    },
    {
     "name": "stderr",
     "output_type": "stream",
     "text": [
      "                                                    \n",
      " 21%|██        | 924/4400 [11:29<10:22,  5.58it/s]"
     ]
    },
    {
     "name": "stdout",
     "output_type": "stream",
     "text": [
      "{'eval_loss': 0.9617448449134827, 'eval_runtime': 0.2098, 'eval_samples_per_second': 185.848, 'eval_steps_per_second': 23.827, 'epoch': 21.0}\n"
     ]
    },
    {
     "name": "stderr",
     "output_type": "stream",
     "text": [
      "                                                    \n",
      " 22%|██▏       | 968/4400 [12:04<09:28,  6.03it/s]"
     ]
    },
    {
     "name": "stdout",
     "output_type": "stream",
     "text": [
      "{'eval_loss': 0.9762997031211853, 'eval_runtime': 0.2068, 'eval_samples_per_second': 188.572, 'eval_steps_per_second': 24.176, 'epoch': 22.0}\n"
     ]
    },
    {
     "name": "stderr",
     "output_type": "stream",
     "text": [
      " 23%|██▎       | 1001/4400 [12:37<11:40,  4.85it/s] "
     ]
    },
    {
     "name": "stdout",
     "output_type": "stream",
     "text": [
      "{'loss': 0.0847, 'learning_rate': 1.5454545454545454e-05, 'epoch': 22.73}\n"
     ]
    },
    {
     "name": "stderr",
     "output_type": "stream",
     "text": [
      "                                                   \n",
      " 23%|██▎       | 1012/4400 [12:40<09:39,  5.85it/s]"
     ]
    },
    {
     "name": "stdout",
     "output_type": "stream",
     "text": [
      "{'eval_loss': 0.9844010472297668, 'eval_runtime': 0.2067, 'eval_samples_per_second': 188.684, 'eval_steps_per_second': 24.19, 'epoch': 23.0}\n"
     ]
    },
    {
     "name": "stderr",
     "output_type": "stream",
     "text": [
      "                                                     \n",
      " 24%|██▍       | 1056/4400 [13:13<09:54,  5.63it/s]"
     ]
    },
    {
     "name": "stdout",
     "output_type": "stream",
     "text": [
      "{'eval_loss': 1.000775694847107, 'eval_runtime': 0.2032, 'eval_samples_per_second': 191.896, 'eval_steps_per_second': 24.602, 'epoch': 24.0}\n"
     ]
    },
    {
     "name": "stderr",
     "output_type": "stream",
     "text": [
      "                                                     \n",
      " 25%|██▌       | 1100/4400 [13:49<09:36,  5.72it/s]"
     ]
    },
    {
     "name": "stdout",
     "output_type": "stream",
     "text": [
      "{'eval_loss': 1.022585153579712, 'eval_runtime': 0.2256, 'eval_samples_per_second': 172.852, 'eval_steps_per_second': 22.161, 'epoch': 25.0}\n"
     ]
    },
    {
     "name": "stderr",
     "output_type": "stream",
     "text": [
      "                                                     \n",
      " 26%|██▌       | 1144/4400 [14:24<09:02,  6.00it/s]"
     ]
    },
    {
     "name": "stdout",
     "output_type": "stream",
     "text": [
      "{'eval_loss': 1.011959195137024, 'eval_runtime': 0.2051, 'eval_samples_per_second': 190.184, 'eval_steps_per_second': 24.383, 'epoch': 26.0}\n"
     ]
    },
    {
     "name": "stderr",
     "output_type": "stream",
     "text": [
      "                                                     \n",
      " 27%|██▋       | 1188/4400 [14:57<09:00,  5.94it/s]"
     ]
    },
    {
     "name": "stdout",
     "output_type": "stream",
     "text": [
      "{'eval_loss': 0.998862624168396, 'eval_runtime': 0.2083, 'eval_samples_per_second': 187.267, 'eval_steps_per_second': 24.009, 'epoch': 27.0}\n"
     ]
    },
    {
     "name": "stderr",
     "output_type": "stream",
     "text": [
      "                                                     \n",
      " 28%|██▊       | 1232/4400 [15:32<09:28,  5.57it/s]"
     ]
    },
    {
     "name": "stdout",
     "output_type": "stream",
     "text": [
      "{'eval_loss': 1.010701298713684, 'eval_runtime': 0.2073, 'eval_samples_per_second': 188.14, 'eval_steps_per_second': 24.12, 'epoch': 28.0}\n"
     ]
    },
    {
     "name": "stderr",
     "output_type": "stream",
     "text": [
      "                                                     \n",
      " 29%|██▉       | 1276/4400 [16:08<08:53,  5.86it/s]"
     ]
    },
    {
     "name": "stdout",
     "output_type": "stream",
     "text": [
      "{'eval_loss': 1.0116857290267944, 'eval_runtime': 0.2039, 'eval_samples_per_second': 191.266, 'eval_steps_per_second': 24.521, 'epoch': 29.0}\n"
     ]
    },
    {
     "name": "stderr",
     "output_type": "stream",
     "text": [
      "                                                     \n",
      " 30%|███       | 1320/4400 [16:43<09:05,  5.64it/s]"
     ]
    },
    {
     "name": "stdout",
     "output_type": "stream",
     "text": [
      "{'eval_loss': 1.0203428268432617, 'eval_runtime': 0.2028, 'eval_samples_per_second': 192.343, 'eval_steps_per_second': 24.659, 'epoch': 30.0}\n"
     ]
    },
    {
     "name": "stderr",
     "output_type": "stream",
     "text": [
      "                                                     \n",
      " 31%|███       | 1364/4400 [17:21<08:23,  6.03it/s]"
     ]
    },
    {
     "name": "stdout",
     "output_type": "stream",
     "text": [
      "{'eval_loss': 1.0144990682601929, 'eval_runtime': 0.2058, 'eval_samples_per_second': 189.493, 'eval_steps_per_second': 24.294, 'epoch': 31.0}\n"
     ]
    },
    {
     "name": "stderr",
     "output_type": "stream",
     "text": [
      "                                                     \n",
      " 32%|███▏      | 1408/4400 [17:57<08:45,  5.69it/s]"
     ]
    },
    {
     "name": "stdout",
     "output_type": "stream",
     "text": [
      "{'eval_loss': 1.039386510848999, 'eval_runtime': 0.206, 'eval_samples_per_second': 189.361, 'eval_steps_per_second': 24.277, 'epoch': 32.0}\n"
     ]
    },
    {
     "name": "stderr",
     "output_type": "stream",
     "text": [
      "                                                     \n",
      " 33%|███▎      | 1452/4400 [18:32<08:29,  5.79it/s]"
     ]
    },
    {
     "name": "stdout",
     "output_type": "stream",
     "text": [
      "{'eval_loss': 1.051051139831543, 'eval_runtime': 0.2048, 'eval_samples_per_second': 190.428, 'eval_steps_per_second': 24.414, 'epoch': 33.0}\n"
     ]
    },
    {
     "name": "stderr",
     "output_type": "stream",
     "text": [
      "                                                     \n",
      " 34%|███▍      | 1496/4400 [19:05<07:58,  6.06it/s]"
     ]
    },
    {
     "name": "stdout",
     "output_type": "stream",
     "text": [
      "{'eval_loss': 1.047381043434143, 'eval_runtime': 0.2087, 'eval_samples_per_second': 186.86, 'eval_steps_per_second': 23.956, 'epoch': 34.0}\n"
     ]
    },
    {
     "name": "stderr",
     "output_type": "stream",
     "text": [
      " 34%|███▍      | 1501/4400 [19:33<1:44:59,  2.17s/it]"
     ]
    },
    {
     "name": "stdout",
     "output_type": "stream",
     "text": [
      "{'loss': 0.0562, 'learning_rate': 1.3181818181818183e-05, 'epoch': 34.09}\n"
     ]
    },
    {
     "name": "stderr",
     "output_type": "stream",
     "text": [
      "                                                     \n",
      " 35%|███▌      | 1540/4400 [19:41<08:23,  5.68it/s]"
     ]
    },
    {
     "name": "stdout",
     "output_type": "stream",
     "text": [
      "{'eval_loss': 1.069701910018921, 'eval_runtime': 0.2042, 'eval_samples_per_second': 190.977, 'eval_steps_per_second': 24.484, 'epoch': 35.0}\n"
     ]
    },
    {
     "name": "stderr",
     "output_type": "stream",
     "text": [
      "                                                     \n",
      " 36%|███▌      | 1584/4400 [20:13<08:07,  5.78it/s]"
     ]
    },
    {
     "name": "stdout",
     "output_type": "stream",
     "text": [
      "{'eval_loss': 1.0517776012420654, 'eval_runtime': 0.2042, 'eval_samples_per_second': 190.97, 'eval_steps_per_second': 24.483, 'epoch': 36.0}\n"
     ]
    },
    {
     "name": "stderr",
     "output_type": "stream",
     "text": [
      "                                                     \n",
      " 37%|███▋      | 1628/4400 [20:48<08:29,  5.44it/s]"
     ]
    },
    {
     "name": "stdout",
     "output_type": "stream",
     "text": [
      "{'eval_loss': 1.0479512214660645, 'eval_runtime': 0.2005, 'eval_samples_per_second': 194.512, 'eval_steps_per_second': 24.937, 'epoch': 37.0}\n"
     ]
    },
    {
     "name": "stderr",
     "output_type": "stream",
     "text": [
      "                                                     \n",
      " 38%|███▊      | 1672/4400 [21:24<07:56,  5.73it/s]"
     ]
    },
    {
     "name": "stdout",
     "output_type": "stream",
     "text": [
      "{'eval_loss': 1.073262095451355, 'eval_runtime': 0.2051, 'eval_samples_per_second': 190.157, 'eval_steps_per_second': 24.379, 'epoch': 38.0}\n"
     ]
    },
    {
     "name": "stderr",
     "output_type": "stream",
     "text": [
      "                                                     \n",
      " 39%|███▉      | 1716/4400 [21:57<07:58,  5.61it/s]"
     ]
    },
    {
     "name": "stdout",
     "output_type": "stream",
     "text": [
      "{'eval_loss': 1.0632573366165161, 'eval_runtime': 0.21, 'eval_samples_per_second': 185.718, 'eval_steps_per_second': 23.81, 'epoch': 39.0}\n"
     ]
    },
    {
     "name": "stderr",
     "output_type": "stream",
     "text": [
      "                                                     \n",
      " 40%|████      | 1760/4400 [22:34<07:38,  5.76it/s]"
     ]
    },
    {
     "name": "stdout",
     "output_type": "stream",
     "text": [
      "{'eval_loss': 1.0753991603851318, 'eval_runtime': 0.2043, 'eval_samples_per_second': 190.88, 'eval_steps_per_second': 24.472, 'epoch': 40.0}\n"
     ]
    },
    {
     "name": "stderr",
     "output_type": "stream",
     "text": [
      "                                                     \n",
      " 41%|████      | 1804/4400 [23:10<07:16,  5.95it/s]"
     ]
    },
    {
     "name": "stdout",
     "output_type": "stream",
     "text": [
      "{'eval_loss': 1.0904288291931152, 'eval_runtime': 0.2085, 'eval_samples_per_second': 187.053, 'eval_steps_per_second': 23.981, 'epoch': 41.0}\n"
     ]
    },
    {
     "name": "stderr",
     "output_type": "stream",
     "text": [
      "                                                     \n",
      " 42%|████▏     | 1848/4400 [23:44<07:27,  5.70it/s]"
     ]
    },
    {
     "name": "stdout",
     "output_type": "stream",
     "text": [
      "{'eval_loss': 1.0967835187911987, 'eval_runtime': 0.2033, 'eval_samples_per_second': 191.869, 'eval_steps_per_second': 24.599, 'epoch': 42.0}\n"
     ]
    },
    {
     "name": "stderr",
     "output_type": "stream",
     "text": [
      "                                                     \n",
      " 43%|████▎     | 1892/4400 [24:19<07:17,  5.73it/s]"
     ]
    },
    {
     "name": "stdout",
     "output_type": "stream",
     "text": [
      "{'eval_loss': 1.1052883863449097, 'eval_runtime': 0.2066, 'eval_samples_per_second': 188.725, 'eval_steps_per_second': 24.196, 'epoch': 43.0}\n"
     ]
    },
    {
     "name": "stderr",
     "output_type": "stream",
     "text": [
      "                                                     \n",
      " 44%|████▍     | 1936/4400 [24:55<07:04,  5.81it/s]"
     ]
    },
    {
     "name": "stdout",
     "output_type": "stream",
     "text": [
      "{'eval_loss': 1.1001081466674805, 'eval_runtime': 0.2056, 'eval_samples_per_second': 189.719, 'eval_steps_per_second': 24.323, 'epoch': 44.0}\n"
     ]
    },
    {
     "name": "stderr",
     "output_type": "stream",
     "text": [
      "                                                     \n",
      " 45%|████▌     | 1980/4400 [25:30<06:51,  5.87it/s]"
     ]
    },
    {
     "name": "stdout",
     "output_type": "stream",
     "text": [
      "{'eval_loss': 1.081673502922058, 'eval_runtime': 0.2075, 'eval_samples_per_second': 187.943, 'eval_steps_per_second': 24.095, 'epoch': 45.0}\n"
     ]
    },
    {
     "name": "stderr",
     "output_type": "stream",
     "text": [
      " 45%|████▌     | 2001/4400 [25:58<08:15,  4.84it/s]  "
     ]
    },
    {
     "name": "stdout",
     "output_type": "stream",
     "text": [
      "{'loss': 0.0439, 'learning_rate': 1.0909090909090909e-05, 'epoch': 45.45}\n"
     ]
    },
    {
     "name": "stderr",
     "output_type": "stream",
     "text": [
      "                                                   \n",
      " 46%|████▌     | 2024/4400 [26:03<07:03,  5.61it/s]"
     ]
    },
    {
     "name": "stdout",
     "output_type": "stream",
     "text": [
      "{'eval_loss': 1.092743992805481, 'eval_runtime': 0.2075, 'eval_samples_per_second': 187.988, 'eval_steps_per_second': 24.101, 'epoch': 46.0}\n"
     ]
    },
    {
     "name": "stderr",
     "output_type": "stream",
     "text": [
      "                                                     \n",
      " 47%|████▋     | 2068/4400 [26:38<06:45,  5.75it/s]"
     ]
    },
    {
     "name": "stdout",
     "output_type": "stream",
     "text": [
      "{'eval_loss': 1.0867574214935303, 'eval_runtime': 0.2039, 'eval_samples_per_second': 191.244, 'eval_steps_per_second': 24.518, 'epoch': 47.0}\n"
     ]
    },
    {
     "name": "stderr",
     "output_type": "stream",
     "text": [
      "                                                     \n",
      " 48%|████▊     | 2112/4400 [27:14<06:21,  6.00it/s]"
     ]
    },
    {
     "name": "stdout",
     "output_type": "stream",
     "text": [
      "{'eval_loss': 1.0803126096725464, 'eval_runtime': 0.2027, 'eval_samples_per_second': 192.391, 'eval_steps_per_second': 24.666, 'epoch': 48.0}\n"
     ]
    },
    {
     "name": "stderr",
     "output_type": "stream",
     "text": [
      "                                                     \n",
      " 49%|████▉     | 2156/4400 [27:49<06:36,  5.66it/s]"
     ]
    },
    {
     "name": "stdout",
     "output_type": "stream",
     "text": [
      "{'eval_loss': 1.08888578414917, 'eval_runtime': 0.2036, 'eval_samples_per_second': 191.542, 'eval_steps_per_second': 24.557, 'epoch': 49.0}\n"
     ]
    },
    {
     "name": "stderr",
     "output_type": "stream",
     "text": [
      "                                                     \n",
      " 50%|█████     | 2200/4400 [28:26<06:16,  5.85it/s]"
     ]
    },
    {
     "name": "stdout",
     "output_type": "stream",
     "text": [
      "{'eval_loss': 1.0928492546081543, 'eval_runtime': 0.1958, 'eval_samples_per_second': 199.165, 'eval_steps_per_second': 25.534, 'epoch': 50.0}\n"
     ]
    },
    {
     "name": "stderr",
     "output_type": "stream",
     "text": [
      "                                                     \n",
      " 51%|█████     | 2244/4400 [29:00<06:10,  5.82it/s]"
     ]
    },
    {
     "name": "stdout",
     "output_type": "stream",
     "text": [
      "{'eval_loss': 1.0919142961502075, 'eval_runtime': 0.2086, 'eval_samples_per_second': 186.992, 'eval_steps_per_second': 23.973, 'epoch': 51.0}\n"
     ]
    },
    {
     "name": "stderr",
     "output_type": "stream",
     "text": [
      "                                                     \n",
      " 52%|█████▏    | 2288/4400 [29:39<07:40,  4.58it/s]"
     ]
    },
    {
     "name": "stdout",
     "output_type": "stream",
     "text": [
      "{'eval_loss': 1.0965919494628906, 'eval_runtime': 0.2393, 'eval_samples_per_second': 162.942, 'eval_steps_per_second': 20.89, 'epoch': 52.0}\n"
     ]
    },
    {
     "name": "stderr",
     "output_type": "stream",
     "text": [
      "                                                     \n",
      " 53%|█████▎    | 2332/4400 [30:38<08:24,  4.10it/s]"
     ]
    },
    {
     "name": "stdout",
     "output_type": "stream",
     "text": [
      "{'eval_loss': 1.1101715564727783, 'eval_runtime': 0.2816, 'eval_samples_per_second': 138.492, 'eval_steps_per_second': 17.755, 'epoch': 53.0}\n"
     ]
    },
    {
     "name": "stderr",
     "output_type": "stream",
     "text": [
      "                                                     \n",
      " 54%|█████▍    | 2376/4400 [31:23<07:06,  4.74it/s]"
     ]
    },
    {
     "name": "stdout",
     "output_type": "stream",
     "text": [
      "{'eval_loss': 1.1002650260925293, 'eval_runtime': 0.2223, 'eval_samples_per_second': 175.423, 'eval_steps_per_second': 22.49, 'epoch': 54.0}\n"
     ]
    },
    {
     "name": "stderr",
     "output_type": "stream",
     "text": [
      "                                                     \n",
      " 55%|█████▌    | 2420/4400 [32:08<06:44,  4.89it/s]"
     ]
    },
    {
     "name": "stdout",
     "output_type": "stream",
     "text": [
      "{'eval_loss': 1.110343098640442, 'eval_runtime': 0.25, 'eval_samples_per_second': 155.971, 'eval_steps_per_second': 19.996, 'epoch': 55.0}\n"
     ]
    },
    {
     "name": "stderr",
     "output_type": "stream",
     "text": [
      "                                                     \n",
      " 56%|█████▌    | 2464/4400 [32:45<06:16,  5.15it/s]"
     ]
    },
    {
     "name": "stdout",
     "output_type": "stream",
     "text": [
      "{'eval_loss': 1.0965158939361572, 'eval_runtime': 0.2284, 'eval_samples_per_second': 170.717, 'eval_steps_per_second': 21.887, 'epoch': 56.0}\n"
     ]
    },
    {
     "name": "stderr",
     "output_type": "stream",
     "text": [
      " 57%|█████▋    | 2500/4400 [33:19<07:16,  4.35it/s]  "
     ]
    },
    {
     "name": "stdout",
     "output_type": "stream",
     "text": [
      "{'loss': 0.0373, 'learning_rate': 8.636363636363637e-06, 'epoch': 56.82}\n"
     ]
    },
    {
     "name": "stderr",
     "output_type": "stream",
     "text": [
      "                                                   \n",
      " 57%|█████▋    | 2508/4400 [33:21<06:22,  4.95it/s]"
     ]
    },
    {
     "name": "stdout",
     "output_type": "stream",
     "text": [
      "{'eval_loss': 1.1253701448440552, 'eval_runtime': 0.2371, 'eval_samples_per_second': 164.481, 'eval_steps_per_second': 21.087, 'epoch': 57.0}\n"
     ]
    },
    {
     "name": "stderr",
     "output_type": "stream",
     "text": [
      "                                                     \n",
      " 58%|█████▊    | 2552/4400 [33:58<06:27,  4.77it/s]"
     ]
    },
    {
     "name": "stdout",
     "output_type": "stream",
     "text": [
      "{'eval_loss': 1.144527554512024, 'eval_runtime': 0.2374, 'eval_samples_per_second': 164.251, 'eval_steps_per_second': 21.058, 'epoch': 58.0}\n"
     ]
    },
    {
     "name": "stderr",
     "output_type": "stream",
     "text": [
      "                                                     \n",
      " 59%|█████▉    | 2596/4400 [34:35<05:48,  5.18it/s]"
     ]
    },
    {
     "name": "stdout",
     "output_type": "stream",
     "text": [
      "{'eval_loss': 1.1389085054397583, 'eval_runtime': 0.2445, 'eval_samples_per_second': 159.536, 'eval_steps_per_second': 20.453, 'epoch': 59.0}\n"
     ]
    },
    {
     "name": "stderr",
     "output_type": "stream",
     "text": [
      "                                                     \n",
      " 60%|██████    | 2640/4400 [35:10<05:51,  5.01it/s]"
     ]
    },
    {
     "name": "stdout",
     "output_type": "stream",
     "text": [
      "{'eval_loss': 1.1446435451507568, 'eval_runtime': 0.2332, 'eval_samples_per_second': 167.228, 'eval_steps_per_second': 21.439, 'epoch': 60.0}\n"
     ]
    },
    {
     "name": "stderr",
     "output_type": "stream",
     "text": [
      "                                                     \n",
      " 61%|██████    | 2684/4400 [35:45<05:35,  5.11it/s]"
     ]
    },
    {
     "name": "stdout",
     "output_type": "stream",
     "text": [
      "{'eval_loss': 1.148435354232788, 'eval_runtime': 0.2309, 'eval_samples_per_second': 168.93, 'eval_steps_per_second': 21.658, 'epoch': 61.0}\n"
     ]
    },
    {
     "name": "stderr",
     "output_type": "stream",
     "text": [
      "                                                     \n",
      " 62%|██████▏   | 2728/4400 [36:26<05:43,  4.87it/s]"
     ]
    },
    {
     "name": "stdout",
     "output_type": "stream",
     "text": [
      "{'eval_loss': 1.1443300247192383, 'eval_runtime': 0.2403, 'eval_samples_per_second': 162.314, 'eval_steps_per_second': 20.809, 'epoch': 62.0}\n"
     ]
    },
    {
     "name": "stderr",
     "output_type": "stream",
     "text": [
      "                                                     \n",
      " 63%|██████▎   | 2772/4400 [36:59<05:33,  4.89it/s]"
     ]
    },
    {
     "name": "stdout",
     "output_type": "stream",
     "text": [
      "{'eval_loss': 1.1482949256896973, 'eval_runtime': 0.2376, 'eval_samples_per_second': 164.137, 'eval_steps_per_second': 21.043, 'epoch': 63.0}\n"
     ]
    },
    {
     "name": "stderr",
     "output_type": "stream",
     "text": [
      "                                                     \n",
      " 64%|██████▍   | 2816/4400 [37:34<05:14,  5.04it/s]"
     ]
    },
    {
     "name": "stdout",
     "output_type": "stream",
     "text": [
      "{'eval_loss': 1.1415380239486694, 'eval_runtime': 0.2221, 'eval_samples_per_second': 175.635, 'eval_steps_per_second': 22.517, 'epoch': 64.0}\n"
     ]
    },
    {
     "name": "stderr",
     "output_type": "stream",
     "text": [
      "                                                     \n",
      " 65%|██████▌   | 2860/4400 [38:13<04:52,  5.27it/s]"
     ]
    },
    {
     "name": "stdout",
     "output_type": "stream",
     "text": [
      "{'eval_loss': 1.1515922546386719, 'eval_runtime': 0.2308, 'eval_samples_per_second': 168.975, 'eval_steps_per_second': 21.663, 'epoch': 65.0}\n"
     ]
    },
    {
     "name": "stderr",
     "output_type": "stream",
     "text": [
      "                                                     \n",
      " 66%|██████▌   | 2904/4400 [38:46<05:06,  4.87it/s]"
     ]
    },
    {
     "name": "stdout",
     "output_type": "stream",
     "text": [
      "{'eval_loss': 1.1478469371795654, 'eval_runtime': 0.2367, 'eval_samples_per_second': 164.784, 'eval_steps_per_second': 21.126, 'epoch': 66.0}\n"
     ]
    },
    {
     "name": "stderr",
     "output_type": "stream",
     "text": [
      "                                                     \n",
      " 67%|██████▋   | 2948/4400 [39:22<04:34,  5.29it/s]"
     ]
    },
    {
     "name": "stdout",
     "output_type": "stream",
     "text": [
      "{'eval_loss': 1.155648112297058, 'eval_runtime': 0.2213, 'eval_samples_per_second': 176.27, 'eval_steps_per_second': 22.599, 'epoch': 67.0}\n"
     ]
    },
    {
     "name": "stderr",
     "output_type": "stream",
     "text": [
      "                                                     \n",
      " 68%|██████▊   | 2992/4400 [39:58<04:41,  5.00it/s]"
     ]
    },
    {
     "name": "stdout",
     "output_type": "stream",
     "text": [
      "{'eval_loss': 1.159422516822815, 'eval_runtime': 0.2327, 'eval_samples_per_second': 167.571, 'eval_steps_per_second': 21.484, 'epoch': 68.0}\n"
     ]
    },
    {
     "name": "stderr",
     "output_type": "stream",
     "text": [
      " 68%|██████▊   | 3000/4400 [40:26<20:01,  1.17it/s]  "
     ]
    },
    {
     "name": "stdout",
     "output_type": "stream",
     "text": [
      "{'loss': 0.029, 'learning_rate': 6.363636363636364e-06, 'epoch': 68.18}\n"
     ]
    },
    {
     "name": "stderr",
     "output_type": "stream",
     "text": [
      "                                                   \n",
      " 69%|██████▉   | 3036/4400 [40:33<04:27,  5.10it/s]"
     ]
    },
    {
     "name": "stdout",
     "output_type": "stream",
     "text": [
      "{'eval_loss': 1.1733183860778809, 'eval_runtime': 0.2294, 'eval_samples_per_second': 170.036, 'eval_steps_per_second': 21.799, 'epoch': 69.0}\n"
     ]
    },
    {
     "name": "stderr",
     "output_type": "stream",
     "text": [
      "                                                     \n",
      " 70%|███████   | 3080/4400 [41:10<04:13,  5.20it/s]"
     ]
    },
    {
     "name": "stdout",
     "output_type": "stream",
     "text": [
      "{'eval_loss': 1.1695480346679688, 'eval_runtime': 0.2297, 'eval_samples_per_second': 169.764, 'eval_steps_per_second': 21.765, 'epoch': 70.0}\n"
     ]
    },
    {
     "name": "stderr",
     "output_type": "stream",
     "text": [
      "                                                     \n",
      " 71%|███████   | 3124/4400 [41:47<04:03,  5.24it/s]"
     ]
    },
    {
     "name": "stdout",
     "output_type": "stream",
     "text": [
      "{'eval_loss': 1.1646788120269775, 'eval_runtime': 0.2429, 'eval_samples_per_second': 160.592, 'eval_steps_per_second': 20.589, 'epoch': 71.0}\n"
     ]
    },
    {
     "name": "stderr",
     "output_type": "stream",
     "text": [
      "                                                     \n",
      " 72%|███████▏  | 3168/4400 [42:22<04:02,  5.09it/s]"
     ]
    },
    {
     "name": "stdout",
     "output_type": "stream",
     "text": [
      "{'eval_loss': 1.1658728122711182, 'eval_runtime': 0.2323, 'eval_samples_per_second': 167.915, 'eval_steps_per_second': 21.528, 'epoch': 72.0}\n"
     ]
    },
    {
     "name": "stderr",
     "output_type": "stream",
     "text": [
      "                                                     \n",
      " 73%|███████▎  | 3212/4400 [42:59<03:58,  4.98it/s]"
     ]
    },
    {
     "name": "stdout",
     "output_type": "stream",
     "text": [
      "{'eval_loss': 1.1718419790267944, 'eval_runtime': 0.2128, 'eval_samples_per_second': 183.307, 'eval_steps_per_second': 23.501, 'epoch': 73.0}\n"
     ]
    },
    {
     "name": "stderr",
     "output_type": "stream",
     "text": [
      "                                                     \n",
      " 74%|███████▍  | 3256/4400 [43:37<03:43,  5.13it/s]"
     ]
    },
    {
     "name": "stdout",
     "output_type": "stream",
     "text": [
      "{'eval_loss': 1.1690123081207275, 'eval_runtime': 0.239, 'eval_samples_per_second': 163.189, 'eval_steps_per_second': 20.922, 'epoch': 74.0}\n"
     ]
    },
    {
     "name": "stderr",
     "output_type": "stream",
     "text": [
      "                                                     \n",
      " 75%|███████▌  | 3300/4400 [44:12<03:42,  4.94it/s]"
     ]
    },
    {
     "name": "stdout",
     "output_type": "stream",
     "text": [
      "{'eval_loss': 1.15554678440094, 'eval_runtime': 0.2291, 'eval_samples_per_second': 170.232, 'eval_steps_per_second': 21.825, 'epoch': 75.0}\n"
     ]
    },
    {
     "name": "stderr",
     "output_type": "stream",
     "text": [
      "                                                     \n",
      " 76%|███████▌  | 3344/4400 [44:48<03:35,  4.90it/s]"
     ]
    },
    {
     "name": "stdout",
     "output_type": "stream",
     "text": [
      "{'eval_loss': 1.1550973653793335, 'eval_runtime': 0.2207, 'eval_samples_per_second': 176.68, 'eval_steps_per_second': 22.651, 'epoch': 76.0}\n"
     ]
    },
    {
     "name": "stderr",
     "output_type": "stream",
     "text": [
      "                                                     \n",
      " 77%|███████▋  | 3388/4400 [45:24<03:18,  5.09it/s]"
     ]
    },
    {
     "name": "stdout",
     "output_type": "stream",
     "text": [
      "{'eval_loss': 1.156577467918396, 'eval_runtime': 0.2291, 'eval_samples_per_second': 170.267, 'eval_steps_per_second': 21.829, 'epoch': 77.0}\n"
     ]
    },
    {
     "name": "stderr",
     "output_type": "stream",
     "text": [
      "                                                     \n",
      " 78%|███████▊  | 3432/4400 [46:00<03:25,  4.70it/s]"
     ]
    },
    {
     "name": "stdout",
     "output_type": "stream",
     "text": [
      "{'eval_loss': 1.158440113067627, 'eval_runtime': 0.2424, 'eval_samples_per_second': 160.859, 'eval_steps_per_second': 20.623, 'epoch': 78.0}\n"
     ]
    },
    {
     "name": "stderr",
     "output_type": "stream",
     "text": [
      "                                                     \n",
      " 79%|███████▉  | 3476/4400 [46:37<03:02,  5.06it/s]"
     ]
    },
    {
     "name": "stdout",
     "output_type": "stream",
     "text": [
      "{'eval_loss': 1.158855676651001, 'eval_runtime': 0.2208, 'eval_samples_per_second': 176.655, 'eval_steps_per_second': 22.648, 'epoch': 79.0}\n"
     ]
    },
    {
     "name": "stderr",
     "output_type": "stream",
     "text": [
      " 80%|███████▉  | 3500/4400 [47:11<03:40,  4.08it/s]  "
     ]
    },
    {
     "name": "stdout",
     "output_type": "stream",
     "text": [
      "{'loss': 0.0273, 'learning_rate': 4.0909090909090915e-06, 'epoch': 79.55}\n"
     ]
    },
    {
     "name": "stderr",
     "output_type": "stream",
     "text": [
      "                                                   \n",
      " 80%|████████  | 3520/4400 [47:16<02:59,  4.90it/s]"
     ]
    },
    {
     "name": "stdout",
     "output_type": "stream",
     "text": [
      "{'eval_loss': 1.1541943550109863, 'eval_runtime': 0.2329, 'eval_samples_per_second': 167.459, 'eval_steps_per_second': 21.469, 'epoch': 80.0}\n"
     ]
    },
    {
     "name": "stderr",
     "output_type": "stream",
     "text": [
      "                                                     \n",
      " 81%|████████  | 3564/4400 [47:51<02:39,  5.26it/s]"
     ]
    },
    {
     "name": "stdout",
     "output_type": "stream",
     "text": [
      "{'eval_loss': 1.1605961322784424, 'eval_runtime': 0.2318, 'eval_samples_per_second': 168.241, 'eval_steps_per_second': 21.569, 'epoch': 81.0}\n"
     ]
    },
    {
     "name": "stderr",
     "output_type": "stream",
     "text": [
      "                                                     \n",
      " 82%|████████▏ | 3608/4400 [48:28<02:28,  5.34it/s]"
     ]
    },
    {
     "name": "stdout",
     "output_type": "stream",
     "text": [
      "{'eval_loss': 1.1638516187667847, 'eval_runtime': 0.2262, 'eval_samples_per_second': 172.415, 'eval_steps_per_second': 22.104, 'epoch': 82.0}\n"
     ]
    },
    {
     "name": "stderr",
     "output_type": "stream",
     "text": [
      "                                                     \n",
      " 83%|████████▎ | 3652/4400 [49:07<03:36,  3.46it/s]"
     ]
    },
    {
     "name": "stdout",
     "output_type": "stream",
     "text": [
      "{'eval_loss': 1.1650547981262207, 'eval_runtime': 0.2859, 'eval_samples_per_second': 136.432, 'eval_steps_per_second': 17.491, 'epoch': 83.0}\n"
     ]
    },
    {
     "name": "stderr",
     "output_type": "stream",
     "text": [
      "                                                     \n",
      " 84%|████████▍ | 3696/4400 [49:44<02:21,  4.98it/s]"
     ]
    },
    {
     "name": "stdout",
     "output_type": "stream",
     "text": [
      "{'eval_loss': 1.1664003133773804, 'eval_runtime': 0.2223, 'eval_samples_per_second': 175.415, 'eval_steps_per_second': 22.489, 'epoch': 84.0}\n"
     ]
    },
    {
     "name": "stderr",
     "output_type": "stream",
     "text": [
      "                                                     \n",
      " 85%|████████▌ | 3740/4400 [50:19<02:06,  5.22it/s]"
     ]
    },
    {
     "name": "stdout",
     "output_type": "stream",
     "text": [
      "{'eval_loss': 1.1673238277435303, 'eval_runtime': 0.2397, 'eval_samples_per_second': 162.674, 'eval_steps_per_second': 20.856, 'epoch': 85.0}\n"
     ]
    },
    {
     "name": "stderr",
     "output_type": "stream",
     "text": [
      "                                                     \n",
      " 86%|████████▌ | 3784/4400 [50:55<01:59,  5.15it/s]"
     ]
    },
    {
     "name": "stdout",
     "output_type": "stream",
     "text": [
      "{'eval_loss': 1.1719367504119873, 'eval_runtime': 0.2372, 'eval_samples_per_second': 164.453, 'eval_steps_per_second': 21.084, 'epoch': 86.0}\n"
     ]
    },
    {
     "name": "stderr",
     "output_type": "stream",
     "text": [
      "                                                     \n",
      " 87%|████████▋ | 3828/4400 [51:32<01:57,  4.85it/s]"
     ]
    },
    {
     "name": "stdout",
     "output_type": "stream",
     "text": [
      "{'eval_loss': 1.1721826791763306, 'eval_runtime': 0.2368, 'eval_samples_per_second': 164.684, 'eval_steps_per_second': 21.113, 'epoch': 87.0}\n"
     ]
    },
    {
     "name": "stderr",
     "output_type": "stream",
     "text": [
      "                                                     \n",
      " 88%|████████▊ | 3872/4400 [52:08<01:42,  5.14it/s]"
     ]
    },
    {
     "name": "stdout",
     "output_type": "stream",
     "text": [
      "{'eval_loss': 1.1720749139785767, 'eval_runtime': 0.2308, 'eval_samples_per_second': 168.996, 'eval_steps_per_second': 21.666, 'epoch': 88.0}\n"
     ]
    },
    {
     "name": "stderr",
     "output_type": "stream",
     "text": [
      "                                                     \n",
      " 89%|████████▉ | 3916/4400 [52:44<01:29,  5.38it/s]"
     ]
    },
    {
     "name": "stdout",
     "output_type": "stream",
     "text": [
      "{'eval_loss': 1.1755329370498657, 'eval_runtime': 0.2312, 'eval_samples_per_second': 168.659, 'eval_steps_per_second': 21.623, 'epoch': 89.0}\n"
     ]
    },
    {
     "name": "stderr",
     "output_type": "stream",
     "text": [
      "                                                     \n",
      " 90%|█████████ | 3960/4400 [53:21<01:34,  4.65it/s]"
     ]
    },
    {
     "name": "stdout",
     "output_type": "stream",
     "text": [
      "{'eval_loss': 1.1748650074005127, 'eval_runtime': 0.2312, 'eval_samples_per_second': 168.709, 'eval_steps_per_second': 21.629, 'epoch': 90.0}\n"
     ]
    },
    {
     "name": "stderr",
     "output_type": "stream",
     "text": [
      " 91%|█████████ | 4001/4400 [53:56<01:41,  3.95it/s]"
     ]
    },
    {
     "name": "stdout",
     "output_type": "stream",
     "text": [
      "{'loss': 0.0228, 'learning_rate': 1.8181818181818183e-06, 'epoch': 90.91}\n"
     ]
    },
    {
     "name": "stderr",
     "output_type": "stream",
     "text": [
      "                                                   \n",
      " 91%|█████████ | 4004/4400 [53:57<01:26,  4.56it/s]"
     ]
    },
    {
     "name": "stdout",
     "output_type": "stream",
     "text": [
      "{'eval_loss': 1.1701984405517578, 'eval_runtime': 0.2396, 'eval_samples_per_second': 162.797, 'eval_steps_per_second': 20.871, 'epoch': 91.0}\n"
     ]
    },
    {
     "name": "stderr",
     "output_type": "stream",
     "text": [
      "                                                   \n",
      " 92%|█████████▏| 4048/4400 [54:32<01:12,  4.87it/s]"
     ]
    },
    {
     "name": "stdout",
     "output_type": "stream",
     "text": [
      "{'eval_loss': 1.1691129207611084, 'eval_runtime': 0.2343, 'eval_samples_per_second': 166.455, 'eval_steps_per_second': 21.34, 'epoch': 92.0}\n"
     ]
    },
    {
     "name": "stderr",
     "output_type": "stream",
     "text": [
      "                                                   \n",
      " 93%|█████████▎| 4092/4400 [55:11<01:03,  4.87it/s]"
     ]
    },
    {
     "name": "stdout",
     "output_type": "stream",
     "text": [
      "{'eval_loss': 1.1696386337280273, 'eval_runtime': 0.2426, 'eval_samples_per_second': 160.754, 'eval_steps_per_second': 20.609, 'epoch': 93.0}\n"
     ]
    },
    {
     "name": "stderr",
     "output_type": "stream",
     "text": [
      "                                                   \n",
      " 94%|█████████▍| 4136/4400 [55:49<00:52,  5.05it/s]"
     ]
    },
    {
     "name": "stdout",
     "output_type": "stream",
     "text": [
      "{'eval_loss': 1.1697595119476318, 'eval_runtime': 0.232, 'eval_samples_per_second': 168.078, 'eval_steps_per_second': 21.549, 'epoch': 94.0}\n"
     ]
    },
    {
     "name": "stderr",
     "output_type": "stream",
     "text": [
      "                                                   \n",
      " 95%|█████████▌| 4180/4400 [56:25<00:46,  4.69it/s]"
     ]
    },
    {
     "name": "stdout",
     "output_type": "stream",
     "text": [
      "{'eval_loss': 1.1730238199234009, 'eval_runtime': 0.2458, 'eval_samples_per_second': 158.68, 'eval_steps_per_second': 20.344, 'epoch': 95.0}\n"
     ]
    },
    {
     "name": "stderr",
     "output_type": "stream",
     "text": [
      "                                                   \n",
      " 96%|█████████▌| 4224/4400 [57:02<00:39,  4.49it/s]"
     ]
    },
    {
     "name": "stdout",
     "output_type": "stream",
     "text": [
      "{'eval_loss': 1.172282099723816, 'eval_runtime': 0.2381, 'eval_samples_per_second': 163.814, 'eval_steps_per_second': 21.002, 'epoch': 96.0}\n"
     ]
    },
    {
     "name": "stderr",
     "output_type": "stream",
     "text": [
      "                                                   \n",
      " 97%|█████████▋| 4268/4400 [57:40<00:26,  5.05it/s]"
     ]
    },
    {
     "name": "stdout",
     "output_type": "stream",
     "text": [
      "{'eval_loss': 1.1724313497543335, 'eval_runtime': 0.2311, 'eval_samples_per_second': 168.781, 'eval_steps_per_second': 21.639, 'epoch': 97.0}\n"
     ]
    },
    {
     "name": "stderr",
     "output_type": "stream",
     "text": [
      "                                                   \n",
      " 98%|█████████▊| 4312/4400 [58:16<00:18,  4.64it/s]"
     ]
    },
    {
     "name": "stdout",
     "output_type": "stream",
     "text": [
      "{'eval_loss': 1.1721742153167725, 'eval_runtime': 0.2504, 'eval_samples_per_second': 155.747, 'eval_steps_per_second': 19.968, 'epoch': 98.0}\n"
     ]
    },
    {
     "name": "stderr",
     "output_type": "stream",
     "text": [
      "                                                   \n",
      " 99%|█████████▉| 4356/4400 [58:52<00:08,  5.15it/s]"
     ]
    },
    {
     "name": "stdout",
     "output_type": "stream",
     "text": [
      "{'eval_loss': 1.1725541353225708, 'eval_runtime': 0.2222, 'eval_samples_per_second': 175.517, 'eval_steps_per_second': 22.502, 'epoch': 99.0}\n"
     ]
    },
    {
     "name": "stderr",
     "output_type": "stream",
     "text": [
      "                                                   \n",
      "100%|██████████| 4400/4400 [59:30<00:00,  4.99it/s]"
     ]
    },
    {
     "name": "stdout",
     "output_type": "stream",
     "text": [
      "{'eval_loss': 1.1726911067962646, 'eval_runtime': 0.2418, 'eval_samples_per_second': 161.264, 'eval_steps_per_second': 20.675, 'epoch': 100.0}\n"
     ]
    },
    {
     "name": "stderr",
     "output_type": "stream",
     "text": [
      "100%|██████████| 4400/4400 [59:57<00:00,  1.22it/s]"
     ]
    },
    {
     "name": "stdout",
     "output_type": "stream",
     "text": [
      "{'train_runtime': 3597.0374, 'train_samples_per_second': 9.619, 'train_steps_per_second': 1.223, 'train_loss': 0.05623467380350286, 'epoch': 100.0}\n"
     ]
    },
    {
     "name": "stderr",
     "output_type": "stream",
     "text": [
      "\n"
     ]
    },
    {
     "data": {
      "text/plain": [
       "TrainOutput(global_step=4400, training_loss=0.05623467380350286, metrics={'train_runtime': 3597.0374, 'train_samples_per_second': 9.619, 'train_steps_per_second': 1.223, 'train_loss': 0.05623467380350286, 'epoch': 100.0})"
      ]
     },
     "execution_count": 12,
     "metadata": {},
     "output_type": "execute_result"
    }
   ],
   "source": [
    "trainer.train()"
   ]
  },
  {
   "cell_type": "code",
   "execution_count": 13,
   "metadata": {},
   "outputs": [],
   "source": [
    "model.save_pretrained(save_path)"
   ]
  },
  {
   "attachments": {},
   "cell_type": "markdown",
   "metadata": {},
   "source": [
    "# Inference"
   ]
  },
  {
   "attachments": {},
   "cell_type": "markdown",
   "metadata": {},
   "source": [
    "## Hasil pytorch"
   ]
  },
  {
   "cell_type": "code",
   "execution_count": 42,
   "metadata": {},
   "outputs": [],
   "source": [
    "tokenizer = AutoTokenizer.from_pretrained(\"Wikidepia/IndoT5-base\")\n",
    "model = T5ForConditionalGeneration.from_pretrained('models/pt-indot5').to('cuda')"
   ]
  },
  {
   "cell_type": "code",
   "execution_count": 46,
   "metadata": {},
   "outputs": [
    {
     "data": {
      "text/plain": [
       "(39, 9)"
      ]
     },
     "execution_count": 46,
     "metadata": {},
     "output_type": "execute_result"
    }
   ],
   "source": [
    "test_df = pd.read_csv('data/quadruplet_test_pred.csv')\n",
    "test_df.shape"
   ]
  },
  {
   "cell_type": "code",
   "execution_count": 44,
   "metadata": {},
   "outputs": [
    {
     "name": "stderr",
     "output_type": "stream",
     "text": [
      "Asking to truncate to max_length but no maximum length is provided and the model has no predefined maximum length. Default to no truncation.\n"
     ]
    }
   ],
   "source": [
    "tokenized_text = tokenizer(test_df['clean_tweet'].values.tolist()\n",
    "          , padding=True, truncation=True, return_tensors=\"pt\")\n",
    "generated_text = model.generate(tokenized_text['input_ids'].to('cuda'), max_length=max_length)\n",
    "pred_text = tokenizer.batch_decode(generated_text, skip_special_tokens=True)"
   ]
  },
  {
   "cell_type": "code",
   "execution_count": 47,
   "metadata": {},
   "outputs": [],
   "source": [
    "test_df['pred_quadruplet_pt_t5'] = pred_text"
   ]
  },
  {
   "cell_type": "code",
   "execution_count": 49,
   "metadata": {},
   "outputs": [],
   "source": [
    "test_df.to_csv('data/quadruplet_test_pred.csv', index=False)"
   ]
  },
  {
   "attachments": {},
   "cell_type": "markdown",
   "metadata": {},
   "source": [
    "## Hasil Tensorflow"
   ]
  },
  {
   "cell_type": "code",
   "execution_count": 50,
   "metadata": {},
   "outputs": [
    {
     "name": "stderr",
     "output_type": "stream",
     "text": [
      "c:\\Users\\danendra\\anaconda3\\envs\\tesis\\lib\\site-packages\\keras\\initializers\\initializers_v2.py:120: UserWarning: The initializer RandomNormal is unseeded and being called multiple times, which will return identical values  each time (even if the initializer is unseeded). Please update your code to provide a seed to the initializer, or avoid using the same initalizer instance more than once.\n",
      "  warnings.warn(\n",
      "All model checkpoint layers were used when initializing TFT5ForConditionalGeneration.\n",
      "\n",
      "All the layers of TFT5ForConditionalGeneration were initialized from the model checkpoint at models/tf-indot5.\n",
      "If your task is similar to the task the model of the checkpoint was trained on, you can already use TFT5ForConditionalGeneration for predictions without further training.\n"
     ]
    }
   ],
   "source": [
    "tokenizer = AutoTokenizer.from_pretrained(\"Wikidepia/IndoT5-base\")\n",
    "model = TFT5ForConditionalGeneration.from_pretrained('models/tf-indot5')"
   ]
  },
  {
   "cell_type": "code",
   "execution_count": 51,
   "metadata": {},
   "outputs": [
    {
     "data": {
      "text/html": [
       "<div>\n",
       "<style scoped>\n",
       "    .dataframe tbody tr th:only-of-type {\n",
       "        vertical-align: middle;\n",
       "    }\n",
       "\n",
       "    .dataframe tbody tr th {\n",
       "        vertical-align: top;\n",
       "    }\n",
       "\n",
       "    .dataframe thead th {\n",
       "        text-align: right;\n",
       "    }\n",
       "</style>\n",
       "<table border=\"1\" class=\"dataframe\">\n",
       "  <thead>\n",
       "    <tr style=\"text-align: right;\">\n",
       "      <th></th>\n",
       "      <th>original_id</th>\n",
       "      <th>content</th>\n",
       "      <th>clean_tweet</th>\n",
       "      <th>final_sentiment</th>\n",
       "      <th>labels</th>\n",
       "      <th>quadruplet</th>\n",
       "      <th>spam</th>\n",
       "      <th>sentiment_label</th>\n",
       "      <th>pred_quadruplet_pt_bart</th>\n",
       "      <th>pred_quadruplet_pt_t5</th>\n",
       "    </tr>\n",
       "  </thead>\n",
       "  <tbody>\n",
       "    <tr>\n",
       "      <th>0</th>\n",
       "      <td>1.640000e+18</td>\n",
       "      <td>@tokopedia min aku udah bayar tapi kenapa diba...</td>\n",
       "      <td>min aku udah bayar tapi kenapa dibatalin pesan...</td>\n",
       "      <td>negative</td>\n",
       "      <td>payment; produk;</td>\n",
       "      <td>(pesananku, udah bayar tapi kenapa dibatalin, ...</td>\n",
       "      <td>NaN</td>\n",
       "      <td>sentiment</td>\n",
       "      <td>(_, kenapa dibatalin pesanan ku, neutral, pay...</td>\n",
       "      <td>(pesananku, udah bayar tapi kenapa dibatalin, ...</td>\n",
       "    </tr>\n",
       "    <tr>\n",
       "      <th>1</th>\n",
       "      <td>1.640000e+18</td>\n",
       "      <td>Seperti biasa menghibungi call center @sicepat...</td>\n",
       "      <td>Seperti biasa menghibungi call center hanya be...</td>\n",
       "      <td>negative</td>\n",
       "      <td>delivery; produk;</td>\n",
       "      <td>(call center, hanya berbelit belit, negative, ...</td>\n",
       "      <td>NaN</td>\n",
       "      <td>sentiment</td>\n",
       "      <td>(cs center, berbelit belit, negative, custome...</td>\n",
       "      <td>(call center, hanya berbelit belit, negative, ...</td>\n",
       "    </tr>\n",
       "    <tr>\n",
       "      <th>2</th>\n",
       "      <td>1.640000e+18</td>\n",
       "      <td>@tanyakanrl alfa kalo jumat-minggu ada promo t...</td>\n",
       "      <td>alfa kalo jumat-minggu ada promo tuh jd murah ...</td>\n",
       "      <td>neutral</td>\n",
       "      <td>price; produk;</td>\n",
       "      <td>(alfa, kalo jumat-minggu ada promo, positive, ...</td>\n",
       "      <td>NaN</td>\n",
       "      <td>sentiment</td>\n",
       "      <td>( jumat-minggu, ada promo, positive, price); ...</td>\n",
       "      <td>(alfa, kalo jumat-minggu ada promo, positive, ...</td>\n",
       "    </tr>\n",
       "    <tr>\n",
       "      <th>3</th>\n",
       "      <td>1.640000e+18</td>\n",
       "      <td>@tokopedia apakah tokopedia care sedang gangguan?</td>\n",
       "      <td>apakah tokopedia care sedang gangguan?</td>\n",
       "      <td>negative</td>\n",
       "      <td>website&amp;apps; produk;</td>\n",
       "      <td>(tokopedia, gangguan, negative, website&amp;apps);</td>\n",
       "      <td>NaN</td>\n",
       "      <td>sentiment</td>\n",
       "      <td>(tokopedia care, sedang gangguan, neutral, we...</td>\n",
       "      <td>(tokopedia care, sedang gangguan, neutral, web...</td>\n",
       "    </tr>\n",
       "    <tr>\n",
       "      <th>4</th>\n",
       "      <td>1.640000e+18</td>\n",
       "      <td>Beli token listrik lewat tokped error, direjec...</td>\n",
       "      <td>Beli token listrik lewat tokped error, direjec...</td>\n",
       "      <td>negative</td>\n",
       "      <td>website&amp;apps; payment; produk;</td>\n",
       "      <td>(token listrik, lewat tokped error, negative, ...</td>\n",
       "      <td>NaN</td>\n",
       "      <td>sentiment</td>\n",
       "      <td>(esim listrik, belum solved beli esim xl, gab...</td>\n",
       "      <td>(token listrik, lewat tokped error, negative, ...</td>\n",
       "    </tr>\n",
       "  </tbody>\n",
       "</table>\n",
       "</div>"
      ],
      "text/plain": [
       "    original_id                                            content  \\\n",
       "0  1.640000e+18  @tokopedia min aku udah bayar tapi kenapa diba...   \n",
       "1  1.640000e+18  Seperti biasa menghibungi call center @sicepat...   \n",
       "2  1.640000e+18  @tanyakanrl alfa kalo jumat-minggu ada promo t...   \n",
       "3  1.640000e+18  @tokopedia apakah tokopedia care sedang gangguan?   \n",
       "4  1.640000e+18  Beli token listrik lewat tokped error, direjec...   \n",
       "\n",
       "                                         clean_tweet final_sentiment  \\\n",
       "0  min aku udah bayar tapi kenapa dibatalin pesan...        negative   \n",
       "1  Seperti biasa menghibungi call center hanya be...        negative   \n",
       "2  alfa kalo jumat-minggu ada promo tuh jd murah ...         neutral   \n",
       "3             apakah tokopedia care sedang gangguan?        negative   \n",
       "4  Beli token listrik lewat tokped error, direjec...        negative   \n",
       "\n",
       "                           labels  \\\n",
       "0                payment; produk;   \n",
       "1               delivery; produk;   \n",
       "2                  price; produk;   \n",
       "3           website&apps; produk;   \n",
       "4  website&apps; payment; produk;   \n",
       "\n",
       "                                          quadruplet  spam sentiment_label  \\\n",
       "0  (pesananku, udah bayar tapi kenapa dibatalin, ...   NaN       sentiment   \n",
       "1  (call center, hanya berbelit belit, negative, ...   NaN       sentiment   \n",
       "2  (alfa, kalo jumat-minggu ada promo, positive, ...   NaN       sentiment   \n",
       "3     (tokopedia, gangguan, negative, website&apps);   NaN       sentiment   \n",
       "4  (token listrik, lewat tokped error, negative, ...   NaN       sentiment   \n",
       "\n",
       "                             pred_quadruplet_pt_bart  \\\n",
       "0   (_, kenapa dibatalin pesanan ku, neutral, pay...   \n",
       "1   (cs center, berbelit belit, negative, custome...   \n",
       "2   ( jumat-minggu, ada promo, positive, price); ...   \n",
       "3   (tokopedia care, sedang gangguan, neutral, we...   \n",
       "4   (esim listrik, belum solved beli esim xl, gab...   \n",
       "\n",
       "                               pred_quadruplet_pt_t5  \n",
       "0  (pesananku, udah bayar tapi kenapa dibatalin, ...  \n",
       "1  (call center, hanya berbelit belit, negative, ...  \n",
       "2  (alfa, kalo jumat-minggu ada promo, positive, ...  \n",
       "3  (tokopedia care, sedang gangguan, neutral, web...  \n",
       "4  (token listrik, lewat tokped error, negative, ...  "
      ]
     },
     "execution_count": 51,
     "metadata": {},
     "output_type": "execute_result"
    }
   ],
   "source": [
    "test_df = pd.read_csv('data/quadruplet_test_pred.csv')\n",
    "test_df.head()"
   ]
  },
  {
   "cell_type": "code",
   "execution_count": 52,
   "metadata": {},
   "outputs": [
    {
     "name": "stderr",
     "output_type": "stream",
     "text": [
      "Asking to truncate to max_length but no maximum length is provided and the model has no predefined maximum length. Default to no truncation.\n"
     ]
    }
   ],
   "source": [
    "tokenized_text = tokenizer(test_df['clean_tweet'].values.tolist()\n",
    "          , padding=True, truncation=True, return_tensors=\"pt\")\n",
    "generated_text = model.generate(tokenized_text['input_ids'], max_length=max_length)\n",
    "pred_text = tokenizer.batch_decode(generated_text, skip_special_tokens=True)"
   ]
  },
  {
   "cell_type": "code",
   "execution_count": 55,
   "metadata": {},
   "outputs": [],
   "source": [
    "test_df['pred_quadruplet_tf_t5'] = pred_text\n",
    "test_df.to_csv('data/quadruplet_test_pred.csv', index=False)"
   ]
  },
  {
   "attachments": {},
   "cell_type": "markdown",
   "metadata": {},
   "source": [
    "# Post-process"
   ]
  },
  {
   "cell_type": "code",
   "execution_count": 28,
   "metadata": {},
   "outputs": [],
   "source": [
    "from Levenshtein import distance"
   ]
  },
  {
   "attachments": {},
   "cell_type": "markdown",
   "metadata": {},
   "source": [
    "extract quadruplet"
   ]
  },
  {
   "cell_type": "code",
   "execution_count": 63,
   "metadata": {},
   "outputs": [],
   "source": [
    "def extract_quadruplet(label):\n",
    "    sample = [quadruplet.replace('(', '[').replace(')', ']') for quadruplet in label.split(';')]\n",
    "    sample = [re.findall('\\[(.*?)\\]', quadruplet) for quadruplet in sample]\n",
    "    quadruplets = []\n",
    "    for quadruplet in sample:\n",
    "        #untuk menghindari quadruplet kosong dari label hasil prediksi\n",
    "        if quadruplet:\n",
    "            quadruplet = quadruplet[0].split(',')\n",
    "            quadruplets.append(tuple(quadruplet))\n",
    "    return quadruplets"
   ]
  },
  {
   "cell_type": "code",
   "execution_count": 65,
   "metadata": {},
   "outputs": [],
   "source": [
    "def compute_f1_scores(pred_pt, gold_pt):\n",
    "    \"\"\"\n",
    "    Function to compute F1 scores with pred and gold pairs/triplets\n",
    "    The input needs to be already processed\n",
    "    \"\"\"\n",
    "    # number of true postive, gold standard, predicted aspect terms\n",
    "    n_tp, n_gold, n_pred = 0, 0, 0\n",
    "\n",
    "    for i in range(len(pred_pt)):\n",
    "        n_gold += len(gold_pt[i])\n",
    "        n_pred += len(pred_pt[i])\n",
    "\n",
    "        for t in pred_pt[i]:\n",
    "            if t in gold_pt[i]:\n",
    "                n_tp += 1\n",
    "\n",
    "    precision = float(n_tp) / float(n_pred) if n_pred != 0 else 0\n",
    "    recall = float(n_tp) / float(n_gold) if n_gold != 0 else 0\n",
    "    f1 = 2 * precision * recall / (precision + recall) if precision != 0 or recall != 0 else 0\n",
    "    scores = {'precision': precision, 'recall': recall, 'f1': f1}\n",
    "\n",
    "    return scores"
   ]
  },
  {
   "cell_type": "code",
   "execution_count": 64,
   "metadata": {},
   "outputs": [
    {
     "name": "stdout",
     "output_type": "stream",
     "text": [
      "[('service', ' quick', ' POS', ' service general')]\n",
      "[('service', ' quick', ' POS', ' service general'), ('service', ' friendly', ' POS', ' service general')]\n"
     ]
    }
   ],
   "source": [
    "idx = random.randint(0, len(x_test))\n",
    "print(extract_quadruplet(pred_quadruplet[idx]))\n",
    "print(extract_quadruplet(y_test[idx]))"
   ]
  },
  {
   "cell_type": "code",
   "execution_count": 66,
   "metadata": {},
   "outputs": [
    {
     "data": {
      "text/plain": [
       "{'precision': 0.25, 'recall': 0.25, 'f1': 0.25}"
      ]
     },
     "execution_count": 66,
     "metadata": {},
     "output_type": "execute_result"
    }
   ],
   "source": [
    "idx = random.randint(0, len(x_test))\n",
    "pred_label = extract_quadruplet(pred_quadruplet[idx])\n",
    "true_label = extract_quadruplet(y_test[idx])\n",
    "compute_f1_scores(pred_label, true_label)"
   ]
  },
  {
   "cell_type": "code",
   "execution_count": 29,
   "metadata": {},
   "outputs": [
    {
     "data": {
      "text/plain": [
       "2"
      ]
     },
     "execution_count": 29,
     "metadata": {},
     "output_type": "execute_result"
    }
   ],
   "source": [
    "distance(\"lewenstein\", \"levenshtein\")"
   ]
  },
  {
   "cell_type": "code",
   "execution_count": 62,
   "metadata": {},
   "outputs": [
    {
     "data": {
      "text/plain": [
       "('a', 'b', 'c')"
      ]
     },
     "execution_count": 62,
     "metadata": {},
     "output_type": "execute_result"
    }
   ],
   "source": [
    "arr = ['a', 'b', 'c']\n",
    "tuple(arr)"
   ]
  },
  {
   "cell_type": "code",
   "execution_count": null,
   "metadata": {},
   "outputs": [],
   "source": []
  }
 ],
 "metadata": {
  "kernelspec": {
   "display_name": "base",
   "language": "python",
   "name": "python3"
  },
  "language_info": {
   "codemirror_mode": {
    "name": "ipython",
    "version": 3
   },
   "file_extension": ".py",
   "mimetype": "text/x-python",
   "name": "python",
   "nbconvert_exporter": "python",
   "pygments_lexer": "ipython3",
   "version": "3.10.11"
  },
  "orig_nbformat": 4,
  "vscode": {
   "interpreter": {
    "hash": "4179a95aa5b49abc81a1f9774c9389b2d4eba524b70fc2f22d886502bea2eb9d"
   }
  }
 },
 "nbformat": 4,
 "nbformat_minor": 2
}
