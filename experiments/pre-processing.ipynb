{
 "cells": [
  {
   "cell_type": "code",
   "execution_count": 1,
   "metadata": {},
   "outputs": [
    {
     "name": "stderr",
     "output_type": "stream",
     "text": [
      "c:\\Users\\danendra\\anaconda3\\envs\\tesis\\lib\\site-packages\\tqdm\\auto.py:21: TqdmWarning: IProgress not found. Please update jupyter and ipywidgets. See https://ipywidgets.readthedocs.io/en/stable/user_install.html\n",
      "  from .autonotebook import tqdm as notebook_tqdm\n"
     ]
    }
   ],
   "source": [
    "from src.finetuner import FineTuner\n",
    "from src.preprocessor import Preprocessor\n",
    "from transformers import (\n",
    "    T5ForConditionalGeneration,\n",
    "    AutoTokenizer,\n",
    "    Seq2SeqTrainingArguments\n",
    ")\n",
    "from datasets import load_dataset"
   ]
  },
  {
   "attachments": {},
   "cell_type": "markdown",
   "metadata": {},
   "source": [
    "# Dataset"
   ]
  },
  {
   "cell_type": "code",
   "execution_count": 4,
   "metadata": {},
   "outputs": [],
   "source": [
    "#constant\n",
    "max_length = 20\n",
    "text_col = 'content'\n",
    "label_col = 'postprocess_quad'\n",
    "preprocess_type = 'p00'\n",
    "SAVE_PATH = f'../models/preprocess_indoT5_quad_{preprocess_type}_avg-len-tokenize_1kdata_max-labels'\n",
    "PRETRAINED_MODEL = \"../models/pt-indot5-MLM_PT\" #\"Wikidepia/IndoT5-base\" \"../models/pt-indot5-MLM_PT\"\n",
    "TOKENIZER_PATH = \"Wikidepia/IndoT5-base\"\n",
    "DATA_PATH = '../Data/quadruplet/quadruplet_1k_clean.csv'"
   ]
  },
  {
   "cell_type": "code",
   "execution_count": 5,
   "metadata": {},
   "outputs": [],
   "source": [
    "tokenizer = AutoTokenizer.from_pretrained(TOKENIZER_PATH)\n",
    "preprocessor = Preprocessor(preprocess_type, tokenizer, max_length, text_col, label_col)"
   ]
  },
  {
   "cell_type": "code",
   "execution_count": 6,
   "metadata": {},
   "outputs": [
    {
     "name": "stderr",
     "output_type": "stream",
     "text": [
      "Found cached dataset csv (C:/Users/danendra/.cache/huggingface/datasets/csv/default-afb3349ada6b2db0/0.0.0/6954658bab30a358235fa864b05cf819af0e179325c740e4bc853bcc7ec513e1)\n",
      "100%|██████████| 1/1 [00:00<00:00, 64.41it/s]\n",
      "Loading cached split indices for dataset at C:\\Users\\danendra\\.cache\\huggingface\\datasets\\csv\\default-afb3349ada6b2db0\\0.0.0\\6954658bab30a358235fa864b05cf819af0e179325c740e4bc853bcc7ec513e1\\cache-0909deac7a1dd8f9.arrow and C:\\Users\\danendra\\.cache\\huggingface\\datasets\\csv\\default-afb3349ada6b2db0\\0.0.0\\6954658bab30a358235fa864b05cf819af0e179325c740e4bc853bcc7ec513e1\\cache-1f57e62b69639f7c.arrow\n",
      "Loading cached processed dataset at C:\\Users\\danendra\\.cache\\huggingface\\datasets\\csv\\default-afb3349ada6b2db0\\0.0.0\\6954658bab30a358235fa864b05cf819af0e179325c740e4bc853bcc7ec513e1\\cache-27503055701ea386.arrow\n",
      "Loading cached processed dataset at C:\\Users\\danendra\\.cache\\huggingface\\datasets\\csv\\default-afb3349ada6b2db0\\0.0.0\\6954658bab30a358235fa864b05cf819af0e179325c740e4bc853bcc7ec513e1\\cache-6a67c90a27fab4a8.arrow\n"
     ]
    }
   ],
   "source": [
    "# raw_dataset = load_dataset('csv', data_files={\n",
    "#     'train' : f'{DATA_PATH}_train.csv',\n",
    "#     'test' : f'{DATA_PATH}_test.csv',\n",
    "#     'val' : f'{DATA_PATH}_val.csv'\n",
    "# })\n",
    "raw_dataset = load_dataset('csv', data_files=DATA_PATH)\n",
    "splitted_dataset = raw_dataset['train'].train_test_split(test_size=100, seed=42)\n",
    "tokenized_dataset = splitted_dataset.map(preprocessor.preprocess_dataset, batched=True, remove_columns=raw_dataset['train'].column_names)"
   ]
  },
  {
   "cell_type": "code",
   "execution_count": 7,
   "metadata": {},
   "outputs": [
    {
     "data": {
      "text/plain": [
       "DatasetDict({\n",
       "    train: Dataset({\n",
       "        features: ['input_ids', 'attention_mask', 'labels'],\n",
       "        num_rows: 900\n",
       "    })\n",
       "    test: Dataset({\n",
       "        features: ['input_ids', 'attention_mask', 'labels'],\n",
       "        num_rows: 100\n",
       "    })\n",
       "})"
      ]
     },
     "execution_count": 7,
     "metadata": {},
     "output_type": "execute_result"
    }
   ],
   "source": [
    "tokenized_dataset"
   ]
  },
  {
   "cell_type": "code",
   "execution_count": 8,
   "metadata": {},
   "outputs": [],
   "source": [
    "len_labels = []\n",
    "len_inputs = []\n",
    "for i in range(len(tokenized_dataset['train'])):\n",
    "    len_labels.append(len(tokenized_dataset['train'][i]['labels']))\n",
    "    len_inputs.append(len(tokenized_dataset['train'][i]['input_ids']))"
   ]
  },
  {
   "cell_type": "code",
   "execution_count": 11,
   "metadata": {},
   "outputs": [
    {
     "data": {
      "text/plain": [
       "(153.0, 20.0)"
      ]
     },
     "execution_count": 11,
     "metadata": {},
     "output_type": "execute_result"
    }
   ],
   "source": [
    "sum(len_labels)/len(len_labels), sum(len_inputs)/len(len_inputs)"
   ]
  },
  {
   "cell_type": "code",
   "execution_count": 12,
   "metadata": {},
   "outputs": [
    {
     "data": {
      "text/plain": [
       "'terlepas dari dia memberikan bintang tapi saya gak percaya, bukan iri iya tapi gak</s>'"
      ]
     },
     "execution_count": 12,
     "metadata": {},
     "output_type": "execute_result"
    }
   ],
   "source": [
    "tokenizer.decode(tokenized_dataset['test']['input_ids'][0])"
   ]
  },
  {
   "cell_type": "code",
   "execution_count": 13,
   "metadata": {},
   "outputs": [
    {
     "data": {
      "text/plain": [
       "'(shopee,kardusnya aja kecil,negative,website&apps)</s><pad><pad><pad><pad><pad><pad><pad><pad><pad><pad><pad><pad><pad><pad><pad><pad><pad><pad><pad><pad><pad><pad><pad><pad><pad><pad><pad><pad><pad><pad><pad><pad><pad><pad><pad><pad><pad><pad><pad><pad><pad><pad><pad><pad><pad><pad><pad><pad><pad><pad><pad><pad><pad><pad><pad><pad><pad><pad><pad><pad><pad><pad><pad><pad><pad><pad><pad><pad><pad><pad><pad><pad><pad><pad><pad><pad><pad><pad><pad>'"
      ]
     },
     "execution_count": 13,
     "metadata": {},
     "output_type": "execute_result"
    }
   ],
   "source": [
    "tokenizer.decode(tokenized_dataset['test']['labels'][0])"
   ]
  },
  {
   "attachments": {},
   "cell_type": "markdown",
   "metadata": {},
   "source": [
    "# Model Training"
   ]
  },
  {
   "cell_type": "code",
   "execution_count": 14,
   "metadata": {},
   "outputs": [],
   "source": [
    "model = T5ForConditionalGeneration.from_pretrained(PRETRAINED_MODEL)\n",
    "#model.resize_token_embeddings(len(tokenizer))"
   ]
  },
  {
   "cell_type": "code",
   "execution_count": 16,
   "metadata": {},
   "outputs": [],
   "source": [
    "#training argument\n",
    "training_args = Seq2SeqTrainingArguments(\n",
    "    SAVE_PATH,\n",
    "    evaluation_strategy=\"epoch\",\n",
    "    save_strategy=\"epoch\",\n",
    "    learning_rate=0.0003,\n",
    "    #weight_decay=0.01,\n",
    "    resume_from_checkpoint=True,\n",
    "    num_train_epochs=10,\n",
    "    save_total_limit=2,\n",
    "    seed=42\n",
    ")"
   ]
  },
  {
   "cell_type": "code",
   "execution_count": 17,
   "metadata": {},
   "outputs": [
    {
     "name": "stdout",
     "output_type": "stream",
     "text": [
      "cuda:0\n"
     ]
    }
   ],
   "source": [
    "finetuner = FineTuner(model=model, save_path=SAVE_PATH, tokenizer=tokenizer, \n",
    "                      train_dataset=tokenized_dataset['train'], eval_dataset=tokenized_dataset['test'])"
   ]
  },
  {
   "cell_type": "code",
   "execution_count": 18,
   "metadata": {},
   "outputs": [
    {
     "name": "stderr",
     "output_type": "stream",
     "text": [
      "c:\\Users\\danendra\\anaconda3\\envs\\tesis\\lib\\site-packages\\transformers\\optimization.py:391: FutureWarning: This implementation of AdamW is deprecated and will be removed in a future version. Use the PyTorch implementation torch.optim.AdamW instead, or set `no_deprecation_warning=True` to disable this warning\n",
      "  warnings.warn(\n",
      "  0%|          | 0/1130 [00:00<?, ?it/s]You're using a T5TokenizerFast tokenizer. Please note that with a fast tokenizer, using the `__call__` method is faster than using a method to encode the text followed by a call to the `pad` method to get a padded encoding.\n",
      "                                                  \n",
      " 10%|█         | 113/1130 [00:38<04:25,  3.83it/s]"
     ]
    },
    {
     "name": "stdout",
     "output_type": "stream",
     "text": [
      "{'eval_loss': 0.5355818867683411, 'eval_runtime': 0.7355, 'eval_samples_per_second': 135.956, 'eval_steps_per_second': 17.674, 'epoch': 1.0}\n"
     ]
    },
    {
     "name": "stderr",
     "output_type": "stream",
     "text": [
      "                                                    \n",
      " 20%|██        | 226/1130 [01:39<04:02,  3.73it/s]"
     ]
    },
    {
     "name": "stdout",
     "output_type": "stream",
     "text": [
      "{'eval_loss': 0.2798810303211212, 'eval_runtime': 0.6809, 'eval_samples_per_second': 146.863, 'eval_steps_per_second': 19.092, 'epoch': 2.0}\n"
     ]
    },
    {
     "name": "stderr",
     "output_type": "stream",
     "text": [
      "                                                    \n",
      " 30%|███       | 339/1130 [02:37<03:22,  3.90it/s]"
     ]
    },
    {
     "name": "stdout",
     "output_type": "stream",
     "text": [
      "{'eval_loss': 0.2593662142753601, 'eval_runtime': 0.6838, 'eval_samples_per_second': 146.234, 'eval_steps_per_second': 19.01, 'epoch': 3.0}\n"
     ]
    },
    {
     "name": "stderr",
     "output_type": "stream",
     "text": [
      "                                                    \n",
      " 40%|████      | 452/1130 [03:41<03:03,  3.69it/s]"
     ]
    },
    {
     "name": "stdout",
     "output_type": "stream",
     "text": [
      "{'eval_loss': 0.2534680664539337, 'eval_runtime': 0.7132, 'eval_samples_per_second': 140.206, 'eval_steps_per_second': 18.227, 'epoch': 4.0}\n"
     ]
    },
    {
     "name": "stderr",
     "output_type": "stream",
     "text": [
      " 44%|████▍     | 500/1130 [04:38<03:47,  2.76it/s]  "
     ]
    },
    {
     "name": "stdout",
     "output_type": "stream",
     "text": [
      "{'loss': 2.2041, 'learning_rate': 0.00016725663716814158, 'epoch': 4.42}\n"
     ]
    },
    {
     "name": "stderr",
     "output_type": "stream",
     "text": [
      "                                                    \n",
      " 50%|█████     | 565/1130 [05:58<04:31,  2.08it/s]"
     ]
    },
    {
     "name": "stdout",
     "output_type": "stream",
     "text": [
      "{'eval_loss': 0.2505800127983093, 'eval_runtime': 2.3419, 'eval_samples_per_second': 42.7, 'eval_steps_per_second': 5.551, 'epoch': 5.0}\n"
     ]
    },
    {
     "name": "stderr",
     "output_type": "stream",
     "text": [
      "                                                    \n",
      " 60%|██████    | 678/1130 [07:34<02:08,  3.51it/s]"
     ]
    },
    {
     "name": "stdout",
     "output_type": "stream",
     "text": [
      "{'eval_loss': 0.2558521330356598, 'eval_runtime': 0.7702, 'eval_samples_per_second': 129.831, 'eval_steps_per_second': 16.878, 'epoch': 6.0}\n"
     ]
    },
    {
     "name": "stderr",
     "output_type": "stream",
     "text": [
      "                                                    \n",
      " 70%|███████   | 791/1130 [09:27<05:13,  1.08it/s]"
     ]
    },
    {
     "name": "stdout",
     "output_type": "stream",
     "text": [
      "{'eval_loss': 0.26107144355773926, 'eval_runtime': 2.3758, 'eval_samples_per_second': 42.092, 'eval_steps_per_second': 5.472, 'epoch': 7.0}\n"
     ]
    },
    {
     "name": "stderr",
     "output_type": "stream",
     "text": [
      "                                                    \n",
      " 80%|████████  | 904/1130 [10:35<01:04,  3.49it/s]"
     ]
    },
    {
     "name": "stdout",
     "output_type": "stream",
     "text": [
      "{'eval_loss': 0.2708034813404083, 'eval_runtime': 0.7511, 'eval_samples_per_second': 133.143, 'eval_steps_per_second': 17.309, 'epoch': 8.0}\n"
     ]
    },
    {
     "name": "stderr",
     "output_type": "stream",
     "text": [
      " 88%|████████▊ | 1000/1130 [11:30<00:41,  3.13it/s]"
     ]
    },
    {
     "name": "stdout",
     "output_type": "stream",
     "text": [
      "{'loss': 0.0969, 'learning_rate': 3.451327433628318e-05, 'epoch': 8.85}\n"
     ]
    },
    {
     "name": "stderr",
     "output_type": "stream",
     "text": [
      "                                                   \n",
      " 90%|█████████ | 1017/1130 [11:36<00:32,  3.50it/s]"
     ]
    },
    {
     "name": "stdout",
     "output_type": "stream",
     "text": [
      "{'eval_loss': 0.2819421887397766, 'eval_runtime': 0.7671, 'eval_samples_per_second': 130.363, 'eval_steps_per_second': 16.947, 'epoch': 9.0}\n"
     ]
    },
    {
     "name": "stderr",
     "output_type": "stream",
     "text": [
      "                                                   \n",
      "100%|██████████| 1130/1130 [12:40<00:00,  3.50it/s]"
     ]
    },
    {
     "name": "stdout",
     "output_type": "stream",
     "text": [
      "{'eval_loss': 0.2843627631664276, 'eval_runtime': 0.7595, 'eval_samples_per_second': 131.671, 'eval_steps_per_second': 17.117, 'epoch': 10.0}\n"
     ]
    },
    {
     "name": "stderr",
     "output_type": "stream",
     "text": [
      "100%|██████████| 1130/1130 [13:10<00:00,  1.43it/s]\n"
     ]
    },
    {
     "name": "stdout",
     "output_type": "stream",
     "text": [
      "{'train_runtime': 790.5296, 'train_samples_per_second': 11.385, 'train_steps_per_second': 1.429, 'train_loss': 1.0264820098876952, 'epoch': 10.0}\n"
     ]
    }
   ],
   "source": [
    "finetuner.fine_tune(training_args)"
   ]
  },
  {
   "cell_type": "code",
   "execution_count": 19,
   "metadata": {},
   "outputs": [],
   "source": [
    "model.save_pretrained(SAVE_PATH)"
   ]
  },
  {
   "attachments": {},
   "cell_type": "markdown",
   "metadata": {},
   "source": [
    "# Training Pipeline"
   ]
  },
  {
   "cell_type": "code",
   "execution_count": 2,
   "metadata": {},
   "outputs": [
    {
     "name": "stderr",
     "output_type": "stream",
     "text": [
      "Found cached dataset csv (C:/Users/danendra/.cache/huggingface/datasets/csv/default-564c7144e159da05/0.0.0/6954658bab30a358235fa864b05cf819af0e179325c740e4bc853bcc7ec513e1)\n",
      "100%|██████████| 1/1 [00:00<00:00, 420.36it/s]\n",
      "Loading cached processed dataset at C:\\Users\\danendra\\.cache\\huggingface\\datasets\\csv\\default-564c7144e159da05\\0.0.0\\6954658bab30a358235fa864b05cf819af0e179325c740e4bc853bcc7ec513e1\\cache-0619265f74d98b9e.arrow\n",
      "Loading cached split indices for dataset at C:\\Users\\danendra\\.cache\\huggingface\\datasets\\csv\\default-564c7144e159da05\\0.0.0\\6954658bab30a358235fa864b05cf819af0e179325c740e4bc853bcc7ec513e1\\cache-5d08aae3a84c90c6.arrow and C:\\Users\\danendra\\.cache\\huggingface\\datasets\\csv\\default-564c7144e159da05\\0.0.0\\6954658bab30a358235fa864b05cf819af0e179325c740e4bc853bcc7ec513e1\\cache-4bae551a5fe5658f.arrow\n"
     ]
    },
    {
     "name": "stdout",
     "output_type": "stream",
     "text": [
      "[INFO] preprocessing dataset for experiment p0\n",
      "[INFO] training model for experiment p0\n"
     ]
    },
    {
     "name": "stderr",
     "output_type": "stream",
     "text": [
      "c:\\Users\\danendra\\anaconda3\\envs\\tesis\\lib\\site-packages\\transformers\\optimization.py:391: FutureWarning: This implementation of AdamW is deprecated and will be removed in a future version. Use the PyTorch implementation torch.optim.AdamW instead, or set `no_deprecation_warning=True` to disable this warning\n",
      "  warnings.warn(\n"
     ]
    },
    {
     "name": "stdout",
     "output_type": "stream",
     "text": [
      "cuda:0\n",
      "cuda:0\n"
     ]
    },
    {
     "name": "stderr",
     "output_type": "stream",
     "text": [
      "  0%|          | 0/2260 [00:00<?, ?it/s]You're using a T5TokenizerFast tokenizer. Please note that with a fast tokenizer, using the `__call__` method is faster than using a method to encode the text followed by a call to the `pad` method to get a padded encoding.\n",
      "                                                  \n",
      "  5%|▌         | 113/2260 [00:21<06:26,  5.56it/s]"
     ]
    },
    {
     "name": "stdout",
     "output_type": "stream",
     "text": [
      "{'eval_loss': 2.2919058799743652, 'eval_runtime': 1.0607, 'eval_samples_per_second': 213.077, 'eval_steps_per_second': 27.342, 'epoch': 1.0}\n"
     ]
    },
    {
     "name": "stderr",
     "output_type": "stream",
     "text": [
      "                                                    \n",
      " 10%|█         | 226/2260 [01:01<05:36,  6.04it/s]"
     ]
    },
    {
     "name": "stdout",
     "output_type": "stream",
     "text": [
      "{'eval_loss': 1.6935251951217651, 'eval_runtime': 1.0732, 'eval_samples_per_second': 210.577, 'eval_steps_per_second': 27.021, 'epoch': 2.0}\n"
     ]
    },
    {
     "name": "stderr",
     "output_type": "stream",
     "text": [
      "                                                    \n",
      " 15%|█▌        | 339/2260 [01:49<05:20,  5.99it/s]"
     ]
    },
    {
     "name": "stdout",
     "output_type": "stream",
     "text": [
      "{'eval_loss': 1.5075335502624512, 'eval_runtime': 1.0707, 'eval_samples_per_second': 211.073, 'eval_steps_per_second': 27.085, 'epoch': 3.0}\n"
     ]
    },
    {
     "name": "stderr",
     "output_type": "stream",
     "text": [
      "                                                    \n",
      " 20%|██        | 452/2260 [02:31<05:03,  5.95it/s]"
     ]
    },
    {
     "name": "stdout",
     "output_type": "stream",
     "text": [
      "{'eval_loss': 1.3850293159484863, 'eval_runtime': 1.2142, 'eval_samples_per_second': 186.125, 'eval_steps_per_second': 23.883, 'epoch': 4.0}\n"
     ]
    },
    {
     "name": "stderr",
     "output_type": "stream",
     "text": [
      " 22%|██▏       | 501/2260 [03:02<05:13,  5.61it/s]  "
     ]
    },
    {
     "name": "stdout",
     "output_type": "stream",
     "text": [
      "{'loss': 2.05, 'learning_rate': 1.5575221238938054e-05, 'epoch': 4.42}\n"
     ]
    },
    {
     "name": "stderr",
     "output_type": "stream",
     "text": [
      "                                                  \n",
      " 25%|██▌       | 565/2260 [03:16<05:58,  4.72it/s]"
     ]
    },
    {
     "name": "stdout",
     "output_type": "stream",
     "text": [
      "{'eval_loss': 1.2826519012451172, 'eval_runtime': 1.2596, 'eval_samples_per_second': 179.425, 'eval_steps_per_second': 23.024, 'epoch': 5.0}\n"
     ]
    },
    {
     "name": "stderr",
     "output_type": "stream",
     "text": [
      "                                                    \n",
      " 30%|███       | 678/2260 [04:02<04:11,  6.29it/s]"
     ]
    },
    {
     "name": "stdout",
     "output_type": "stream",
     "text": [
      "{'eval_loss': 1.204469919204712, 'eval_runtime': 1.0775, 'eval_samples_per_second': 209.749, 'eval_steps_per_second': 26.915, 'epoch': 6.0}\n"
     ]
    },
    {
     "name": "stderr",
     "output_type": "stream",
     "text": [
      "                                                    \n",
      " 35%|███▌      | 791/2260 [04:47<04:13,  5.80it/s]"
     ]
    },
    {
     "name": "stdout",
     "output_type": "stream",
     "text": [
      "{'eval_loss': 1.1226141452789307, 'eval_runtime': 1.0959, 'eval_samples_per_second': 206.225, 'eval_steps_per_second': 26.463, 'epoch': 7.0}\n"
     ]
    },
    {
     "name": "stderr",
     "output_type": "stream",
     "text": [
      "                                                    \n",
      " 40%|████      | 904/2260 [05:30<03:48,  5.95it/s]"
     ]
    },
    {
     "name": "stdout",
     "output_type": "stream",
     "text": [
      "{'eval_loss': 1.0495717525482178, 'eval_runtime': 1.0682, 'eval_samples_per_second': 211.579, 'eval_steps_per_second': 27.149, 'epoch': 8.0}\n"
     ]
    },
    {
     "name": "stderr",
     "output_type": "stream",
     "text": [
      " 44%|████▍     | 1001/2260 [06:10<03:44,  5.62it/s] "
     ]
    },
    {
     "name": "stdout",
     "output_type": "stream",
     "text": [
      "{'loss': 1.045, 'learning_rate': 1.1150442477876106e-05, 'epoch': 8.85}\n"
     ]
    },
    {
     "name": "stderr",
     "output_type": "stream",
     "text": [
      "                                                   \n",
      " 45%|████▌     | 1017/2260 [06:13<03:23,  6.12it/s]"
     ]
    },
    {
     "name": "stdout",
     "output_type": "stream",
     "text": [
      "{'eval_loss': 0.9821604490280151, 'eval_runtime': 1.0893, 'eval_samples_per_second': 207.474, 'eval_steps_per_second': 26.623, 'epoch': 9.0}\n"
     ]
    },
    {
     "name": "stderr",
     "output_type": "stream",
     "text": [
      "                                                     \n",
      " 50%|█████     | 1130/2260 [06:56<03:08,  6.00it/s]"
     ]
    },
    {
     "name": "stdout",
     "output_type": "stream",
     "text": [
      "{'eval_loss': 0.9229294061660767, 'eval_runtime': 1.0675, 'eval_samples_per_second': 211.715, 'eval_steps_per_second': 27.167, 'epoch': 10.0}\n"
     ]
    },
    {
     "name": "stderr",
     "output_type": "stream",
     "text": [
      "                                                     \n",
      " 55%|█████▌    | 1243/2260 [07:41<02:40,  6.33it/s]"
     ]
    },
    {
     "name": "stdout",
     "output_type": "stream",
     "text": [
      "{'eval_loss': 0.8679027557373047, 'eval_runtime': 1.0689, 'eval_samples_per_second': 211.441, 'eval_steps_per_second': 27.132, 'epoch': 11.0}\n"
     ]
    },
    {
     "name": "stderr",
     "output_type": "stream",
     "text": [
      "                                                     \n",
      " 60%|██████    | 1356/2260 [08:28<02:28,  6.08it/s]"
     ]
    },
    {
     "name": "stdout",
     "output_type": "stream",
     "text": [
      "{'eval_loss': 0.8150554895401001, 'eval_runtime': 1.0805, 'eval_samples_per_second': 209.163, 'eval_steps_per_second': 26.839, 'epoch': 12.0}\n"
     ]
    },
    {
     "name": "stderr",
     "output_type": "stream",
     "text": [
      "                                                     \n",
      " 65%|██████▌   | 1469/2260 [09:12<02:17,  5.76it/s]"
     ]
    },
    {
     "name": "stdout",
     "output_type": "stream",
     "text": [
      "{'eval_loss': 0.7708607316017151, 'eval_runtime': 1.0873, 'eval_samples_per_second': 207.849, 'eval_steps_per_second': 26.671, 'epoch': 13.0}\n"
     ]
    },
    {
     "name": "stderr",
     "output_type": "stream",
     "text": [
      " 66%|██████▋   | 1501/2260 [09:40<02:18,  5.47it/s]  "
     ]
    },
    {
     "name": "stdout",
     "output_type": "stream",
     "text": [
      "{'loss': 0.7085, 'learning_rate': 6.72566371681416e-06, 'epoch': 13.27}\n"
     ]
    },
    {
     "name": "stderr",
     "output_type": "stream",
     "text": [
      "                                                   \n",
      " 70%|███████   | 1582/2260 [09:54<02:02,  5.54it/s]"
     ]
    },
    {
     "name": "stdout",
     "output_type": "stream",
     "text": [
      "{'eval_loss': 0.7399626970291138, 'eval_runtime': 1.1075, 'eval_samples_per_second': 204.063, 'eval_steps_per_second': 26.185, 'epoch': 14.0}\n"
     ]
    },
    {
     "name": "stderr",
     "output_type": "stream",
     "text": [
      "                                                     \n",
      " 75%|███████▌  | 1695/2260 [10:42<01:31,  6.21it/s]"
     ]
    },
    {
     "name": "stdout",
     "output_type": "stream",
     "text": [
      "{'eval_loss': 0.7208396196365356, 'eval_runtime': 1.0364, 'eval_samples_per_second': 218.056, 'eval_steps_per_second': 27.981, 'epoch': 15.0}\n"
     ]
    },
    {
     "name": "stderr",
     "output_type": "stream",
     "text": [
      "                                                     \n",
      " 80%|████████  | 1808/2260 [11:25<01:28,  5.13it/s]"
     ]
    },
    {
     "name": "stdout",
     "output_type": "stream",
     "text": [
      "{'eval_loss': 0.709347128868103, 'eval_runtime': 1.1228, 'eval_samples_per_second': 201.283, 'eval_steps_per_second': 25.828, 'epoch': 16.0}\n"
     ]
    },
    {
     "name": "stderr",
     "output_type": "stream",
     "text": [
      "                                                   \n",
      " 85%|████████▌ | 1921/2260 [12:09<01:02,  5.39it/s]"
     ]
    },
    {
     "name": "stdout",
     "output_type": "stream",
     "text": [
      "{'eval_loss': 0.7004119753837585, 'eval_runtime': 1.1687, 'eval_samples_per_second': 193.384, 'eval_steps_per_second': 24.815, 'epoch': 17.0}\n"
     ]
    },
    {
     "name": "stderr",
     "output_type": "stream",
     "text": [
      " 89%|████████▊ | 2001/2260 [12:49<00:48,  5.39it/s]"
     ]
    },
    {
     "name": "stdout",
     "output_type": "stream",
     "text": [
      "{'loss': 0.5465, 'learning_rate': 2.3008849557522127e-06, 'epoch': 17.7}\n"
     ]
    },
    {
     "name": "stderr",
     "output_type": "stream",
     "text": [
      "                                                   \n",
      " 90%|█████████ | 2034/2260 [12:56<00:35,  6.36it/s]"
     ]
    },
    {
     "name": "stdout",
     "output_type": "stream",
     "text": [
      "{'eval_loss': 0.6968504190444946, 'eval_runtime': 1.0491, 'eval_samples_per_second': 215.42, 'eval_steps_per_second': 27.642, 'epoch': 18.0}\n"
     ]
    },
    {
     "name": "stderr",
     "output_type": "stream",
     "text": [
      "                                                   \n",
      " 95%|█████████▌| 2147/2260 [13:40<00:18,  6.25it/s]"
     ]
    },
    {
     "name": "stdout",
     "output_type": "stream",
     "text": [
      "{'eval_loss': 0.6941794157028198, 'eval_runtime': 1.0858, 'eval_samples_per_second': 208.147, 'eval_steps_per_second': 26.709, 'epoch': 19.0}\n"
     ]
    },
    {
     "name": "stderr",
     "output_type": "stream",
     "text": [
      "                                                   \n",
      "100%|██████████| 2260/2260 [14:22<00:00,  5.82it/s]"
     ]
    },
    {
     "name": "stdout",
     "output_type": "stream",
     "text": [
      "{'eval_loss': 0.6934356689453125, 'eval_runtime': 1.0919, 'eval_samples_per_second': 206.971, 'eval_steps_per_second': 26.558, 'epoch': 20.0}\n"
     ]
    },
    {
     "name": "stderr",
     "output_type": "stream",
     "text": [
      "100%|██████████| 2260/2260 [14:48<00:00,  2.54it/s]\n"
     ]
    },
    {
     "name": "stdout",
     "output_type": "stream",
     "text": [
      "{'train_runtime': 888.7706, 'train_samples_per_second': 20.32, 'train_steps_per_second': 2.543, 'train_loss': 1.0219785707186808, 'epoch': 20.0}\n",
      "[INFO] preprocessing dataset for experiment p1\n"
     ]
    },
    {
     "name": "stderr",
     "output_type": "stream",
     "text": [
      "                                                                 "
     ]
    },
    {
     "name": "stdout",
     "output_type": "stream",
     "text": [
      "[INFO] training model for experiment p1\n"
     ]
    },
    {
     "name": "stderr",
     "output_type": "stream",
     "text": [
      "c:\\Users\\danendra\\anaconda3\\envs\\tesis\\lib\\site-packages\\transformers\\optimization.py:391: FutureWarning: This implementation of AdamW is deprecated and will be removed in a future version. Use the PyTorch implementation torch.optim.AdamW instead, or set `no_deprecation_warning=True` to disable this warning\n",
      "  warnings.warn(\n"
     ]
    },
    {
     "name": "stdout",
     "output_type": "stream",
     "text": [
      "cuda:0\n",
      "cuda:0\n"
     ]
    },
    {
     "name": "stderr",
     "output_type": "stream",
     "text": [
      "  5%|▌         | 113/2260 [00:18<05:34,  6.42it/s]\n",
      "  5%|▌         | 113/2260 [00:20<05:34,  6.42it/s]"
     ]
    },
    {
     "name": "stdout",
     "output_type": "stream",
     "text": [
      "{'eval_loss': 2.2919058799743652, 'eval_runtime': 1.0349, 'eval_samples_per_second': 218.388, 'eval_steps_per_second': 28.023, 'epoch': 1.0}\n"
     ]
    },
    {
     "name": "stderr",
     "output_type": "stream",
     "text": [
      " 10%|█         | 226/2260 [01:01<05:29,  6.18it/s]  \n",
      " 10%|█         | 226/2260 [01:02<05:29,  6.18it/s]"
     ]
    },
    {
     "name": "stdout",
     "output_type": "stream",
     "text": [
      "{'eval_loss': 1.6935251951217651, 'eval_runtime': 1.0327, 'eval_samples_per_second': 218.839, 'eval_steps_per_second': 28.081, 'epoch': 2.0}\n"
     ]
    },
    {
     "name": "stderr",
     "output_type": "stream",
     "text": [
      " 15%|█▌        | 339/2260 [01:46<05:30,  5.81it/s]  \n",
      " 15%|█▌        | 339/2260 [01:47<05:30,  5.81it/s]"
     ]
    },
    {
     "name": "stdout",
     "output_type": "stream",
     "text": [
      "{'eval_loss': 1.5075335502624512, 'eval_runtime': 1.1001, 'eval_samples_per_second': 205.441, 'eval_steps_per_second': 26.362, 'epoch': 3.0}\n"
     ]
    },
    {
     "name": "stderr",
     "output_type": "stream",
     "text": [
      " 20%|██        | 452/2260 [02:33<05:25,  5.55it/s]  \n",
      " 20%|██        | 452/2260 [02:34<05:25,  5.55it/s]"
     ]
    },
    {
     "name": "stdout",
     "output_type": "stream",
     "text": [
      "{'eval_loss': 1.3850293159484863, 'eval_runtime': 1.1684, 'eval_samples_per_second': 193.431, 'eval_steps_per_second': 24.821, 'epoch': 4.0}\n"
     ]
    },
    {
     "name": "stderr",
     "output_type": "stream",
     "text": [
      " 22%|██▏       | 501/2260 [03:06<05:20,  5.48it/s]  "
     ]
    },
    {
     "name": "stdout",
     "output_type": "stream",
     "text": [
      "{'loss': 2.05, 'learning_rate': 1.5575221238938054e-05, 'epoch': 4.42}\n"
     ]
    },
    {
     "name": "stderr",
     "output_type": "stream",
     "text": [
      " 25%|██▌       | 565/2260 [03:17<04:33,  6.19it/s]\n",
      " 25%|██▌       | 565/2260 [03:18<04:33,  6.19it/s]"
     ]
    },
    {
     "name": "stdout",
     "output_type": "stream",
     "text": [
      "{'eval_loss': 1.2826519012451172, 'eval_runtime': 1.0303, 'eval_samples_per_second': 219.356, 'eval_steps_per_second': 28.147, 'epoch': 5.0}\n"
     ]
    },
    {
     "name": "stderr",
     "output_type": "stream",
     "text": [
      " 30%|███       | 678/2260 [04:01<04:19,  6.10it/s]  \n",
      " 30%|███       | 678/2260 [04:02<04:19,  6.10it/s]"
     ]
    },
    {
     "name": "stdout",
     "output_type": "stream",
     "text": [
      "{'eval_loss': 1.204469919204712, 'eval_runtime': 1.1313, 'eval_samples_per_second': 199.773, 'eval_steps_per_second': 25.635, 'epoch': 6.0}\n"
     ]
    },
    {
     "name": "stderr",
     "output_type": "stream",
     "text": [
      " 35%|███▌      | 791/2260 [04:47<03:59,  6.13it/s]  \n",
      " 35%|███▌      | 791/2260 [04:48<03:59,  6.13it/s]"
     ]
    },
    {
     "name": "stdout",
     "output_type": "stream",
     "text": [
      "{'eval_loss': 1.1226141452789307, 'eval_runtime': 1.0519, 'eval_samples_per_second': 214.851, 'eval_steps_per_second': 27.569, 'epoch': 7.0}\n"
     ]
    },
    {
     "name": "stderr",
     "output_type": "stream",
     "text": [
      " 40%|████      | 904/2260 [05:30<03:56,  5.73it/s]  \n",
      " 40%|████      | 904/2260 [05:31<03:56,  5.73it/s]"
     ]
    },
    {
     "name": "stdout",
     "output_type": "stream",
     "text": [
      "{'eval_loss': 1.0495717525482178, 'eval_runtime': 1.0573, 'eval_samples_per_second': 213.749, 'eval_steps_per_second': 27.428, 'epoch': 8.0}\n"
     ]
    },
    {
     "name": "stderr",
     "output_type": "stream",
     "text": [
      " 44%|████▍     | 1001/2260 [06:11<03:51,  5.44it/s] "
     ]
    },
    {
     "name": "stdout",
     "output_type": "stream",
     "text": [
      "{'loss': 1.045, 'learning_rate': 1.1150442477876106e-05, 'epoch': 8.85}\n"
     ]
    },
    {
     "name": "stderr",
     "output_type": "stream",
     "text": [
      " 45%|████▌     | 1017/2260 [06:14<03:29,  5.93it/s]\n",
      " 45%|████▌     | 1017/2260 [06:15<03:29,  5.93it/s]"
     ]
    },
    {
     "name": "stdout",
     "output_type": "stream",
     "text": [
      "{'eval_loss': 0.9821604490280151, 'eval_runtime': 1.0913, 'eval_samples_per_second': 207.1, 'eval_steps_per_second': 26.575, 'epoch': 9.0}\n"
     ]
    },
    {
     "name": "stderr",
     "output_type": "stream",
     "text": [
      " 50%|█████     | 1130/2260 [07:00<03:09,  5.95it/s]  \n",
      " 50%|█████     | 1130/2260 [07:01<03:09,  5.95it/s]"
     ]
    },
    {
     "name": "stdout",
     "output_type": "stream",
     "text": [
      "{'eval_loss': 0.9229294061660767, 'eval_runtime': 1.056, 'eval_samples_per_second': 214.025, 'eval_steps_per_second': 27.463, 'epoch': 10.0}\n"
     ]
    },
    {
     "name": "stderr",
     "output_type": "stream",
     "text": [
      " 55%|█████▌    | 1243/2260 [07:44<02:51,  5.92it/s]  \n",
      " 55%|█████▌    | 1243/2260 [07:46<02:51,  5.92it/s]"
     ]
    },
    {
     "name": "stdout",
     "output_type": "stream",
     "text": [
      "{'eval_loss': 0.8679027557373047, 'eval_runtime': 1.0721, 'eval_samples_per_second': 210.809, 'eval_steps_per_second': 27.051, 'epoch': 11.0}\n"
     ]
    },
    {
     "name": "stderr",
     "output_type": "stream",
     "text": [
      " 60%|██████    | 1356/2260 [08:26<02:27,  6.14it/s]  \n",
      " 60%|██████    | 1356/2260 [08:27<02:27,  6.14it/s]"
     ]
    },
    {
     "name": "stdout",
     "output_type": "stream",
     "text": [
      "{'eval_loss': 0.8150554895401001, 'eval_runtime': 1.0697, 'eval_samples_per_second': 211.267, 'eval_steps_per_second': 27.11, 'epoch': 12.0}\n"
     ]
    },
    {
     "name": "stderr",
     "output_type": "stream",
     "text": [
      " 65%|██████▌   | 1469/2260 [09:15<02:14,  5.90it/s]  \n",
      " 65%|██████▌   | 1469/2260 [09:16<02:14,  5.90it/s]"
     ]
    },
    {
     "name": "stdout",
     "output_type": "stream",
     "text": [
      "{'eval_loss': 0.7708607316017151, 'eval_runtime': 1.0648, 'eval_samples_per_second': 212.245, 'eval_steps_per_second': 27.235, 'epoch': 13.0}\n"
     ]
    },
    {
     "name": "stderr",
     "output_type": "stream",
     "text": [
      " 66%|██████▋   | 1501/2260 [09:44<02:16,  5.54it/s]  "
     ]
    },
    {
     "name": "stdout",
     "output_type": "stream",
     "text": [
      "{'loss': 0.7085, 'learning_rate': 6.72566371681416e-06, 'epoch': 13.27}\n"
     ]
    },
    {
     "name": "stderr",
     "output_type": "stream",
     "text": [
      " 70%|███████   | 1582/2260 [09:58<01:57,  5.76it/s]\n",
      " 70%|███████   | 1582/2260 [09:59<01:57,  5.76it/s]"
     ]
    },
    {
     "name": "stdout",
     "output_type": "stream",
     "text": [
      "{'eval_loss': 0.7399626970291138, 'eval_runtime': 1.0733, 'eval_samples_per_second': 210.569, 'eval_steps_per_second': 27.02, 'epoch': 14.0}\n"
     ]
    },
    {
     "name": "stderr",
     "output_type": "stream",
     "text": [
      " 75%|███████▌  | 1695/2260 [10:40<01:36,  5.86it/s]  \n",
      " 75%|███████▌  | 1695/2260 [10:41<01:36,  5.86it/s]"
     ]
    },
    {
     "name": "stdout",
     "output_type": "stream",
     "text": [
      "{'eval_loss': 0.7208396196365356, 'eval_runtime': 1.0949, 'eval_samples_per_second': 206.409, 'eval_steps_per_second': 26.486, 'epoch': 15.0}\n"
     ]
    },
    {
     "name": "stderr",
     "output_type": "stream",
     "text": [
      " 80%|████████  | 1808/2260 [11:30<01:14,  6.07it/s]  \n",
      " 80%|████████  | 1808/2260 [11:31<01:14,  6.07it/s]"
     ]
    },
    {
     "name": "stdout",
     "output_type": "stream",
     "text": [
      "{'eval_loss': 0.709347128868103, 'eval_runtime': 1.0885, 'eval_samples_per_second': 207.623, 'eval_steps_per_second': 26.642, 'epoch': 16.0}\n"
     ]
    },
    {
     "name": "stderr",
     "output_type": "stream",
     "text": [
      " 85%|████████▌ | 1921/2260 [12:13<00:58,  5.76it/s]\n",
      " 85%|████████▌ | 1921/2260 [12:14<00:58,  5.76it/s]"
     ]
    },
    {
     "name": "stdout",
     "output_type": "stream",
     "text": [
      "{'eval_loss': 0.7004119753837585, 'eval_runtime': 1.0818, 'eval_samples_per_second': 208.912, 'eval_steps_per_second': 26.807, 'epoch': 17.0}\n"
     ]
    },
    {
     "name": "stderr",
     "output_type": "stream",
     "text": [
      " 89%|████████▊ | 2001/2260 [12:53<00:48,  5.38it/s]"
     ]
    },
    {
     "name": "stdout",
     "output_type": "stream",
     "text": [
      "{'loss': 0.5465, 'learning_rate': 2.3008849557522127e-06, 'epoch': 17.7}\n"
     ]
    },
    {
     "name": "stderr",
     "output_type": "stream",
     "text": [
      " 90%|█████████ | 2034/2260 [12:59<00:37,  6.04it/s]\n",
      " 90%|█████████ | 2034/2260 [13:00<00:37,  6.04it/s]"
     ]
    },
    {
     "name": "stdout",
     "output_type": "stream",
     "text": [
      "{'eval_loss': 0.6968504190444946, 'eval_runtime': 1.1267, 'eval_samples_per_second': 200.579, 'eval_steps_per_second': 25.738, 'epoch': 18.0}\n"
     ]
    },
    {
     "name": "stderr",
     "output_type": "stream",
     "text": [
      " 95%|█████████▌| 2147/2260 [13:48<00:18,  6.08it/s]\n",
      " 95%|█████████▌| 2147/2260 [13:49<00:18,  6.08it/s]"
     ]
    },
    {
     "name": "stdout",
     "output_type": "stream",
     "text": [
      "{'eval_loss': 0.6941794157028198, 'eval_runtime': 1.0729, 'eval_samples_per_second': 210.637, 'eval_steps_per_second': 27.029, 'epoch': 19.0}\n"
     ]
    },
    {
     "name": "stderr",
     "output_type": "stream",
     "text": [
      "100%|██████████| 2260/2260 [14:31<00:00,  6.03it/s]\n",
      "100%|██████████| 2260/2260 [14:32<00:00,  6.03it/s]"
     ]
    },
    {
     "name": "stdout",
     "output_type": "stream",
     "text": [
      "{'eval_loss': 0.6934356689453125, 'eval_runtime': 1.0964, 'eval_samples_per_second': 206.125, 'eval_steps_per_second': 26.45, 'epoch': 20.0}\n"
     ]
    },
    {
     "name": "stderr",
     "output_type": "stream",
     "text": [
      "100%|██████████| 2260/2260 [14:54<00:00,  2.53it/s]\n"
     ]
    },
    {
     "name": "stdout",
     "output_type": "stream",
     "text": [
      "{'train_runtime': 894.7418, 'train_samples_per_second': 20.185, 'train_steps_per_second': 2.526, 'train_loss': 1.0219785707186808, 'epoch': 20.0}\n",
      "[INFO] preprocessing dataset for experiment p2\n"
     ]
    },
    {
     "name": "stderr",
     "output_type": "stream",
     "text": [
      "                                                                 "
     ]
    },
    {
     "name": "stdout",
     "output_type": "stream",
     "text": [
      "[INFO] training model for experiment p2\n"
     ]
    },
    {
     "name": "stderr",
     "output_type": "stream",
     "text": [
      "\r"
     ]
    },
    {
     "name": "stdout",
     "output_type": "stream",
     "text": [
      "cuda:0\n",
      "cuda:0\n"
     ]
    },
    {
     "name": "stderr",
     "output_type": "stream",
     "text": [
      "c:\\Users\\danendra\\anaconda3\\envs\\tesis\\lib\\site-packages\\transformers\\optimization.py:391: FutureWarning: This implementation of AdamW is deprecated and will be removed in a future version. Use the PyTorch implementation torch.optim.AdamW instead, or set `no_deprecation_warning=True` to disable this warning\n",
      "  warnings.warn(\n",
      "  5%|▌         | 113/2260 [00:19<05:43,  6.24it/s]\n",
      "  5%|▌         | 113/2260 [00:20<05:43,  6.24it/s]"
     ]
    },
    {
     "name": "stdout",
     "output_type": "stream",
     "text": [
      "{'eval_loss': 2.2919058799743652, 'eval_runtime': 1.029, 'eval_samples_per_second': 219.637, 'eval_steps_per_second': 28.184, 'epoch': 1.0}\n"
     ]
    },
    {
     "name": "stderr",
     "output_type": "stream",
     "text": [
      " 10%|█         | 226/2260 [01:07<06:09,  5.50it/s]  \n",
      " 10%|█         | 226/2260 [01:08<06:09,  5.50it/s]"
     ]
    },
    {
     "name": "stdout",
     "output_type": "stream",
     "text": [
      "{'eval_loss': 1.6935251951217651, 'eval_runtime': 1.2246, 'eval_samples_per_second': 184.554, 'eval_steps_per_second': 23.682, 'epoch': 2.0}\n"
     ]
    },
    {
     "name": "stderr",
     "output_type": "stream",
     "text": [
      " 15%|█▌        | 339/2260 [01:50<05:28,  5.84it/s]  \n",
      " 15%|█▌        | 339/2260 [01:51<05:28,  5.84it/s]"
     ]
    },
    {
     "name": "stdout",
     "output_type": "stream",
     "text": [
      "{'eval_loss': 1.5075335502624512, 'eval_runtime': 1.0791, 'eval_samples_per_second': 209.424, 'eval_steps_per_second': 26.873, 'epoch': 3.0}\n"
     ]
    },
    {
     "name": "stderr",
     "output_type": "stream",
     "text": [
      " 20%|██        | 452/2260 [02:34<05:10,  5.83it/s]  \n",
      " 20%|██        | 452/2260 [02:35<05:10,  5.83it/s]"
     ]
    },
    {
     "name": "stdout",
     "output_type": "stream",
     "text": [
      "{'eval_loss': 1.3850293159484863, 'eval_runtime': 1.072, 'eval_samples_per_second': 210.814, 'eval_steps_per_second': 27.051, 'epoch': 4.0}\n"
     ]
    },
    {
     "name": "stderr",
     "output_type": "stream",
     "text": [
      " 22%|██▏       | 501/2260 [03:11<05:29,  5.34it/s]  "
     ]
    },
    {
     "name": "stdout",
     "output_type": "stream",
     "text": [
      "{'loss': 2.05, 'learning_rate': 1.5575221238938054e-05, 'epoch': 4.42}\n"
     ]
    },
    {
     "name": "stderr",
     "output_type": "stream",
     "text": [
      " 25%|██▌       | 565/2260 [03:23<05:08,  5.49it/s]\n",
      " 25%|██▌       | 565/2260 [03:24<05:08,  5.49it/s]"
     ]
    },
    {
     "name": "stdout",
     "output_type": "stream",
     "text": [
      "{'eval_loss': 1.2826519012451172, 'eval_runtime': 1.1115, 'eval_samples_per_second': 203.333, 'eval_steps_per_second': 26.091, 'epoch': 5.0}\n"
     ]
    },
    {
     "name": "stderr",
     "output_type": "stream",
     "text": [
      " 30%|███       | 678/2260 [04:07<04:32,  5.80it/s]  \n",
      " 30%|███       | 678/2260 [04:09<04:32,  5.80it/s]"
     ]
    },
    {
     "name": "stdout",
     "output_type": "stream",
     "text": [
      "{'eval_loss': 1.204469919204712, 'eval_runtime': 1.1775, 'eval_samples_per_second': 191.932, 'eval_steps_per_second': 24.628, 'epoch': 6.0}\n"
     ]
    },
    {
     "name": "stderr",
     "output_type": "stream",
     "text": [
      " 35%|███▌      | 791/2260 [04:50<04:11,  5.84it/s]  \n",
      " 35%|███▌      | 791/2260 [04:51<04:11,  5.84it/s]"
     ]
    },
    {
     "name": "stdout",
     "output_type": "stream",
     "text": [
      "{'eval_loss': 1.1226141452789307, 'eval_runtime': 1.0925, 'eval_samples_per_second': 206.857, 'eval_steps_per_second': 26.544, 'epoch': 7.0}\n"
     ]
    },
    {
     "name": "stderr",
     "output_type": "stream",
     "text": [
      " 40%|████      | 904/2260 [05:37<03:55,  5.75it/s]  \n",
      " 40%|████      | 904/2260 [05:38<03:55,  5.75it/s]"
     ]
    },
    {
     "name": "stdout",
     "output_type": "stream",
     "text": [
      "{'eval_loss': 1.0495717525482178, 'eval_runtime': 1.1311, 'eval_samples_per_second': 199.809, 'eval_steps_per_second': 25.639, 'epoch': 8.0}\n"
     ]
    },
    {
     "name": "stderr",
     "output_type": "stream",
     "text": [
      " 44%|████▍     | 1001/2260 [06:18<03:47,  5.54it/s] "
     ]
    },
    {
     "name": "stdout",
     "output_type": "stream",
     "text": [
      "{'loss': 1.045, 'learning_rate': 1.1150442477876106e-05, 'epoch': 8.85}\n"
     ]
    },
    {
     "name": "stderr",
     "output_type": "stream",
     "text": [
      " 45%|████▌     | 1017/2260 [06:21<03:30,  5.90it/s]\n",
      " 45%|████▌     | 1017/2260 [06:22<03:30,  5.90it/s]"
     ]
    },
    {
     "name": "stdout",
     "output_type": "stream",
     "text": [
      "{'eval_loss': 0.9821604490280151, 'eval_runtime': 1.1075, 'eval_samples_per_second': 204.06, 'eval_steps_per_second': 26.185, 'epoch': 9.0}\n"
     ]
    },
    {
     "name": "stderr",
     "output_type": "stream",
     "text": [
      " 50%|█████     | 1130/2260 [07:06<03:13,  5.84it/s]  \n",
      " 50%|█████     | 1130/2260 [07:07<03:13,  5.84it/s]"
     ]
    },
    {
     "name": "stdout",
     "output_type": "stream",
     "text": [
      "{'eval_loss': 0.9229294061660767, 'eval_runtime': 1.1007, 'eval_samples_per_second': 205.333, 'eval_steps_per_second': 26.348, 'epoch': 10.0}\n"
     ]
    },
    {
     "name": "stderr",
     "output_type": "stream",
     "text": [
      " 55%|█████▌    | 1243/2260 [07:52<03:02,  5.59it/s]  \n",
      " 55%|█████▌    | 1243/2260 [07:53<03:02,  5.59it/s]"
     ]
    },
    {
     "name": "stdout",
     "output_type": "stream",
     "text": [
      "{'eval_loss': 0.8679027557373047, 'eval_runtime': 1.1222, 'eval_samples_per_second': 201.396, 'eval_steps_per_second': 25.843, 'epoch': 11.0}\n"
     ]
    },
    {
     "name": "stderr",
     "output_type": "stream",
     "text": [
      " 60%|██████    | 1356/2260 [08:38<02:44,  5.51it/s]  \n",
      " 60%|██████    | 1356/2260 [08:39<02:44,  5.51it/s]"
     ]
    },
    {
     "name": "stdout",
     "output_type": "stream",
     "text": [
      "{'eval_loss': 0.8150554895401001, 'eval_runtime': 1.1029, 'eval_samples_per_second': 204.92, 'eval_steps_per_second': 26.295, 'epoch': 12.0}\n"
     ]
    },
    {
     "name": "stderr",
     "output_type": "stream",
     "text": [
      " 65%|██████▌   | 1469/2260 [09:22<02:14,  5.87it/s]  \n",
      " 65%|██████▌   | 1469/2260 [09:23<02:14,  5.87it/s]"
     ]
    },
    {
     "name": "stdout",
     "output_type": "stream",
     "text": [
      "{'eval_loss': 0.7708607316017151, 'eval_runtime': 1.0803, 'eval_samples_per_second': 209.208, 'eval_steps_per_second': 26.845, 'epoch': 13.0}\n"
     ]
    },
    {
     "name": "stderr",
     "output_type": "stream",
     "text": [
      " 66%|██████▋   | 1501/2260 [09:55<02:19,  5.44it/s]  "
     ]
    },
    {
     "name": "stdout",
     "output_type": "stream",
     "text": [
      "{'loss': 0.7085, 'learning_rate': 6.72566371681416e-06, 'epoch': 13.27}\n"
     ]
    },
    {
     "name": "stderr",
     "output_type": "stream",
     "text": [
      " 70%|███████   | 1582/2260 [10:09<01:59,  5.65it/s]\n",
      " 70%|███████   | 1582/2260 [10:10<01:59,  5.65it/s]"
     ]
    },
    {
     "name": "stdout",
     "output_type": "stream",
     "text": [
      "{'eval_loss': 0.7399626970291138, 'eval_runtime': 1.1943, 'eval_samples_per_second': 189.231, 'eval_steps_per_second': 24.282, 'epoch': 14.0}\n"
     ]
    },
    {
     "name": "stderr",
     "output_type": "stream",
     "text": [
      " 75%|███████▌  | 1695/2260 [10:56<01:33,  6.04it/s]  \n",
      " 75%|███████▌  | 1695/2260 [10:57<01:33,  6.04it/s]"
     ]
    },
    {
     "name": "stdout",
     "output_type": "stream",
     "text": [
      "{'eval_loss': 0.7208396196365356, 'eval_runtime': 1.1384, 'eval_samples_per_second': 198.532, 'eval_steps_per_second': 25.475, 'epoch': 15.0}\n"
     ]
    },
    {
     "name": "stderr",
     "output_type": "stream",
     "text": [
      " 80%|████████  | 1808/2260 [11:39<01:20,  5.63it/s]  \n",
      " 80%|████████  | 1808/2260 [11:40<01:20,  5.63it/s]"
     ]
    },
    {
     "name": "stdout",
     "output_type": "stream",
     "text": [
      "{'eval_loss': 0.709347128868103, 'eval_runtime': 1.1043, 'eval_samples_per_second': 204.658, 'eval_steps_per_second': 26.261, 'epoch': 16.0}\n"
     ]
    },
    {
     "name": "stderr",
     "output_type": "stream",
     "text": [
      " 85%|████████▌ | 1921/2260 [12:26<01:01,  5.52it/s]  \n",
      " 85%|████████▌ | 1921/2260 [12:27<01:01,  5.52it/s]"
     ]
    },
    {
     "name": "stdout",
     "output_type": "stream",
     "text": [
      "{'eval_loss': 0.7004119753837585, 'eval_runtime': 1.1255, 'eval_samples_per_second': 200.795, 'eval_steps_per_second': 25.766, 'epoch': 17.0}\n"
     ]
    },
    {
     "name": "stderr",
     "output_type": "stream",
     "text": [
      " 89%|████████▊ | 2001/2260 [13:05<00:48,  5.36it/s]"
     ]
    },
    {
     "name": "stdout",
     "output_type": "stream",
     "text": [
      "{'loss': 0.5465, 'learning_rate': 2.3008849557522127e-06, 'epoch': 17.7}\n"
     ]
    },
    {
     "name": "stderr",
     "output_type": "stream",
     "text": [
      " 90%|█████████ | 2034/2260 [13:11<00:38,  5.89it/s]\n",
      " 90%|█████████ | 2034/2260 [13:12<00:38,  5.89it/s]"
     ]
    },
    {
     "name": "stdout",
     "output_type": "stream",
     "text": [
      "{'eval_loss': 0.6968504190444946, 'eval_runtime': 1.1239, 'eval_samples_per_second': 201.085, 'eval_steps_per_second': 25.803, 'epoch': 18.0}\n"
     ]
    },
    {
     "name": "stderr",
     "output_type": "stream",
     "text": [
      " 95%|█████████▌| 2147/2260 [13:56<00:19,  5.94it/s]\n",
      " 95%|█████████▌| 2147/2260 [13:57<00:19,  5.94it/s]"
     ]
    },
    {
     "name": "stdout",
     "output_type": "stream",
     "text": [
      "{'eval_loss': 0.6941794157028198, 'eval_runtime': 1.1049, 'eval_samples_per_second': 204.537, 'eval_steps_per_second': 26.246, 'epoch': 19.0}\n"
     ]
    },
    {
     "name": "stderr",
     "output_type": "stream",
     "text": [
      "100%|██████████| 2260/2260 [14:43<00:00,  5.82it/s]\n",
      "100%|██████████| 2260/2260 [14:44<00:00,  5.82it/s]"
     ]
    },
    {
     "name": "stdout",
     "output_type": "stream",
     "text": [
      "{'eval_loss': 0.6934356689453125, 'eval_runtime': 1.1093, 'eval_samples_per_second': 203.73, 'eval_steps_per_second': 26.142, 'epoch': 20.0}\n"
     ]
    },
    {
     "name": "stderr",
     "output_type": "stream",
     "text": [
      "100%|██████████| 2260/2260 [15:08<00:00,  2.49it/s]\n"
     ]
    },
    {
     "name": "stdout",
     "output_type": "stream",
     "text": [
      "{'train_runtime': 909.6609, 'train_samples_per_second': 19.854, 'train_steps_per_second': 2.484, 'train_loss': 1.0219785707186808, 'epoch': 20.0}\n",
      "[INFO] preprocessing dataset for experiment p3\n"
     ]
    },
    {
     "name": "stderr",
     "output_type": "stream",
     "text": [
      "                                                                 "
     ]
    },
    {
     "name": "stdout",
     "output_type": "stream",
     "text": [
      "[INFO] training model for experiment p3\n"
     ]
    },
    {
     "name": "stderr",
     "output_type": "stream",
     "text": [
      "\r"
     ]
    },
    {
     "name": "stdout",
     "output_type": "stream",
     "text": [
      "cuda:0\n",
      "cuda:0\n"
     ]
    },
    {
     "name": "stderr",
     "output_type": "stream",
     "text": [
      "c:\\Users\\danendra\\anaconda3\\envs\\tesis\\lib\\site-packages\\transformers\\optimization.py:391: FutureWarning: This implementation of AdamW is deprecated and will be removed in a future version. Use the PyTorch implementation torch.optim.AdamW instead, or set `no_deprecation_warning=True` to disable this warning\n",
      "  warnings.warn(\n",
      "  5%|▌         | 113/2260 [00:20<05:55,  6.04it/s]\n",
      "  5%|▌         | 113/2260 [00:21<05:55,  6.04it/s]"
     ]
    },
    {
     "name": "stdout",
     "output_type": "stream",
     "text": [
      "{'eval_loss': 2.2919058799743652, 'eval_runtime': 1.0951, 'eval_samples_per_second': 206.369, 'eval_steps_per_second': 26.481, 'epoch': 1.0}\n"
     ]
    },
    {
     "name": "stderr",
     "output_type": "stream",
     "text": [
      " 10%|█         | 226/2260 [01:03<05:43,  5.93it/s]  \n",
      " 10%|█         | 226/2260 [01:04<05:43,  5.93it/s]"
     ]
    },
    {
     "name": "stdout",
     "output_type": "stream",
     "text": [
      "{'eval_loss': 1.6935251951217651, 'eval_runtime': 1.0952, 'eval_samples_per_second': 206.348, 'eval_steps_per_second': 26.478, 'epoch': 2.0}\n"
     ]
    },
    {
     "name": "stderr",
     "output_type": "stream",
     "text": [
      " 15%|█▌        | 339/2260 [01:50<05:31,  5.79it/s]  \n",
      " 15%|█▌        | 339/2260 [01:51<05:31,  5.79it/s]"
     ]
    },
    {
     "name": "stdout",
     "output_type": "stream",
     "text": [
      "{'eval_loss': 1.5075335502624512, 'eval_runtime': 1.099, 'eval_samples_per_second': 205.641, 'eval_steps_per_second': 26.388, 'epoch': 3.0}\n"
     ]
    },
    {
     "name": "stderr",
     "output_type": "stream",
     "text": [
      " 20%|██        | 452/2260 [02:36<05:14,  5.74it/s]  \n",
      " 20%|██        | 452/2260 [02:37<05:14,  5.74it/s]"
     ]
    },
    {
     "name": "stdout",
     "output_type": "stream",
     "text": [
      "{'eval_loss': 1.3850293159484863, 'eval_runtime': 1.0881, 'eval_samples_per_second': 207.701, 'eval_steps_per_second': 26.652, 'epoch': 4.0}\n"
     ]
    },
    {
     "name": "stderr",
     "output_type": "stream",
     "text": [
      " 22%|██▏       | 501/2260 [03:10<05:24,  5.42it/s]  "
     ]
    },
    {
     "name": "stdout",
     "output_type": "stream",
     "text": [
      "{'loss': 2.05, 'learning_rate': 1.5575221238938054e-05, 'epoch': 4.42}\n"
     ]
    },
    {
     "name": "stderr",
     "output_type": "stream",
     "text": [
      " 25%|██▌       | 565/2260 [03:21<04:48,  5.87it/s]\n",
      " 25%|██▌       | 565/2260 [03:22<04:48,  5.87it/s]"
     ]
    },
    {
     "name": "stdout",
     "output_type": "stream",
     "text": [
      "{'eval_loss': 1.2826519012451172, 'eval_runtime': 1.0873, 'eval_samples_per_second': 207.858, 'eval_steps_per_second': 26.672, 'epoch': 5.0}\n"
     ]
    },
    {
     "name": "stderr",
     "output_type": "stream",
     "text": [
      " 30%|███       | 678/2260 [04:07<04:25,  5.96it/s]  \n",
      " 30%|███       | 678/2260 [04:08<04:25,  5.96it/s]"
     ]
    },
    {
     "name": "stdout",
     "output_type": "stream",
     "text": [
      "{'eval_loss': 1.204469919204712, 'eval_runtime': 1.0891, 'eval_samples_per_second': 207.51, 'eval_steps_per_second': 26.627, 'epoch': 6.0}\n"
     ]
    },
    {
     "name": "stderr",
     "output_type": "stream",
     "text": [
      " 35%|███▌      | 791/2260 [04:54<04:11,  5.84it/s]  \n",
      " 35%|███▌      | 791/2260 [04:55<04:11,  5.84it/s]"
     ]
    },
    {
     "name": "stdout",
     "output_type": "stream",
     "text": [
      "{'eval_loss': 1.1226141452789307, 'eval_runtime': 1.1001, 'eval_samples_per_second': 205.434, 'eval_steps_per_second': 26.361, 'epoch': 7.0}\n"
     ]
    },
    {
     "name": "stderr",
     "output_type": "stream",
     "text": [
      " 40%|████      | 904/2260 [05:39<03:52,  5.84it/s]  \n",
      " 40%|████      | 904/2260 [05:40<03:52,  5.84it/s]"
     ]
    },
    {
     "name": "stdout",
     "output_type": "stream",
     "text": [
      "{'eval_loss': 1.0495717525482178, 'eval_runtime': 1.0918, 'eval_samples_per_second': 207.004, 'eval_steps_per_second': 26.563, 'epoch': 8.0}\n"
     ]
    },
    {
     "name": "stderr",
     "output_type": "stream",
     "text": [
      " 44%|████▍     | 1001/2260 [06:21<03:59,  5.26it/s] "
     ]
    },
    {
     "name": "stdout",
     "output_type": "stream",
     "text": [
      "{'loss': 1.045, 'learning_rate': 1.1150442477876106e-05, 'epoch': 8.85}\n"
     ]
    },
    {
     "name": "stderr",
     "output_type": "stream",
     "text": [
      " 45%|████▌     | 1017/2260 [06:24<03:37,  5.71it/s]\n",
      " 45%|████▌     | 1017/2260 [06:25<03:37,  5.71it/s]"
     ]
    },
    {
     "name": "stdout",
     "output_type": "stream",
     "text": [
      "{'eval_loss': 0.9821604490280151, 'eval_runtime': 1.1376, 'eval_samples_per_second': 198.67, 'eval_steps_per_second': 25.493, 'epoch': 9.0}\n"
     ]
    },
    {
     "name": "stderr",
     "output_type": "stream",
     "text": [
      " 50%|█████     | 1130/2260 [07:08<03:25,  5.49it/s]  \n",
      " 50%|█████     | 1130/2260 [07:09<03:25,  5.49it/s]"
     ]
    },
    {
     "name": "stdout",
     "output_type": "stream",
     "text": [
      "{'eval_loss': 0.9229294061660767, 'eval_runtime': 1.1407, 'eval_samples_per_second': 198.123, 'eval_steps_per_second': 25.423, 'epoch': 10.0}\n"
     ]
    },
    {
     "name": "stderr",
     "output_type": "stream",
     "text": [
      " 55%|█████▌    | 1243/2260 [07:53<02:49,  5.99it/s]  \n",
      " 55%|█████▌    | 1243/2260 [07:54<02:49,  5.99it/s]"
     ]
    },
    {
     "name": "stdout",
     "output_type": "stream",
     "text": [
      "{'eval_loss': 0.8679027557373047, 'eval_runtime': 1.0878, 'eval_samples_per_second': 207.766, 'eval_steps_per_second': 26.66, 'epoch': 11.0}\n"
     ]
    },
    {
     "name": "stderr",
     "output_type": "stream",
     "text": [
      " 60%|██████    | 1356/2260 [08:40<02:26,  6.17it/s]  \n",
      " 60%|██████    | 1356/2260 [08:42<02:26,  6.17it/s]"
     ]
    },
    {
     "name": "stdout",
     "output_type": "stream",
     "text": [
      "{'eval_loss': 0.8150554895401001, 'eval_runtime': 1.1085, 'eval_samples_per_second': 203.877, 'eval_steps_per_second': 26.161, 'epoch': 12.0}\n"
     ]
    },
    {
     "name": "stderr",
     "output_type": "stream",
     "text": [
      " 65%|██████▌   | 1469/2260 [09:24<02:12,  5.98it/s]  \n",
      " 65%|██████▌   | 1469/2260 [09:26<02:12,  5.98it/s]"
     ]
    },
    {
     "name": "stdout",
     "output_type": "stream",
     "text": [
      "{'eval_loss': 0.7708607316017151, 'eval_runtime': 1.0683, 'eval_samples_per_second': 211.542, 'eval_steps_per_second': 27.145, 'epoch': 13.0}\n"
     ]
    },
    {
     "name": "stderr",
     "output_type": "stream",
     "text": [
      " 66%|██████▋   | 1501/2260 [09:54<02:14,  5.66it/s]  "
     ]
    },
    {
     "name": "stdout",
     "output_type": "stream",
     "text": [
      "{'loss': 0.7085, 'learning_rate': 6.72566371681416e-06, 'epoch': 13.27}\n"
     ]
    },
    {
     "name": "stderr",
     "output_type": "stream",
     "text": [
      " 70%|███████   | 1582/2260 [10:08<01:55,  5.90it/s]\n",
      " 70%|███████   | 1582/2260 [10:09<01:55,  5.90it/s]"
     ]
    },
    {
     "name": "stdout",
     "output_type": "stream",
     "text": [
      "{'eval_loss': 0.7399626970291138, 'eval_runtime': 1.0748, 'eval_samples_per_second': 210.267, 'eval_steps_per_second': 26.981, 'epoch': 14.0}\n"
     ]
    },
    {
     "name": "stderr",
     "output_type": "stream",
     "text": [
      " 75%|███████▌  | 1695/2260 [10:51<01:31,  6.16it/s]  \n",
      " 75%|███████▌  | 1695/2260 [10:52<01:31,  6.16it/s]"
     ]
    },
    {
     "name": "stdout",
     "output_type": "stream",
     "text": [
      "{'eval_loss': 0.7208396196365356, 'eval_runtime': 1.0813, 'eval_samples_per_second': 209.009, 'eval_steps_per_second': 26.82, 'epoch': 15.0}\n"
     ]
    },
    {
     "name": "stderr",
     "output_type": "stream",
     "text": [
      " 80%|████████  | 1808/2260 [11:35<01:18,  5.74it/s]  \n",
      " 80%|████████  | 1808/2260 [11:36<01:18,  5.74it/s]"
     ]
    },
    {
     "name": "stdout",
     "output_type": "stream",
     "text": [
      "{'eval_loss': 0.709347128868103, 'eval_runtime': 1.0783, 'eval_samples_per_second': 209.59, 'eval_steps_per_second': 26.894, 'epoch': 16.0}\n"
     ]
    },
    {
     "name": "stderr",
     "output_type": "stream",
     "text": [
      " 85%|████████▌ | 1921/2260 [12:20<00:56,  6.01it/s]\n",
      " 85%|████████▌ | 1921/2260 [12:21<00:56,  6.01it/s]"
     ]
    },
    {
     "name": "stdout",
     "output_type": "stream",
     "text": [
      "{'eval_loss': 0.7004119753837585, 'eval_runtime': 1.0659, 'eval_samples_per_second': 212.024, 'eval_steps_per_second': 27.207, 'epoch': 17.0}\n"
     ]
    },
    {
     "name": "stderr",
     "output_type": "stream",
     "text": [
      " 89%|████████▊ | 2001/2260 [13:03<00:46,  5.57it/s]"
     ]
    },
    {
     "name": "stdout",
     "output_type": "stream",
     "text": [
      "{'loss': 0.5465, 'learning_rate': 2.3008849557522127e-06, 'epoch': 17.7}\n"
     ]
    },
    {
     "name": "stderr",
     "output_type": "stream",
     "text": [
      " 90%|█████████ | 2034/2260 [13:09<00:37,  6.01it/s]\n",
      " 90%|█████████ | 2034/2260 [13:10<00:37,  6.01it/s]"
     ]
    },
    {
     "name": "stdout",
     "output_type": "stream",
     "text": [
      "{'eval_loss': 0.6968504190444946, 'eval_runtime': 1.161, 'eval_samples_per_second': 194.665, 'eval_steps_per_second': 24.979, 'epoch': 18.0}\n"
     ]
    },
    {
     "name": "stderr",
     "output_type": "stream",
     "text": [
      " 95%|█████████▌| 2147/2260 [13:52<00:20,  5.63it/s]\n",
      " 95%|█████████▌| 2147/2260 [13:54<00:20,  5.63it/s]"
     ]
    },
    {
     "name": "stdout",
     "output_type": "stream",
     "text": [
      "{'eval_loss': 0.6941794157028198, 'eval_runtime': 1.3898, 'eval_samples_per_second': 162.617, 'eval_steps_per_second': 20.867, 'epoch': 19.0}\n"
     ]
    },
    {
     "name": "stderr",
     "output_type": "stream",
     "text": [
      "100%|██████████| 2260/2260 [14:37<00:00,  5.71it/s]\n",
      "100%|██████████| 2260/2260 [14:38<00:00,  5.71it/s]"
     ]
    },
    {
     "name": "stdout",
     "output_type": "stream",
     "text": [
      "{'eval_loss': 0.6934356689453125, 'eval_runtime': 1.2494, 'eval_samples_per_second': 180.889, 'eval_steps_per_second': 23.211, 'epoch': 20.0}\n"
     ]
    },
    {
     "name": "stderr",
     "output_type": "stream",
     "text": [
      "100%|██████████| 2260/2260 [15:05<00:00,  2.49it/s]\n"
     ]
    },
    {
     "name": "stdout",
     "output_type": "stream",
     "text": [
      "{'train_runtime': 905.9792, 'train_samples_per_second': 19.934, 'train_steps_per_second': 2.495, 'train_loss': 1.0219785707186808, 'epoch': 20.0}\n"
     ]
    }
   ],
   "source": [
    "#constant\n",
    "SAVE_PATH = f'../models/preprocess_T5'\n",
    "PRETRAINED_MODEL = \"Wikidepia/IndoT5-base\"\n",
    "DATA_PATH = '../Data/quadruplet/quadruplet_annottated_sample_dataset_clean.csv'\n",
    "#variable\n",
    "max_length = 128\n",
    "text_col = 'content'\n",
    "label_col = 'quadruplet'\n",
    "tokenizer = AutoTokenizer.from_pretrained(PRETRAINED_MODEL)\n",
    "#training argument\n",
    "training_args = Seq2SeqTrainingArguments(\n",
    "    SAVE_PATH,\n",
    "    evaluation_strategy=\"epoch\",\n",
    "    save_strategy=\"epoch\",\n",
    "    learning_rate=2e-5,\n",
    "    weight_decay=0.01,\n",
    "    resume_from_checkpoint=True,\n",
    "    num_train_epochs=20,\n",
    "    save_total_limit=2,\n",
    ")\n",
    "#read dataset\n",
    "raw_dataset = load_dataset('csv', data_files=DATA_PATH)\n",
    "#model training\n",
    "for i in range(4):\n",
    "    preprocess_type = f'p0{i}'\n",
    "    print(f\"[INFO] preprocessing dataset for experiment {preprocess_type}\")\n",
    "    #preprocess dataset\n",
    "    preprocessor = Preprocessor(f'{preprocess_type}', tokenizer, max_length, text_col, label_col)\n",
    "    tokenized_dataset = raw_dataset.map(preprocessor.preprocess_dataset, batched=True, remove_columns=raw_dataset['train'].column_names)\n",
    "    splitted_dataset = tokenized_dataset['train'].train_test_split(test_size=0.2, seed=42)\n",
    "    print(f\"[INFO] training model for experiment {preprocess_type}\")\n",
    "    model = T5ForConditionalGeneration.from_pretrained(PRETRAINED_MODEL)\n",
    "    finetuner = FineTuner(model=model, save_path=f\"{SAVE_PATH}_{preprocess_type}\", tokenizer=tokenizer, \n",
    "                      train_dataset=splitted_dataset['train'], eval_dataset=splitted_dataset['test'])\n",
    "    finetuner.fine_tune(training_args)"
   ]
  },
  {
   "attachments": {},
   "cell_type": "markdown",
   "metadata": {},
   "source": [
    "# Inference"
   ]
  },
  {
   "cell_type": "code",
   "execution_count": 21,
   "metadata": {},
   "outputs": [],
   "source": [
    "from src.inference import ModelInference\n",
    "from src.preprocessor import Preprocessor\n",
    "from transformers import (\n",
    "    T5ForConditionalGeneration,\n",
    "    AutoTokenizer,\n",
    ")\n",
    "from datasets import load_dataset"
   ]
  },
  {
   "cell_type": "code",
   "execution_count": 2,
   "metadata": {},
   "outputs": [],
   "source": [
    "#constant\n",
    "max_length = 20\n",
    "text_col = 'content'\n",
    "label_col = 'postprocess_quad'\n",
    "preprocess_type = 'p00'\n",
    "SAVE_PATH = f'../models/preprocess_indoT5_quad_{preprocess_type}_avg-len-tokenize_1kdata_max-labels'\n",
    "PRETRAINED_MODEL = \"../models/pt-indot5-MLM_PT\" #\"Wikidepia/IndoT5-base\" \"../models/pt-indot5-MLM_PT\"\n",
    "TOKENIZER_PATH = \"Wikidepia/IndoT5-base\"\n",
    "DATA_PATH = '../Data/quadruplet/quadruplet_1k_clean.csv'\n",
    "inference_length = 128"
   ]
  },
  {
   "cell_type": "code",
   "execution_count": 3,
   "metadata": {},
   "outputs": [],
   "source": [
    "model = T5ForConditionalGeneration.from_pretrained(SAVE_PATH)\n",
    "tokenizer = AutoTokenizer.from_pretrained(PRETRAINED_MODEL)"
   ]
  },
  {
   "cell_type": "code",
   "execution_count": 4,
   "metadata": {},
   "outputs": [],
   "source": [
    "preprocessor = Preprocessor(preprocess_type, tokenizer, max_length, text_col, label_col)"
   ]
  },
  {
   "cell_type": "code",
   "execution_count": 5,
   "metadata": {},
   "outputs": [
    {
     "name": "stderr",
     "output_type": "stream",
     "text": [
      "Found cached dataset csv (C:/Users/danendra/.cache/huggingface/datasets/csv/default-afb3349ada6b2db0/0.0.0/6954658bab30a358235fa864b05cf819af0e179325c740e4bc853bcc7ec513e1)\n",
      "100%|██████████| 1/1 [00:00<00:00, 100.01it/s]\n",
      "Loading cached split indices for dataset at C:\\Users\\danendra\\.cache\\huggingface\\datasets\\csv\\default-afb3349ada6b2db0\\0.0.0\\6954658bab30a358235fa864b05cf819af0e179325c740e4bc853bcc7ec513e1\\cache-0909deac7a1dd8f9.arrow and C:\\Users\\danendra\\.cache\\huggingface\\datasets\\csv\\default-afb3349ada6b2db0\\0.0.0\\6954658bab30a358235fa864b05cf819af0e179325c740e4bc853bcc7ec513e1\\cache-1f57e62b69639f7c.arrow\n",
      "Loading cached processed dataset at C:\\Users\\danendra\\.cache\\huggingface\\datasets\\csv\\default-afb3349ada6b2db0\\0.0.0\\6954658bab30a358235fa864b05cf819af0e179325c740e4bc853bcc7ec513e1\\cache-27503055701ea386.arrow\n",
      "                                                   \r"
     ]
    }
   ],
   "source": [
    "# raw_dataset = load_dataset('csv', data_files={\n",
    "#     'train' : f'{DATA_PATH}_train.csv',\n",
    "#     'test' : f'{DATA_PATH}_test.csv',\n",
    "#     'val' : f'{DATA_PATH}_val.csv'\n",
    "# })\n",
    "raw_dataset = load_dataset('csv', data_files=DATA_PATH)\n",
    "splitted_dataset = raw_dataset['train'].train_test_split(test_size=100, seed=42)\n",
    "tokenized_dataset = splitted_dataset.map(preprocessor.preprocess_dataset, batched=True, remove_columns=raw_dataset['train'].column_names)"
   ]
  },
  {
   "cell_type": "code",
   "execution_count": 6,
   "metadata": {},
   "outputs": [
    {
     "data": {
      "text/plain": [
       "'bantu jawab bisa dong selama belum klik \"pesanan diterima\" masih bisa ajukan</s>'"
      ]
     },
     "execution_count": 6,
     "metadata": {},
     "output_type": "execute_result"
    }
   ],
   "source": [
    "tokenizer.decode(tokenized_dataset['test']['input_ids'][10])"
   ]
  },
  {
   "cell_type": "code",
   "execution_count": 7,
   "metadata": {},
   "outputs": [
    {
     "data": {
      "text/plain": [
       "'(shopee,uang kita masih ditahan,negative,payment)</s><pad><pad><pad><pad><pad><pad><pad><pad><pad><pad><pad><pad><pad><pad><pad><pad><pad><pad><pad><pad><pad><pad><pad><pad><pad><pad><pad><pad><pad><pad><pad><pad><pad><pad><pad><pad><pad><pad><pad><pad><pad><pad><pad><pad><pad><pad><pad><pad><pad><pad><pad><pad><pad><pad><pad><pad><pad><pad><pad><pad><pad><pad><pad><pad><pad><pad><pad><pad><pad><pad><pad><pad><pad><pad><pad><pad><pad><pad><pad><pad><pad><pad><pad><pad><pad><pad>'"
      ]
     },
     "execution_count": 7,
     "metadata": {},
     "output_type": "execute_result"
    }
   ],
   "source": [
    "tokenizer.decode(tokenized_dataset['test']['labels'][10])"
   ]
  },
  {
   "cell_type": "code",
   "execution_count": 22,
   "metadata": {},
   "outputs": [
    {
     "name": "stderr",
     "output_type": "stream",
     "text": [
      "  0%|          | 0/13 [00:00<?, ?it/s]"
     ]
    },
    {
     "name": "stderr",
     "output_type": "stream",
     "text": [
      "100%|██████████| 13/13 [00:19<00:00,  1.48s/it]\n"
     ]
    }
   ],
   "source": [
    "model_inference = ModelInference(batch_size=8, dataset=tokenized_dataset['test'], model=model, \n",
    "                                 tokenizer=tokenizer, inference_len=512)\n",
    "pred_text = model_inference.inference()"
   ]
  },
  {
   "cell_type": "code",
   "execution_count": 23,
   "metadata": {},
   "outputs": [
    {
     "data": {
      "text/plain": [
       "['(dia,gak percaya,negative,produk)',\n",
       " '(co toples,di disuruh co,positive,produk)',\n",
       " '(jnt,lagi kacau,negative,delivery)',\n",
       " '(shopee,banyak,positive,website&apps)',\n",
       " '(nastar,enak,positive,produk)',\n",
       " '(shopee,baiknya sebentar donk,positive,website&apps)',\n",
       " '(tas,lupa merknya apa,negative,produk)',\n",
       " '(paketanku,belum dikirim,negative,delivery);(paketanku,kapok,negative,delivery)',\n",
       " '(shopee express,lagi gercep bngt ya,positive,delivery)',\n",
       " '(_,belum kepake,negative,produk)',\n",
       " '(pesanan diterima,masih bisa ajukan,positive,delivery)',\n",
       " '(bakwan tipis,lebih enak lah,positive,produk)',\n",
       " '(_,ada datang hari min,positive,delivery)',\n",
       " '(pengiriman,ribet ngajuin retur,negative,delivery);(penjual,ribet ngajuin retur,negative,delivery)',\n",
       " '(paketnya,terlambat datang,negative,delivery)',\n",
       " '(bakwan, kasta tertingi,positive,produk)',\n",
       " '(bola ubi,terlalu manis,negative,produk);(bola ubi,terlalu manis,negative,produk)',\n",
       " '(game di shopee,koin gue ludes,negative,website&apps)',\n",
       " '(tukul sunbae,sudah cocok bgt,positive,produk)',\n",
       " '(olx,udh nempatin,positive,website&apps)',\n",
       " '(video idol kpop,rela menolak spam,negative,website&apps);(video idol kpop,ga beda jauh,negative,website&apps);(video idol kpop,ga beda jauh,negative,website&apps)',\n",
       " '(kurir shopee,sampai sore masih antar paket,positive,delivery)',\n",
       " '(baju shopee,nunggu video dia pakai baju shopee,negative,produk)',\n",
       " '(lagu2 di day,fix milih day,positive,produk)',\n",
       " '(puasa,sering ngajrin,positive,produk)',\n",
       " '(toko oren,jangan di shopee,neutral,website&apps)',\n",
       " '(pihak shopee,dibatalin otomatis,negative,website&apps)',\n",
       " '(kostan,habisin mingu,positive,produk)',\n",
       " '(baju raya,rasa menyesal,negative,produk)',\n",
       " '(baju,pasti pkek baju,positive,produk)',\n",
       " '(olx,gak ada,negative,website&apps)',\n",
       " '(shopee candy,murah,positive,produk)',\n",
       " '(shopee,ribet,negative,website&apps)',\n",
       " '(puzle,ga dikasih,negative,produk)',\n",
       " '(co barang,kirakira bakal sampe,positive,delivery)',\n",
       " '(akun shopee,dibatalin,negative,website&apps);(akun,dibatalin,negative,payment);(shopee,dibatalin,negative,website&apps)',\n",
       " '(motor,langsung hubungi kita,positive,produk);(motor,deal harga,negative,price);(motor,harganya,negative,price);(motor,harganya,negative,price);(motor,harganya,negative,price);(motor,harga,negative,price);(motor,harga,negative,price);(motor,harga,negative,price);(motor,motor,neg laku,neg,neg,neg,neg,neg,negative,negative,negative,negative,negative,negative,negative,negative,negative,negative,negative,negative,negative,negative,negative,negative,negative,negative,negative,negative,negative,negative,negative,price)',\n",
       " '(alamat pengiriman,lupa ganti alamat pengiriman,negative,delivery);(alamat,ga berubah,negative,delivery)',\n",
       " '(shopee,telat bayar,negative,payment)',\n",
       " '(nastar,sering nyangkut,negative,produk)',\n",
       " '(konser gini,jangan main main,negative,produk)',\n",
       " '(bola ubi,enak,positive,produk)',\n",
       " '(produk,pasti chat oficial,positive,produk)',\n",
       " '(indomilk,ga aba aba yak,positive,produk)',\n",
       " '(rasanya hambar,negative,produk)',\n",
       " '(utangnya,serius deh kamu,negative,produk)',\n",
       " '(_,tipis,positive,produk)',\n",
       " '(_,semuanya min,negative,produk)',\n",
       " '(shopee,nemu di shopee,positive,website&apps)',\n",
       " '(olx,banyak loker,positive,produk);(olx,banyak loker,positive,produk)',\n",
       " '(chat mintak arange,kena chat,negative,customerservice)',\n",
       " '(shopee express,kecewa bgt,negative,delivery)',\n",
       " '(shopee thr,gimana cara ngasihnya,negative,website&apps)',\n",
       " '(kemeja,bahannya adem,positive,produk)',\n",
       " '(ninja xpress,nge stuck paket,negative,delivery);(paket,lama bgt,negative,delivery)',\n",
       " '(shopee,ga jelas banget anjir,negative,website&apps)',\n",
       " '(shopee xpress,lebih lancar,positive,delivery)',\n",
       " '(sepatu,banyak,positive,produk)',\n",
       " '(kue lebaran,belum dikirim2,negative,delivery)',\n",
       " '(_,beneran bawa,positive,produk)',\n",
       " '(seller,diem aja,negative,produk)',\n",
       " '(co shopee,alasan ga co shopee,negative,website&apps)',\n",
       " '(_,ga mudik krna gpunya kampung,negative,produk)',\n",
       " '(shopee,mayan mira tu letak link shopee,positive,website&apps)',\n",
       " '(bakwan sunda,rasanya beda,negative,produk)',\n",
       " '(toko shopee,barang masih dlm pengiriman,positive,delivery)',\n",
       " '(shopee,ga bisa,negative,website&apps)',\n",
       " '(shopee food,paling top,positive,website&apps)',\n",
       " '(baju,dicancel,negative,produk)',\n",
       " '(kolomnya,keluar,negative,produk)',\n",
       " '(tiktokshop,lebih laju sampe,positive,produk)',\n",
       " '(shopee xpress,nganter paket jam malem,negative,delivery)',\n",
       " '(shopee cod,diulang2 nanti juga pada bosan,negative,website&apps)',\n",
       " '(_,beneran senak itu,positive,produk)',\n",
       " '(cod,jam segini,positive,delivery)',\n",
       " '(iklannya,paling paling shopee,positive,website&apps)',\n",
       " '(_,enak semua ini,positive,produk)',\n",
       " '(shopee,kenapa sih ya,negative,website&apps)',\n",
       " '(toko rantai,ada bokmark,positive,produk)',\n",
       " '(shopee express,cepet,positive,delivery)',\n",
       " '(transaksi,tidak wajar,negative,payment);(transaksi,tidak wajar,negative,payment);(transaksi,tidak wajar,negative,payment);(transaksi,tidak wajar,negative,payment);(transaksi,tidak wajar,negative,payment);(transaksi,tidak wajar,negative,payment);(transaksi,tidak wajar,negative,payment);(transaksi,tidak wajar,negbrp,neg,negative,negative,negative,negative,negative,negative,negative,negative,negative,negative,negative,negative,negative,negative,negative,negative,negative,negative,negative,negative,negative,negative,negative,negative,negative,payment)',\n",
       " '(diskon shopee,susah lakunya,negative,produk)',\n",
       " '(acesories,ngakak impulsif,positive,produk)',\n",
       " '(resi,salah nempel,negative,produk);(pengembalian dana,dibatelin,negative,payment);(pengembalian dana,dibatelin,negative,payment);(pengembalian,dibatelin,negative,payment);(pengembalian,dibatelin,negative,payment);(pengembalian,dibatelin,negative,payment)',\n",
       " '(shopeedahkhsdklgdshoknfajksdj,semoga dj mj mj mj mj mj mj mj mj mj mj mj mj mj mj mj mj mj mj mj mj mj mj mj mj mj mj mj mj mj mj mj mj mj mj mj mj mj mj mj mj mj mj mj mj mj,j,j,j,j,j,j,j,j,j,neg dj mj mj mj mj mj mj mj mj mj mj mj mj mj mj mj mj mj mj mj mj mj mj mj mj mj mj mj mj mj mj mj mj mj mj mj mj mj mj mj mj mj mj mj mj mj mj mj mj mj mj mj mj mj mj mj mj mj mj mj mj mj mj mj mj mj mj mj mj mj mj mj mj mj mj mj mj mj mj mj mj mj mj mj mj mj mj mj mj mj mj mj mj mj mj mj mj mj mj mj mj mj mj mj mj mj mj mj mj mj mj mj mj mj mj mj mj mj mj mj mj mj mj mj mj mj mj mj mj mj mj mj mj mj mj mj mj mj mj mj mj mj mj mj mj mj mj mj mj mj mj mj mj mj mj mj mj mj mj mj mj mj mj mj mj mj mj mj mj mj mj mj mj mj mj mj mj mj mj mj mj mj mj mj mj mj mj m',\n",
       " '(shopee,anjr ko ada di shopee,positive,website&apps)',\n",
       " '(shopee xpress,masih normal sih,positive,delivery)',\n",
       " '(shopee express,cepetan,positive,delivery)',\n",
       " '(shopee affiliates,bingung masukkan password,negative,website&apps)',\n",
       " '(kreator shopee,suka nyolongin konten orang,negative,website&apps)',\n",
       " '(nastar,kalorinya gede,negative,produk)',\n",
       " '(kurir,tidak setia,negative,produk)',\n",
       " '(shopee,udah aku nunggu,positive,website&apps)',\n",
       " '(beranda shopee,yg muncul di beranda shopee ku,positive,website&apps)',\n",
       " '(olx,lagi kenapa ya,negative,website&apps)',\n",
       " '(sambel,makan pakai sambel,positive,produk)',\n",
       " '(softlens,tawa bgt liatin reviewnya,positive,produk)',\n",
       " '(baju online,gak jadi beli,negative,produk)',\n",
       " '(shopee,baru tau,positive,website&apps)',\n",
       " '(shopee,knp thr lewat,negative,website&apps)']"
      ]
     },
     "execution_count": 23,
     "metadata": {},
     "output_type": "execute_result"
    }
   ],
   "source": [
    "pred_text"
   ]
  },
  {
   "cell_type": "code",
   "execution_count": 24,
   "metadata": {},
   "outputs": [
    {
     "name": "stderr",
     "output_type": "stream",
     "text": [
      "Loading cached processed dataset at C:\\Users\\danendra\\.cache\\huggingface\\datasets\\csv\\default-afb3349ada6b2db0\\0.0.0\\6954658bab30a358235fa864b05cf819af0e179325c740e4bc853bcc7ec513e1\\cache-56bdc66efefa8a6c.arrow\n",
      "Creating CSV from Arrow format: 100%|██████████| 1/1 [00:00<00:00, 11.51ba/s]\n"
     ]
    },
    {
     "data": {
      "text/plain": [
       "54805"
      ]
     },
     "execution_count": 24,
     "metadata": {},
     "output_type": "execute_result"
    }
   ],
   "source": [
    "test_dataset = splitted_dataset['test']\n",
    "test_dataset = test_dataset.add_column(f'{preprocess_type}_model_prediction', pred_text)\n",
    "test_dataset.to_csv('../Data/quadruplet/model_1k-data_avg-length_quad.csv')"
   ]
  },
  {
   "cell_type": "code",
   "execution_count": 11,
   "metadata": {},
   "outputs": [
    {
     "data": {
      "text/plain": [
       "Dataset({\n",
       "    features: ['aoriginal_id', 'content', 'final_sentiment', 'baseline_aspect_category', 'tweet_type', 'clean_tweet', 'quadruplet', 'corrected_quadruplet', 'postprocess_quad', 'p00_model_prediction'],\n",
       "    num_rows: 100\n",
       "})"
      ]
     },
     "execution_count": 11,
     "metadata": {},
     "output_type": "execute_result"
    }
   ],
   "source": [
    "test_dataset"
   ]
  },
  {
   "attachments": {},
   "cell_type": "markdown",
   "metadata": {},
   "source": [
    "# Evaluate"
   ]
  },
  {
   "cell_type": "code",
   "execution_count": 25,
   "metadata": {},
   "outputs": [],
   "source": [
    "import pandas as pd\n",
    "from src.evaluator import Evaluator\n",
    "from src.postprocessor import PostProcessor\n",
    "from src.utils import extract_triplet"
   ]
  },
  {
   "cell_type": "code",
   "execution_count": 26,
   "metadata": {},
   "outputs": [
    {
     "data": {
      "text/html": [
       "<div>\n",
       "<style scoped>\n",
       "    .dataframe tbody tr th:only-of-type {\n",
       "        vertical-align: middle;\n",
       "    }\n",
       "\n",
       "    .dataframe tbody tr th {\n",
       "        vertical-align: top;\n",
       "    }\n",
       "\n",
       "    .dataframe thead th {\n",
       "        text-align: right;\n",
       "    }\n",
       "</style>\n",
       "<table border=\"1\" class=\"dataframe\">\n",
       "  <thead>\n",
       "    <tr style=\"text-align: right;\">\n",
       "      <th></th>\n",
       "      <th>aoriginal_id</th>\n",
       "      <th>content</th>\n",
       "      <th>final_sentiment</th>\n",
       "      <th>baseline_aspect_category</th>\n",
       "      <th>tweet_type</th>\n",
       "      <th>clean_tweet</th>\n",
       "      <th>quadruplet</th>\n",
       "      <th>corrected_quadruplet</th>\n",
       "      <th>postprocess_quad</th>\n",
       "      <th>p00_model_prediction</th>\n",
       "    </tr>\n",
       "  </thead>\n",
       "  <tbody>\n",
       "    <tr>\n",
       "      <th>0</th>\n",
       "      <td>1.646577e+18</td>\n",
       "      <td>terlepas dari dia ngasih bintang 1 tapi gue ga...</td>\n",
       "      <td>negative</td>\n",
       "      <td>produk;</td>\n",
       "      <td>SUBJECTIVE</td>\n",
       "      <td>terlepas dari dia ngasih bintang tapi gue gak ...</td>\n",
       "      <td>(shopee, kardusnya aja kecil, negative, produk)</td>\n",
       "      <td>(shopee, kardusnya aja kecil, negative, websit...</td>\n",
       "      <td>(shopee,kardusnya aja kecil,negative,website&amp;a...</td>\n",
       "      <td>(dia,gak percaya,negative,produk)</td>\n",
       "    </tr>\n",
       "    <tr>\n",
       "      <th>1</th>\n",
       "      <td>1.646630e+18</td>\n",
       "      <td>lu pernah gak lagi ngetik di grup besar disuru...</td>\n",
       "      <td>neutral</td>\n",
       "      <td>produk;</td>\n",
       "      <td>SUBJECTIVE</td>\n",
       "      <td>lu pernah gak lagi ngetik di grup besar disuru...</td>\n",
       "      <td>(shopee, JD SALAH NGETIK, negative, produk)</td>\n",
       "      <td>(shopee, JD SALAH NGETIK, negative, produk)</td>\n",
       "      <td>(shopee,jd salah ngetik,negative,produk)</td>\n",
       "      <td>(co toples,di disuruh co,positive,produk)</td>\n",
       "    </tr>\n",
       "    <tr>\n",
       "      <th>2</th>\n",
       "      <td>1.646949e+18</td>\n",
       "      <td>@discountfess shopee express sih jnt lgi kacau...</td>\n",
       "      <td>negative</td>\n",
       "      <td>website&amp;apps; produk;</td>\n",
       "      <td>SUBJECTIVE</td>\n",
       "      <td>shopee express sih jnt lgi kacau pket gua blm ...</td>\n",
       "      <td>(jnt, lgi kacau, negative, delivery)</td>\n",
       "      <td>(jnt, lgi kacau, negative, delivery)</td>\n",
       "      <td>(jnt,lgi kacau,negative,delivery)</td>\n",
       "      <td>(jnt,lagi kacau,negative,delivery)</td>\n",
       "    </tr>\n",
       "  </tbody>\n",
       "</table>\n",
       "</div>"
      ],
      "text/plain": [
       "   aoriginal_id                                            content  \\\n",
       "0  1.646577e+18  terlepas dari dia ngasih bintang 1 tapi gue ga...   \n",
       "1  1.646630e+18  lu pernah gak lagi ngetik di grup besar disuru...   \n",
       "2  1.646949e+18  @discountfess shopee express sih jnt lgi kacau...   \n",
       "\n",
       "  final_sentiment baseline_aspect_category  tweet_type  \\\n",
       "0        negative                  produk;  SUBJECTIVE   \n",
       "1         neutral                  produk;  SUBJECTIVE   \n",
       "2        negative    website&apps; produk;  SUBJECTIVE   \n",
       "\n",
       "                                         clean_tweet  \\\n",
       "0  terlepas dari dia ngasih bintang tapi gue gak ...   \n",
       "1  lu pernah gak lagi ngetik di grup besar disuru...   \n",
       "2  shopee express sih jnt lgi kacau pket gua blm ...   \n",
       "\n",
       "                                        quadruplet  \\\n",
       "0  (shopee, kardusnya aja kecil, negative, produk)   \n",
       "1      (shopee, JD SALAH NGETIK, negative, produk)   \n",
       "2             (jnt, lgi kacau, negative, delivery)   \n",
       "\n",
       "                                corrected_quadruplet  \\\n",
       "0  (shopee, kardusnya aja kecil, negative, websit...   \n",
       "1        (shopee, JD SALAH NGETIK, negative, produk)   \n",
       "2               (jnt, lgi kacau, negative, delivery)   \n",
       "\n",
       "                                    postprocess_quad  \\\n",
       "0  (shopee,kardusnya aja kecil,negative,website&a...   \n",
       "1           (shopee,jd salah ngetik,negative,produk)   \n",
       "2                  (jnt,lgi kacau,negative,delivery)   \n",
       "\n",
       "                        p00_model_prediction  \n",
       "0          (dia,gak percaya,negative,produk)  \n",
       "1  (co toples,di disuruh co,positive,produk)  \n",
       "2         (jnt,lagi kacau,negative,delivery)  "
      ]
     },
     "execution_count": 26,
     "metadata": {},
     "output_type": "execute_result"
    }
   ],
   "source": [
    "df = pd.read_csv('../Data/quadruplet/model_1k-data_avg-length_quad.csv')\n",
    "df['postprocess_quad'] = df['postprocess_quad'].apply(lambda x:x.lower())\n",
    "df.head(3)"
   ]
  },
  {
   "cell_type": "code",
   "execution_count": 27,
   "metadata": {},
   "outputs": [],
   "source": [
    "postprocessor = PostProcessor(use_postprocess=False)\n",
    "evaluator = Evaluator(task_type='quadruplet', postprocessor=postprocessor)"
   ]
  },
  {
   "cell_type": "code",
   "execution_count": 28,
   "metadata": {},
   "outputs": [
    {
     "name": "stderr",
     "output_type": "stream",
     "text": [
      "100%|██████████| 100/100 [00:00<00:00, 49772.21it/s]\n"
     ]
    }
   ],
   "source": [
    "raw_scores, all_labels, all_preds = evaluator.evaluate(pred_seqs=df['p00_model_prediction'],\n",
    "                   gold_seqs=df['postprocess_quad'])"
   ]
  },
  {
   "cell_type": "code",
   "execution_count": 29,
   "metadata": {},
   "outputs": [
    {
     "data": {
      "text/plain": [
       "{'precision': 0.06976744186046512,\n",
       " 'recall': 0.06569343065693431,\n",
       " 'f1': 0.06766917293233084}"
      ]
     },
     "execution_count": 29,
     "metadata": {},
     "output_type": "execute_result"
    }
   ],
   "source": [
    "raw_scores"
   ]
  },
  {
   "cell_type": "code",
   "execution_count": 26,
   "metadata": {},
   "outputs": [
    {
     "name": "stderr",
     "output_type": "stream",
     "text": [
      "100%|██████████| 1/1 [00:00<?, ?it/s]\n"
     ]
    },
    {
     "data": {
      "text/plain": [
       "({'precision': 0.0, 'recall': 0.0, 'f1': 0},\n",
       " [[('shopee xpress', 'soalnya lama bgt asli', 'negative', 'delivery')]],\n",
       " [[('sicepat', 'lama bgt asli', 'negative', 'delivery')]])"
      ]
     },
     "execution_count": 26,
     "metadata": {},
     "output_type": "execute_result"
    }
   ],
   "source": [
    "evaluator.evaluate(pred_seqs=[df['p00_model_prediction'][0]],\n",
    "                   gold_seqs=[df['quadruplet'][0]])"
   ]
  },
  {
   "cell_type": "code",
   "execution_count": 25,
   "metadata": {},
   "outputs": [
    {
     "data": {
      "text/plain": [
       "content                             @bliblidotcom nastar ga enak njir\n",
       "final_sentiment                                              positive\n",
       "baseline_aspect_category           delivery; customerservice; produk;\n",
       "tweet_type                                                 SUBJECTIVE\n",
       "clean_tweet                                       nastar ga enak njir\n",
       "quadruplet                  (nastar, ga enak njir, negative, produk);\n",
       "triplet_label                        (nastar, ga enak njir, negative)\n",
       "p00_model_prediction                 (nastar, ga enak njir, negative)\n",
       "Name: 5, dtype: object"
      ]
     },
     "execution_count": 25,
     "metadata": {},
     "output_type": "execute_result"
    }
   ],
   "source": [
    "df.iloc[5]"
   ]
  },
  {
   "cell_type": "code",
   "execution_count": 30,
   "metadata": {},
   "outputs": [
    {
     "data": {
      "text/plain": [
       "'(nastar, ga enak njir, negative)'"
      ]
     },
     "execution_count": 30,
     "metadata": {},
     "output_type": "execute_result"
    }
   ],
   "source": [
    "df.iloc[5]['triplet_label']"
   ]
  },
  {
   "cell_type": "code",
   "execution_count": 38,
   "metadata": {},
   "outputs": [
    {
     "name": "stderr",
     "output_type": "stream",
     "text": [
      "100%|██████████| 1/1 [00:00<00:00, 1000.31it/s]\n",
      "100%|██████████| 1/1 [00:00<00:00, 1000.07it/s]\n",
      "100%|██████████| 1/1 [00:00<?, ?it/s]\n",
      "100%|██████████| 1/1 [00:00<?, ?it/s]\n",
      "100%|██████████| 1/1 [00:00<?, ?it/s]\n",
      "100%|██████████| 1/1 [00:00<00:00, 1000.79it/s]\n",
      "100%|██████████| 1/1 [00:00<?, ?it/s]\n",
      "100%|██████████| 1/1 [00:00<00:00, 996.04it/s]\n",
      "100%|██████████| 1/1 [00:00<?, ?it/s]\n",
      "100%|██████████| 1/1 [00:00<?, ?it/s]\n",
      "100%|██████████| 1/1 [00:00<?, ?it/s]\n",
      "100%|██████████| 1/1 [00:00<?, ?it/s]\n",
      "100%|██████████| 1/1 [00:00<?, ?it/s]\n",
      "100%|██████████| 1/1 [00:00<?, ?it/s]\n",
      "100%|██████████| 1/1 [00:00<?, ?it/s]\n",
      "100%|██████████| 1/1 [00:00<?, ?it/s]\n",
      "100%|██████████| 1/1 [00:00<?, ?it/s]\n",
      "100%|██████████| 1/1 [00:00<?, ?it/s]\n",
      "100%|██████████| 1/1 [00:00<00:00, 1001.03it/s]\n",
      "100%|██████████| 1/1 [00:00<?, ?it/s]\n",
      "100%|██████████| 1/1 [00:00<?, ?it/s]\n",
      "100%|██████████| 1/1 [00:00<00:00, 999.12it/s]\n",
      "100%|██████████| 1/1 [00:00<?, ?it/s]\n",
      "100%|██████████| 1/1 [00:00<?, ?it/s]\n",
      "100%|██████████| 1/1 [00:00<?, ?it/s]\n",
      "100%|██████████| 1/1 [00:00<?, ?it/s]\n",
      "100%|██████████| 1/1 [00:00<?, ?it/s]\n",
      "100%|██████████| 1/1 [00:00<?, ?it/s]\n",
      "100%|██████████| 1/1 [00:00<?, ?it/s]\n",
      "100%|██████████| 1/1 [00:00<?, ?it/s]\n",
      "100%|██████████| 1/1 [00:00<?, ?it/s]\n",
      "100%|██████████| 1/1 [00:00<?, ?it/s]\n",
      "100%|██████████| 1/1 [00:00<?, ?it/s]\n",
      "100%|██████████| 1/1 [00:00<?, ?it/s]\n",
      "100%|██████████| 1/1 [00:00<?, ?it/s]\n",
      "100%|██████████| 1/1 [00:00<?, ?it/s]\n",
      "100%|██████████| 1/1 [00:00<?, ?it/s]\n",
      "100%|██████████| 1/1 [00:00<?, ?it/s]\n",
      "100%|██████████| 1/1 [00:00<?, ?it/s]\n",
      "100%|██████████| 1/1 [00:00<00:00, 998.64it/s]\n",
      "100%|██████████| 1/1 [00:00<?, ?it/s]\n",
      "100%|██████████| 1/1 [00:00<?, ?it/s]\n",
      "100%|██████████| 1/1 [00:00<?, ?it/s]\n",
      "100%|██████████| 1/1 [00:00<?, ?it/s]\n",
      "100%|██████████| 1/1 [00:00<?, ?it/s]\n",
      "100%|██████████| 1/1 [00:00<?, ?it/s]\n",
      "100%|██████████| 1/1 [00:00<?, ?it/s]\n",
      "100%|██████████| 1/1 [00:00<?, ?it/s]\n",
      "100%|██████████| 1/1 [00:00<?, ?it/s]\n",
      "100%|██████████| 1/1 [00:00<?, ?it/s]\n",
      "100%|██████████| 1/1 [00:00<?, ?it/s]\n",
      "100%|██████████| 1/1 [00:00<?, ?it/s]\n",
      "100%|██████████| 1/1 [00:00<00:00, 962.66it/s]\n",
      "100%|██████████| 1/1 [00:00<?, ?it/s]\n",
      "100%|██████████| 1/1 [00:00<?, ?it/s]\n",
      "100%|██████████| 1/1 [00:00<?, ?it/s]\n",
      "100%|██████████| 1/1 [00:00<?, ?it/s]\n",
      "100%|██████████| 1/1 [00:00<?, ?it/s]\n",
      "100%|██████████| 1/1 [00:00<?, ?it/s]\n",
      "100%|██████████| 1/1 [00:00<?, ?it/s]\n",
      "100%|██████████| 1/1 [00:00<?, ?it/s]\n",
      "100%|██████████| 1/1 [00:00<00:00, 999.60it/s]\n",
      "100%|██████████| 1/1 [00:00<?, ?it/s]\n",
      "100%|██████████| 1/1 [00:00<?, ?it/s]\n",
      "100%|██████████| 1/1 [00:00<?, ?it/s]\n",
      "100%|██████████| 1/1 [00:00<?, ?it/s]\n",
      "100%|██████████| 1/1 [00:00<?, ?it/s]\n",
      "100%|██████████| 1/1 [00:00<?, ?it/s]\n",
      "100%|██████████| 1/1 [00:00<?, ?it/s]\n",
      "100%|██████████| 1/1 [00:00<?, ?it/s]\n",
      "100%|██████████| 1/1 [00:00<?, ?it/s]\n",
      "100%|██████████| 1/1 [00:00<?, ?it/s]\n",
      "100%|██████████| 1/1 [00:00<?, ?it/s]\n",
      "100%|██████████| 1/1 [00:00<?, ?it/s]\n",
      "100%|██████████| 1/1 [00:00<?, ?it/s]\n",
      "100%|██████████| 1/1 [00:00<?, ?it/s]\n",
      "100%|██████████| 1/1 [00:00<00:00, 1000.07it/s]\n",
      "100%|██████████| 1/1 [00:00<?, ?it/s]\n",
      "100%|██████████| 1/1 [00:00<?, ?it/s]\n",
      "100%|██████████| 1/1 [00:00<00:00, 999.83it/s]\n",
      "100%|██████████| 1/1 [00:00<?, ?it/s]\n",
      "100%|██████████| 1/1 [00:00<?, ?it/s]\n",
      "100%|██████████| 1/1 [00:00<?, ?it/s]\n",
      "100%|██████████| 1/1 [00:00<?, ?it/s]\n",
      "100%|██████████| 1/1 [00:00<?, ?it/s]\n",
      "100%|██████████| 1/1 [00:00<?, ?it/s]\n",
      "100%|██████████| 1/1 [00:00<?, ?it/s]\n",
      "100%|██████████| 1/1 [00:00<?, ?it/s]\n",
      "100%|██████████| 1/1 [00:00<?, ?it/s]\n",
      "100%|██████████| 1/1 [00:00<?, ?it/s]\n",
      "100%|██████████| 1/1 [00:00<?, ?it/s]\n",
      "100%|██████████| 1/1 [00:00<?, ?it/s]\n",
      "100%|██████████| 1/1 [00:00<?, ?it/s]\n",
      "100%|██████████| 1/1 [00:00<00:00, 998.17it/s]\n",
      "100%|██████████| 1/1 [00:00<?, ?it/s]\n",
      "100%|██████████| 1/1 [00:00<?, ?it/s]\n",
      "100%|██████████| 1/1 [00:00<?, ?it/s]\n",
      "100%|██████████| 1/1 [00:00<?, ?it/s]\n",
      "100%|██████████| 1/1 [00:00<?, ?it/s]\n",
      "100%|██████████| 1/1 [00:00<?, ?it/s]\n",
      "100%|██████████| 1/1 [00:00<?, ?it/s]\n",
      "100%|██████████| 1/1 [00:00<00:00, 996.98it/s]\n",
      "100%|██████████| 1/1 [00:00<?, ?it/s]\n",
      "100%|██████████| 1/1 [00:00<?, ?it/s]\n",
      "100%|██████████| 1/1 [00:00<00:00, 1002.70it/s]\n",
      "100%|██████████| 1/1 [00:00<00:00, 997.22it/s]\n",
      "100%|██████████| 1/1 [00:00<?, ?it/s]\n",
      "100%|██████████| 1/1 [00:00<?, ?it/s]\n",
      "100%|██████████| 1/1 [00:00<?, ?it/s]\n",
      "100%|██████████| 1/1 [00:00<?, ?it/s]\n",
      "100%|██████████| 1/1 [00:00<?, ?it/s]\n",
      "100%|██████████| 1/1 [00:00<?, ?it/s]\n",
      "100%|██████████| 1/1 [00:00<?, ?it/s]\n",
      "100%|██████████| 1/1 [00:00<?, ?it/s]\n",
      "100%|██████████| 1/1 [00:00<?, ?it/s]\n",
      "100%|██████████| 1/1 [00:00<?, ?it/s]\n",
      "100%|██████████| 1/1 [00:00<?, ?it/s]\n",
      "100%|██████████| 1/1 [00:00<?, ?it/s]\n",
      "100%|██████████| 1/1 [00:00<?, ?it/s]\n",
      "100%|██████████| 1/1 [00:00<?, ?it/s]\n",
      "100%|██████████| 1/1 [00:00<?, ?it/s]\n",
      "100%|██████████| 1/1 [00:00<?, ?it/s]\n",
      "100%|██████████| 1/1 [00:00<?, ?it/s]\n",
      "100%|██████████| 1/1 [00:00<?, ?it/s]\n",
      "100%|██████████| 1/1 [00:00<?, ?it/s]\n",
      "100%|██████████| 1/1 [00:00<00:00, 1000.55it/s]\n",
      "100%|██████████| 1/1 [00:00<?, ?it/s]\n",
      "100%|██████████| 1/1 [00:00<?, ?it/s]\n",
      "100%|██████████| 1/1 [00:00<?, ?it/s]\n",
      "100%|██████████| 1/1 [00:00<?, ?it/s]\n",
      "100%|██████████| 1/1 [00:00<?, ?it/s]\n",
      "100%|██████████| 1/1 [00:00<?, ?it/s]\n",
      "100%|██████████| 1/1 [00:00<?, ?it/s]\n",
      "100%|██████████| 1/1 [00:00<00:00, 1001.74it/s]\n",
      "100%|██████████| 1/1 [00:00<?, ?it/s]\n",
      "100%|██████████| 1/1 [00:00<?, ?it/s]\n",
      "100%|██████████| 1/1 [00:00<?, ?it/s]\n",
      "100%|██████████| 1/1 [00:00<?, ?it/s]\n",
      "100%|██████████| 1/1 [00:00<?, ?it/s]\n",
      "100%|██████████| 1/1 [00:00<?, ?it/s]\n",
      "100%|██████████| 1/1 [00:00<00:00, 998.17it/s]\n",
      "100%|██████████| 1/1 [00:00<00:00, 998.41it/s]\n",
      "100%|██████████| 1/1 [00:00<00:00, 876.92it/s]\n",
      "100%|██████████| 1/1 [00:00<?, ?it/s]\n",
      "100%|██████████| 1/1 [00:00<?, ?it/s]\n",
      "100%|██████████| 1/1 [00:00<?, ?it/s]\n",
      "100%|██████████| 1/1 [00:00<?, ?it/s]\n",
      "100%|██████████| 1/1 [00:00<?, ?it/s]\n",
      "100%|██████████| 1/1 [00:00<00:00, 999.83it/s]\n",
      "100%|██████████| 1/1 [00:00<?, ?it/s]\n",
      "100%|██████████| 1/1 [00:00<00:00, 1009.22it/s]\n",
      "100%|██████████| 1/1 [00:00<?, ?it/s]\n",
      "100%|██████████| 1/1 [00:00<00:00, 999.36it/s]\n",
      "100%|██████████| 1/1 [00:00<?, ?it/s]\n",
      "100%|██████████| 1/1 [00:00<?, ?it/s]\n",
      "100%|██████████| 1/1 [00:00<?, ?it/s]\n",
      "100%|██████████| 1/1 [00:00<?, ?it/s]\n",
      "100%|██████████| 1/1 [00:00<?, ?it/s]\n",
      "100%|██████████| 1/1 [00:00<?, ?it/s]\n",
      "100%|██████████| 1/1 [00:00<?, ?it/s]\n",
      "100%|██████████| 1/1 [00:00<?, ?it/s]\n",
      "100%|██████████| 1/1 [00:00<?, ?it/s]\n",
      "100%|██████████| 1/1 [00:00<?, ?it/s]\n",
      "100%|██████████| 1/1 [00:00<?, ?it/s]\n",
      "100%|██████████| 1/1 [00:00<?, ?it/s]\n",
      "100%|██████████| 1/1 [00:00<?, ?it/s]\n",
      "100%|██████████| 1/1 [00:00<?, ?it/s]\n",
      "100%|██████████| 1/1 [00:00<?, ?it/s]\n",
      "100%|██████████| 1/1 [00:00<?, ?it/s]\n",
      "100%|██████████| 1/1 [00:00<00:00, 1971.01it/s]\n",
      "100%|██████████| 1/1 [00:00<00:00, 999.60it/s]\n",
      "100%|██████████| 1/1 [00:00<?, ?it/s]\n",
      "100%|██████████| 1/1 [00:00<?, ?it/s]\n",
      "100%|██████████| 1/1 [00:00<?, ?it/s]\n",
      "100%|██████████| 1/1 [00:00<?, ?it/s]\n",
      "100%|██████████| 1/1 [00:00<?, ?it/s]\n",
      "100%|██████████| 1/1 [00:00<00:00, 997.93it/s]\n",
      "100%|██████████| 1/1 [00:00<?, ?it/s]\n",
      "100%|██████████| 1/1 [00:00<?, ?it/s]\n",
      "100%|██████████| 1/1 [00:00<?, ?it/s]\n",
      "100%|██████████| 1/1 [00:00<?, ?it/s]\n",
      "100%|██████████| 1/1 [00:00<?, ?it/s]\n",
      "100%|██████████| 1/1 [00:00<?, ?it/s]\n",
      "100%|██████████| 1/1 [00:00<00:00, 998.88it/s]\n",
      "100%|██████████| 1/1 [00:00<?, ?it/s]\n",
      "100%|██████████| 1/1 [00:00<?, ?it/s]\n",
      "100%|██████████| 1/1 [00:00<00:00, 1001.27it/s]\n",
      "100%|██████████| 1/1 [00:00<?, ?it/s]\n",
      "100%|██████████| 1/1 [00:00<?, ?it/s]\n",
      "100%|██████████| 1/1 [00:00<?, ?it/s]\n",
      "100%|██████████| 1/1 [00:00<?, ?it/s]\n",
      "100%|██████████| 1/1 [00:00<?, ?it/s]\n",
      "100%|██████████| 1/1 [00:00<?, ?it/s]\n",
      "100%|██████████| 1/1 [00:00<?, ?it/s]\n",
      "100%|██████████| 1/1 [00:00<?, ?it/s]\n",
      "100%|██████████| 1/1 [00:00<?, ?it/s]\n",
      "100%|██████████| 1/1 [00:00<?, ?it/s]\n",
      "100%|██████████| 1/1 [00:00<?, ?it/s]\n",
      "100%|██████████| 1/1 [00:00<?, ?it/s]\n",
      "100%|██████████| 1/1 [00:00<?, ?it/s]\n",
      "100%|██████████| 1/1 [00:00<?, ?it/s]\n",
      "100%|██████████| 1/1 [00:00<?, ?it/s]\n",
      "100%|██████████| 1/1 [00:00<?, ?it/s]\n",
      "100%|██████████| 1/1 [00:00<00:00, 999.36it/s]\n",
      "100%|██████████| 1/1 [00:00<?, ?it/s]\n",
      "100%|██████████| 1/1 [00:00<?, ?it/s]\n",
      "100%|██████████| 1/1 [00:00<?, ?it/s]\n",
      "100%|██████████| 1/1 [00:00<?, ?it/s]\n",
      "100%|██████████| 1/1 [00:00<?, ?it/s]\n",
      "100%|██████████| 1/1 [00:00<?, ?it/s]\n",
      "100%|██████████| 1/1 [00:00<?, ?it/s]\n",
      "100%|██████████| 1/1 [00:00<?, ?it/s]\n",
      "100%|██████████| 1/1 [00:00<?, ?it/s]\n",
      "100%|██████████| 1/1 [00:00<?, ?it/s]\n",
      "100%|██████████| 1/1 [00:00<?, ?it/s]\n",
      "100%|██████████| 1/1 [00:00<00:00, 999.60it/s]\n",
      "100%|██████████| 1/1 [00:00<?, ?it/s]\n",
      "100%|██████████| 1/1 [00:00<?, ?it/s]\n",
      "100%|██████████| 1/1 [00:00<?, ?it/s]\n",
      "100%|██████████| 1/1 [00:00<00:00, 1000.55it/s]\n",
      "100%|██████████| 1/1 [00:00<?, ?it/s]\n",
      "100%|██████████| 1/1 [00:00<?, ?it/s]\n",
      "100%|██████████| 1/1 [00:00<?, ?it/s]\n",
      "100%|██████████| 1/1 [00:00<00:00, 600.90it/s]\n",
      "100%|██████████| 1/1 [00:00<?, ?it/s]\n"
     ]
    }
   ],
   "source": [
    "idx_true_pred = []\n",
    "for i in range(len(df)):\n",
    "    row = df.iloc[i]\n",
    "    true_label = row['triplet_label']\n",
    "    pred_label = row['p00_model_prediction']\n",
    "    raw_scores, all_labels, all_preds = evaluator.evaluate(pred_seqs=[pred_label],\n",
    "                   gold_seqs=[true_label])\n",
    "    if raw_scores['precision']==1:\n",
    "        idx_true_pred.append(i)"
   ]
  },
  {
   "cell_type": "code",
   "execution_count": 42,
   "metadata": {},
   "outputs": [],
   "source": [
    "df.iloc[idx_true_pred][['clean_tweet', 'triplet_label', 'p00_model_prediction']].to_csv('../Data/quadruplet/OTE_true_pred_only.csv', index=False)"
   ]
  },
  {
   "cell_type": "code",
   "execution_count": 45,
   "metadata": {},
   "outputs": [
    {
     "data": {
      "text/plain": [
       "6.666666666666667"
      ]
     },
     "execution_count": 45,
     "metadata": {},
     "output_type": "execute_result"
    }
   ],
   "source": [
    "len(idx_true_pred)/df.shape[0]*100"
   ]
  },
  {
   "cell_type": "code",
   "execution_count": 47,
   "metadata": {},
   "outputs": [
    {
     "data": {
      "text/plain": [
       "225"
      ]
     },
     "execution_count": 47,
     "metadata": {},
     "output_type": "execute_result"
    }
   ],
   "source": [
    "df.shape[0]"
   ]
  },
  {
   "cell_type": "code",
   "execution_count": 46,
   "metadata": {},
   "outputs": [
    {
     "data": {
      "text/plain": [
       "15"
      ]
     },
     "execution_count": 46,
     "metadata": {},
     "output_type": "execute_result"
    }
   ],
   "source": [
    "len(idx_true_pred)"
   ]
  }
 ],
 "metadata": {
  "kernelspec": {
   "display_name": "tesis",
   "language": "python",
   "name": "python3"
  },
  "language_info": {
   "codemirror_mode": {
    "name": "ipython",
    "version": 3
   },
   "file_extension": ".py",
   "mimetype": "text/x-python",
   "name": "python",
   "nbconvert_exporter": "python",
   "pygments_lexer": "ipython3",
   "version": "3.10.11"
  },
  "orig_nbformat": 4
 },
 "nbformat": 4,
 "nbformat_minor": 2
}
