{
 "cells": [
  {
   "cell_type": "code",
   "execution_count": 1,
   "metadata": {},
   "outputs": [],
   "source": [
    "import pandas as pd\n",
    "import re\n",
    "import random"
   ]
  },
  {
   "cell_type": "code",
   "execution_count": 3,
   "metadata": {},
   "outputs": [
    {
     "data": {
      "text/html": [
       "<div>\n",
       "<style scoped>\n",
       "    .dataframe tbody tr th:only-of-type {\n",
       "        vertical-align: middle;\n",
       "    }\n",
       "\n",
       "    .dataframe tbody tr th {\n",
       "        vertical-align: top;\n",
       "    }\n",
       "\n",
       "    .dataframe thead th {\n",
       "        text-align: right;\n",
       "    }\n",
       "</style>\n",
       "<table border=\"1\" class=\"dataframe\">\n",
       "  <thead>\n",
       "    <tr style=\"text-align: right;\">\n",
       "      <th></th>\n",
       "      <th>original_id</th>\n",
       "      <th>content</th>\n",
       "      <th>clean_tweet</th>\n",
       "      <th>final_sentiment</th>\n",
       "      <th>labels</th>\n",
       "      <th>quadruplet</th>\n",
       "      <th>spam</th>\n",
       "      <th>sentiment_label</th>\n",
       "      <th>pred_quadruplet_pt_bart</th>\n",
       "      <th>pred_quadruplet_pt_t5</th>\n",
       "      <th>pred_quadruplet_tf_t5</th>\n",
       "    </tr>\n",
       "  </thead>\n",
       "  <tbody>\n",
       "    <tr>\n",
       "      <th>0</th>\n",
       "      <td>1.640000e+18</td>\n",
       "      <td>@tokopedia min aku udah bayar tapi kenapa diba...</td>\n",
       "      <td>min aku udah bayar tapi kenapa dibatalin pesan...</td>\n",
       "      <td>negative</td>\n",
       "      <td>payment; produk;</td>\n",
       "      <td>(pesananku, udah bayar tapi kenapa dibatalin, ...</td>\n",
       "      <td>NaN</td>\n",
       "      <td>sentiment</td>\n",
       "      <td>(_, kenapa dibatalin pesanan ku, neutral, pay...</td>\n",
       "      <td>(pesananku, udah bayar tapi kenapa dibatalin, ...</td>\n",
       "      <td>(pesanan, dibatalin pesanan, negative, delivery);</td>\n",
       "    </tr>\n",
       "  </tbody>\n",
       "</table>\n",
       "</div>"
      ],
      "text/plain": [
       "    original_id                                            content  \\\n",
       "0  1.640000e+18  @tokopedia min aku udah bayar tapi kenapa diba...   \n",
       "\n",
       "                                         clean_tweet final_sentiment  \\\n",
       "0  min aku udah bayar tapi kenapa dibatalin pesan...        negative   \n",
       "\n",
       "             labels                                         quadruplet  spam  \\\n",
       "0  payment; produk;  (pesananku, udah bayar tapi kenapa dibatalin, ...   NaN   \n",
       "\n",
       "  sentiment_label                            pred_quadruplet_pt_bart  \\\n",
       "0       sentiment   (_, kenapa dibatalin pesanan ku, neutral, pay...   \n",
       "\n",
       "                               pred_quadruplet_pt_t5  \\\n",
       "0  (pesananku, udah bayar tapi kenapa dibatalin, ...   \n",
       "\n",
       "                               pred_quadruplet_tf_t5  \n",
       "0  (pesanan, dibatalin pesanan, negative, delivery);  "
      ]
     },
     "execution_count": 3,
     "metadata": {},
     "output_type": "execute_result"
    }
   ],
   "source": [
    "df = pd.read_csv('../Data/quadruplet_test_pred.csv')\n",
    "df.head(1)"
   ]
  },
  {
   "cell_type": "code",
   "execution_count": 4,
   "metadata": {},
   "outputs": [
    {
     "data": {
      "text/plain": [
       "(39, 11)"
      ]
     },
     "execution_count": 4,
     "metadata": {},
     "output_type": "execute_result"
    }
   ],
   "source": [
    "df.shape"
   ]
  },
  {
   "cell_type": "code",
   "execution_count": 5,
   "metadata": {},
   "outputs": [
    {
     "name": "stdout",
     "output_type": "stream",
     "text": [
      "Pake tokped karena ongkirnya murah sekarang malah jadi mehong kek shopee\n",
      "(tokped, ongkirnya sekarang malah mehong, negative, delivery);\n",
      "(tokped, ongkirnya sekarang malah mehong, negative, delivery);\n"
     ]
    }
   ],
   "source": [
    "i = random.randint(0, len(df))\n",
    "row = df.iloc[i]\n",
    "text = row['clean_tweet']\n",
    "ori_quadruplet = row['quadruplet']\n",
    "pred_quadruplet = row['pred_quadruplet_pt_t5']\n",
    "print(text)\n",
    "print(ori_quadruplet)\n",
    "print(pred_quadruplet)"
   ]
  },
  {
   "cell_type": "code",
   "execution_count": 6,
   "metadata": {},
   "outputs": [],
   "source": [
    "def extract_quadruplet(sequence):\n",
    "    extractions = []\n",
    "    # find all matching quadruplet with (); pattern\n",
    "    quadruplets = re.findall(\"\\(.*?\\)\", sequence)\n",
    "    for quadruplet in quadruplets:\n",
    "        # Remove the in the start \"(\"  and at the end \")\".\n",
    "        quadruplet = quadruplet[1:-1]\n",
    "        try:\n",
    "            aspect_term, opinion_term, sentiment, aspect_category = quadruplet.split(', ')\n",
    "        except ValueError:\n",
    "            aspect_term, opinion_term, sentiment, aspect_category = '', '', '', ''\n",
    "        aspect_term = aspect_term.strip().lower()\n",
    "        opinion_term = opinion_term.strip().lower()\n",
    "        sentiment = sentiment.strip().lower()\n",
    "        aspect_category = aspect_category.strip().lower()\n",
    "        extractions.append((aspect_term, opinion_term, sentiment, aspect_category)) \n",
    "    return extractions"
   ]
  },
  {
   "cell_type": "code",
   "execution_count": 7,
   "metadata": {},
   "outputs": [
    {
     "name": "stdout",
     "output_type": "stream",
     "text": [
      "(akun shopee, gak bisa transaksi, negative, website&apps);\n",
      "[('akun shopee', 'gak bisa transaksi', 'negative', 'website&apps')]\n"
     ]
    }
   ],
   "source": [
    "i = random.randint(0, len(df))\n",
    "quad = df.iloc[i]['pred_quadruplet_pt_t5']\n",
    "print(quad)\n",
    "extraction = extract_quadruplet(quad)\n",
    "print(extraction)"
   ]
  },
  {
   "cell_type": "code",
   "execution_count": 8,
   "metadata": {},
   "outputs": [],
   "source": [
    "# == Metrics ==\n",
    "precision_fn = lambda n_tp, n_pred: float(n_tp) / float(n_pred) if n_pred != 0 else 0\n",
    "recall_fn = lambda n_tp, n_gold: float(n_tp) / float(n_gold) if n_gold != 0 else 0\n",
    "f1_fn = (\n",
    "    lambda precision, recall: (2 * precision * recall) / (precision + recall)\n",
    "    if precision != 0 or recall != 0\n",
    "    else 0\n",
    ")\n",
    "\n",
    "\n",
    "def score(pred, gold):\n",
    "    assert len(pred) == len(gold)\n",
    "    n_tp, n_gold, n_pred = 0, 0, 0\n",
    "\n",
    "    for i in range(len(pred)):\n",
    "        n_gold += len(gold[i])\n",
    "        n_pred += len(pred[i])\n",
    "\n",
    "        for t in pred[i]:\n",
    "            if t in gold[i]:\n",
    "                n_tp += 1\n",
    "            \n",
    "\n",
    "    precision = precision_fn(n_tp, n_pred)\n",
    "    recall = recall_fn(n_tp, n_gold)\n",
    "    f1 = f1_fn(precision, recall)\n",
    "\n",
    "    return {\"precision\": precision, \"recall\": recall, \"f1\": f1}"
   ]
  },
  {
   "cell_type": "code",
   "execution_count": 9,
   "metadata": {},
   "outputs": [],
   "source": [
    "# == Evaluation ==\n",
    "#def evaluate(pred_seqs, gold_seqs, postprocessor: IPostprocess, sents, implicit=False):\n",
    "def evaluate(pred_seqs, gold_seqs):\n",
    "    assert len(pred_seqs) == len(gold_seqs)\n",
    "    num_samples = len(gold_seqs)\n",
    "\n",
    "    all_labels, all_preds = [], []\n",
    "\n",
    "    for i in range(num_samples):\n",
    "        gold_list = extract_quadruplet(gold_seqs[i])\n",
    "        pred_list = extract_quadruplet(pred_seqs[i])\n",
    "\n",
    "        all_labels.append(gold_list)\n",
    "        all_preds.append(pred_list)\n",
    "\n",
    "    raw_scores = score(all_preds, all_labels)\n",
    "    return raw_scores, all_labels, all_preds\n",
    "    #all_fixed_preds = postprocessor.check_and_fix_preds(all_preds, sents, implicit)\n",
    "    #fixed_scores = score(all_fixed_preds, all_labels)\n",
    "\n",
    "    #return raw_scores, fixed_scores, all_labels, all_preds, all_fixed_preds"
   ]
  },
  {
   "cell_type": "code",
   "execution_count": 10,
   "metadata": {},
   "outputs": [],
   "source": [
    "raw_scores, all_labels, all_preds = evaluate(df['pred_quadruplet_pt_t5'], df['quadruplet'])"
   ]
  },
  {
   "cell_type": "code",
   "execution_count": 11,
   "metadata": {},
   "outputs": [
    {
     "data": {
      "text/plain": [
       "{'precision': 0.9411764705882353, 'recall': 0.96, 'f1': 0.9504950495049505}"
      ]
     },
     "execution_count": 11,
     "metadata": {},
     "output_type": "execute_result"
    }
   ],
   "source": [
    "raw_scores"
   ]
  },
  {
   "cell_type": "code",
   "execution_count": 53,
   "metadata": {},
   "outputs": [
    {
     "name": "stdout",
     "output_type": "stream",
     "text": [
      "[('login tokped', 'bisa dibantu gaa', 'neutral', 'website&apps')]\n",
      "[('login tokped', 'bisa dibantu gaa', 'neutral', 'website&apps')]\n"
     ]
    }
   ],
   "source": [
    "i = random.randint(0, len(df))\n",
    "print(all_preds[i])\n",
    "print(all_labels[i])"
   ]
  }
 ],
 "metadata": {
  "kernelspec": {
   "display_name": "tesis",
   "language": "python",
   "name": "python3"
  },
  "language_info": {
   "codemirror_mode": {
    "name": "ipython",
    "version": 3
   },
   "file_extension": ".py",
   "mimetype": "text/x-python",
   "name": "python",
   "nbconvert_exporter": "python",
   "pygments_lexer": "ipython3",
   "version": "3.10.11"
  },
  "orig_nbformat": 4
 },
 "nbformat": 4,
 "nbformat_minor": 2
}
