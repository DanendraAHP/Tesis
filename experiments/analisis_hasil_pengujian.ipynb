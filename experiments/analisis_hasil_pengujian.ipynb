{
 "cells": [
  {
   "cell_type": "code",
   "execution_count": 1,
   "metadata": {},
   "outputs": [],
   "source": [
    "import pandas as pd\n",
    "from src.utils import extract_quintuplet\n",
    "from src.evaluator import Evaluator\n",
    "from src.postprocessor import PostProcessor\n",
    "from Levenshtein import distance"
   ]
  },
  {
   "cell_type": "markdown",
   "metadata": {},
   "source": [
    "# Using postprocessor"
   ]
  },
  {
   "cell_type": "code",
   "execution_count": 22,
   "metadata": {},
   "outputs": [
    {
     "name": "stdout",
     "output_type": "stream",
     "text": [
      "<class 'pandas.core.frame.DataFrame'>\n",
      "RangeIndex: 200 entries, 0 to 199\n",
      "Data columns (total 16 columns):\n",
      " #   Column                                Non-Null Count  Dtype \n",
      "---  ------                                --------------  ----- \n",
      " 0   aoriginal_id                          200 non-null    int64 \n",
      " 1   content                               200 non-null    object\n",
      " 2   final_sentiment                       200 non-null    object\n",
      " 3   baseline_aspect_category              195 non-null    object\n",
      " 4   tweet_type                            200 non-null    object\n",
      " 5   clean_tweet                           200 non-null    object\n",
      " 6   label                                 200 non-null    object\n",
      " 7   corrected_label                       25 non-null     object\n",
      " 8   keterangan                            8 non-null      object\n",
      " 9   quintuplet_label                      200 non-null    object\n",
      " 10  postprocess_quintuplet                200 non-null    object\n",
      " 11  p21_model_prediction                  200 non-null    object\n",
      " 12  p00_model_prediction                  200 non-null    object\n",
      " 13  postprocessed_p21_prediction          200 non-null    object\n",
      " 14  postprocessed_postprocess_quintuplet  200 non-null    object\n",
      " 15  postprocessed_p00_prediction          200 non-null    object\n",
      "dtypes: int64(1), object(15)\n",
      "memory usage: 25.1+ KB\n"
     ]
    }
   ],
   "source": [
    "df = pd.read_csv('../Data/test_data.csv')\n",
    "df.info()"
   ]
  },
  {
   "cell_type": "code",
   "execution_count": 9,
   "metadata": {},
   "outputs": [],
   "source": [
    "df['content'] = df['content'].apply(lambda x:x.lower())"
   ]
  },
  {
   "cell_type": "code",
   "execution_count": 10,
   "metadata": {},
   "outputs": [],
   "source": [
    "postprocessor = PostProcessor(use_postprocess=True)\n",
    "evaluator = Evaluator(task_type='quintuplet')"
   ]
  },
  {
   "cell_type": "code",
   "execution_count": 11,
   "metadata": {},
   "outputs": [],
   "source": [
    "exp_type = 'p21'\n",
    "df[f'postprocessed_{exp_type}_prediction'] = ''\n",
    "for i in range(len(df)):\n",
    "    row = df.iloc[i]\n",
    "    orig_sent = row['content']\n",
    "    quintuplets = extract_quintuplet(row[f'{exp_type}_model_prediction'])\n",
    "    clean_quintuplet = []\n",
    "    for quintuplet in quintuplets:\n",
    "        entity, aspect_term, opinion_term, sentiment, aspect_category = quintuplet\n",
    "        entity, aspect_term, opinion_term, sentiment, aspect_category = postprocessor.post_process(entity, aspect_term, opinion_term, sentiment, aspect_category, orig_sent)\n",
    "        post_processed_quin = f'({entity},{aspect_term},{opinion_term},{sentiment},{aspect_category})'\n",
    "        clean_quintuplet.append(post_processed_quin)\n",
    "    df.at[i, f'postprocessed_{exp_type}_prediction'] = ';'.join(clean_quintuplet)\n",
    "df[f'postprocessed_{exp_type}_prediction'] = df[f'postprocessed_{exp_type}_prediction'].apply(lambda x:x.lower())"
   ]
  },
  {
   "cell_type": "code",
   "execution_count": 14,
   "metadata": {},
   "outputs": [],
   "source": [
    "df['postprocessed_postprocess_quintuplet'] = ''\n",
    "for i in range(len(df)):\n",
    "    row = df.iloc[i]\n",
    "    orig_sent = row['content']\n",
    "    quintuplets = extract_quintuplet(row['postprocess_quintuplet'])\n",
    "    clean_quintuplet = []\n",
    "    for quintuplet in quintuplets:\n",
    "        entity, aspect_term, opinion_term, sentiment, aspect_category = quintuplet\n",
    "        entity, aspect_term, opinion_term, sentiment, aspect_category = postprocessor.post_process(entity, aspect_term, opinion_term, sentiment, aspect_category, orig_sent)\n",
    "        post_processed_quin = f'({entity},{aspect_term},{opinion_term},{sentiment},{aspect_category})'\n",
    "        clean_quintuplet.append(post_processed_quin)\n",
    "    df.at[i, 'postprocessed_postprocess_quintuplet'] = ';'.join(clean_quintuplet)\n",
    "df['postprocessed_postprocess_quintuplet'] = df['postprocessed_postprocess_quintuplet'].apply(lambda x:x.lower())"
   ]
  },
  {
   "cell_type": "code",
   "execution_count": 12,
   "metadata": {},
   "outputs": [
    {
     "data": {
      "application/vnd.jupyter.widget-view+json": {
       "model_id": "8449cf6c811749469836f492befa9ea7",
       "version_major": 2,
       "version_minor": 0
      },
      "text/plain": [
       "  0%|          | 0/200 [00:00<?, ?it/s]"
      ]
     },
     "metadata": {},
     "output_type": "display_data"
    },
    {
     "data": {
      "text/plain": [
       "{'precision': 0.775, 'recall': 0.768, 'f1': 0.771}"
      ]
     },
     "execution_count": 12,
     "metadata": {},
     "output_type": "execute_result"
    }
   ],
   "source": [
    "raw_scores, all_labels, all_preds = evaluator.evaluate(\n",
    "    pred_seqs=df[f'postprocessed_p21_prediction'],\n",
    "    gold_seqs=df['postprocess_quintuplet']\n",
    ")\n",
    "raw_scores"
   ]
  },
  {
   "cell_type": "code",
   "execution_count": 14,
   "metadata": {},
   "outputs": [],
   "source": [
    "df.to_csv('../Data/val_data.csv')"
   ]
  },
  {
   "cell_type": "code",
   "execution_count": 29,
   "metadata": {},
   "outputs": [],
   "source": [
    "wrong_df = df[df['p21_model_prediction']!=df['postprocess_quintuplet']]\n",
    "wrong_df.to_csv('../Data/wrong_test.csv')"
   ]
  },
  {
   "cell_type": "code",
   "execution_count": 15,
   "metadata": {},
   "outputs": [
    {
     "name": "stdout",
     "output_type": "stream",
     "text": [
      "3\n",
      "17\n",
      "20\n",
      "31\n",
      "36\n",
      "38\n",
      "42\n",
      "43\n",
      "52\n",
      "58\n",
      "59\n",
      "63\n",
      "82\n",
      "84\n",
      "91\n",
      "100\n",
      "104\n",
      "106\n",
      "107\n",
      "111\n",
      "120\n",
      "121\n",
      "124\n",
      "130\n",
      "136\n",
      "138\n",
      "142\n",
      "147\n",
      "160\n",
      "164\n",
      "165\n",
      "176\n",
      "182\n",
      "184\n",
      "192\n",
      "194\n",
      "198\n"
     ]
    }
   ],
   "source": [
    "idx = df[df['postprocessed_p21_prediction']!=df['p21_model_prediction']].index\n",
    "for i in idx:\n",
    "    print(i)"
   ]
  },
  {
   "cell_type": "code",
   "execution_count": 17,
   "metadata": {},
   "outputs": [],
   "source": [
    "df.to_csv('../Data/val_data_postprocessed.csv', index=False)"
   ]
  },
  {
   "cell_type": "code",
   "execution_count": 48,
   "metadata": {},
   "outputs": [
    {
     "data": {
      "text/plain": [
       "6"
      ]
     },
     "execution_count": 48,
     "metadata": {},
     "output_type": "execute_result"
    }
   ],
   "source": [
    "distance('gonta', 'gonta-ganti')"
   ]
  },
  {
   "cell_type": "markdown",
   "metadata": {},
   "source": [
    "# analisis kesalahan prediksi"
   ]
  },
  {
   "cell_type": "code",
   "execution_count": 6,
   "metadata": {},
   "outputs": [],
   "source": [
    "from src.preprocessor import Preprocessor\n",
    "from Sastrawi.StopWordRemover.StopWordRemoverFactory import StopWordRemoverFactory\n",
    "from Sastrawi.Stemmer.StemmerFactory import StemmerFactory\n",
    "import pandas as pd"
   ]
  },
  {
   "cell_type": "code",
   "execution_count": 2,
   "metadata": {},
   "outputs": [],
   "source": [
    "preprocessor = Preprocessor(\n",
    "    preprocess_type='p02',\n",
    "    tokenizer='',\n",
    "    tokenizer_max_length=0,\n",
    "    text_col='content',\n",
    "    label_col='postprocess_quintuplet'\n",
    ")"
   ]
  },
  {
   "cell_type": "code",
   "execution_count": 7,
   "metadata": {},
   "outputs": [],
   "source": [
    "df = pd.read_csv('../Data/test_data.csv')"
   ]
  },
  {
   "cell_type": "code",
   "execution_count": 8,
   "metadata": {},
   "outputs": [],
   "source": [
    "factory = StemmerFactory()\n",
    "stemmer = factory.create_stemmer()"
   ]
  },
  {
   "cell_type": "code",
   "execution_count": 9,
   "metadata": {},
   "outputs": [],
   "source": [
    "df['clean_tweet'] = df['content'].apply(preprocessor.clean_text)\n",
    "df['clean_tweet'] = df['clean_tweet'].apply(stemmer.stem)"
   ]
  },
  {
   "cell_type": "code",
   "execution_count": 10,
   "metadata": {},
   "outputs": [],
   "source": [
    "df[df['postprocess_quintuplet']!=df['p21_model_prediction']].to_csv('../Data/wrong_test.csv')"
   ]
  },
  {
   "cell_type": "code",
   "execution_count": 13,
   "metadata": {},
   "outputs": [
    {
     "data": {
      "text/plain": [
       "'saya suka nasi mie'"
      ]
     },
     "execution_count": 13,
     "metadata": {},
     "output_type": "execute_result"
    }
   ],
   "source": [
    "stemmer.stem('saya suka nasi/mie')"
   ]
  },
  {
   "cell_type": "code",
   "execution_count": 12,
   "metadata": {},
   "outputs": [
    {
     "data": {
      "text/plain": [
       "'saya suka nasi/mie'"
      ]
     },
     "execution_count": 12,
     "metadata": {},
     "output_type": "execute_result"
    }
   ],
   "source": [
    "preprocessor.clean_text('saya suka nasi/mie')"
   ]
  },
  {
   "cell_type": "code",
   "execution_count": null,
   "metadata": {},
   "outputs": [],
   "source": []
  }
 ],
 "metadata": {
  "kernelspec": {
   "display_name": "Python 3",
   "language": "python",
   "name": "python3"
  },
  "language_info": {
   "codemirror_mode": {
    "name": "ipython",
    "version": 3
   },
   "file_extension": ".py",
   "mimetype": "text/x-python",
   "name": "python",
   "nbconvert_exporter": "python",
   "pygments_lexer": "ipython3",
   "version": "3.10.11"
  },
  "orig_nbformat": 4
 },
 "nbformat": 4,
 "nbformat_minor": 2
}
