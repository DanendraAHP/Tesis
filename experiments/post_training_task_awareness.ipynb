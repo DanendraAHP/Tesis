{
 "cells": [
  {
   "cell_type": "code",
   "execution_count": 19,
   "metadata": {},
   "outputs": [],
   "source": [
    "from src.finetuner import FineTuner\n",
    "from src.inference import ModelInference\n",
    "from src.preprocessor import Preprocessor\n",
    "from transformers import (\n",
    "    T5ForConditionalGeneration,\n",
    "    AutoTokenizer,\n",
    "    Seq2SeqTrainingArguments\n",
    ")\n",
    "from datasets import load_dataset"
   ]
  },
  {
   "cell_type": "code",
   "execution_count": 20,
   "metadata": {},
   "outputs": [],
   "source": [
    "#constant\n",
    "SAVE_PATH = f'../models/pt-indot5-TA_PT'\n",
    "PRETRAINED_MODEL = \"Wikidepia/IndoT5-base\""
   ]
  },
  {
   "attachments": {},
   "cell_type": "markdown",
   "metadata": {},
   "source": [
    "# Dataset"
   ]
  },
  {
   "cell_type": "code",
   "execution_count": 21,
   "metadata": {},
   "outputs": [],
   "source": [
    "tokenizer = AutoTokenizer.from_pretrained(PRETRAINED_MODEL)"
   ]
  },
  {
   "cell_type": "code",
   "execution_count": 22,
   "metadata": {},
   "outputs": [],
   "source": [
    "max_length = 128\n",
    "text_col = 'input'\n",
    "label_col = 'triplet'\n",
    "preprocessor = Preprocessor('p1', tokenizer, max_length, text_col, label_col)"
   ]
  },
  {
   "cell_type": "code",
   "execution_count": 23,
   "metadata": {},
   "outputs": [
    {
     "name": "stderr",
     "output_type": "stream",
     "text": [
      "Found cached dataset csv (C:/Users/danendra/.cache/huggingface/datasets/csv/default-ecae22b8b998e95e/0.0.0/6954658bab30a358235fa864b05cf819af0e179325c740e4bc853bcc7ec513e1)\n",
      "100%|██████████| 3/3 [00:00<00:00, 749.96it/s]\n",
      "Loading cached processed dataset at C:\\Users\\danendra\\.cache\\huggingface\\datasets\\csv\\default-ecae22b8b998e95e\\0.0.0\\6954658bab30a358235fa864b05cf819af0e179325c740e4bc853bcc7ec513e1\\cache-db44143562293862.arrow\n",
      "Loading cached processed dataset at C:\\Users\\danendra\\.cache\\huggingface\\datasets\\csv\\default-ecae22b8b998e95e\\0.0.0\\6954658bab30a358235fa864b05cf819af0e179325c740e4bc853bcc7ec513e1\\cache-ecf9d05cf85cad4f.arrow\n",
      "Loading cached processed dataset at C:\\Users\\danendra\\.cache\\huggingface\\datasets\\csv\\default-ecae22b8b998e95e\\0.0.0\\6954658bab30a358235fa864b05cf819af0e179325c740e4bc853bcc7ec513e1\\cache-f4bfb634d23e25b1.arrow\n"
     ]
    }
   ],
   "source": [
    "raw_dataset = load_dataset('csv', data_files={'train':'../Data/post-train/ASTE/train.csv'\n",
    "                                                        , 'validation':'../Data/post-train/ASTE/dev.csv',\n",
    "                                                        'test' : '../Data/post-train/ASTE/test.csv'})\n",
    "preprocessor = Preprocessor('p1', tokenizer, max_length, text_col, label_col)\n",
    "tokenized_dataset = raw_dataset.map(preprocessor.preprocess_dataset, batched=True, remove_columns=raw_dataset['train'].column_names)"
   ]
  },
  {
   "cell_type": "code",
   "execution_count": 24,
   "metadata": {},
   "outputs": [
    {
     "data": {
      "text/plain": [
       "'kamar saya ada kendala di ac tidak berfungsi optimal dan juga wifi koneksi kurang stabil</s>'"
      ]
     },
     "execution_count": 24,
     "metadata": {},
     "output_type": "execute_result"
    }
   ],
   "source": [
    "tokenizer.decode(tokenized_dataset['train']['input_ids'][0])"
   ]
  },
  {
   "cell_type": "code",
   "execution_count": 25,
   "metadata": {},
   "outputs": [
    {
     "data": {
      "text/plain": [
       "'(ac,tidak berfungsi optimal,NEG);(wifi koneksi,kurang stabil,NEG)</s>'"
      ]
     },
     "execution_count": 25,
     "metadata": {},
     "output_type": "execute_result"
    }
   ],
   "source": [
    "tokenizer.decode(tokenized_dataset['train']['labels'][0])"
   ]
  },
  {
   "attachments": {},
   "cell_type": "markdown",
   "metadata": {},
   "source": [
    "# Model Training"
   ]
  },
  {
   "cell_type": "code",
   "execution_count": 26,
   "metadata": {},
   "outputs": [],
   "source": [
    "model = T5ForConditionalGeneration.from_pretrained(PRETRAINED_MODEL)"
   ]
  },
  {
   "cell_type": "code",
   "execution_count": 27,
   "metadata": {},
   "outputs": [],
   "source": [
    "#training argument\n",
    "training_args = Seq2SeqTrainingArguments(\n",
    "    SAVE_PATH,\n",
    "    evaluation_strategy=\"epoch\",\n",
    "    save_strategy=\"epoch\",\n",
    "    learning_rate=2e-5,\n",
    "    weight_decay=0.01,\n",
    "    resume_from_checkpoint=True,\n",
    "    num_train_epochs=50,\n",
    "    save_total_limit=2,\n",
    ")"
   ]
  },
  {
   "cell_type": "code",
   "execution_count": 28,
   "metadata": {},
   "outputs": [
    {
     "name": "stdout",
     "output_type": "stream",
     "text": [
      "cuda:0\n"
     ]
    }
   ],
   "source": [
    "finetuner = FineTuner(model=model, save_path=SAVE_PATH, tokenizer=tokenizer, \n",
    "                      train_dataset=tokenized_dataset['train'], eval_dataset=tokenized_dataset['validation'])"
   ]
  },
  {
   "cell_type": "code",
   "execution_count": 29,
   "metadata": {},
   "outputs": [
    {
     "name": "stderr",
     "output_type": "stream",
     "text": [
      "c:\\Users\\danendra\\anaconda3\\envs\\tesis\\lib\\site-packages\\transformers\\optimization.py:391: FutureWarning: This implementation of AdamW is deprecated and will be removed in a future version. Use the PyTorch implementation torch.optim.AdamW instead, or set `no_deprecation_warning=True` to disable this warning\n",
      "  warnings.warn(\n"
     ]
    },
    {
     "name": "stdout",
     "output_type": "stream",
     "text": [
      "cuda:0\n"
     ]
    },
    {
     "name": "stderr",
     "output_type": "stream",
     "text": [
      "  0%|          | 0/17750 [00:00<?, ?it/s]You're using a T5TokenizerFast tokenizer. Please note that with a fast tokenizer, using the `__call__` method is faster than using a method to encode the text followed by a call to the `pad` method to get a padded encoding.\n",
      "                                                     \n",
      "  2%|▏         | 355/17750 [01:39<1:10:19,  4.12it/s]"
     ]
    },
    {
     "name": "stdout",
     "output_type": "stream",
     "text": [
      "{'eval_loss': 0.9452595710754395, 'eval_runtime': 6.2612, 'eval_samples_per_second': 154.443, 'eval_steps_per_second': 19.325, 'epoch': 1.0}\n"
     ]
    },
    {
     "name": "stderr",
     "output_type": "stream",
     "text": [
      "  3%|▎         | 501/17750 [02:38<1:01:48,  4.65it/s] "
     ]
    },
    {
     "name": "stdout",
     "output_type": "stream",
     "text": [
      "{'loss': 1.596, 'learning_rate': 1.943661971830986e-05, 'epoch': 1.41}\n"
     ]
    },
    {
     "name": "stderr",
     "output_type": "stream",
     "text": [
      "                                                     \n",
      "  4%|▍         | 710/17750 [03:29<54:34,  5.20it/s]"
     ]
    },
    {
     "name": "stdout",
     "output_type": "stream",
     "text": [
      "{'eval_loss': 0.6241455674171448, 'eval_runtime': 5.6087, 'eval_samples_per_second': 172.411, 'eval_steps_per_second': 21.574, 'epoch': 2.0}\n"
     ]
    },
    {
     "name": "stderr",
     "output_type": "stream",
     "text": [
      "  6%|▌         | 1000/17750 [05:08<1:05:58,  4.23it/s]"
     ]
    },
    {
     "name": "stdout",
     "output_type": "stream",
     "text": [
      "{'loss': 0.6577, 'learning_rate': 1.887323943661972e-05, 'epoch': 2.82}\n"
     ]
    },
    {
     "name": "stderr",
     "output_type": "stream",
     "text": [
      "                                                      \n",
      "  6%|▌         | 1065/17750 [05:32<1:21:42,  3.40it/s]"
     ]
    },
    {
     "name": "stdout",
     "output_type": "stream",
     "text": [
      "{'eval_loss': 0.3459356427192688, 'eval_runtime': 6.1248, 'eval_samples_per_second': 157.883, 'eval_steps_per_second': 19.756, 'epoch': 3.0}\n"
     ]
    },
    {
     "name": "stderr",
     "output_type": "stream",
     "text": [
      "                                                       \n",
      "  8%|▊         | 1420/17750 [07:23<1:00:53,  4.47it/s]"
     ]
    },
    {
     "name": "stdout",
     "output_type": "stream",
     "text": [
      "{'eval_loss': 0.26861268281936646, 'eval_runtime': 5.899, 'eval_samples_per_second': 163.925, 'eval_steps_per_second': 20.512, 'epoch': 4.0}\n"
     ]
    },
    {
     "name": "stderr",
     "output_type": "stream",
     "text": [
      "  8%|▊         | 1500/17750 [08:09<1:01:28,  4.41it/s] "
     ]
    },
    {
     "name": "stdout",
     "output_type": "stream",
     "text": [
      "{'loss': 0.3614, 'learning_rate': 1.830985915492958e-05, 'epoch': 4.23}\n"
     ]
    },
    {
     "name": "stderr",
     "output_type": "stream",
     "text": [
      "                                                      \n",
      " 10%|█         | 1775/17750 [09:25<55:14,  4.82it/s]"
     ]
    },
    {
     "name": "stdout",
     "output_type": "stream",
     "text": [
      "{'eval_loss': 0.2513056695461273, 'eval_runtime': 5.9933, 'eval_samples_per_second': 161.348, 'eval_steps_per_second': 20.189, 'epoch': 5.0}\n"
     ]
    },
    {
     "name": "stderr",
     "output_type": "stream",
     "text": [
      " 11%|█▏        | 2001/17750 [10:37<1:05:35,  4.00it/s] "
     ]
    },
    {
     "name": "stdout",
     "output_type": "stream",
     "text": [
      "{'loss': 0.2648, 'learning_rate': 1.774647887323944e-05, 'epoch': 5.63}\n"
     ]
    },
    {
     "name": "stderr",
     "output_type": "stream",
     "text": [
      "                                                      \n",
      " 12%|█▏        | 2130/17750 [11:13<55:13,  4.71it/s]"
     ]
    },
    {
     "name": "stdout",
     "output_type": "stream",
     "text": [
      "{'eval_loss': 0.23803502321243286, 'eval_runtime': 5.9692, 'eval_samples_per_second': 161.997, 'eval_steps_per_second': 20.271, 'epoch': 6.0}\n"
     ]
    },
    {
     "name": "stderr",
     "output_type": "stream",
     "text": [
      "                                                       \n",
      " 14%|█▍        | 2485/17750 [13:06<52:07,  4.88it/s]"
     ]
    },
    {
     "name": "stdout",
     "output_type": "stream",
     "text": [
      "{'eval_loss': 0.22920143604278564, 'eval_runtime': 6.4663, 'eval_samples_per_second': 149.544, 'eval_steps_per_second': 18.712, 'epoch': 7.0}\n"
     ]
    },
    {
     "name": "stderr",
     "output_type": "stream",
     "text": [
      " 14%|█▍        | 2501/17750 [13:36<1:10:53,  3.59it/s] "
     ]
    },
    {
     "name": "stdout",
     "output_type": "stream",
     "text": [
      "{'loss': 0.2247, 'learning_rate': 1.7183098591549297e-05, 'epoch': 7.04}\n"
     ]
    },
    {
     "name": "stderr",
     "output_type": "stream",
     "text": [
      "                                                      \n",
      " 16%|█▌        | 2840/17750 [15:03<1:00:36,  4.10it/s]"
     ]
    },
    {
     "name": "stdout",
     "output_type": "stream",
     "text": [
      "{'eval_loss': 0.22656704485416412, 'eval_runtime': 6.0351, 'eval_samples_per_second': 160.229, 'eval_steps_per_second': 20.049, 'epoch': 8.0}\n"
     ]
    },
    {
     "name": "stderr",
     "output_type": "stream",
     "text": [
      " 17%|█▋        | 3001/17750 [15:58<53:47,  4.57it/s]   "
     ]
    },
    {
     "name": "stdout",
     "output_type": "stream",
     "text": [
      "{'loss': 0.1883, 'learning_rate': 1.6619718309859155e-05, 'epoch': 8.45}\n"
     ]
    },
    {
     "name": "stderr",
     "output_type": "stream",
     "text": [
      "                                                      \n",
      " 18%|█▊        | 3195/17750 [16:45<48:46,  4.97it/s]"
     ]
    },
    {
     "name": "stdout",
     "output_type": "stream",
     "text": [
      "{'eval_loss': 0.22051884233951569, 'eval_runtime': 5.6625, 'eval_samples_per_second': 170.773, 'eval_steps_per_second': 21.369, 'epoch': 9.0}\n"
     ]
    },
    {
     "name": "stderr",
     "output_type": "stream",
     "text": [
      " 20%|█▉        | 3501/17750 [18:15<53:42,  4.42it/s]   "
     ]
    },
    {
     "name": "stdout",
     "output_type": "stream",
     "text": [
      "{'loss': 0.1687, 'learning_rate': 1.6056338028169017e-05, 'epoch': 9.86}\n"
     ]
    },
    {
     "name": "stderr",
     "output_type": "stream",
     "text": [
      "                                                    \n",
      " 20%|██        | 3550/17750 [18:32<47:51,  4.94it/s]"
     ]
    },
    {
     "name": "stdout",
     "output_type": "stream",
     "text": [
      "{'eval_loss': 0.21989645063877106, 'eval_runtime': 5.6465, 'eval_samples_per_second': 171.256, 'eval_steps_per_second': 21.429, 'epoch': 10.0}\n"
     ]
    },
    {
     "name": "stderr",
     "output_type": "stream",
     "text": [
      "                                                       \n",
      " 22%|██▏       | 3905/17750 [20:26<44:19,  5.20it/s]"
     ]
    },
    {
     "name": "stdout",
     "output_type": "stream",
     "text": [
      "{'eval_loss': 0.21874482929706573, 'eval_runtime': 5.635, 'eval_samples_per_second': 171.606, 'eval_steps_per_second': 21.473, 'epoch': 11.0}\n"
     ]
    },
    {
     "name": "stderr",
     "output_type": "stream",
     "text": [
      " 23%|██▎       | 4001/17750 [21:09<53:23,  4.29it/s]   "
     ]
    },
    {
     "name": "stdout",
     "output_type": "stream",
     "text": [
      "{'loss': 0.1496, 'learning_rate': 1.5492957746478872e-05, 'epoch': 11.27}\n"
     ]
    },
    {
     "name": "stderr",
     "output_type": "stream",
     "text": [
      "                                                      \n",
      " 24%|██▍       | 4260/17750 [22:15<44:54,  5.01it/s]"
     ]
    },
    {
     "name": "stdout",
     "output_type": "stream",
     "text": [
      "{'eval_loss': 0.2170586735010147, 'eval_runtime': 5.5552, 'eval_samples_per_second': 174.07, 'eval_steps_per_second': 21.781, 'epoch': 12.0}\n"
     ]
    },
    {
     "name": "stderr",
     "output_type": "stream",
     "text": [
      " 25%|██▌       | 4500/17750 [23:38<44:00,  5.02it/s]   "
     ]
    },
    {
     "name": "stdout",
     "output_type": "stream",
     "text": [
      "{'loss': 0.1345, 'learning_rate': 1.4929577464788734e-05, 'epoch': 12.68}\n"
     ]
    },
    {
     "name": "stderr",
     "output_type": "stream",
     "text": [
      "                                                      \n",
      " 26%|██▌       | 4615/17750 [24:15<1:01:32,  3.56it/s]"
     ]
    },
    {
     "name": "stdout",
     "output_type": "stream",
     "text": [
      "{'eval_loss': 0.2221137434244156, 'eval_runtime': 6.7261, 'eval_samples_per_second': 143.769, 'eval_steps_per_second': 17.99, 'epoch': 13.0}\n"
     ]
    },
    {
     "name": "stderr",
     "output_type": "stream",
     "text": [
      "                                                       \n",
      " 28%|██▊       | 4970/17750 [26:15<48:14,  4.41it/s]"
     ]
    },
    {
     "name": "stdout",
     "output_type": "stream",
     "text": [
      "{'eval_loss': 0.21863305568695068, 'eval_runtime': 6.0217, 'eval_samples_per_second': 160.587, 'eval_steps_per_second': 20.094, 'epoch': 14.0}\n"
     ]
    },
    {
     "name": "stderr",
     "output_type": "stream",
     "text": [
      " 28%|██▊       | 5000/17750 [26:46<1:07:21,  3.15it/s] "
     ]
    },
    {
     "name": "stdout",
     "output_type": "stream",
     "text": [
      "{'loss': 0.1219, 'learning_rate': 1.4366197183098594e-05, 'epoch': 14.08}\n"
     ]
    },
    {
     "name": "stderr",
     "output_type": "stream",
     "text": [
      "                                                      \n",
      " 30%|███       | 5325/17750 [28:23<47:01,  4.40it/s]"
     ]
    },
    {
     "name": "stdout",
     "output_type": "stream",
     "text": [
      "{'eval_loss': 0.22647476196289062, 'eval_runtime': 6.6947, 'eval_samples_per_second': 144.442, 'eval_steps_per_second': 18.074, 'epoch': 15.0}\n"
     ]
    },
    {
     "name": "stderr",
     "output_type": "stream",
     "text": [
      " 31%|███       | 5501/17750 [29:34<51:29,  3.96it/s]   "
     ]
    },
    {
     "name": "stdout",
     "output_type": "stream",
     "text": [
      "{'loss': 0.1122, 'learning_rate': 1.380281690140845e-05, 'epoch': 15.49}\n"
     ]
    },
    {
     "name": "stderr",
     "output_type": "stream",
     "text": [
      "                                                      \n",
      " 32%|███▏      | 5680/17750 [30:24<44:00,  4.57it/s]"
     ]
    },
    {
     "name": "stdout",
     "output_type": "stream",
     "text": [
      "{'eval_loss': 0.21989354491233826, 'eval_runtime': 6.1325, 'eval_samples_per_second': 157.684, 'eval_steps_per_second': 19.731, 'epoch': 16.0}\n"
     ]
    },
    {
     "name": "stderr",
     "output_type": "stream",
     "text": [
      " 34%|███▍      | 6001/17750 [32:07<43:14,  4.53it/s]   "
     ]
    },
    {
     "name": "stdout",
     "output_type": "stream",
     "text": [
      "{'loss': 0.1025, 'learning_rate': 1.323943661971831e-05, 'epoch': 16.9}\n"
     ]
    },
    {
     "name": "stderr",
     "output_type": "stream",
     "text": [
      "                                                    \n",
      " 34%|███▍      | 6035/17750 [32:21<52:25,  3.72it/s]"
     ]
    },
    {
     "name": "stdout",
     "output_type": "stream",
     "text": [
      "{'eval_loss': 0.22559808194637299, 'eval_runtime': 6.4573, 'eval_samples_per_second': 149.753, 'eval_steps_per_second': 18.738, 'epoch': 17.0}\n"
     ]
    },
    {
     "name": "stderr",
     "output_type": "stream",
     "text": [
      "                                                       \n",
      " 36%|███▌      | 6390/17750 [34:22<40:59,  4.62it/s]"
     ]
    },
    {
     "name": "stdout",
     "output_type": "stream",
     "text": [
      "{'eval_loss': 0.2229899913072586, 'eval_runtime': 6.2743, 'eval_samples_per_second': 154.122, 'eval_steps_per_second': 19.285, 'epoch': 18.0}\n"
     ]
    },
    {
     "name": "stderr",
     "output_type": "stream",
     "text": [
      " 37%|███▋      | 6500/17750 [35:17<43:54,  4.27it/s]   "
     ]
    },
    {
     "name": "stdout",
     "output_type": "stream",
     "text": [
      "{'loss': 0.094, 'learning_rate': 1.2676056338028171e-05, 'epoch': 18.31}\n"
     ]
    },
    {
     "name": "stderr",
     "output_type": "stream",
     "text": [
      "                                                    \n",
      " 38%|███▊      | 6745/17750 [36:17<43:44,  4.19it/s]"
     ]
    },
    {
     "name": "stdout",
     "output_type": "stream",
     "text": [
      "{'eval_loss': 0.23363301157951355, 'eval_runtime': 5.8057, 'eval_samples_per_second': 166.561, 'eval_steps_per_second': 20.842, 'epoch': 19.0}\n"
     ]
    },
    {
     "name": "stderr",
     "output_type": "stream",
     "text": [
      " 39%|███▉      | 7001/17750 [37:42<39:05,  4.58it/s]   "
     ]
    },
    {
     "name": "stdout",
     "output_type": "stream",
     "text": [
      "{'loss': 0.0877, 'learning_rate': 1.211267605633803e-05, 'epoch': 19.72}\n"
     ]
    },
    {
     "name": "stderr",
     "output_type": "stream",
     "text": [
      "                                                      \n",
      " 40%|████      | 7100/17750 [38:12<35:29,  5.00it/s]"
     ]
    },
    {
     "name": "stdout",
     "output_type": "stream",
     "text": [
      "{'eval_loss': 0.22683662176132202, 'eval_runtime': 6.2178, 'eval_samples_per_second': 155.52, 'eval_steps_per_second': 19.46, 'epoch': 20.0}\n"
     ]
    },
    {
     "name": "stderr",
     "output_type": "stream",
     "text": [
      "                                                       \n",
      " 42%|████▏     | 7455/17750 [40:03<35:19,  4.86it/s]"
     ]
    },
    {
     "name": "stdout",
     "output_type": "stream",
     "text": [
      "{'eval_loss': 0.23168307542800903, 'eval_runtime': 5.8409, 'eval_samples_per_second': 165.556, 'eval_steps_per_second': 20.716, 'epoch': 21.0}\n"
     ]
    },
    {
     "name": "stderr",
     "output_type": "stream",
     "text": [
      " 42%|████▏     | 7501/17750 [40:42<45:14,  3.78it/s]   "
     ]
    },
    {
     "name": "stdout",
     "output_type": "stream",
     "text": [
      "{'loss': 0.0839, 'learning_rate': 1.1549295774647888e-05, 'epoch': 21.13}\n"
     ]
    },
    {
     "name": "stderr",
     "output_type": "stream",
     "text": [
      "                                                    \n",
      " 44%|████▍     | 7810/17750 [41:58<35:55,  4.61it/s]"
     ]
    },
    {
     "name": "stdout",
     "output_type": "stream",
     "text": [
      "{'eval_loss': 0.23700390756130219, 'eval_runtime': 5.8874, 'eval_samples_per_second': 164.25, 'eval_steps_per_second': 20.552, 'epoch': 22.0}\n"
     ]
    },
    {
     "name": "stderr",
     "output_type": "stream",
     "text": [
      " 45%|████▌     | 8001/17750 [43:07<36:24,  4.46it/s]   "
     ]
    },
    {
     "name": "stdout",
     "output_type": "stream",
     "text": [
      "{'loss': 0.0768, 'learning_rate': 1.0985915492957748e-05, 'epoch': 22.54}\n"
     ]
    },
    {
     "name": "stderr",
     "output_type": "stream",
     "text": [
      "                                                    \n",
      " 46%|████▌     | 8165/17750 [43:50<34:05,  4.69it/s]"
     ]
    },
    {
     "name": "stdout",
     "output_type": "stream",
     "text": [
      "{'eval_loss': 0.2363223433494568, 'eval_runtime': 5.9608, 'eval_samples_per_second': 162.227, 'eval_steps_per_second': 20.299, 'epoch': 23.0}\n"
     ]
    },
    {
     "name": "stderr",
     "output_type": "stream",
     "text": [
      " 48%|████▊     | 8500/17750 [45:33<34:35,  4.46it/s]   "
     ]
    },
    {
     "name": "stdout",
     "output_type": "stream",
     "text": [
      "{'loss': 0.0706, 'learning_rate': 1.0422535211267606e-05, 'epoch': 23.94}\n"
     ]
    },
    {
     "name": "stderr",
     "output_type": "stream",
     "text": [
      "                                                    \n",
      " 48%|████▊     | 8520/17750 [45:44<36:34,  4.21it/s]"
     ]
    },
    {
     "name": "stdout",
     "output_type": "stream",
     "text": [
      "{'eval_loss': 0.23977282643318176, 'eval_runtime': 6.1663, 'eval_samples_per_second': 156.821, 'eval_steps_per_second': 19.623, 'epoch': 24.0}\n"
     ]
    },
    {
     "name": "stderr",
     "output_type": "stream",
     "text": [
      "                                                       \n",
      " 50%|█████     | 8875/17750 [47:40<30:49,  4.80it/s]"
     ]
    },
    {
     "name": "stdout",
     "output_type": "stream",
     "text": [
      "{'eval_loss': 0.24121585488319397, 'eval_runtime': 5.9182, 'eval_samples_per_second': 163.394, 'eval_steps_per_second': 20.445, 'epoch': 25.0}\n"
     ]
    },
    {
     "name": "stderr",
     "output_type": "stream",
     "text": [
      " 51%|█████     | 9001/17750 [48:35<33:08,  4.40it/s]   "
     ]
    },
    {
     "name": "stdout",
     "output_type": "stream",
     "text": [
      "{'loss': 0.0666, 'learning_rate': 9.859154929577466e-06, 'epoch': 25.35}\n"
     ]
    },
    {
     "name": "stderr",
     "output_type": "stream",
     "text": [
      "                                                      \n",
      " 52%|█████▏    | 9230/17750 [49:41<29:12,  4.86it/s]"
     ]
    },
    {
     "name": "stdout",
     "output_type": "stream",
     "text": [
      "{'eval_loss': 0.24184198677539825, 'eval_runtime': 5.9077, 'eval_samples_per_second': 163.686, 'eval_steps_per_second': 20.482, 'epoch': 26.0}\n"
     ]
    },
    {
     "name": "stderr",
     "output_type": "stream",
     "text": [
      " 54%|█████▎    | 9501/17750 [51:03<29:38,  4.64it/s]   "
     ]
    },
    {
     "name": "stdout",
     "output_type": "stream",
     "text": [
      "{'loss': 0.0654, 'learning_rate': 9.295774647887325e-06, 'epoch': 26.76}\n"
     ]
    },
    {
     "name": "stderr",
     "output_type": "stream",
     "text": [
      "                                                    \n",
      " 54%|█████▍    | 9585/17750 [51:29<26:59,  5.04it/s]"
     ]
    },
    {
     "name": "stdout",
     "output_type": "stream",
     "text": [
      "{'eval_loss': 0.2450026273727417, 'eval_runtime': 5.9017, 'eval_samples_per_second': 163.851, 'eval_steps_per_second': 20.503, 'epoch': 27.0}\n"
     ]
    },
    {
     "name": "stderr",
     "output_type": "stream",
     "text": [
      "                                                       \n",
      " 56%|█████▌    | 9940/17750 [53:24<26:51,  4.85it/s]"
     ]
    },
    {
     "name": "stdout",
     "output_type": "stream",
     "text": [
      "{'eval_loss': 0.25158265233039856, 'eval_runtime': 5.9162, 'eval_samples_per_second': 163.449, 'eval_steps_per_second': 20.452, 'epoch': 28.0}\n"
     ]
    },
    {
     "name": "stderr",
     "output_type": "stream",
     "text": [
      " 56%|█████▋    | 10001/17750 [54:03<30:16,  4.27it/s]  "
     ]
    },
    {
     "name": "stdout",
     "output_type": "stream",
     "text": [
      "{'loss': 0.0594, 'learning_rate': 8.732394366197183e-06, 'epoch': 28.17}\n"
     ]
    },
    {
     "name": "stderr",
     "output_type": "stream",
     "text": [
      "                                                     \n",
      " 58%|█████▊    | 10295/17750 [55:17<26:51,  4.63it/s]"
     ]
    },
    {
     "name": "stdout",
     "output_type": "stream",
     "text": [
      "{'eval_loss': 0.2507924735546112, 'eval_runtime': 5.9134, 'eval_samples_per_second': 163.528, 'eval_steps_per_second': 20.462, 'epoch': 29.0}\n"
     ]
    },
    {
     "name": "stderr",
     "output_type": "stream",
     "text": [
      " 59%|█████▉    | 10500/17750 [56:27<25:27,  4.75it/s]   "
     ]
    },
    {
     "name": "stdout",
     "output_type": "stream",
     "text": [
      "{'loss': 0.0573, 'learning_rate': 8.169014084507043e-06, 'epoch': 29.58}\n"
     ]
    },
    {
     "name": "stderr",
     "output_type": "stream",
     "text": [
      "                                                     \n",
      " 60%|██████    | 10650/17750 [57:08<26:51,  4.40it/s]"
     ]
    },
    {
     "name": "stdout",
     "output_type": "stream",
     "text": [
      "{'eval_loss': 0.24997927248477936, 'eval_runtime': 5.8682, 'eval_samples_per_second': 164.787, 'eval_steps_per_second': 20.62, 'epoch': 30.0}\n"
     ]
    },
    {
     "name": "stderr",
     "output_type": "stream",
     "text": [
      " 62%|██████▏   | 11001/17750 [58:56<24:59,  4.50it/s]   "
     ]
    },
    {
     "name": "stdout",
     "output_type": "stream",
     "text": [
      "{'loss': 0.0556, 'learning_rate': 7.6056338028169015e-06, 'epoch': 30.99}\n"
     ]
    },
    {
     "name": "stderr",
     "output_type": "stream",
     "text": [
      "                                                     \n",
      " 62%|██████▏   | 11005/17750 [59:03<25:40,  4.38it/s]"
     ]
    },
    {
     "name": "stdout",
     "output_type": "stream",
     "text": [
      "{'eval_loss': 0.2558487355709076, 'eval_runtime': 5.9134, 'eval_samples_per_second': 163.527, 'eval_steps_per_second': 20.462, 'epoch': 31.0}\n"
     ]
    },
    {
     "name": "stderr",
     "output_type": "stream",
     "text": [
      "                                                        \n",
      " 64%|██████▍   | 11360/17750 [1:00:52<24:35,  4.33it/s]"
     ]
    },
    {
     "name": "stdout",
     "output_type": "stream",
     "text": [
      "{'eval_loss': 0.25271841883659363, 'eval_runtime': 5.8862, 'eval_samples_per_second': 164.283, 'eval_steps_per_second': 20.557, 'epoch': 32.0}\n"
     ]
    },
    {
     "name": "stderr",
     "output_type": "stream",
     "text": [
      " 65%|██████▍   | 11500/17750 [1:01:46<24:15,  4.30it/s]   "
     ]
    },
    {
     "name": "stdout",
     "output_type": "stream",
     "text": [
      "{'loss': 0.0535, 'learning_rate': 7.042253521126761e-06, 'epoch': 32.39}\n"
     ]
    },
    {
     "name": "stderr",
     "output_type": "stream",
     "text": [
      "                                                       \n",
      " 66%|██████▌   | 11715/17750 [1:02:41<20:49,  4.83it/s]"
     ]
    },
    {
     "name": "stdout",
     "output_type": "stream",
     "text": [
      "{'eval_loss': 0.2572874426841736, 'eval_runtime': 5.8682, 'eval_samples_per_second': 164.787, 'eval_steps_per_second': 20.62, 'epoch': 33.0}\n"
     ]
    },
    {
     "name": "stderr",
     "output_type": "stream",
     "text": [
      " 68%|██████▊   | 12000/17750 [1:04:15<21:32,  4.45it/s]   "
     ]
    },
    {
     "name": "stdout",
     "output_type": "stream",
     "text": [
      "{'loss': 0.0493, 'learning_rate': 6.478873239436621e-06, 'epoch': 33.8}\n"
     ]
    },
    {
     "name": "stderr",
     "output_type": "stream",
     "text": [
      "                                                       \n",
      " 68%|██████▊   | 12070/17750 [1:04:37<18:27,  5.13it/s]"
     ]
    },
    {
     "name": "stdout",
     "output_type": "stream",
     "text": [
      "{'eval_loss': 0.2619326710700989, 'eval_runtime': 5.846, 'eval_samples_per_second': 165.411, 'eval_steps_per_second': 20.698, 'epoch': 34.0}\n"
     ]
    },
    {
     "name": "stderr",
     "output_type": "stream",
     "text": [
      "                                                          \n",
      " 70%|███████   | 12425/17750 [1:06:31<19:34,  4.54it/s]"
     ]
    },
    {
     "name": "stdout",
     "output_type": "stream",
     "text": [
      "{'eval_loss': 0.26079344749450684, 'eval_runtime': 6.1088, 'eval_samples_per_second': 158.297, 'eval_steps_per_second': 19.808, 'epoch': 35.0}\n"
     ]
    },
    {
     "name": "stderr",
     "output_type": "stream",
     "text": [
      " 70%|███████   | 12501/17750 [1:07:14<18:44,  4.67it/s]   "
     ]
    },
    {
     "name": "stdout",
     "output_type": "stream",
     "text": [
      "{'loss': 0.0478, 'learning_rate': 5.915492957746479e-06, 'epoch': 35.21}\n"
     ]
    },
    {
     "name": "stderr",
     "output_type": "stream",
     "text": [
      "                                                       \n",
      " 72%|███████▏  | 12780/17750 [1:08:25<17:57,  4.61it/s]"
     ]
    },
    {
     "name": "stdout",
     "output_type": "stream",
     "text": [
      "{'eval_loss': 0.2652977705001831, 'eval_runtime': 6.0964, 'eval_samples_per_second': 158.618, 'eval_steps_per_second': 19.848, 'epoch': 36.0}\n"
     ]
    },
    {
     "name": "stderr",
     "output_type": "stream",
     "text": [
      " 73%|███████▎  | 13001/17750 [1:09:42<18:05,  4.37it/s]   "
     ]
    },
    {
     "name": "stdout",
     "output_type": "stream",
     "text": [
      "{'loss': 0.0468, 'learning_rate': 5.352112676056338e-06, 'epoch': 36.62}\n"
     ]
    },
    {
     "name": "stderr",
     "output_type": "stream",
     "text": [
      "                                                       \n",
      " 74%|███████▍  | 13135/17750 [1:10:21<16:16,  4.72it/s]"
     ]
    },
    {
     "name": "stdout",
     "output_type": "stream",
     "text": [
      "{'eval_loss': 0.26342713832855225, 'eval_runtime': 5.9639, 'eval_samples_per_second': 162.144, 'eval_steps_per_second': 20.289, 'epoch': 37.0}\n"
     ]
    },
    {
     "name": "stderr",
     "output_type": "stream",
     "text": [
      "                                                          \n",
      " 76%|███████▌  | 13490/17750 [1:12:38<19:26,  3.65it/s]"
     ]
    },
    {
     "name": "stdout",
     "output_type": "stream",
     "text": [
      "{'eval_loss': 0.2680544853210449, 'eval_runtime': 23.1069, 'eval_samples_per_second': 41.849, 'eval_steps_per_second': 5.237, 'epoch': 38.0}\n"
     ]
    },
    {
     "name": "stderr",
     "output_type": "stream",
     "text": [
      " 76%|███████▌  | 13501/17750 [1:13:05<44:33,  1.59it/s]   "
     ]
    },
    {
     "name": "stdout",
     "output_type": "stream",
     "text": [
      "{'loss': 0.0456, 'learning_rate': 4.788732394366197e-06, 'epoch': 38.03}\n"
     ]
    },
    {
     "name": "stderr",
     "output_type": "stream",
     "text": [
      "                                                         \n",
      " 78%|███████▊  | 13845/17750 [1:14:33<14:14,  4.57it/s]"
     ]
    },
    {
     "name": "stdout",
     "output_type": "stream",
     "text": [
      "{'eval_loss': 0.27221858501434326, 'eval_runtime': 5.8579, 'eval_samples_per_second': 165.077, 'eval_steps_per_second': 20.656, 'epoch': 39.0}\n"
     ]
    },
    {
     "name": "stderr",
     "output_type": "stream",
     "text": [
      " 79%|███████▉  | 14000/17750 [1:15:37<13:49,  4.52it/s]   "
     ]
    },
    {
     "name": "stdout",
     "output_type": "stream",
     "text": [
      "{'loss': 0.0438, 'learning_rate': 4.225352112676057e-06, 'epoch': 39.44}\n"
     ]
    },
    {
     "name": "stderr",
     "output_type": "stream",
     "text": [
      "                                                       \n",
      " 80%|████████  | 14200/17750 [1:16:29<11:53,  4.98it/s]"
     ]
    },
    {
     "name": "stdout",
     "output_type": "stream",
     "text": [
      "{'eval_loss': 0.2720315158367157, 'eval_runtime': 5.9055, 'eval_samples_per_second': 163.746, 'eval_steps_per_second': 20.489, 'epoch': 40.0}\n"
     ]
    },
    {
     "name": "stderr",
     "output_type": "stream",
     "text": [
      " 82%|████████▏ | 14501/17750 [1:18:06<10:57,  4.94it/s]   "
     ]
    },
    {
     "name": "stdout",
     "output_type": "stream",
     "text": [
      "{'loss': 0.0427, 'learning_rate': 3.6619718309859158e-06, 'epoch': 40.85}\n"
     ]
    },
    {
     "name": "stderr",
     "output_type": "stream",
     "text": [
      "                                                       \n",
      " 82%|████████▏ | 14555/17750 [1:18:23<10:29,  5.08it/s]"
     ]
    },
    {
     "name": "stdout",
     "output_type": "stream",
     "text": [
      "{'eval_loss': 0.2733479142189026, 'eval_runtime': 5.563, 'eval_samples_per_second': 173.828, 'eval_steps_per_second': 21.751, 'epoch': 41.0}\n"
     ]
    },
    {
     "name": "stderr",
     "output_type": "stream",
     "text": [
      "                                                         \n",
      " 84%|████████▍ | 14910/17750 [1:20:08<09:00,  5.25it/s]"
     ]
    },
    {
     "name": "stdout",
     "output_type": "stream",
     "text": [
      "{'eval_loss': 0.27329060435295105, 'eval_runtime': 5.5833, 'eval_samples_per_second': 173.195, 'eval_steps_per_second': 21.672, 'epoch': 42.0}\n"
     ]
    },
    {
     "name": "stderr",
     "output_type": "stream",
     "text": [
      " 85%|████████▍ | 15001/17750 [1:20:58<09:40,  4.73it/s]  "
     ]
    },
    {
     "name": "stdout",
     "output_type": "stream",
     "text": [
      "{'loss': 0.0419, 'learning_rate': 3.0985915492957746e-06, 'epoch': 42.25}\n"
     ]
    },
    {
     "name": "stderr",
     "output_type": "stream",
     "text": [
      "                                                       \n",
      " 86%|████████▌ | 15265/17750 [1:22:07<08:04,  5.13it/s]"
     ]
    },
    {
     "name": "stdout",
     "output_type": "stream",
     "text": [
      "{'eval_loss': 0.2756756544113159, 'eval_runtime': 5.9561, 'eval_samples_per_second': 162.354, 'eval_steps_per_second': 20.315, 'epoch': 43.0}\n"
     ]
    },
    {
     "name": "stderr",
     "output_type": "stream",
     "text": [
      " 87%|████████▋ | 15500/17750 [1:23:32<14:45,  2.54it/s]  "
     ]
    },
    {
     "name": "stdout",
     "output_type": "stream",
     "text": [
      "{'loss': 0.0421, 'learning_rate': 2.535211267605634e-06, 'epoch': 43.66}\n"
     ]
    },
    {
     "name": "stderr",
     "output_type": "stream",
     "text": [
      "                                                       \n",
      " 88%|████████▊ | 15620/17750 [1:24:05<07:13,  4.91it/s]"
     ]
    },
    {
     "name": "stdout",
     "output_type": "stream",
     "text": [
      "{'eval_loss': 0.27593791484832764, 'eval_runtime': 6.2098, 'eval_samples_per_second': 155.721, 'eval_steps_per_second': 19.485, 'epoch': 44.0}\n"
     ]
    },
    {
     "name": "stderr",
     "output_type": "stream",
     "text": [
      "                                                         \n",
      " 90%|█████████ | 15975/17750 [1:25:57<06:01,  4.91it/s]"
     ]
    },
    {
     "name": "stdout",
     "output_type": "stream",
     "text": [
      "{'eval_loss': 0.2755855917930603, 'eval_runtime': 5.9145, 'eval_samples_per_second': 163.497, 'eval_steps_per_second': 20.458, 'epoch': 45.0}\n"
     ]
    },
    {
     "name": "stderr",
     "output_type": "stream",
     "text": [
      " 90%|█████████ | 16001/17750 [1:26:32<06:52,  4.24it/s]  "
     ]
    },
    {
     "name": "stdout",
     "output_type": "stream",
     "text": [
      "{'loss': 0.0402, 'learning_rate': 1.971830985915493e-06, 'epoch': 45.07}\n"
     ]
    },
    {
     "name": "stderr",
     "output_type": "stream",
     "text": [
      "                                                       \n",
      " 92%|█████████▏| 16330/17750 [1:27:54<04:36,  5.13it/s]"
     ]
    },
    {
     "name": "stdout",
     "output_type": "stream",
     "text": [
      "{'eval_loss': 0.27625027298927307, 'eval_runtime': 5.4938, 'eval_samples_per_second': 176.016, 'eval_steps_per_second': 22.025, 'epoch': 46.0}\n"
     ]
    },
    {
     "name": "stderr",
     "output_type": "stream",
     "text": [
      " 93%|█████████▎| 16501/17750 [1:28:57<04:18,  4.83it/s]  "
     ]
    },
    {
     "name": "stdout",
     "output_type": "stream",
     "text": [
      "{'loss': 0.0391, 'learning_rate': 1.4084507042253523e-06, 'epoch': 46.48}\n"
     ]
    },
    {
     "name": "stderr",
     "output_type": "stream",
     "text": [
      "                                                       \n",
      " 94%|█████████▍| 16685/17750 [1:29:42<03:29,  5.08it/s]"
     ]
    },
    {
     "name": "stdout",
     "output_type": "stream",
     "text": [
      "{'eval_loss': 0.2762194871902466, 'eval_runtime': 5.5193, 'eval_samples_per_second': 175.204, 'eval_steps_per_second': 21.923, 'epoch': 47.0}\n"
     ]
    },
    {
     "name": "stderr",
     "output_type": "stream",
     "text": [
      " 96%|█████████▌| 17001/17750 [1:31:22<03:02,  4.10it/s]  "
     ]
    },
    {
     "name": "stdout",
     "output_type": "stream",
     "text": [
      "{'loss': 0.0392, 'learning_rate': 8.450704225352114e-07, 'epoch': 47.89}\n"
     ]
    },
    {
     "name": "stderr",
     "output_type": "stream",
     "text": [
      "                                                       \n",
      " 96%|█████████▌| 17040/17750 [1:31:37<02:45,  4.29it/s]"
     ]
    },
    {
     "name": "stdout",
     "output_type": "stream",
     "text": [
      "{'eval_loss': 0.27872234582901, 'eval_runtime': 5.6704, 'eval_samples_per_second': 170.535, 'eval_steps_per_second': 21.339, 'epoch': 48.0}\n"
     ]
    },
    {
     "name": "stderr",
     "output_type": "stream",
     "text": [
      "                                                         \n",
      " 98%|█████████▊| 17395/17750 [1:33:26<01:15,  4.69it/s]"
     ]
    },
    {
     "name": "stdout",
     "output_type": "stream",
     "text": [
      "{'eval_loss': 0.2780137062072754, 'eval_runtime': 5.5599, 'eval_samples_per_second': 173.925, 'eval_steps_per_second': 21.763, 'epoch': 49.0}\n"
     ]
    },
    {
     "name": "stderr",
     "output_type": "stream",
     "text": [
      " 99%|█████████▊| 17500/17750 [1:34:16<01:17,  3.22it/s]"
     ]
    },
    {
     "name": "stdout",
     "output_type": "stream",
     "text": [
      "{'loss': 0.0371, 'learning_rate': 2.8169014084507043e-07, 'epoch': 49.3}\n"
     ]
    },
    {
     "name": "stderr",
     "output_type": "stream",
     "text": [
      "                                                       \n",
      "100%|██████████| 17750/17750 [1:35:44<00:00,  1.38s/it]"
     ]
    },
    {
     "name": "stdout",
     "output_type": "stream",
     "text": [
      "{'eval_loss': 0.2777468264102936, 'eval_runtime': 6.0533, 'eval_samples_per_second': 159.747, 'eval_steps_per_second': 19.989, 'epoch': 50.0}\n"
     ]
    },
    {
     "name": "stderr",
     "output_type": "stream",
     "text": [
      "100%|██████████| 17750/17750 [1:36:11<00:00,  3.08it/s]\n"
     ]
    },
    {
     "name": "stdout",
     "output_type": "stream",
     "text": [
      "{'train_runtime': 5771.7034, 'train_samples_per_second': 24.568, 'train_steps_per_second': 3.075, 'train_loss': 0.1517695594035404, 'epoch': 50.0}\n"
     ]
    }
   ],
   "source": [
    "finetuner.fine_tune(training_args)"
   ]
  },
  {
   "attachments": {},
   "cell_type": "markdown",
   "metadata": {},
   "source": [
    "# Inference"
   ]
  },
  {
   "cell_type": "code",
   "execution_count": 30,
   "metadata": {},
   "outputs": [],
   "source": [
    "model = T5ForConditionalGeneration.from_pretrained(SAVE_PATH).to('cuda')"
   ]
  },
  {
   "cell_type": "code",
   "execution_count": 31,
   "metadata": {},
   "outputs": [
    {
     "name": "stderr",
     "output_type": "stream",
     "text": [
      "100%|██████████| 117/117 [01:54<00:00,  1.03it/s]\n"
     ]
    }
   ],
   "source": [
    "model_inference = ModelInference(batch_size=8, dataset=tokenized_dataset['test'], model=model, tokenizer=tokenizer)\n",
    "pred_text = model_inference.inference()"
   ]
  },
  {
   "cell_type": "code",
   "execution_count": 32,
   "metadata": {},
   "outputs": [
    {
     "name": "stderr",
     "output_type": "stream",
     "text": [
      "Creating CSV from Arrow format: 100%|██████████| 1/1 [00:00<00:00, 17.66ba/s]\n"
     ]
    },
    {
     "data": {
      "text/plain": [
       "265327"
      ]
     },
     "execution_count": 32,
     "metadata": {},
     "output_type": "execute_result"
    }
   ],
   "source": [
    "test_dataset = raw_dataset['test']\n",
    "test_dataset = test_dataset.add_column('triplet_model_prediction', pred_text)\n",
    "test_dataset.to_csv('../Data/post-train/ASTE/model_inference.csv')"
   ]
  },
  {
   "attachments": {},
   "cell_type": "markdown",
   "metadata": {},
   "source": [
    "# Evaluate"
   ]
  },
  {
   "cell_type": "code",
   "execution_count": 33,
   "metadata": {},
   "outputs": [],
   "source": [
    "import pandas as pd\n",
    "from src.evaluator import Evaluator"
   ]
  },
  {
   "cell_type": "code",
   "execution_count": 34,
   "metadata": {},
   "outputs": [],
   "source": [
    "df = pd.read_csv('../Data/post-train/ASTE/model_inference.csv')"
   ]
  },
  {
   "cell_type": "code",
   "execution_count": 35,
   "metadata": {},
   "outputs": [
    {
     "name": "stderr",
     "output_type": "stream",
     "text": [
      "100%|██████████| 935/935 [00:00<00:00, 74731.30it/s]\n"
     ]
    }
   ],
   "source": [
    "evaluator = Evaluator(task_type='triplet')\n",
    "raw_scores, all_labels, all_preds = evaluator.evaluate(df['triplet_model_prediction'].astype('str'), df['triplet'].astype('str'))"
   ]
  },
  {
   "cell_type": "code",
   "execution_count": 36,
   "metadata": {},
   "outputs": [
    {
     "data": {
      "text/plain": [
       "{'precision': 0.746765974127793,\n",
       " 'recall': 0.775020341741253,\n",
       " 'f1': 0.7606308644440007}"
      ]
     },
     "execution_count": 36,
     "metadata": {},
     "output_type": "execute_result"
    }
   ],
   "source": [
    "raw_scores"
   ]
  },
  {
   "attachments": {},
   "cell_type": "markdown",
   "metadata": {},
   "source": [
    "# Inference with zili anotated data"
   ]
  },
  {
   "cell_type": "code",
   "execution_count": 1,
   "metadata": {},
   "outputs": [
    {
     "name": "stderr",
     "output_type": "stream",
     "text": [
      "c:\\Users\\danendra\\anaconda3\\envs\\tesis\\lib\\site-packages\\tqdm\\auto.py:21: TqdmWarning: IProgress not found. Please update jupyter and ipywidgets. See https://ipywidgets.readthedocs.io/en/stable/user_install.html\n",
      "  from .autonotebook import tqdm as notebook_tqdm\n"
     ]
    }
   ],
   "source": [
    "from src.inference import ModelInference\n",
    "from src.preprocessor import Preprocessor\n",
    "from transformers import (\n",
    "    T5ForConditionalGeneration,\n",
    "    AutoTokenizer,\n",
    ")\n",
    "from datasets import load_dataset"
   ]
  },
  {
   "cell_type": "code",
   "execution_count": 5,
   "metadata": {},
   "outputs": [],
   "source": [
    "#constant\n",
    "max_length = 20\n",
    "text_col = 'content'\n",
    "label_col = 'triplet_label'\n",
    "preprocess_type = 'p00'\n",
    "SAVE_PATH = f'../models/pt-indot5-TA_PT'\n",
    "PRETRAINED_MODEL = \"Wikidepia/IndoT5-base\"\n",
    "DATA_PATH = '../Data/quadruplet/quadruplet_2200-data_annottated_clean.csv'\n",
    "inference_length = 128"
   ]
  },
  {
   "cell_type": "code",
   "execution_count": 3,
   "metadata": {},
   "outputs": [],
   "source": [
    "model = T5ForConditionalGeneration.from_pretrained(SAVE_PATH)\n",
    "tokenizer = AutoTokenizer.from_pretrained(PRETRAINED_MODEL)"
   ]
  },
  {
   "cell_type": "code",
   "execution_count": 6,
   "metadata": {},
   "outputs": [
    {
     "name": "stdout",
     "output_type": "stream",
     "text": [
      "Downloading and preparing dataset csv/default to C:/Users/danendra/.cache/huggingface/datasets/csv/default-01756b12cba475bf/0.0.0/6954658bab30a358235fa864b05cf819af0e179325c740e4bc853bcc7ec513e1...\n"
     ]
    },
    {
     "name": "stderr",
     "output_type": "stream",
     "text": [
      "Downloading data files: 100%|██████████| 1/1 [00:00<?, ?it/s]\n",
      "Extracting data files: 100%|██████████| 1/1 [00:00<00:00,  7.51it/s]\n",
      "                                                        \r"
     ]
    },
    {
     "name": "stdout",
     "output_type": "stream",
     "text": [
      "Dataset csv downloaded and prepared to C:/Users/danendra/.cache/huggingface/datasets/csv/default-01756b12cba475bf/0.0.0/6954658bab30a358235fa864b05cf819af0e179325c740e4bc853bcc7ec513e1. Subsequent calls will reuse this data.\n"
     ]
    },
    {
     "name": "stderr",
     "output_type": "stream",
     "text": [
      "100%|██████████| 1/1 [00:00<00:00, 90.41it/s]\n",
      "                                                                 \r"
     ]
    }
   ],
   "source": [
    "preprocessor = Preprocessor(preprocess_type, tokenizer, max_length, text_col, label_col)\n",
    "raw_dataset = load_dataset('csv', data_files=DATA_PATH)\n",
    "tokenized_dataset = raw_dataset.map(preprocessor.preprocess_dataset, batched=True, remove_columns=raw_dataset['train'].column_names)"
   ]
  },
  {
   "cell_type": "code",
   "execution_count": 10,
   "metadata": {},
   "outputs": [
    {
     "data": {
      "text/plain": [
       "DatasetDict({\n",
       "    train: Dataset({\n",
       "        features: ['input_ids', 'attention_mask', 'labels'],\n",
       "        num_rows: 2298\n",
       "    })\n",
       "})"
      ]
     },
     "execution_count": 10,
     "metadata": {},
     "output_type": "execute_result"
    }
   ],
   "source": [
    "tokenized_dataset"
   ]
  },
  {
   "cell_type": "code",
   "execution_count": 11,
   "metadata": {},
   "outputs": [
    {
     "data": {
      "text/plain": [
       "'(hp, harga terlalu tinggi, negative)</s>'"
      ]
     },
     "execution_count": 11,
     "metadata": {},
     "output_type": "execute_result"
    }
   ],
   "source": [
    "tokenizer.decode(tokenized_dataset['train']['labels'][0])"
   ]
  },
  {
   "cell_type": "code",
   "execution_count": 12,
   "metadata": {},
   "outputs": [
    {
     "data": {
      "text/plain": [
       "'nder hpnya kamu pakai berapa lama? kayaknya jt masih terlalu tingi</s>'"
      ]
     },
     "execution_count": 12,
     "metadata": {},
     "output_type": "execute_result"
    }
   ],
   "source": [
    "tokenizer.decode(tokenized_dataset['train']['input_ids'][0])"
   ]
  },
  {
   "cell_type": "code",
   "execution_count": 13,
   "metadata": {},
   "outputs": [
    {
     "name": "stderr",
     "output_type": "stream",
     "text": [
      "You're using a T5TokenizerFast tokenizer. Please note that with a fast tokenizer, using the `__call__` method is faster than using a method to encode the text followed by a call to the `pad` method to get a padded encoding.\n",
      "100%|██████████| 288/288 [02:19<00:00,  2.07it/s]\n"
     ]
    }
   ],
   "source": [
    "model_inference = ModelInference(batch_size=8, dataset=tokenized_dataset['train'], model=model, \n",
    "                                 tokenizer=tokenizer, inference_len=inference_length)\n",
    "pred_text = model_inference.inference()"
   ]
  },
  {
   "cell_type": "code",
   "execution_count": 15,
   "metadata": {},
   "outputs": [
    {
     "name": "stderr",
     "output_type": "stream",
     "text": [
      "Creating CSV from Arrow format:   0%|          | 0/3 [00:00<?, ?ba/s]"
     ]
    },
    {
     "name": "stderr",
     "output_type": "stream",
     "text": [
      "Creating CSV from Arrow format: 100%|██████████| 3/3 [00:00<00:00, 47.03ba/s]\n"
     ]
    },
    {
     "data": {
      "text/plain": [
       "908982"
      ]
     },
     "execution_count": 15,
     "metadata": {},
     "output_type": "execute_result"
    }
   ],
   "source": [
    "raw_dataset = raw_dataset['train'].add_column(f'{preprocess_type}_model_prediction', pred_text)\n",
    "raw_dataset.to_csv('../Data/quadruplet/model_2200_data_semi_supervised_labels.csv')"
   ]
  },
  {
   "attachments": {},
   "cell_type": "markdown",
   "metadata": {},
   "source": [
    "# Evaluate"
   ]
  },
  {
   "cell_type": "code",
   "execution_count": 21,
   "metadata": {},
   "outputs": [],
   "source": [
    "import pandas as pd\n",
    "from src.evaluator import Evaluator\n",
    "from src.postprocessor import PostProcessor\n",
    "from src.utils import extract_triplet"
   ]
  },
  {
   "cell_type": "code",
   "execution_count": 25,
   "metadata": {},
   "outputs": [
    {
     "data": {
      "text/html": [
       "<div>\n",
       "<style scoped>\n",
       "    .dataframe tbody tr th:only-of-type {\n",
       "        vertical-align: middle;\n",
       "    }\n",
       "\n",
       "    .dataframe tbody tr th {\n",
       "        vertical-align: top;\n",
       "    }\n",
       "\n",
       "    .dataframe thead th {\n",
       "        text-align: right;\n",
       "    }\n",
       "</style>\n",
       "<table border=\"1\" class=\"dataframe\">\n",
       "  <thead>\n",
       "    <tr style=\"text-align: right;\">\n",
       "      <th></th>\n",
       "      <th>content</th>\n",
       "      <th>final_sentiment</th>\n",
       "      <th>baseline_aspect_category</th>\n",
       "      <th>tweet_type</th>\n",
       "      <th>clean_tweet</th>\n",
       "      <th>quadruplet</th>\n",
       "      <th>triplet_label</th>\n",
       "      <th>p00_model_prediction</th>\n",
       "    </tr>\n",
       "  </thead>\n",
       "  <tbody>\n",
       "    <tr>\n",
       "      <th>0</th>\n",
       "      <td>@JUALAN_BASE @fleurlovincs Nder hpnya kamu pak...</td>\n",
       "      <td>neutral</td>\n",
       "      <td>delivery; produk;</td>\n",
       "      <td>SUBJECTIVE</td>\n",
       "      <td>Nder hpnya kamu pake brp lama? Kayaknya jt ms...</td>\n",
       "      <td>(hp, harga terlalu tinggi, negative, produk)</td>\n",
       "      <td>(hp, harga terlalu tinggi, negative)</td>\n",
       "      <td>(hpnya,berapa lama,neg)</td>\n",
       "    </tr>\n",
       "    <tr>\n",
       "      <th>1</th>\n",
       "      <td>@teh_manis__ @ezash coba cari di olx mba kalo ...</td>\n",
       "      <td>neutral</td>\n",
       "      <td>produk;</td>\n",
       "      <td>SUBJECTIVE</td>\n",
       "      <td>coba cari di olx mba kalo baru pertama kali m...</td>\n",
       "      <td>(motor bekas, pertama kali, positive, produk)</td>\n",
       "      <td>(motor bekas, pertama kali, positive)</td>\n",
       "      <td>(motor,bekas,neg)</td>\n",
       "    </tr>\n",
       "    <tr>\n",
       "      <th>2</th>\n",
       "      <td>@tanyakanrl Kalo mau beli second jangan di tok...</td>\n",
       "      <td>positive</td>\n",
       "      <td>delivery; produk;</td>\n",
       "      <td>SUBJECTIVE</td>\n",
       "      <td>Kalo mau beli second jangan di toko oren atau...</td>\n",
       "      <td>(beli second, biar lebih aman, negative, produ...</td>\n",
       "      <td>(beli second, biar lebih aman, negative);(olx,...</td>\n",
       "      <td>(f,jangan di market place,neg)</td>\n",
       "    </tr>\n",
       "    <tr>\n",
       "      <th>3</th>\n",
       "      <td>kalo jam 1 malem gabisa tidur pengen makan nas...</td>\n",
       "      <td>neutral</td>\n",
       "      <td>customerservice; produk;</td>\n",
       "      <td>SUBJECTIVE</td>\n",
       "      <td>kalo jam malem gabisa tidur pengen makan nasi ...</td>\n",
       "      <td>(nasi goreng, enak, positive, produk)</td>\n",
       "      <td>(nasi goreng, enak, positive)</td>\n",
       "      <td>(nasi goreng,enak,pos)</td>\n",
       "    </tr>\n",
       "    <tr>\n",
       "      <th>4</th>\n",
       "      <td>@tirta_cipeng Di luar dunia fashion, saya seri...</td>\n",
       "      <td>neutral</td>\n",
       "      <td>produk;</td>\n",
       "      <td>SUBJECTIVE</td>\n",
       "      <td>Di luar dunia fashion, saya sering banget nem...</td>\n",
       "      <td>(olx, reseller, negative, customerservice)</td>\n",
       "      <td>(olx, reseller, negative)</td>\n",
       "      <td>(budget,mengakui,pos)</td>\n",
       "    </tr>\n",
       "  </tbody>\n",
       "</table>\n",
       "</div>"
      ],
      "text/plain": [
       "                                             content final_sentiment  \\\n",
       "0  @JUALAN_BASE @fleurlovincs Nder hpnya kamu pak...         neutral   \n",
       "1  @teh_manis__ @ezash coba cari di olx mba kalo ...         neutral   \n",
       "2  @tanyakanrl Kalo mau beli second jangan di tok...        positive   \n",
       "3  kalo jam 1 malem gabisa tidur pengen makan nas...         neutral   \n",
       "4  @tirta_cipeng Di luar dunia fashion, saya seri...         neutral   \n",
       "\n",
       "   baseline_aspect_category  tweet_type  \\\n",
       "0         delivery; produk;  SUBJECTIVE   \n",
       "1                   produk;  SUBJECTIVE   \n",
       "2         delivery; produk;  SUBJECTIVE   \n",
       "3  customerservice; produk;  SUBJECTIVE   \n",
       "4                   produk;  SUBJECTIVE   \n",
       "\n",
       "                                         clean_tweet  \\\n",
       "0   Nder hpnya kamu pake brp lama? Kayaknya jt ms...   \n",
       "1   coba cari di olx mba kalo baru pertama kali m...   \n",
       "2   Kalo mau beli second jangan di toko oren atau...   \n",
       "3  kalo jam malem gabisa tidur pengen makan nasi ...   \n",
       "4   Di luar dunia fashion, saya sering banget nem...   \n",
       "\n",
       "                                          quadruplet  \\\n",
       "0       (hp, harga terlalu tinggi, negative, produk)   \n",
       "1      (motor bekas, pertama kali, positive, produk)   \n",
       "2  (beli second, biar lebih aman, negative, produ...   \n",
       "3              (nasi goreng, enak, positive, produk)   \n",
       "4         (olx, reseller, negative, customerservice)   \n",
       "\n",
       "                                       triplet_label  \\\n",
       "0               (hp, harga terlalu tinggi, negative)   \n",
       "1              (motor bekas, pertama kali, positive)   \n",
       "2  (beli second, biar lebih aman, negative);(olx,...   \n",
       "3                      (nasi goreng, enak, positive)   \n",
       "4                          (olx, reseller, negative)   \n",
       "\n",
       "             p00_model_prediction  \n",
       "0         (hpnya,berapa lama,neg)  \n",
       "1               (motor,bekas,neg)  \n",
       "2  (f,jangan di market place,neg)  \n",
       "3          (nasi goreng,enak,pos)  \n",
       "4           (budget,mengakui,pos)  "
      ]
     },
     "execution_count": 25,
     "metadata": {},
     "output_type": "execute_result"
    }
   ],
   "source": [
    "df = pd.read_csv('../Data/quadruplet/model_2200_data_semi_supervised_labels.csv')\n",
    "df['triplet_label'] = df['triplet_label'].apply(lambda x:x.lower())\n",
    "df['p00_model_prediction'] = df['p00_model_prediction'].apply(lambda x:x.lower())\n",
    "df.head(5)"
   ]
  },
  {
   "cell_type": "code",
   "execution_count": 18,
   "metadata": {},
   "outputs": [],
   "source": [
    "postprocessor = PostProcessor(use_postprocess=False)\n",
    "evaluator = Evaluator(task_type='triplet', postprocessor=postprocessor)"
   ]
  },
  {
   "cell_type": "code",
   "execution_count": 19,
   "metadata": {},
   "outputs": [
    {
     "name": "stderr",
     "output_type": "stream",
     "text": [
      "100%|██████████| 2298/2298 [00:00<00:00, 114761.93it/s]\n"
     ]
    }
   ],
   "source": [
    "raw_scores, all_labels, all_preds = evaluator.evaluate(pred_seqs=df['p00_model_prediction'],\n",
    "                   gold_seqs=df['triplet_label'])"
   ]
  },
  {
   "attachments": {},
   "cell_type": "markdown",
   "metadata": {},
   "source": [
    "post-process"
   ]
  },
  {
   "cell_type": "code",
   "execution_count": 31,
   "metadata": {},
   "outputs": [],
   "source": [
    "sen_map = {\n",
    "    'neg' : 'negative',\n",
    "    'pos' : 'positive',\n",
    "    'net' : 'neutral'\n",
    "}\n",
    "errors_idx = []\n",
    "for i in range(len(df)):\n",
    "    try:\n",
    "        row = df.iloc[i]\n",
    "        triplets = extract_triplet(row['p00_model_prediction'])\n",
    "        new_triplet = []\n",
    "        for triplet in triplets:\n",
    "            aspect, opinion, sentiment = triplet\n",
    "            sentiment = sen_map[sentiment]\n",
    "            new_triplet.append(f\"({aspect},{opinion},{sentiment})\")\n",
    "        new_triplet_str = \";\".join(new_triplet)\n",
    "        df.at[i, 'p00_model_prediction'] = new_triplet_str\n",
    "    except:\n",
    "        errors_idx.append(i)"
   ]
  },
  {
   "cell_type": "code",
   "execution_count": 34,
   "metadata": {},
   "outputs": [],
   "source": [
    "clean_df = df.drop(index=errors_idx)"
   ]
  },
  {
   "cell_type": "code",
   "execution_count": 40,
   "metadata": {},
   "outputs": [
    {
     "data": {
      "text/html": [
       "<div>\n",
       "<style scoped>\n",
       "    .dataframe tbody tr th:only-of-type {\n",
       "        vertical-align: middle;\n",
       "    }\n",
       "\n",
       "    .dataframe tbody tr th {\n",
       "        vertical-align: top;\n",
       "    }\n",
       "\n",
       "    .dataframe thead th {\n",
       "        text-align: right;\n",
       "    }\n",
       "</style>\n",
       "<table border=\"1\" class=\"dataframe\">\n",
       "  <thead>\n",
       "    <tr style=\"text-align: right;\">\n",
       "      <th></th>\n",
       "      <th>content</th>\n",
       "      <th>final_sentiment</th>\n",
       "      <th>baseline_aspect_category</th>\n",
       "      <th>tweet_type</th>\n",
       "      <th>clean_tweet</th>\n",
       "      <th>quadruplet</th>\n",
       "      <th>triplet_label</th>\n",
       "      <th>p00_model_prediction</th>\n",
       "    </tr>\n",
       "  </thead>\n",
       "  <tbody>\n",
       "    <tr>\n",
       "      <th>17</th>\n",
       "      <td>Trus waktu kantorku hampir pindah di daerah ka...</td>\n",
       "      <td>neutral</td>\n",
       "      <td>produk;</td>\n",
       "      <td>SUBJECTIVE</td>\n",
       "      <td>Trus waktu kantorku hampir pindah di daerah ka...</td>\n",
       "      <td>(mamikos, nyari kosan/kontrakan, olx, produk);...</td>\n",
       "      <td>(mamikos, nyari kosan/kontrakan, olx);(fesbuk,...</td>\n",
       "      <td></td>\n",
       "    </tr>\n",
       "    <tr>\n",
       "      <th>23</th>\n",
       "      <td>@beautydyah Bisa kok hanya saja yang lebih dir...</td>\n",
       "      <td>positive</td>\n",
       "      <td>delivery; website&amp;apps; payment; produk;</td>\n",
       "      <td>SUBJECTIVE</td>\n",
       "      <td>Bisa kok hanya saja yang lebih direkomendasik...</td>\n",
       "      <td>(lebih direkomendasikan, keluar, centang biru,...</td>\n",
       "      <td>(lebih direkomendasikan, keluar, centang biru)</td>\n",
       "      <td>(biru,bisa,positive)</td>\n",
       "    </tr>\n",
       "    <tr>\n",
       "      <th>24</th>\n",
       "      <td>Btw ga cantumin foto soalnya bukan punyaku, jd...</td>\n",
       "      <td>negative</td>\n",
       "      <td>produk;</td>\n",
       "      <td>SUBJECTIVE</td>\n",
       "      <td>Btw ga cantumin foto soalnya bukan punyaku, jd...</td>\n",
       "      <td>(penjual, ngajak cod-an, positive, produk)</td>\n",
       "      <td>(penjual, ngajak cod-an, positive)</td>\n",
       "      <td>(foto,ga cantumin,negative)</td>\n",
       "    </tr>\n",
       "    <tr>\n",
       "      <th>25</th>\n",
       "      <td>@babyjxxxoxo Wkwk lebay sih kl email, kecuali ...</td>\n",
       "      <td>neutral</td>\n",
       "      <td>produk;</td>\n",
       "      <td>SUBJECTIVE</td>\n",
       "      <td>Wkwk lebay sih kl email, kecuali nomor wasaf ...</td>\n",
       "      <td>(pasang iklan, nomornya lupa hide, negative, w...</td>\n",
       "      <td>(pasang iklan, nomornya lupa hide, negative)</td>\n",
       "      <td>(email,berlebihan,negative)</td>\n",
       "    </tr>\n",
       "    <tr>\n",
       "      <th>26</th>\n",
       "      <td>@SeputarTetangga Buat referensi coba liat2 aja...</td>\n",
       "      <td>neutral</td>\n",
       "      <td>price; produk;</td>\n",
       "      <td>SUBJECTIVE</td>\n",
       "      <td>Buat referensi coba liat2 aja harga rumah di ...</td>\n",
       "      <td>(harga rumah, murah2, positive, produk); (kont...</td>\n",
       "      <td>(harga rumah, murah2, positive);(kontrakan, di...</td>\n",
       "      <td>(harga rumah,murah,positive)</td>\n",
       "    </tr>\n",
       "    <tr>\n",
       "      <th>...</th>\n",
       "      <td>...</td>\n",
       "      <td>...</td>\n",
       "      <td>...</td>\n",
       "      <td>...</td>\n",
       "      <td>...</td>\n",
       "      <td>...</td>\n",
       "      <td>...</td>\n",
       "      <td>...</td>\n",
       "    </tr>\n",
       "    <tr>\n",
       "      <th>2293</th>\n",
       "      <td>@indomilkyourway @alfamart @alfamidi_ku @Indom...</td>\n",
       "      <td>positive</td>\n",
       "      <td>produk;</td>\n",
       "      <td>SUBJECTIVE</td>\n",
       "      <td>PINK BLOSSOM ENAK BGTIIII</td>\n",
       "      <td>(pink blossom, enak bgt, positive, produk)</td>\n",
       "      <td>(pink blossom, enak bgt, positive)</td>\n",
       "      <td>(bgti,pink,positive);(bgti,enak bgti,positive)</td>\n",
       "    </tr>\n",
       "    <tr>\n",
       "      <th>2294</th>\n",
       "      <td>shopee gw doang apa emang lagi error sih. tiap...</td>\n",
       "      <td>negative</td>\n",
       "      <td>produk;</td>\n",
       "      <td>SUBJECTIVE</td>\n",
       "      <td>shopee gw doang apa emang lagi error sih. tiap...</td>\n",
       "      <td>(shopee, lagi error, negative, website&amp;apps)</td>\n",
       "      <td>(shopee, lagi error, negative)</td>\n",
       "      <td>(shope,doang,negative)</td>\n",
       "    </tr>\n",
       "    <tr>\n",
       "      <th>2295</th>\n",
       "      <td>@indomilkyourway @alfamart @alfamidi_ku @Indom...</td>\n",
       "      <td>positive</td>\n",
       "      <td>produk;</td>\n",
       "      <td>SUBJECTIVE</td>\n",
       "      <td>Yang black latte enak banget sumpilll, plis j...</td>\n",
       "      <td>(black latte, enak banget sumpilll, positive, ...</td>\n",
       "      <td>(black latte, enak banget sumpilll, positive)</td>\n",
       "      <td>(varian,enak banget,positive);(varian,sumpil,p...</td>\n",
       "    </tr>\n",
       "    <tr>\n",
       "      <th>2296</th>\n",
       "      <td>@sbtcon Di deskripsi link Shopee sllu tulis ka...</td>\n",
       "      <td>negative</td>\n",
       "      <td>produk;</td>\n",
       "      <td>SUBJECTIVE</td>\n",
       "      <td>Di deskripsi link Shopee sllu tulis kalo rusa...</td>\n",
       "      <td>(packing, diluar tanggung jawab seller, negati...</td>\n",
       "      <td>(packing, diluar tanggung jawab seller, negative)</td>\n",
       "      <td>(seler,rusak,negative)</td>\n",
       "    </tr>\n",
       "    <tr>\n",
       "      <th>2297</th>\n",
       "      <td>@modaraimusu @myXLCare Ga cuma lu doang nder, ...</td>\n",
       "      <td>negative</td>\n",
       "      <td>produk;</td>\n",
       "      <td>SUBJECTIVE</td>\n",
       "      <td>Ga cuma lu doang nder, gue juga gitu. Dulu sb...</td>\n",
       "      <td>(XL, padahal csnya enak, positive, costumerser...</td>\n",
       "      <td>(xl, padahal csnya enak, positive)</td>\n",
       "      <td>(sera,gitu,negative)</td>\n",
       "    </tr>\n",
       "  </tbody>\n",
       "</table>\n",
       "<p>2219 rows × 8 columns</p>\n",
       "</div>"
      ],
      "text/plain": [
       "                                                content final_sentiment  \\\n",
       "17    Trus waktu kantorku hampir pindah di daerah ka...         neutral   \n",
       "23    @beautydyah Bisa kok hanya saja yang lebih dir...        positive   \n",
       "24    Btw ga cantumin foto soalnya bukan punyaku, jd...        negative   \n",
       "25    @babyjxxxoxo Wkwk lebay sih kl email, kecuali ...         neutral   \n",
       "26    @SeputarTetangga Buat referensi coba liat2 aja...         neutral   \n",
       "...                                                 ...             ...   \n",
       "2293  @indomilkyourway @alfamart @alfamidi_ku @Indom...        positive   \n",
       "2294  shopee gw doang apa emang lagi error sih. tiap...        negative   \n",
       "2295  @indomilkyourway @alfamart @alfamidi_ku @Indom...        positive   \n",
       "2296  @sbtcon Di deskripsi link Shopee sllu tulis ka...        negative   \n",
       "2297  @modaraimusu @myXLCare Ga cuma lu doang nder, ...        negative   \n",
       "\n",
       "                      baseline_aspect_category  tweet_type  \\\n",
       "17                                     produk;  SUBJECTIVE   \n",
       "23    delivery; website&apps; payment; produk;  SUBJECTIVE   \n",
       "24                                     produk;  SUBJECTIVE   \n",
       "25                                     produk;  SUBJECTIVE   \n",
       "26                              price; produk;  SUBJECTIVE   \n",
       "...                                        ...         ...   \n",
       "2293                                   produk;  SUBJECTIVE   \n",
       "2294                                   produk;  SUBJECTIVE   \n",
       "2295                                   produk;  SUBJECTIVE   \n",
       "2296                                   produk;  SUBJECTIVE   \n",
       "2297                                   produk;  SUBJECTIVE   \n",
       "\n",
       "                                            clean_tweet  \\\n",
       "17    Trus waktu kantorku hampir pindah di daerah ka...   \n",
       "23     Bisa kok hanya saja yang lebih direkomendasik...   \n",
       "24    Btw ga cantumin foto soalnya bukan punyaku, jd...   \n",
       "25     Wkwk lebay sih kl email, kecuali nomor wasaf ...   \n",
       "26     Buat referensi coba liat2 aja harga rumah di ...   \n",
       "...                                                 ...   \n",
       "2293                          PINK BLOSSOM ENAK BGTIIII   \n",
       "2294  shopee gw doang apa emang lagi error sih. tiap...   \n",
       "2295   Yang black latte enak banget sumpilll, plis j...   \n",
       "2296   Di deskripsi link Shopee sllu tulis kalo rusa...   \n",
       "2297   Ga cuma lu doang nder, gue juga gitu. Dulu sb...   \n",
       "\n",
       "                                             quadruplet  \\\n",
       "17    (mamikos, nyari kosan/kontrakan, olx, produk);...   \n",
       "23    (lebih direkomendasikan, keluar, centang biru,...   \n",
       "24          (penjual, ngajak cod-an, positive, produk)    \n",
       "25    (pasang iklan, nomornya lupa hide, negative, w...   \n",
       "26    (harga rumah, murah2, positive, produk); (kont...   \n",
       "...                                                 ...   \n",
       "2293         (pink blossom, enak bgt, positive, produk)   \n",
       "2294       (shopee, lagi error, negative, website&apps)   \n",
       "2295  (black latte, enak banget sumpilll, positive, ...   \n",
       "2296  (packing, diluar tanggung jawab seller, negati...   \n",
       "2297  (XL, padahal csnya enak, positive, costumerser...   \n",
       "\n",
       "                                          triplet_label  \\\n",
       "17    (mamikos, nyari kosan/kontrakan, olx);(fesbuk,...   \n",
       "23       (lebih direkomendasikan, keluar, centang biru)   \n",
       "24                   (penjual, ngajak cod-an, positive)   \n",
       "25         (pasang iklan, nomornya lupa hide, negative)   \n",
       "26    (harga rumah, murah2, positive);(kontrakan, di...   \n",
       "...                                                 ...   \n",
       "2293                 (pink blossom, enak bgt, positive)   \n",
       "2294                     (shopee, lagi error, negative)   \n",
       "2295      (black latte, enak banget sumpilll, positive)   \n",
       "2296  (packing, diluar tanggung jawab seller, negative)   \n",
       "2297                 (xl, padahal csnya enak, positive)   \n",
       "\n",
       "                                   p00_model_prediction  \n",
       "17                                                       \n",
       "23                                 (biru,bisa,positive)  \n",
       "24                          (foto,ga cantumin,negative)  \n",
       "25                          (email,berlebihan,negative)  \n",
       "26                         (harga rumah,murah,positive)  \n",
       "...                                                 ...  \n",
       "2293     (bgti,pink,positive);(bgti,enak bgti,positive)  \n",
       "2294                             (shope,doang,negative)  \n",
       "2295  (varian,enak banget,positive);(varian,sumpil,p...  \n",
       "2296                             (seler,rusak,negative)  \n",
       "2297                               (sera,gitu,negative)  \n",
       "\n",
       "[2219 rows x 8 columns]"
      ]
     },
     "execution_count": 40,
     "metadata": {},
     "output_type": "execute_result"
    }
   ],
   "source": [
    "clean_df"
   ]
  },
  {
   "cell_type": "code",
   "execution_count": 41,
   "metadata": {},
   "outputs": [
    {
     "name": "stderr",
     "output_type": "stream",
     "text": [
      "100%|██████████| 2298/2298 [00:00<00:00, 7800.50it/s]\n"
     ]
    }
   ],
   "source": [
    "raw_scores, all_labels, all_preds = evaluator.evaluate(pred_seqs=df['p00_model_prediction'],\n",
    "                   gold_seqs=df['triplet_label'])"
   ]
  },
  {
   "cell_type": "code",
   "execution_count": 43,
   "metadata": {},
   "outputs": [],
   "source": [
    "clean_df.to_csv('../Data/quadruplet/model_2200_data_semi_supervised_labels.csv', index=False)"
   ]
  },
  {
   "cell_type": "code",
   "execution_count": null,
   "metadata": {},
   "outputs": [],
   "source": []
  }
 ],
 "metadata": {
  "kernelspec": {
   "display_name": "tesis",
   "language": "python",
   "name": "python3"
  },
  "language_info": {
   "codemirror_mode": {
    "name": "ipython",
    "version": 3
   },
   "file_extension": ".py",
   "mimetype": "text/x-python",
   "name": "python",
   "nbconvert_exporter": "python",
   "pygments_lexer": "ipython3",
   "version": "3.10.11"
  },
  "orig_nbformat": 4
 },
 "nbformat": 4,
 "nbformat_minor": 2
}
