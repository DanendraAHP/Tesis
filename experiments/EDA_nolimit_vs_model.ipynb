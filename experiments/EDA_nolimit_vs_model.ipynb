{
 "cells": [
  {
   "cell_type": "code",
   "execution_count": 6,
   "metadata": {},
   "outputs": [],
   "source": [
    "import pandas as pd\n",
    "from Levenshtein import distance\n",
    "from sklearn.metrics import classification_report\n",
    "from sklearn.preprocessing import MultiLabelBinarizer\n",
    "import re\n",
    "from src.utils import extract_quintuplet"
   ]
  },
  {
   "cell_type": "code",
   "execution_count": 31,
   "metadata": {},
   "outputs": [],
   "source": [
    "df = pd.read_csv('../Data/test_data.csv')"
   ]
  },
  {
   "cell_type": "code",
   "execution_count": 32,
   "metadata": {},
   "outputs": [
    {
     "name": "stdout",
     "output_type": "stream",
     "text": [
      "<class 'pandas.core.frame.DataFrame'>\n",
      "RangeIndex: 200 entries, 0 to 199\n",
      "Data columns (total 16 columns):\n",
      " #   Column                                Non-Null Count  Dtype \n",
      "---  ------                                --------------  ----- \n",
      " 0   aoriginal_id                          200 non-null    int64 \n",
      " 1   content                               200 non-null    object\n",
      " 2   final_sentiment                       200 non-null    object\n",
      " 3   baseline_aspect_category              195 non-null    object\n",
      " 4   tweet_type                            200 non-null    object\n",
      " 5   clean_tweet                           200 non-null    object\n",
      " 6   label                                 200 non-null    object\n",
      " 7   corrected_label                       25 non-null     object\n",
      " 8   keterangan                            8 non-null      object\n",
      " 9   quintuplet_label                      200 non-null    object\n",
      " 10  postprocess_quintuplet                200 non-null    object\n",
      " 11  p21_model_prediction                  200 non-null    object\n",
      " 12  p00_model_prediction                  200 non-null    object\n",
      " 13  postprocessed_p21_prediction          200 non-null    object\n",
      " 14  postprocessed_postprocess_quintuplet  200 non-null    object\n",
      " 15  postprocessed_p00_prediction          200 non-null    object\n",
      "dtypes: int64(1), object(15)\n",
      "memory usage: 25.1+ KB\n"
     ]
    }
   ],
   "source": [
    "df.info()"
   ]
  },
  {
   "cell_type": "code",
   "execution_count": 33,
   "metadata": {},
   "outputs": [],
   "source": [
    "df = df.dropna(subset=['baseline_aspect_category'])"
   ]
  },
  {
   "attachments": {},
   "cell_type": "markdown",
   "metadata": {},
   "source": [
    "# Label diff"
   ]
  },
  {
   "cell_type": "code",
   "execution_count": 39,
   "metadata": {},
   "outputs": [],
   "source": [
    "pred_quadruplet_col = 'p21_model_prediction'\n",
    "ori_quadruplet_col = 'postprocess_quintuplet'"
   ]
  },
  {
   "cell_type": "code",
   "execution_count": 40,
   "metadata": {},
   "outputs": [],
   "source": [
    "aspect_categories = ['price', 'produk', 'payment', 'website&apps', 'delivery', 'customerservice', 'user']\n",
    "annot_errors = []\n",
    "model_errors = []\n",
    "df['annotated_multilabel'] = ''\n",
    "df['keyword_multilabel'] = ''\n",
    "df['model_multilabel'] = ''\n",
    "for i in range(len(df)):\n",
    "    row = df.iloc[i]\n",
    "    #for annotated aspect categories\n",
    "    annotated_quintuplet = extract_quintuplet(row[ori_quadruplet_col])\n",
    "    annotated_aspect = []\n",
    "    #for model aspect categories\n",
    "    model_quintuplet = extract_quintuplet(row[pred_quadruplet_col])\n",
    "    model_aspect = []\n",
    "    #for annotated quadruplet\n",
    "    for quintuplet in annotated_quintuplet:\n",
    "        #for annotated\n",
    "        entities, aspect_term, opinion_term, sentiment, aspect_category = quintuplet\n",
    "        annotated_aspect.append(aspect_category)\n",
    "        #annotated_aspect.append(aspect_categories.index(aspect_category))\n",
    "    #for model quadruplet\n",
    "    for quintuplet in model_quintuplet:\n",
    "        #for annotated\n",
    "        entities, aspect_term, opinion_term, sentiment, aspect_category = quintuplet\n",
    "        model_aspect.append(aspect_category)\n",
    "        #model_aspect.append(aspect_categories.index(aspect_category))\n",
    "    #for annotated label\n",
    "    df.at[i, 'annotated_multilabel'] = set(annotated_aspect)\n",
    "    #for model label\n",
    "    df.at[i, 'model_multilabel'] = set(model_aspect)\n",
    "    #for keyword label\n",
    "    labels = row['baseline_aspect_category'].split(';') \n",
    "    keyword_multilabels = [label.replace(' ', '') for label in labels if label != '']\n",
    "    #keyword_multilabels = [aspect_categories.index(keyword_multilabels) for label in labels]\n",
    "    df.at[i, 'keyword_multilabel'] = set(keyword_multilabels)"
   ]
  },
  {
   "cell_type": "code",
   "execution_count": 41,
   "metadata": {},
   "outputs": [
    {
     "data": {
      "text/html": [
       "<div>\n",
       "<style scoped>\n",
       "    .dataframe tbody tr th:only-of-type {\n",
       "        vertical-align: middle;\n",
       "    }\n",
       "\n",
       "    .dataframe tbody tr th {\n",
       "        vertical-align: top;\n",
       "    }\n",
       "\n",
       "    .dataframe thead th {\n",
       "        text-align: right;\n",
       "    }\n",
       "</style>\n",
       "<table border=\"1\" class=\"dataframe\">\n",
       "  <thead>\n",
       "    <tr style=\"text-align: right;\">\n",
       "      <th></th>\n",
       "      <th>postprocess_quintuplet</th>\n",
       "      <th>p21_model_prediction</th>\n",
       "      <th>baseline_aspect_category</th>\n",
       "    </tr>\n",
       "  </thead>\n",
       "  <tbody>\n",
       "    <tr>\n",
       "      <th>0</th>\n",
       "      <td>(olx,_,ada manusiawinya,positive,user);(fb,_,k...</td>\n",
       "      <td>(olx,_,ada manusiawinya,positive,user);(fb,_,k...</td>\n",
       "      <td>produk;</td>\n",
       "    </tr>\n",
       "    <tr>\n",
       "      <th>1</th>\n",
       "      <td>(shopee,shopee express,paling cepet,positive,d...</td>\n",
       "      <td>(shopee,shopee express,paling cepet,positive,d...</td>\n",
       "      <td>delivery; produk;</td>\n",
       "    </tr>\n",
       "    <tr>\n",
       "      <th>2</th>\n",
       "      <td>(shopee,cs shopee,bodong,negative,customerserv...</td>\n",
       "      <td>(shopee,cs shopee,bodong,negative,customerserv...</td>\n",
       "      <td>payment; produk;</td>\n",
       "    </tr>\n",
       "    <tr>\n",
       "      <th>3</th>\n",
       "      <td>(shopee,admin shopee,makin gedeee,negative,price)</td>\n",
       "      <td>(shopee,admin shopee,makin gedeee,negative,price)</td>\n",
       "      <td>produk;</td>\n",
       "    </tr>\n",
       "    <tr>\n",
       "      <th>4</th>\n",
       "      <td>(shopee,pengiriman instan,bener-bener instan b...</td>\n",
       "      <td>(shopee,pengiriman instan,bener-bener instan b...</td>\n",
       "      <td>price; produk;</td>\n",
       "    </tr>\n",
       "  </tbody>\n",
       "</table>\n",
       "</div>"
      ],
      "text/plain": [
       "                              postprocess_quintuplet  \\\n",
       "0  (olx,_,ada manusiawinya,positive,user);(fb,_,k...   \n",
       "1  (shopee,shopee express,paling cepet,positive,d...   \n",
       "2  (shopee,cs shopee,bodong,negative,customerserv...   \n",
       "3  (shopee,admin shopee,makin gedeee,negative,price)   \n",
       "4  (shopee,pengiriman instan,bener-bener instan b...   \n",
       "\n",
       "                                p21_model_prediction baseline_aspect_category  \n",
       "0  (olx,_,ada manusiawinya,positive,user);(fb,_,k...                  produk;  \n",
       "1  (shopee,shopee express,paling cepet,positive,d...        delivery; produk;  \n",
       "2  (shopee,cs shopee,bodong,negative,customerserv...         payment; produk;  \n",
       "3  (shopee,admin shopee,makin gedeee,negative,price)                  produk;  \n",
       "4  (shopee,pengiriman instan,bener-bener instan b...           price; produk;  "
      ]
     },
     "execution_count": 41,
     "metadata": {},
     "output_type": "execute_result"
    }
   ],
   "source": [
    "df.head()[[ori_quadruplet_col, pred_quadruplet_col, 'baseline_aspect_category']]"
   ]
  },
  {
   "cell_type": "code",
   "execution_count": 42,
   "metadata": {},
   "outputs": [
    {
     "data": {
      "text/html": [
       "<div>\n",
       "<style scoped>\n",
       "    .dataframe tbody tr th:only-of-type {\n",
       "        vertical-align: middle;\n",
       "    }\n",
       "\n",
       "    .dataframe tbody tr th {\n",
       "        vertical-align: top;\n",
       "    }\n",
       "\n",
       "    .dataframe thead th {\n",
       "        text-align: right;\n",
       "    }\n",
       "</style>\n",
       "<table border=\"1\" class=\"dataframe\">\n",
       "  <thead>\n",
       "    <tr style=\"text-align: right;\">\n",
       "      <th></th>\n",
       "      <th>annotated_multilabel</th>\n",
       "      <th>model_multilabel</th>\n",
       "      <th>keyword_multilabel</th>\n",
       "    </tr>\n",
       "  </thead>\n",
       "  <tbody>\n",
       "    <tr>\n",
       "      <th>0</th>\n",
       "      <td>{user}</td>\n",
       "      <td>{user}</td>\n",
       "      <td>{produk}</td>\n",
       "    </tr>\n",
       "    <tr>\n",
       "      <th>1</th>\n",
       "      <td>{delivery}</td>\n",
       "      <td>{delivery}</td>\n",
       "      <td>{produk, delivery}</td>\n",
       "    </tr>\n",
       "    <tr>\n",
       "      <th>2</th>\n",
       "      <td>{customerservice}</td>\n",
       "      <td>{customerservice}</td>\n",
       "      <td>{produk, payment}</td>\n",
       "    </tr>\n",
       "    <tr>\n",
       "      <th>3</th>\n",
       "      <td>{price}</td>\n",
       "      <td>{price}</td>\n",
       "      <td>{produk}</td>\n",
       "    </tr>\n",
       "    <tr>\n",
       "      <th>4</th>\n",
       "      <td>{delivery}</td>\n",
       "      <td>{delivery}</td>\n",
       "      <td>{produk, price}</td>\n",
       "    </tr>\n",
       "  </tbody>\n",
       "</table>\n",
       "</div>"
      ],
      "text/plain": [
       "  annotated_multilabel   model_multilabel  keyword_multilabel\n",
       "0               {user}             {user}            {produk}\n",
       "1           {delivery}         {delivery}  {produk, delivery}\n",
       "2    {customerservice}  {customerservice}   {produk, payment}\n",
       "3              {price}            {price}            {produk}\n",
       "4           {delivery}         {delivery}     {produk, price}"
      ]
     },
     "execution_count": 42,
     "metadata": {},
     "output_type": "execute_result"
    }
   ],
   "source": [
    "df.head()[['annotated_multilabel', 'model_multilabel', 'keyword_multilabel']]"
   ]
  },
  {
   "cell_type": "code",
   "execution_count": 43,
   "metadata": {},
   "outputs": [],
   "source": [
    "y_true = MultiLabelBinarizer(classes=aspect_categories).fit_transform(df['annotated_multilabel'])\n",
    "y_keyword = MultiLabelBinarizer(classes=aspect_categories).fit_transform(df['keyword_multilabel'])\n",
    "y_model = MultiLabelBinarizer(classes=aspect_categories).fit_transform(df['model_multilabel'])"
   ]
  },
  {
   "cell_type": "code",
   "execution_count": 44,
   "metadata": {},
   "outputs": [
    {
     "name": "stdout",
     "output_type": "stream",
     "text": [
      "                 precision    recall  f1-score   support\n",
      "\n",
      "          price       0.33      0.33      0.33        30\n",
      "         produk       0.09      1.00      0.16        17\n",
      "        payment       0.25      0.22      0.24        18\n",
      "   website&apps       0.33      0.09      0.15        43\n",
      "       delivery       0.56      0.34      0.42        68\n",
      "customerservice       0.30      0.25      0.27        12\n",
      "           user       0.00      0.00      0.00        13\n",
      "\n",
      "      micro avg       0.20      0.30      0.24       201\n",
      "      macro avg       0.27      0.32      0.22       201\n",
      "   weighted avg       0.36      0.30      0.27       201\n",
      "    samples avg       0.16      0.29      0.20       201\n",
      "\n"
     ]
    },
    {
     "name": "stderr",
     "output_type": "stream",
     "text": [
      "C:\\Users\\Danendra\\AppData\\Local\\Packages\\PythonSoftwareFoundation.Python.3.10_qbz5n2kfra8p0\\LocalCache\\local-packages\\Python310\\site-packages\\sklearn\\metrics\\_classification.py:1469: UndefinedMetricWarning: Precision and F-score are ill-defined and being set to 0.0 in labels with no predicted samples. Use `zero_division` parameter to control this behavior.\n",
      "  _warn_prf(average, modifier, msg_start, len(result))\n",
      "C:\\Users\\Danendra\\AppData\\Local\\Packages\\PythonSoftwareFoundation.Python.3.10_qbz5n2kfra8p0\\LocalCache\\local-packages\\Python310\\site-packages\\sklearn\\metrics\\_classification.py:1469: UndefinedMetricWarning: Precision and F-score are ill-defined and being set to 0.0 in samples with no predicted labels. Use `zero_division` parameter to control this behavior.\n",
      "  _warn_prf(average, modifier, msg_start, len(result))\n",
      "C:\\Users\\Danendra\\AppData\\Local\\Packages\\PythonSoftwareFoundation.Python.3.10_qbz5n2kfra8p0\\LocalCache\\local-packages\\Python310\\site-packages\\sklearn\\metrics\\_classification.py:1469: UndefinedMetricWarning: Recall and F-score are ill-defined and being set to 0.0 in samples with no true labels. Use `zero_division` parameter to control this behavior.\n",
      "  _warn_prf(average, modifier, msg_start, len(result))\n"
     ]
    }
   ],
   "source": [
    "#for keyword\n",
    "print(classification_report(y_true,y_keyword, target_names=aspect_categories))"
   ]
  },
  {
   "cell_type": "code",
   "execution_count": 45,
   "metadata": {},
   "outputs": [
    {
     "name": "stdout",
     "output_type": "stream",
     "text": [
      "                 precision    recall  f1-score   support\n",
      "\n",
      "          price       0.97      1.00      0.98        30\n",
      "         produk       1.00      1.00      1.00        17\n",
      "        payment       1.00      1.00      1.00        18\n",
      "   website&apps       1.00      1.00      1.00        43\n",
      "       delivery       1.00      0.99      0.99        68\n",
      "customerservice       1.00      0.83      0.91        12\n",
      "           user       1.00      0.92      0.96        13\n",
      "\n",
      "      micro avg       0.99      0.98      0.99       201\n",
      "      macro avg       1.00      0.96      0.98       201\n",
      "   weighted avg       1.00      0.98      0.99       201\n",
      "    samples avg       0.97      0.96      0.97       201\n",
      "\n"
     ]
    },
    {
     "name": "stderr",
     "output_type": "stream",
     "text": [
      "C:\\Users\\Danendra\\AppData\\Local\\Packages\\PythonSoftwareFoundation.Python.3.10_qbz5n2kfra8p0\\LocalCache\\local-packages\\Python310\\site-packages\\sklearn\\metrics\\_classification.py:1469: UndefinedMetricWarning: Precision and F-score are ill-defined and being set to 0.0 in samples with no predicted labels. Use `zero_division` parameter to control this behavior.\n",
      "  _warn_prf(average, modifier, msg_start, len(result))\n",
      "C:\\Users\\Danendra\\AppData\\Local\\Packages\\PythonSoftwareFoundation.Python.3.10_qbz5n2kfra8p0\\LocalCache\\local-packages\\Python310\\site-packages\\sklearn\\metrics\\_classification.py:1469: UndefinedMetricWarning: Recall and F-score are ill-defined and being set to 0.0 in samples with no true labels. Use `zero_division` parameter to control this behavior.\n",
      "  _warn_prf(average, modifier, msg_start, len(result))\n"
     ]
    }
   ],
   "source": [
    "#for model\n",
    "print(classification_report(y_true, y_model, target_names=aspect_categories))"
   ]
  },
  {
   "cell_type": "code",
   "execution_count": 47,
   "metadata": {},
   "outputs": [
    {
     "data": {
      "text/plain": [
       "True"
      ]
     },
     "execution_count": 47,
     "metadata": {},
     "output_type": "execute_result"
    }
   ],
   "source": [
    "'produk' in df.iloc[0]['keyword_multilabel']"
   ]
  },
  {
   "cell_type": "code",
   "execution_count": 49,
   "metadata": {},
   "outputs": [
    {
     "name": "stdout",
     "output_type": "stream",
     "text": [
      "4\n",
      "7\n",
      "14\n",
      "16\n",
      "28\n",
      "41\n",
      "44\n",
      "47\n",
      "50\n",
      "53\n",
      "56\n",
      "58\n",
      "64\n",
      "75\n",
      "79\n",
      "80\n",
      "82\n",
      "87\n",
      "92\n",
      "100\n",
      "104\n",
      "109\n",
      "115\n",
      "120\n",
      "126\n",
      "128\n",
      "131\n",
      "137\n",
      "138\n",
      "142\n",
      "148\n",
      "153\n",
      "155\n",
      "156\n",
      "157\n",
      "158\n",
      "162\n",
      "164\n",
      "165\n",
      "178\n",
      "180\n",
      "183\n",
      "185\n",
      "187\n"
     ]
    }
   ],
   "source": [
    "for i in range(len(df)):\n",
    "    row = df.iloc[i]\n",
    "    if 'delivery' in row['model_multilabel'] and 'delivery' not in row['keyword_multilabel']:\n",
    "        print(i)\n"
   ]
  },
  {
   "attachments": {},
   "cell_type": "markdown",
   "metadata": {},
   "source": [
    "# Sentiment"
   ]
  },
  {
   "cell_type": "code",
   "execution_count": 26,
   "metadata": {},
   "outputs": [
    {
     "data": {
      "text/html": [
       "<div>\n",
       "<style scoped>\n",
       "    .dataframe tbody tr th:only-of-type {\n",
       "        vertical-align: middle;\n",
       "    }\n",
       "\n",
       "    .dataframe tbody tr th {\n",
       "        vertical-align: top;\n",
       "    }\n",
       "\n",
       "    .dataframe thead th {\n",
       "        text-align: right;\n",
       "    }\n",
       "</style>\n",
       "<table border=\"1\" class=\"dataframe\">\n",
       "  <thead>\n",
       "    <tr style=\"text-align: right;\">\n",
       "      <th></th>\n",
       "      <th>aoriginal_id</th>\n",
       "      <th>content</th>\n",
       "      <th>final_sentiment</th>\n",
       "      <th>baseline_aspect_category</th>\n",
       "      <th>tweet_type</th>\n",
       "      <th>clean_tweet</th>\n",
       "      <th>label</th>\n",
       "      <th>corrected_label</th>\n",
       "      <th>keterangan</th>\n",
       "      <th>quintuplet_label</th>\n",
       "      <th>postprocess_quintuplet</th>\n",
       "      <th>p21_model_prediction</th>\n",
       "      <th>p00_model_prediction</th>\n",
       "      <th>postprocessed_p21_prediction</th>\n",
       "      <th>postprocessed_postprocess_quintuplet</th>\n",
       "      <th>postprocessed_p00_prediction</th>\n",
       "      <th>annotated_multilabel</th>\n",
       "      <th>keyword_multilabel</th>\n",
       "      <th>model_multilabel</th>\n",
       "    </tr>\n",
       "  </thead>\n",
       "  <tbody>\n",
       "    <tr>\n",
       "      <th>0</th>\n",
       "      <td>1.647222e+18</td>\n",
       "      <td>@sosmedkeras mendingan di olx masih ada manusi...</td>\n",
       "      <td>neutral</td>\n",
       "      <td>produk;</td>\n",
       "      <td>SUBJECTIVE</td>\n",
       "      <td>Mendingan di olx masih ada manusiawinya sedik...</td>\n",
       "      <td>(olx, _, ada manusiawinya, positive, user);(fb...</td>\n",
       "      <td>NaN</td>\n",
       "      <td>NaN</td>\n",
       "      <td>(olx, _, ada manusiawinya, positive, user);(fb...</td>\n",
       "      <td>(olx,_,ada manusiawinya,positive,user);(fb,_,k...</td>\n",
       "      <td>(olx,_,ada manusiawinya,positive,user);(fb,_,k...</td>\n",
       "      <td>(olx,_,ada manusiawinya,positive,user);(fb,_,k...</td>\n",
       "      <td>(olx,_,ada manusiawinya,positive,user);(fb,_,k...</td>\n",
       "      <td>(olx,_,ada manusiawinya,positive,user);(fb,_,k...</td>\n",
       "      <td>(olx,_,ada manusiawinya,positive,user);(fb,_,k...</td>\n",
       "      <td>{user}</td>\n",
       "      <td>{produk}</td>\n",
       "      <td>{user}</td>\n",
       "    </tr>\n",
       "  </tbody>\n",
       "</table>\n",
       "</div>"
      ],
      "text/plain": [
       "   aoriginal_id                                            content  \\\n",
       "0  1.647222e+18  @sosmedkeras mendingan di olx masih ada manusi...   \n",
       "\n",
       "  final_sentiment baseline_aspect_category  tweet_type  \\\n",
       "0         neutral                  produk;  SUBJECTIVE   \n",
       "\n",
       "                                         clean_tweet  \\\n",
       "0   Mendingan di olx masih ada manusiawinya sedik...   \n",
       "\n",
       "                                               label corrected_label  \\\n",
       "0  (olx, _, ada manusiawinya, positive, user);(fb...             NaN   \n",
       "\n",
       "  keterangan                                   quintuplet_label  \\\n",
       "0        NaN  (olx, _, ada manusiawinya, positive, user);(fb...   \n",
       "\n",
       "                              postprocess_quintuplet  \\\n",
       "0  (olx,_,ada manusiawinya,positive,user);(fb,_,k...   \n",
       "\n",
       "                                p21_model_prediction  \\\n",
       "0  (olx,_,ada manusiawinya,positive,user);(fb,_,k...   \n",
       "\n",
       "                                p00_model_prediction  \\\n",
       "0  (olx,_,ada manusiawinya,positive,user);(fb,_,k...   \n",
       "\n",
       "                        postprocessed_p21_prediction  \\\n",
       "0  (olx,_,ada manusiawinya,positive,user);(fb,_,k...   \n",
       "\n",
       "                postprocessed_postprocess_quintuplet  \\\n",
       "0  (olx,_,ada manusiawinya,positive,user);(fb,_,k...   \n",
       "\n",
       "                        postprocessed_p00_prediction annotated_multilabel  \\\n",
       "0  (olx,_,ada manusiawinya,positive,user);(fb,_,k...               {user}   \n",
       "\n",
       "  keyword_multilabel model_multilabel  \n",
       "0           {produk}           {user}  "
      ]
     },
     "execution_count": 26,
     "metadata": {},
     "output_type": "execute_result"
    }
   ],
   "source": [
    "df.head(1)"
   ]
  },
  {
   "cell_type": "code",
   "execution_count": 30,
   "metadata": {},
   "outputs": [
    {
     "data": {
      "text/plain": [
       "nan"
      ]
     },
     "execution_count": 30,
     "metadata": {},
     "output_type": "execute_result"
    }
   ],
   "source": [
    "row[ori_quadruplet_col]"
   ]
  },
  {
   "cell_type": "code",
   "execution_count": 34,
   "metadata": {},
   "outputs": [],
   "source": [
    "annot_sents = []\n",
    "keyword_sents = []\n",
    "model_sents = []\n",
    "\n",
    "ori_quadruplet_col = 'postprocess_quintuplet'\n",
    "pred_quadruplet_col = 'p21_model_prediction'\n",
    "keyword_sentiment_col = 'final_sentiment'\n",
    "for i in range(len(df)):\n",
    "    row = df.iloc[i]\n",
    "    #for annotated aspect categories\n",
    "    annotated_quadruplets = extract_quintuplet(row[ori_quadruplet_col])\n",
    "    annot_sent = []\n",
    "    #for model aspect categories\n",
    "    model_quadruplets = extract_quintuplet(row[pred_quadruplet_col])\n",
    "    model_sent = []\n",
    "    #for annotated quadruplet\n",
    "    for quadruplet in annotated_quadruplets:\n",
    "        #for annotated\n",
    "        entity, aspect_term, opinion_term, sentiment, aspect_category = quadruplet\n",
    "        annot_sent.append(sentiment)\n",
    "    #for model quadruplet\n",
    "    for quadruplet in model_quadruplets:\n",
    "        #for annotated\n",
    "        entity, aspect_term, opinion_term, sentiment, aspect_category = quadruplet\n",
    "        model_sent.append(sentiment)\n",
    "    annot_sent = set(annot_sent)\n",
    "    model_sent = set(model_sent)\n",
    "    if len(annot_sent)>1 or len(model_sent)>1:\n",
    "        continue\n",
    "    else:\n",
    "        annot_sents.append(list(annot_sent)[0])\n",
    "        model_sents.append(list(model_sent)[0])\n",
    "        keyword_sents.append(row[keyword_sentiment_col])"
   ]
  },
  {
   "cell_type": "code",
   "execution_count": 35,
   "metadata": {},
   "outputs": [
    {
     "data": {
      "text/plain": [
       "(186, 186, 186, 195)"
      ]
     },
     "execution_count": 35,
     "metadata": {},
     "output_type": "execute_result"
    }
   ],
   "source": [
    "len(keyword_sents), len(model_sents), len(annot_sents), df.shape[0]"
   ]
  },
  {
   "cell_type": "code",
   "execution_count": 36,
   "metadata": {},
   "outputs": [
    {
     "name": "stdout",
     "output_type": "stream",
     "text": [
      "              precision    recall  f1-score   support\n",
      "\n",
      "    negative       0.79      0.88      0.83       130\n",
      "     neutral       0.09      0.50      0.16         6\n",
      "    positive       0.80      0.16      0.27        50\n",
      "\n",
      "    accuracy                           0.67       186\n",
      "   macro avg       0.56      0.51      0.42       186\n",
      "weighted avg       0.77      0.67      0.66       186\n",
      "\n"
     ]
    }
   ],
   "source": [
    "print(classification_report(y_true=annot_sents, y_pred=keyword_sents))"
   ]
  },
  {
   "cell_type": "code",
   "execution_count": 37,
   "metadata": {},
   "outputs": [
    {
     "name": "stdout",
     "output_type": "stream",
     "text": [
      "              precision    recall  f1-score   support\n",
      "\n",
      "    negative       0.99      0.99      0.99       130\n",
      "     neutral       1.00      1.00      1.00         6\n",
      "    positive       0.98      0.98      0.98        50\n",
      "\n",
      "    accuracy                           0.99       186\n",
      "   macro avg       0.99      0.99      0.99       186\n",
      "weighted avg       0.99      0.99      0.99       186\n",
      "\n"
     ]
    }
   ],
   "source": [
    "print(classification_report(y_true=annot_sents, y_pred=model_sents))"
   ]
  },
  {
   "cell_type": "code",
   "execution_count": null,
   "metadata": {},
   "outputs": [],
   "source": []
  }
 ],
 "metadata": {
  "kernelspec": {
   "display_name": "tesis",
   "language": "python",
   "name": "python3"
  },
  "language_info": {
   "codemirror_mode": {
    "name": "ipython",
    "version": 3
   },
   "file_extension": ".py",
   "mimetype": "text/x-python",
   "name": "python",
   "nbconvert_exporter": "python",
   "pygments_lexer": "ipython3",
   "version": "3.10.11"
  },
  "orig_nbformat": 4
 },
 "nbformat": 4,
 "nbformat_minor": 2
}
