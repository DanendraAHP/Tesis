{
 "cells": [
  {
   "cell_type": "code",
   "execution_count": 1,
   "metadata": {},
   "outputs": [],
   "source": [
    "import pandas as pd\n",
    "from Levenshtein import distance\n",
    "from sklearn.metrics import classification_report\n",
    "from sklearn.preprocessing import MultiLabelBinarizer\n",
    "import re"
   ]
  },
  {
   "cell_type": "code",
   "execution_count": 2,
   "metadata": {},
   "outputs": [],
   "source": [
    "df = pd.read_csv('../Data/quadruplet_test_pred.csv')"
   ]
  },
  {
   "cell_type": "code",
   "execution_count": 4,
   "metadata": {},
   "outputs": [
    {
     "data": {
      "text/plain": [
       "(39, 11)"
      ]
     },
     "execution_count": 4,
     "metadata": {},
     "output_type": "execute_result"
    }
   ],
   "source": [
    "df.shape"
   ]
  },
  {
   "cell_type": "code",
   "execution_count": 5,
   "metadata": {},
   "outputs": [
    {
     "data": {
      "text/plain": [
       "0"
      ]
     },
     "execution_count": 5,
     "metadata": {},
     "output_type": "execute_result"
    }
   ],
   "source": [
    "df['quadruplet'].isnull().sum()"
   ]
  },
  {
   "cell_type": "code",
   "execution_count": 3,
   "metadata": {},
   "outputs": [],
   "source": [
    "def extract_quadruplet(sequence):\n",
    "    extractions = []\n",
    "    # find all matching quadruplet with (); pattern\n",
    "    quadruplets = re.findall(\"\\(.*?\\)\", sequence)\n",
    "    for quadruplet in quadruplets:\n",
    "        # Remove the in the start \"(\"  and at the end \")\".\n",
    "        quadruplet = quadruplet[1:-1]\n",
    "        try:\n",
    "            aspect_term, opinion_term, sentiment, aspect_category = quadruplet.split(', ')\n",
    "        except ValueError:\n",
    "            aspect_term, opinion_term, sentiment, aspect_category = '', '', '', ''\n",
    "        aspect_term = aspect_term.strip().lower()\n",
    "        opinion_term = opinion_term.strip().lower()\n",
    "        sentiment = sentiment.strip().lower()\n",
    "        aspect_category = aspect_category.strip().lower()\n",
    "        extractions.append((aspect_term, opinion_term, sentiment, aspect_category)) \n",
    "    return extractions"
   ]
  },
  {
   "cell_type": "code",
   "execution_count": 4,
   "metadata": {},
   "outputs": [],
   "source": [
    "def correct_sentiment(quadruplet_sent):\n",
    "    #aspect asli\n",
    "    aspect_category = ['negative', 'positive', 'neutral']\n",
    "    min_dist = 9999\n",
    "    for aspect in aspect_category:\n",
    "        dist = distance(quadruplet_sent, aspect)\n",
    "        if dist<min_dist:\n",
    "            min_dist=dist\n",
    "            corrected_aspect = aspect\n",
    "    return corrected_aspect"
   ]
  },
  {
   "cell_type": "code",
   "execution_count": 5,
   "metadata": {},
   "outputs": [],
   "source": [
    "def correct_aspect(quadruplet_aspect):\n",
    "    #aspect asli\n",
    "    aspect_category = ['price', 'produk', 'payment', 'website&apps', 'delivery', 'customerservice']\n",
    "    min_dist = 9999\n",
    "    for aspect in aspect_category:\n",
    "        dist = distance(quadruplet_aspect, aspect)\n",
    "        if dist<min_dist:\n",
    "            min_dist=dist\n",
    "            corrected_aspect = aspect\n",
    "    return corrected_aspect"
   ]
  },
  {
   "cell_type": "code",
   "execution_count": 6,
   "metadata": {},
   "outputs": [],
   "source": [
    "def post_process(quad):\n",
    "    aspect_term, opinion_term, sentiment, aspect_category = quad\n",
    "    aspect_term = correct_aspect(aspect_term)\n",
    "    sentiment = correct_sentiment(sentiment)\n",
    "    return aspect_term, opinion_term, sentiment, aspect_category"
   ]
  },
  {
   "cell_type": "code",
   "execution_count": 21,
   "metadata": {},
   "outputs": [],
   "source": [
    "sents = []\n",
    "aspects = []\n",
    "for i in range(len(df)):\n",
    "    row = df.iloc[i]\n",
    "    quads = extract_quadruplet(row['quadruplet'])\n",
    "    for quad in quads:\n",
    "        aspect_term, opinion_term, sentiment, aspect_category = post_process(quad)\n",
    "        if sentiment not in sents:\n",
    "            sents.append(sentiment)\n",
    "        if aspect_category not in aspects:\n",
    "            aspects.append(aspect_category)"
   ]
  },
  {
   "cell_type": "code",
   "execution_count": 22,
   "metadata": {},
   "outputs": [
    {
     "name": "stdout",
     "output_type": "stream",
     "text": [
      "['negative', 'positive', 'neutral']\n",
      "['website&apps', 'customerservice', 'delivery', 'price', 'payment', 'product']\n"
     ]
    }
   ],
   "source": [
    "print(sents)\n",
    "print(aspects)"
   ]
  },
  {
   "attachments": {},
   "cell_type": "markdown",
   "metadata": {},
   "source": [
    "# Label diff"
   ]
  },
  {
   "cell_type": "code",
   "execution_count": 26,
   "metadata": {},
   "outputs": [
    {
     "data": {
      "text/plain": [
       "Index(['original_id', 'content', 'clean_tweet', 'final_sentiment', 'labels',\n",
       "       'quadruplet', 'spam', 'sentiment_label', 'pred_quadruplet_pt_bart',\n",
       "       'pred_quadruplet_pt_t5', 'pred_quadruplet_tf_t5'],\n",
       "      dtype='object')"
      ]
     },
     "execution_count": 26,
     "metadata": {},
     "output_type": "execute_result"
    }
   ],
   "source": [
    "df.columns"
   ]
  },
  {
   "cell_type": "code",
   "execution_count": 9,
   "metadata": {},
   "outputs": [],
   "source": [
    "pred_quadruplet_col = 'pred_quadruplet_pt_t5'\n",
    "ori_quadruplet_col = 'quadruplet'"
   ]
  },
  {
   "cell_type": "code",
   "execution_count": 10,
   "metadata": {},
   "outputs": [],
   "source": [
    "aspect_categories = ['price', 'produk', 'payment', 'website&apps', 'delivery', 'customerservice']\n",
    "annot_errors = []\n",
    "model_errors = []\n",
    "df['annotated_multilabel'] = ''\n",
    "df['keyword_multilabel'] = ''\n",
    "df['model_multilabel'] = ''\n",
    "for i in range(len(df)):\n",
    "    row = df.iloc[i]\n",
    "    #for annotated aspect categories\n",
    "    annotated_quadruplets = extract_quadruplet(row[ori_quadruplet_col])\n",
    "    annotated_aspect = []\n",
    "    #for model aspect categories\n",
    "    model_quadruplets = extract_quadruplet(row[pred_quadruplet_col])\n",
    "    model_aspect = []\n",
    "    #for annotated quadruplet\n",
    "    for quadruplet in annotated_quadruplets:\n",
    "        #for annotated\n",
    "        aspect_term, opinion_term, sentiment, aspect_category = post_process(quadruplet)\n",
    "        annotated_aspect.append(aspect_category)\n",
    "        #annotated_aspect.append(aspect_categories.index(aspect_category))\n",
    "    #for model quadruplet\n",
    "    for quadruplet in model_quadruplets:\n",
    "        #for annotated\n",
    "        aspect_term, opinion_term, sentiment, aspect_category = post_process(quadruplet)\n",
    "        model_aspect.append(aspect_category)\n",
    "        #model_aspect.append(aspect_categories.index(aspect_category))\n",
    "    #for annotated label\n",
    "    df.at[i, 'annotated_multilabel'] = set(annotated_aspect)\n",
    "    #for model label\n",
    "    df.at[i, 'model_multilabel'] = set(model_aspect)\n",
    "    #for keyword label\n",
    "    labels = row['labels'].split(';')\n",
    "    keyword_multilabels = [label.replace(' ', '') for label in labels if label != '']\n",
    "    #keyword_multilabels = [aspect_categories.index(keyword_multilabels) for label in labels]\n",
    "    df.at[i, 'keyword_multilabel'] = set(keyword_multilabels)"
   ]
  },
  {
   "cell_type": "code",
   "execution_count": 18,
   "metadata": {},
   "outputs": [
    {
     "data": {
      "text/html": [
       "<div>\n",
       "<style scoped>\n",
       "    .dataframe tbody tr th:only-of-type {\n",
       "        vertical-align: middle;\n",
       "    }\n",
       "\n",
       "    .dataframe tbody tr th {\n",
       "        vertical-align: top;\n",
       "    }\n",
       "\n",
       "    .dataframe thead th {\n",
       "        text-align: right;\n",
       "    }\n",
       "</style>\n",
       "<table border=\"1\" class=\"dataframe\">\n",
       "  <thead>\n",
       "    <tr style=\"text-align: right;\">\n",
       "      <th></th>\n",
       "      <th>quadruplet</th>\n",
       "      <th>pred_quadruplet_pt_t5</th>\n",
       "      <th>labels</th>\n",
       "    </tr>\n",
       "  </thead>\n",
       "  <tbody>\n",
       "    <tr>\n",
       "      <th>0</th>\n",
       "      <td>(pesananku, udah bayar tapi kenapa dibatalin, ...</td>\n",
       "      <td>(pesananku, udah bayar tapi kenapa dibatalin, ...</td>\n",
       "      <td>payment; produk;</td>\n",
       "    </tr>\n",
       "    <tr>\n",
       "      <th>1</th>\n",
       "      <td>(call center, hanya berbelit belit, negative, ...</td>\n",
       "      <td>(call center, hanya berbelit belit, negative, ...</td>\n",
       "      <td>delivery; produk;</td>\n",
       "    </tr>\n",
       "    <tr>\n",
       "      <th>2</th>\n",
       "      <td>(alfa, kalo jumat-minggu ada promo, positive, ...</td>\n",
       "      <td>(alfa, kalo jumat-minggu ada promo, positive, ...</td>\n",
       "      <td>price; produk;</td>\n",
       "    </tr>\n",
       "    <tr>\n",
       "      <th>3</th>\n",
       "      <td>(tokopedia, gangguan, negative, website&amp;apps);</td>\n",
       "      <td>(tokopedia care, sedang gangguan, neutral, web...</td>\n",
       "      <td>website&amp;apps; produk;</td>\n",
       "    </tr>\n",
       "    <tr>\n",
       "      <th>4</th>\n",
       "      <td>(token listrik, lewat tokped error, negative, ...</td>\n",
       "      <td>(token listrik, lewat tokped error, negative, ...</td>\n",
       "      <td>website&amp;apps; payment; produk;</td>\n",
       "    </tr>\n",
       "  </tbody>\n",
       "</table>\n",
       "</div>"
      ],
      "text/plain": [
       "                                          quadruplet  \\\n",
       "0  (pesananku, udah bayar tapi kenapa dibatalin, ...   \n",
       "1  (call center, hanya berbelit belit, negative, ...   \n",
       "2  (alfa, kalo jumat-minggu ada promo, positive, ...   \n",
       "3     (tokopedia, gangguan, negative, website&apps);   \n",
       "4  (token listrik, lewat tokped error, negative, ...   \n",
       "\n",
       "                               pred_quadruplet_pt_t5  \\\n",
       "0  (pesananku, udah bayar tapi kenapa dibatalin, ...   \n",
       "1  (call center, hanya berbelit belit, negative, ...   \n",
       "2  (alfa, kalo jumat-minggu ada promo, positive, ...   \n",
       "3  (tokopedia care, sedang gangguan, neutral, web...   \n",
       "4  (token listrik, lewat tokped error, negative, ...   \n",
       "\n",
       "                           labels  \n",
       "0                payment; produk;  \n",
       "1               delivery; produk;  \n",
       "2                  price; produk;  \n",
       "3           website&apps; produk;  \n",
       "4  website&apps; payment; produk;  "
      ]
     },
     "execution_count": 18,
     "metadata": {},
     "output_type": "execute_result"
    }
   ],
   "source": [
    "df.head()[[ori_quadruplet_col, pred_quadruplet_col, 'labels']]"
   ]
  },
  {
   "cell_type": "code",
   "execution_count": 19,
   "metadata": {},
   "outputs": [
    {
     "data": {
      "text/html": [
       "<div>\n",
       "<style scoped>\n",
       "    .dataframe tbody tr th:only-of-type {\n",
       "        vertical-align: middle;\n",
       "    }\n",
       "\n",
       "    .dataframe tbody tr th {\n",
       "        vertical-align: top;\n",
       "    }\n",
       "\n",
       "    .dataframe thead th {\n",
       "        text-align: right;\n",
       "    }\n",
       "</style>\n",
       "<table border=\"1\" class=\"dataframe\">\n",
       "  <thead>\n",
       "    <tr style=\"text-align: right;\">\n",
       "      <th></th>\n",
       "      <th>annotated_multilabel</th>\n",
       "      <th>model_multilabel</th>\n",
       "      <th>keyword_multilabel</th>\n",
       "    </tr>\n",
       "  </thead>\n",
       "  <tbody>\n",
       "    <tr>\n",
       "      <th>0</th>\n",
       "      <td>{website&amp;apps}</td>\n",
       "      <td>{website&amp;apps}</td>\n",
       "      <td>{produk, payment}</td>\n",
       "    </tr>\n",
       "    <tr>\n",
       "      <th>1</th>\n",
       "      <td>{customerservice, delivery}</td>\n",
       "      <td>{customerservice, delivery}</td>\n",
       "      <td>{produk, delivery}</td>\n",
       "    </tr>\n",
       "    <tr>\n",
       "      <th>2</th>\n",
       "      <td>{price}</td>\n",
       "      <td>{price}</td>\n",
       "      <td>{produk, price}</td>\n",
       "    </tr>\n",
       "    <tr>\n",
       "      <th>3</th>\n",
       "      <td>{website&amp;apps}</td>\n",
       "      <td>{website&amp;apps}</td>\n",
       "      <td>{website&amp;apps, produk}</td>\n",
       "    </tr>\n",
       "    <tr>\n",
       "      <th>4</th>\n",
       "      <td>{website&amp;apps}</td>\n",
       "      <td>{website&amp;apps}</td>\n",
       "      <td>{website&amp;apps, payment, produk}</td>\n",
       "    </tr>\n",
       "  </tbody>\n",
       "</table>\n",
       "</div>"
      ],
      "text/plain": [
       "          annotated_multilabel             model_multilabel  \\\n",
       "0               {website&apps}               {website&apps}   \n",
       "1  {customerservice, delivery}  {customerservice, delivery}   \n",
       "2                      {price}                      {price}   \n",
       "3               {website&apps}               {website&apps}   \n",
       "4               {website&apps}               {website&apps}   \n",
       "\n",
       "                keyword_multilabel  \n",
       "0                {produk, payment}  \n",
       "1               {produk, delivery}  \n",
       "2                  {produk, price}  \n",
       "3           {website&apps, produk}  \n",
       "4  {website&apps, payment, produk}  "
      ]
     },
     "execution_count": 19,
     "metadata": {},
     "output_type": "execute_result"
    }
   ],
   "source": [
    "df.head()[['annotated_multilabel', 'model_multilabel', 'keyword_multilabel']]"
   ]
  },
  {
   "cell_type": "code",
   "execution_count": 20,
   "metadata": {},
   "outputs": [
    {
     "name": "stderr",
     "output_type": "stream",
     "text": [
      "c:\\Users\\danendra\\anaconda3\\envs\\tesis\\lib\\site-packages\\sklearn\\preprocessing\\_label.py:895: UserWarning: unknown class(es) ['product'] will be ignored\n",
      "  warnings.warn(\n"
     ]
    }
   ],
   "source": [
    "y_true = MultiLabelBinarizer(classes=aspect_categories).fit_transform(df['annotated_multilabel'])\n",
    "y_keyword = MultiLabelBinarizer(classes=aspect_categories).fit_transform(df['keyword_multilabel'])\n",
    "y_model = MultiLabelBinarizer(classes=aspect_categories).fit_transform(df['model_multilabel'])"
   ]
  },
  {
   "cell_type": "code",
   "execution_count": 21,
   "metadata": {},
   "outputs": [
    {
     "name": "stdout",
     "output_type": "stream",
     "text": [
      "                 precision    recall  f1-score   support\n",
      "\n",
      "          price       0.67      1.00      0.80        12\n",
      "         produk       0.00      0.00      0.00         0\n",
      "        payment       0.25      0.67      0.36         3\n",
      "   website&apps       1.00      0.67      0.80         6\n",
      "       delivery       0.81      0.93      0.87        14\n",
      "customerservice       0.25      0.33      0.29         3\n",
      "\n",
      "      micro avg       0.36      0.84      0.50        38\n",
      "      macro avg       0.50      0.60      0.52        38\n",
      "   weighted avg       0.71      0.84      0.75        38\n",
      "    samples avg       0.37      0.79      0.50        38\n",
      "\n"
     ]
    },
    {
     "name": "stderr",
     "output_type": "stream",
     "text": [
      "c:\\Users\\danendra\\anaconda3\\envs\\tesis\\lib\\site-packages\\sklearn\\metrics\\_classification.py:1344: UndefinedMetricWarning: Recall and F-score are ill-defined and being set to 0.0 in labels with no true samples. Use `zero_division` parameter to control this behavior.\n",
      "  _warn_prf(average, modifier, msg_start, len(result))\n",
      "c:\\Users\\danendra\\anaconda3\\envs\\tesis\\lib\\site-packages\\sklearn\\metrics\\_classification.py:1344: UndefinedMetricWarning: Recall and F-score are ill-defined and being set to 0.0 in samples with no true labels. Use `zero_division` parameter to control this behavior.\n",
      "  _warn_prf(average, modifier, msg_start, len(result))\n"
     ]
    }
   ],
   "source": [
    "#for keyword\n",
    "print(classification_report(y_true,y_keyword, target_names=aspect_categories))"
   ]
  },
  {
   "cell_type": "code",
   "execution_count": 22,
   "metadata": {},
   "outputs": [
    {
     "name": "stdout",
     "output_type": "stream",
     "text": [
      "                 precision    recall  f1-score   support\n",
      "\n",
      "          price       1.00      0.92      0.96        12\n",
      "         produk       0.00      0.00      0.00         0\n",
      "        payment       1.00      1.00      1.00         3\n",
      "   website&apps       0.86      1.00      0.92         6\n",
      "       delivery       1.00      1.00      1.00        14\n",
      "customerservice       1.00      1.00      1.00         3\n",
      "\n",
      "      micro avg       0.97      0.97      0.97        38\n",
      "      macro avg       0.81      0.82      0.81        38\n",
      "   weighted avg       0.98      0.97      0.97        38\n",
      "    samples avg       0.90      0.90      0.90        38\n",
      "\n"
     ]
    },
    {
     "name": "stderr",
     "output_type": "stream",
     "text": [
      "c:\\Users\\danendra\\anaconda3\\envs\\tesis\\lib\\site-packages\\sklearn\\metrics\\_classification.py:1344: UndefinedMetricWarning: Precision and F-score are ill-defined and being set to 0.0 in labels with no predicted samples. Use `zero_division` parameter to control this behavior.\n",
      "  _warn_prf(average, modifier, msg_start, len(result))\n",
      "c:\\Users\\danendra\\anaconda3\\envs\\tesis\\lib\\site-packages\\sklearn\\metrics\\_classification.py:1344: UndefinedMetricWarning: Recall and F-score are ill-defined and being set to 0.0 in labels with no true samples. Use `zero_division` parameter to control this behavior.\n",
      "  _warn_prf(average, modifier, msg_start, len(result))\n",
      "c:\\Users\\danendra\\anaconda3\\envs\\tesis\\lib\\site-packages\\sklearn\\metrics\\_classification.py:1344: UndefinedMetricWarning: Precision and F-score are ill-defined and being set to 0.0 in samples with no predicted labels. Use `zero_division` parameter to control this behavior.\n",
      "  _warn_prf(average, modifier, msg_start, len(result))\n",
      "c:\\Users\\danendra\\anaconda3\\envs\\tesis\\lib\\site-packages\\sklearn\\metrics\\_classification.py:1344: UndefinedMetricWarning: Recall and F-score are ill-defined and being set to 0.0 in samples with no true labels. Use `zero_division` parameter to control this behavior.\n",
      "  _warn_prf(average, modifier, msg_start, len(result))\n"
     ]
    }
   ],
   "source": [
    "#for model\n",
    "print(classification_report(y_true, y_model, target_names=aspect_categories))"
   ]
  },
  {
   "attachments": {},
   "cell_type": "markdown",
   "metadata": {},
   "source": [
    "# Sentiment"
   ]
  },
  {
   "cell_type": "code",
   "execution_count": 12,
   "metadata": {},
   "outputs": [
    {
     "data": {
      "text/html": [
       "<div>\n",
       "<style scoped>\n",
       "    .dataframe tbody tr th:only-of-type {\n",
       "        vertical-align: middle;\n",
       "    }\n",
       "\n",
       "    .dataframe tbody tr th {\n",
       "        vertical-align: top;\n",
       "    }\n",
       "\n",
       "    .dataframe thead th {\n",
       "        text-align: right;\n",
       "    }\n",
       "</style>\n",
       "<table border=\"1\" class=\"dataframe\">\n",
       "  <thead>\n",
       "    <tr style=\"text-align: right;\">\n",
       "      <th></th>\n",
       "      <th>original_id</th>\n",
       "      <th>content</th>\n",
       "      <th>clean_tweet</th>\n",
       "      <th>final_sentiment</th>\n",
       "      <th>labels</th>\n",
       "      <th>quadruplet</th>\n",
       "      <th>spam</th>\n",
       "      <th>sentiment_label</th>\n",
       "      <th>pred_quadruplet_pt_bart</th>\n",
       "      <th>pred_quadruplet_pt_t5</th>\n",
       "      <th>pred_quadruplet_tf_t5</th>\n",
       "      <th>annotated_multilabel</th>\n",
       "      <th>keyword_multilabel</th>\n",
       "      <th>model_multilabel</th>\n",
       "    </tr>\n",
       "  </thead>\n",
       "  <tbody>\n",
       "    <tr>\n",
       "      <th>0</th>\n",
       "      <td>1.640000e+18</td>\n",
       "      <td>@tokopedia min aku udah bayar tapi kenapa diba...</td>\n",
       "      <td>min aku udah bayar tapi kenapa dibatalin pesan...</td>\n",
       "      <td>negative</td>\n",
       "      <td>payment; produk;</td>\n",
       "      <td>(pesananku, udah bayar tapi kenapa dibatalin, ...</td>\n",
       "      <td>NaN</td>\n",
       "      <td>sentiment</td>\n",
       "      <td>(_, kenapa dibatalin pesanan ku, neutral, pay...</td>\n",
       "      <td>(pesananku, udah bayar tapi kenapa dibatalin, ...</td>\n",
       "      <td>(pesanan, dibatalin pesanan, negative, delivery);</td>\n",
       "      <td>{website&amp;apps}</td>\n",
       "      <td>{produk, payment}</td>\n",
       "      <td>{website&amp;apps}</td>\n",
       "    </tr>\n",
       "  </tbody>\n",
       "</table>\n",
       "</div>"
      ],
      "text/plain": [
       "    original_id                                            content  \\\n",
       "0  1.640000e+18  @tokopedia min aku udah bayar tapi kenapa diba...   \n",
       "\n",
       "                                         clean_tweet final_sentiment  \\\n",
       "0  min aku udah bayar tapi kenapa dibatalin pesan...        negative   \n",
       "\n",
       "             labels                                         quadruplet  spam  \\\n",
       "0  payment; produk;  (pesananku, udah bayar tapi kenapa dibatalin, ...   NaN   \n",
       "\n",
       "  sentiment_label                            pred_quadruplet_pt_bart  \\\n",
       "0       sentiment   (_, kenapa dibatalin pesanan ku, neutral, pay...   \n",
       "\n",
       "                               pred_quadruplet_pt_t5  \\\n",
       "0  (pesananku, udah bayar tapi kenapa dibatalin, ...   \n",
       "\n",
       "                               pred_quadruplet_tf_t5 annotated_multilabel  \\\n",
       "0  (pesanan, dibatalin pesanan, negative, delivery);       {website&apps}   \n",
       "\n",
       "  keyword_multilabel model_multilabel  \n",
       "0  {produk, payment}   {website&apps}  "
      ]
     },
     "execution_count": 12,
     "metadata": {},
     "output_type": "execute_result"
    }
   ],
   "source": [
    "df.head(1)"
   ]
  },
  {
   "cell_type": "code",
   "execution_count": 16,
   "metadata": {},
   "outputs": [],
   "source": [
    "annot_sents = []\n",
    "keyword_sents = []\n",
    "model_sents = []\n",
    "\n",
    "ori_quadruplet_col = 'quadruplet'\n",
    "pred_quadruplet_col = 'pred_quadruplet_pt_t5'\n",
    "keyword_sentiment_col = 'final_sentiment'\n",
    "for i in range(len(df)):\n",
    "    row = df.iloc[i]\n",
    "    #for annotated aspect categories\n",
    "    annotated_quadruplets = extract_quadruplet(row[ori_quadruplet_col])\n",
    "    annot_sent = []\n",
    "    #for model aspect categories\n",
    "    model_quadruplets = extract_quadruplet(row[pred_quadruplet_col])\n",
    "    model_sent = []\n",
    "    #for annotated quadruplet\n",
    "    for quadruplet in annotated_quadruplets:\n",
    "        #for annotated\n",
    "        aspect_term, opinion_term, sentiment, aspect_category = post_process(quadruplet)\n",
    "        annot_sent.append(sentiment)\n",
    "    #for model quadruplet\n",
    "    for quadruplet in model_quadruplets:\n",
    "        #for annotated\n",
    "        aspect_term, opinion_term, sentiment, aspect_category = post_process(quadruplet)\n",
    "        model_sent.append(sentiment)\n",
    "    annot_sent = set(annot_sent)\n",
    "    model_sent = set(model_sent)\n",
    "    if len(annot_sent)>1 or len(model_sent)>1:\n",
    "        continue\n",
    "    else:\n",
    "        annot_sents.append(list(annot_sent)[0])\n",
    "        model_sents.append(list(model_sent)[0])\n",
    "        keyword_sents.append(row[keyword_sentiment_col])"
   ]
  },
  {
   "cell_type": "code",
   "execution_count": 19,
   "metadata": {},
   "outputs": [
    {
     "data": {
      "text/plain": [
       "(36, 36, 36, 39)"
      ]
     },
     "execution_count": 19,
     "metadata": {},
     "output_type": "execute_result"
    }
   ],
   "source": [
    "len(keyword_sents), len(model_sents), len(annot_sents), df.shape[0]"
   ]
  },
  {
   "cell_type": "code",
   "execution_count": 20,
   "metadata": {},
   "outputs": [
    {
     "name": "stdout",
     "output_type": "stream",
     "text": [
      "              precision    recall  f1-score   support\n",
      "\n",
      "    negative       0.63      0.89      0.74        19\n",
      "     neutral       0.00      0.00      0.00         6\n",
      "    positive       0.00      0.00      0.00        11\n",
      "\n",
      "    accuracy                           0.47        36\n",
      "   macro avg       0.21      0.30      0.25        36\n",
      "weighted avg       0.33      0.47      0.39        36\n",
      "\n"
     ]
    },
    {
     "name": "stderr",
     "output_type": "stream",
     "text": [
      "c:\\Users\\danendra\\anaconda3\\envs\\tesis\\lib\\site-packages\\sklearn\\metrics\\_classification.py:1344: UndefinedMetricWarning: Precision and F-score are ill-defined and being set to 0.0 in labels with no predicted samples. Use `zero_division` parameter to control this behavior.\n",
      "  _warn_prf(average, modifier, msg_start, len(result))\n",
      "c:\\Users\\danendra\\anaconda3\\envs\\tesis\\lib\\site-packages\\sklearn\\metrics\\_classification.py:1344: UndefinedMetricWarning: Precision and F-score are ill-defined and being set to 0.0 in labels with no predicted samples. Use `zero_division` parameter to control this behavior.\n",
      "  _warn_prf(average, modifier, msg_start, len(result))\n",
      "c:\\Users\\danendra\\anaconda3\\envs\\tesis\\lib\\site-packages\\sklearn\\metrics\\_classification.py:1344: UndefinedMetricWarning: Precision and F-score are ill-defined and being set to 0.0 in labels with no predicted samples. Use `zero_division` parameter to control this behavior.\n",
      "  _warn_prf(average, modifier, msg_start, len(result))\n"
     ]
    }
   ],
   "source": [
    "print(classification_report(y_true=annot_sents, y_pred=keyword_sents))"
   ]
  },
  {
   "cell_type": "code",
   "execution_count": 21,
   "metadata": {},
   "outputs": [
    {
     "name": "stdout",
     "output_type": "stream",
     "text": [
      "              precision    recall  f1-score   support\n",
      "\n",
      "    negative       1.00      0.95      0.97        19\n",
      "     neutral       0.86      1.00      0.92         6\n",
      "    positive       1.00      1.00      1.00        11\n",
      "\n",
      "    accuracy                           0.97        36\n",
      "   macro avg       0.95      0.98      0.97        36\n",
      "weighted avg       0.98      0.97      0.97        36\n",
      "\n"
     ]
    }
   ],
   "source": [
    "print(classification_report(y_true=annot_sents, y_pred=model_sents))"
   ]
  },
  {
   "cell_type": "code",
   "execution_count": null,
   "metadata": {},
   "outputs": [],
   "source": []
  }
 ],
 "metadata": {
  "kernelspec": {
   "display_name": "tesis",
   "language": "python",
   "name": "python3"
  },
  "language_info": {
   "codemirror_mode": {
    "name": "ipython",
    "version": 3
   },
   "file_extension": ".py",
   "mimetype": "text/x-python",
   "name": "python",
   "nbconvert_exporter": "python",
   "pygments_lexer": "ipython3",
   "version": "3.10.11"
  },
  "orig_nbformat": 4
 },
 "nbformat": 4,
 "nbformat_minor": 2
}
